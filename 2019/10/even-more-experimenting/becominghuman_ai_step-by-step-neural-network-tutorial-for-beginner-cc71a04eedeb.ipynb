{
 "cells": [
  {
   "cell_type": "code",
   "execution_count": 1,
   "metadata": {},
   "outputs": [
    {
     "ename": "NameError",
     "evalue": "name 'test3' is not defined",
     "output_type": "error",
     "traceback": [
      "\u001b[1;31m---------------------------------------------------------------------------\u001b[0m",
      "\u001b[1;31mNameError\u001b[0m                                 Traceback (most recent call last)",
      "\u001b[1;32m<ipython-input-1-41c5985fc771>\u001b[0m in \u001b[0;36m<module>\u001b[1;34m\u001b[0m\n\u001b[1;32m----> 1\u001b[1;33m \u001b[0mtest3\u001b[0m\u001b[1;33m\u001b[0m\u001b[1;33m\u001b[0m\u001b[0m\n\u001b[0m",
      "\u001b[1;31mNameError\u001b[0m: name 'test3' is not defined"
     ]
    }
   ],
   "source": [
    "test3"
   ]
  },
  {
   "cell_type": "code",
   "execution_count": 2,
   "metadata": {},
   "outputs": [
    {
     "name": "stdout",
     "output_type": "stream",
     "text": [
      "test3\n"
     ]
    }
   ],
   "source": [
    "print(\"test3\")"
   ]
  },
  {
   "cell_type": "code",
   "execution_count": 3,
   "metadata": {},
   "outputs": [],
   "source": [
    "from tensorflow.keras.datasets import fashion_mnist\n",
    "from tensorflow.keras.models import Sequential\n",
    "from tensorflow.keras.layers import Dense\n",
    "from tensorflow.keras.utils import to_categorical"
   ]
  },
  {
   "cell_type": "code",
   "execution_count": 4,
   "metadata": {},
   "outputs": [
    {
     "name": "stdout",
     "output_type": "stream",
     "text": [
      "Downloading data from https://storage.googleapis.com/tensorflow/tf-keras-datasets/train-labels-idx1-ubyte.gz\n",
      "32768/29515 [=================================] - 0s 1us/step\n",
      "Downloading data from https://storage.googleapis.com/tensorflow/tf-keras-datasets/train-images-idx3-ubyte.gz\n",
      "26427392/26421880 [==============================] - 21s 1us/step\n",
      "Downloading data from https://storage.googleapis.com/tensorflow/tf-keras-datasets/t10k-labels-idx1-ubyte.gz\n",
      "8192/5148 [===============================================] - 0s 0us/step\n",
      "Downloading data from https://storage.googleapis.com/tensorflow/tf-keras-datasets/t10k-images-idx3-ubyte.gz\n",
      "4423680/4422102 [==============================] - 3s 1us/step\n"
     ]
    }
   ],
   "source": [
    "(x_train, y_train), (x_test, y_test) = fashion_mnist.load_data()"
   ]
  },
  {
   "cell_type": "code",
   "execution_count": 5,
   "metadata": {},
   "outputs": [],
   "source": [
    "x_train = x_train.reshape(x_train.shape[0], -1) / 255.0\n",
    "x_test = x_test.reshape(x_test.shape[0], -1) / 255.0\n",
    "y_train = to_categorical(y_train)\n",
    "y_test = to_categorical(y_test)"
   ]
  },
  {
   "cell_type": "code",
   "execution_count": 6,
   "metadata": {},
   "outputs": [
    {
     "name": "stdout",
     "output_type": "stream",
     "text": [
      "(60000, 10)\n"
     ]
    }
   ],
   "source": [
    "print(y_train.shape)"
   ]
  },
  {
   "cell_type": "code",
   "execution_count": 7,
   "metadata": {},
   "outputs": [
    {
     "name": "stdout",
     "output_type": "stream",
     "text": [
      "(10000, 10)\n"
     ]
    }
   ],
   "source": [
    "print(y_test.shape)"
   ]
  },
  {
   "cell_type": "code",
   "execution_count": 8,
   "metadata": {},
   "outputs": [
    {
     "name": "stdout",
     "output_type": "stream",
     "text": [
      "(60000, 784)\n"
     ]
    }
   ],
   "source": [
    "print(x_train.shape)"
   ]
  },
  {
   "cell_type": "code",
   "execution_count": 9,
   "metadata": {},
   "outputs": [
    {
     "name": "stdout",
     "output_type": "stream",
     "text": [
      "(10000, 784)\n"
     ]
    }
   ],
   "source": [
    "print(x_test.shape)"
   ]
  },
  {
   "cell_type": "code",
   "execution_count": 10,
   "metadata": {},
   "outputs": [
    {
     "name": "stdout",
     "output_type": "stream",
     "text": [
      "WARNING:tensorflow:From D:\\Anaconda3\\lib\\site-packages\\tensorflow\\python\\ops\\resource_variable_ops.py:435: colocate_with (from tensorflow.python.framework.ops) is deprecated and will be removed in a future version.\n",
      "Instructions for updating:\n",
      "Colocations handled automatically by placer.\n"
     ]
    }
   ],
   "source": [
    "model = Sequential()\n",
    "model.add(Dense(10, input_dim=784, activation='relu'))\n",
    "model.add(Dense(10, activation='softmax'))\n",
    "model.compile(loss='categorical_crossentropy', optimizer='adam', metrics=['accuracy'])"
   ]
  },
  {
   "cell_type": "code",
   "execution_count": 11,
   "metadata": {},
   "outputs": [],
   "source": [
    "model = Sequential()\n",
    "model.add(Dense(10, input_dim=784, activation='relu'))\n",
    "model.add(Dense(10, activation='softmax'))\n",
    "model.compile(loss='categorical_crossentropy', optimizer='adam', metrics=['accuracy'])"
   ]
  },
  {
   "cell_type": "code",
   "execution_count": 12,
   "metadata": {},
   "outputs": [
    {
     "name": "stdout",
     "output_type": "stream",
     "text": [
      "Train on 54000 samples, validate on 6000 samples\n",
      "WARNING:tensorflow:From D:\\Anaconda3\\lib\\site-packages\\tensorflow\\python\\ops\\math_ops.py:3066: to_int32 (from tensorflow.python.ops.math_ops) is deprecated and will be removed in a future version.\n",
      "Instructions for updating:\n",
      "Use tf.cast instead.\n",
      "Epoch 1/10\n",
      "54000/54000 [==============================] - 3s 50us/sample - loss: 0.7699 - acc: 0.7352 - val_loss: 0.5466 - val_acc: 0.8095\n",
      "Epoch 2/10\n",
      "54000/54000 [==============================] - 2s 39us/sample - loss: 0.5279 - acc: 0.8155 - val_loss: 0.5196 - val_acc: 0.8158\n",
      "Epoch 3/10\n",
      "54000/54000 [==============================] - 2s 40us/sample - loss: 0.4924 - acc: 0.8269 - val_loss: 0.4761 - val_acc: 0.8287\n",
      "Epoch 4/10\n",
      "54000/54000 [==============================] - 2s 37us/sample - loss: 0.4761 - acc: 0.8322 - val_loss: 0.4829 - val_acc: 0.8283\n",
      "Epoch 5/10\n",
      "54000/54000 [==============================] - 2s 37us/sample - loss: 0.4639 - acc: 0.8369 - val_loss: 0.4646 - val_acc: 0.8372\n",
      "Epoch 6/10\n",
      "54000/54000 [==============================] - 2s 37us/sample - loss: 0.4561 - acc: 0.8385 - val_loss: 0.4515 - val_acc: 0.8408\n",
      "Epoch 7/10\n",
      "54000/54000 [==============================] - 2s 35us/sample - loss: 0.4485 - acc: 0.8418 - val_loss: 0.4726 - val_acc: 0.8340\n",
      "Epoch 8/10\n",
      "54000/54000 [==============================] - 2s 35us/sample - loss: 0.4436 - acc: 0.8440 - val_loss: 0.4713 - val_acc: 0.8355\n",
      "Epoch 9/10\n",
      "54000/54000 [==============================] - 2s 37us/sample - loss: 0.4386 - acc: 0.8455 - val_loss: 0.4501 - val_acc: 0.8408\n",
      "Epoch 10/10\n",
      "54000/54000 [==============================] - 2s 35us/sample - loss: 0.4337 - acc: 0.8475 - val_loss: 0.4471 - val_acc: 0.8453\n"
     ]
    },
    {
     "data": {
      "text/plain": [
       "<tensorflow.python.keras.callbacks.History at 0x2a1411f2940>"
      ]
     },
     "execution_count": 12,
     "metadata": {},
     "output_type": "execute_result"
    }
   ],
   "source": [
    "model.fit(x_train, y_train, epochs=10, validation_split=0.1)"
   ]
  },
  {
   "cell_type": "code",
   "execution_count": 13,
   "metadata": {},
   "outputs": [
    {
     "name": "stdout",
     "output_type": "stream",
     "text": [
      "10000/10000 [==============================] - 0s 20us/sample - loss: 0.4799 - acc: 0.8304\n",
      "0.8304\n"
     ]
    }
   ],
   "source": [
    "_, test_acc = model.evaluate(x_test, y_test)\n",
    "print(test_acc)"
   ]
  },
  {
   "cell_type": "code",
   "execution_count": 14,
   "metadata": {},
   "outputs": [
    {
     "name": "stdout",
     "output_type": "stream",
     "text": [
      "Train on 54000 samples, validate on 6000 samples\n",
      "Epoch 1/10\n",
      "54000/54000 [==============================] - 3s 53us/sample - loss: 0.5429 - acc: 0.8127 - val_loss: 0.4529 - val_acc: 0.8383\n",
      "Epoch 2/10\n",
      "54000/54000 [==============================] - 2s 46us/sample - loss: 0.4098 - acc: 0.8558 - val_loss: 0.4189 - val_acc: 0.8470\n",
      "Epoch 3/10\n",
      "54000/54000 [==============================] - 2s 44us/sample - loss: 0.3711 - acc: 0.8695 - val_loss: 0.3842 - val_acc: 0.8642\n",
      "Epoch 4/10\n",
      "54000/54000 [==============================] - 2s 44us/sample - loss: 0.3494 - acc: 0.8736 - val_loss: 0.3695 - val_acc: 0.8685\n",
      "Epoch 5/10\n",
      "54000/54000 [==============================] - 3s 47us/sample - loss: 0.3304 - acc: 0.8808 - val_loss: 0.3600 - val_acc: 0.8700\n",
      "Epoch 6/10\n",
      "54000/54000 [==============================] - 2s 45us/sample - loss: 0.3181 - acc: 0.8857 - val_loss: 0.3501 - val_acc: 0.8773\n",
      "Epoch 7/10\n",
      "54000/54000 [==============================] - 2s 44us/sample - loss: 0.3057 - acc: 0.8880 - val_loss: 0.3773 - val_acc: 0.8640\n",
      "Epoch 8/10\n",
      "54000/54000 [==============================] - 2s 44us/sample - loss: 0.2961 - acc: 0.8915 - val_loss: 0.3545 - val_acc: 0.8737\n",
      "Epoch 9/10\n",
      "54000/54000 [==============================] - 2s 45us/sample - loss: 0.2901 - acc: 0.8938 - val_loss: 0.3345 - val_acc: 0.8793\n",
      "Epoch 10/10\n",
      "54000/54000 [==============================] - 2s 44us/sample - loss: 0.2801 - acc: 0.8969 - val_loss: 0.3651 - val_acc: 0.8738\n"
     ]
    },
    {
     "data": {
      "text/plain": [
       "<tensorflow.python.keras.callbacks.History at 0x2a1418a3d68>"
      ]
     },
     "execution_count": 14,
     "metadata": {},
     "output_type": "execute_result"
    }
   ],
   "source": [
    "model2 = Sequential()\n",
    "model2.add(Dense(50, input_dim=784, activation='relu'))\n",
    "model2.add(Dense(10, activation='softmax'))\n",
    "model2.compile(loss='categorical_crossentropy', optimizer='adam', metrics=['accuracy'])\n",
    "model2.fit(x_train, y_train, epochs=10, validation_split=0.1)"
   ]
  },
  {
   "cell_type": "code",
   "execution_count": 15,
   "metadata": {},
   "outputs": [
    {
     "name": "stdout",
     "output_type": "stream",
     "text": [
      "10000/10000 [==============================] - 0s 24us/sample - loss: 0.3816 - acc: 0.8707\n",
      "0.8707\n"
     ]
    }
   ],
   "source": [
    "_, test_acc = model2.evaluate(x_test, y_test)\n",
    "print(test_acc)"
   ]
  },
  {
   "cell_type": "code",
   "execution_count": 16,
   "metadata": {},
   "outputs": [
    {
     "name": "stdout",
     "output_type": "stream",
     "text": [
      "Train on 54000 samples, validate on 6000 samples\n",
      "Epoch 1/10\n",
      "54000/54000 [==============================] - 3s 56us/sample - loss: 0.5264 - acc: 0.8158 - val_loss: 0.4399 - val_acc: 0.8358\n",
      "Epoch 2/10\n",
      "54000/54000 [==============================] - 3s 53us/sample - loss: 0.3905 - acc: 0.8586 - val_loss: 0.3884 - val_acc: 0.8548\n",
      "Epoch 3/10\n",
      "54000/54000 [==============================] - 3s 51us/sample - loss: 0.3521 - acc: 0.8713 - val_loss: 0.3482 - val_acc: 0.8730\n",
      "Epoch 4/10\n",
      "54000/54000 [==============================] - 3s 51us/sample - loss: 0.3303 - acc: 0.8794 - val_loss: 0.3520 - val_acc: 0.8763\n",
      "Epoch 5/10\n",
      "54000/54000 [==============================] - 3s 48us/sample - loss: 0.3127 - acc: 0.8863 - val_loss: 0.3689 - val_acc: 0.8707\n",
      "Epoch 6/10\n",
      "54000/54000 [==============================] - 3s 48us/sample - loss: 0.3014 - acc: 0.8891 - val_loss: 0.3340 - val_acc: 0.8823\n",
      "Epoch 7/10\n",
      "54000/54000 [==============================] - 3s 47us/sample - loss: 0.2865 - acc: 0.8950 - val_loss: 0.3316 - val_acc: 0.8785\n",
      "Epoch 8/10\n",
      "54000/54000 [==============================] - 3s 48us/sample - loss: 0.2784 - acc: 0.8974 - val_loss: 0.3280 - val_acc: 0.8798\n",
      "Epoch 9/10\n",
      "54000/54000 [==============================] - 3s 52us/sample - loss: 0.2664 - acc: 0.9001 - val_loss: 0.3414 - val_acc: 0.8807\n",
      "Epoch 10/10\n",
      "54000/54000 [==============================] - 3s 51us/sample - loss: 0.2589 - acc: 0.9037 - val_loss: 0.3303 - val_acc: 0.8827\n"
     ]
    },
    {
     "data": {
      "text/plain": [
       "<tensorflow.python.keras.callbacks.History at 0x2a1420f7780>"
      ]
     },
     "execution_count": 16,
     "metadata": {},
     "output_type": "execute_result"
    }
   ],
   "source": [
    "model3 = Sequential()\n",
    "model3.add(Dense(50, input_dim=784, activation='relu'))\n",
    "model3.add(Dense(50, activation='relu'))\n",
    "model3.add(Dense(10, activation='softmax'))\n",
    "model3.compile(loss='categorical_crossentropy', optimizer='adam', metrics=['accuracy'])\n",
    "model3.fit(x_train, y_train, epochs=10, validation_split=0.1)"
   ]
  },
  {
   "cell_type": "code",
   "execution_count": 17,
   "metadata": {},
   "outputs": [
    {
     "name": "stdout",
     "output_type": "stream",
     "text": [
      "10000/10000 [==============================] - 0s 26us/sample - loss: 0.3508 - acc: 0.8745\n",
      "0.8745\n"
     ]
    }
   ],
   "source": [
    "_, test_acc = model3.evaluate(x_test, y_test)\n",
    "print(test_acc)"
   ]
  },
  {
   "cell_type": "code",
   "execution_count": 18,
   "metadata": {},
   "outputs": [],
   "source": [
    "from tensorflow.keras.layers import Conv2D, MaxPooling2D, Flatten\n",
    "import numpy as np\n",
    "(x_train, y_train), (x_test, y_test) = fashion_mnist.load_data()\n",
    "x_train = x_train[:,:,:,np.newaxis] / 255.0\n",
    "x_test = x_test[:,:,:,np.newaxis] / 255.0\n",
    "y_train = to_categorical(y_train)\n",
    "y_test = to_categorical(y_test)"
   ]
  },
  {
   "cell_type": "code",
   "execution_count": 19,
   "metadata": {},
   "outputs": [],
   "source": [
    "model4 = Sequential()\n",
    "model4.add(Conv2D(filters=64, kernel_size=2, padding='same', activation='relu', input_shape=(28,28, 1))) \n",
    "model4.add(MaxPooling2D(pool_size=2))\n",
    "model4.add(Flatten())\n",
    "model4.add(Dense(10, activation='softmax'))\n",
    "model4.compile(loss='categorical_crossentropy', optimizer='adam', metrics=['accuracy'])"
   ]
  },
  {
   "cell_type": "code",
   "execution_count": 20,
   "metadata": {},
   "outputs": [
    {
     "name": "stdout",
     "output_type": "stream",
     "text": [
      "_________________________________________________________________\n",
      "Layer (type)                 Output Shape              Param #   \n",
      "=================================================================\n",
      "conv2d (Conv2D)              (None, 28, 28, 64)        320       \n",
      "_________________________________________________________________\n",
      "max_pooling2d (MaxPooling2D) (None, 14, 14, 64)        0         \n",
      "_________________________________________________________________\n",
      "flatten (Flatten)            (None, 12544)             0         \n",
      "_________________________________________________________________\n",
      "dense_9 (Dense)              (None, 10)                125450    \n",
      "=================================================================\n",
      "Total params: 125,770\n",
      "Trainable params: 125,770\n",
      "Non-trainable params: 0\n",
      "_________________________________________________________________\n"
     ]
    }
   ],
   "source": [
    "model4.summary()"
   ]
  },
  {
   "cell_type": "code",
   "execution_count": 21,
   "metadata": {},
   "outputs": [
    {
     "name": "stdout",
     "output_type": "stream",
     "text": [
      "Train on 54000 samples, validate on 6000 samples\n",
      "Epoch 1/10\n",
      "54000/54000 [==============================] - 34s 629us/sample - loss: 0.4355 - acc: 0.8468 - val_loss: 0.3508 - val_acc: 0.8777\n",
      "Epoch 2/10\n",
      "54000/54000 [==============================] - 35s 653us/sample - loss: 0.3094 - acc: 0.8905 - val_loss: 0.3139 - val_acc: 0.8867\n",
      "Epoch 3/10\n",
      "54000/54000 [==============================] - 34s 629us/sample - loss: 0.2770 - acc: 0.9013 - val_loss: 0.2838 - val_acc: 0.8997\n",
      "Epoch 4/10\n",
      "54000/54000 [==============================] - 34s 630us/sample - loss: 0.2560 - acc: 0.9085 - val_loss: 0.2731 - val_acc: 0.9047\n",
      "Epoch 5/10\n",
      "54000/54000 [==============================] - 46s 850us/sample - loss: 0.2408 - acc: 0.9148 - val_loss: 0.2661 - val_acc: 0.9057\n",
      "Epoch 6/10\n",
      "54000/54000 [==============================] - 46s 851us/sample - loss: 0.2255 - acc: 0.9198 - val_loss: 0.2782 - val_acc: 0.9005\n",
      "Epoch 7/10\n",
      "54000/54000 [==============================] - 69s 1ms/sample - loss: 0.2134 - acc: 0.9243 - val_loss: 0.2962 - val_acc: 0.8923\n",
      "Epoch 8/10\n",
      "54000/54000 [==============================] - 91s 2ms/sample - loss: 0.2026 - acc: 0.9269 - val_loss: 0.2667 - val_acc: 0.9058\n",
      "Epoch 9/10\n",
      "54000/54000 [==============================] - 116s 2ms/sample - loss: 0.1932 - acc: 0.9316 - val_loss: 0.2740 - val_acc: 0.9042\n",
      "Epoch 10/10\n",
      "54000/54000 [==============================] - 119s 2ms/sample - loss: 0.1841 - acc: 0.9342 - val_loss: 0.2720 - val_acc: 0.9043\n"
     ]
    },
    {
     "data": {
      "text/plain": [
       "<tensorflow.python.keras.callbacks.History at 0x2a143490ac8>"
      ]
     },
     "execution_count": 21,
     "metadata": {},
     "output_type": "execute_result"
    }
   ],
   "source": [
    "model4.fit(x_train, y_train, epochs=10, validation_split=0.1)"
   ]
  },
  {
   "cell_type": "code",
   "execution_count": 22,
   "metadata": {},
   "outputs": [
    {
     "name": "stdout",
     "output_type": "stream",
     "text": [
      "10000/10000 [==============================] - 3s 311us/sample - loss: 0.2859 - acc: 0.9026\n",
      "0.9026\n"
     ]
    }
   ],
   "source": [
    "_, test_acc = model4.evaluate(x_test, y_test)\n",
    "print(test_acc)"
   ]
  },
  {
   "cell_type": "code",
   "execution_count": null,
   "metadata": {},
   "outputs": [],
   "source": []
  }
 ],
 "metadata": {
  "kernelspec": {
   "display_name": "Python 3",
   "language": "python",
   "name": "python3"
  },
  "language_info": {
   "codemirror_mode": {
    "name": "ipython",
    "version": 3
   },
   "file_extension": ".py",
   "mimetype": "text/x-python",
   "name": "python",
   "nbconvert_exporter": "python",
   "pygments_lexer": "ipython3",
   "version": "3.7.3"
  }
 },
 "nbformat": 4,
 "nbformat_minor": 2
}
