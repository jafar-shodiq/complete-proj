{
 "cells": [
  {
   "cell_type": "code",
   "execution_count": 2,
   "metadata": {},
   "outputs": [],
   "source": [
    "#from the website:\n",
    "#https://www.analytics-link.com/single-post/2018/09/14/Applying-the-A-Path-Finding-Algorithm-in-Python-Part-1-2D-square-grid\n",
    "\n",
    "import heapq\n",
    "import numpy as np\n",
    "import matplotlib.pyplot as plt\n",
    "from matplotlib.pyplot import figure"
   ]
  },
  {
   "cell_type": "code",
   "execution_count": 11,
   "metadata": {},
   "outputs": [
    {
     "data": {
      "image/png": "[encoded data removed]",
      "text/plain": [
       "<Figure size 720x720 with 1 Axes>"
      ]
     },
     "metadata": {
      "needs_background": "light"
     },
     "output_type": "display_data"
    }
   ],
   "source": [
    "grid = np.array([\n",
    "    [0, 0, 0, 0, 0, 0, 0, 0, 0, 0, 0, 0, 0, 0, 0, 0, 0, 0, 0, 0, 0],\n",
    "    [0, 0, 0, 0, 0, 0, 0, 0, 0, 0, 0, 0, 0, 0, 0, 0, 0, 0, 0, 0, 0],\n",
    "    [0, 0, 1, 1, 1, 1, 1, 1, 1, 1, 0, 1, 1, 1, 1, 1, 1, 1, 1, 0, 0],\n",
    "    [0, 0, 1, 0, 0, 0, 0, 0, 0, 0, 0, 0, 0, 0, 0, 0, 0, 0, 1, 0, 0],\n",
    "    [0, 0, 1, 0, 1, 1, 1, 1, 1, 1, 1, 1, 1, 1, 1, 1, 1, 0, 1, 0, 0],\n",
    "    [0, 0, 1, 0, 1, 0, 0, 0, 0, 0, 0, 0, 0, 0, 0, 0, 1, 0, 1, 0, 0],\n",
    "    [0, 0, 1, 0, 1, 0, 1, 1, 1, 1, 1, 1, 1, 1, 1, 0, 0, 0, 1, 0, 0],\n",
    "    [0, 0, 1, 0, 1, 0, 1, 0, 0, 0, 0, 0, 0, 0, 1, 0, 1, 0, 1, 0, 0],\n",
    "    [0, 0, 1, 0, 1, 0, 1, 0, 1, 1, 0, 1, 1, 0, 1, 0, 1, 0, 1, 0, 0],\n",
    "    [0, 0, 1, 0, 1, 1, 1, 0, 1, 0, 0, 0, 1, 1, 1, 0, 1, 0, 1, 0, 0],\n",
    "    [0, 0, 1, 0, 1, 0, 1, 0, 1, 0, 0, 0, 1, 0, 1, 0, 1, 0, 1, 0, 0],\n",
    "    [0, 0, 1, 0, 1, 0, 1, 0, 1, 0, 0, 0, 1, 0, 1, 0, 1, 0, 1, 0, 0],\n",
    "    [0, 0, 1, 0, 1, 0, 1, 0, 1, 1, 1, 1, 1, 0, 1, 0, 1, 0, 1, 0, 0],\n",
    "    [0, 0, 1, 0, 1, 0, 1, 0, 0, 0, 0, 0, 0, 0, 1, 0, 1, 0, 1, 0, 0],\n",
    "    [0, 0, 1, 0, 1, 0, 1, 1, 1, 1, 1, 1, 1, 0, 1, 0, 1, 0, 1, 0, 0],\n",
    "    [0, 0, 1, 0, 1, 0, 0, 0, 0, 0, 0, 0, 0, 0, 0, 0, 1, 0, 1, 0, 0],\n",
    "    [0, 0, 1, 0, 1, 1, 1, 1, 1, 1, 1, 1, 1, 1, 1, 1, 1, 0, 1, 0, 0],\n",
    "    [0, 0, 1, 0, 0, 0, 0, 0, 0, 1, 0, 0, 0, 0, 0, 0, 0, 0, 1, 0, 0],\n",
    "    [0, 0, 1, 1, 1, 1, 1, 1, 1, 1, 1, 1, 1, 1, 1, 1, 1, 1, 1, 0, 0],\n",
    "    [0, 0, 0, 0, 0, 0, 0, 0, 0, 0, 0, 0, 0, 0, 0, 0, 0, 0, 0, 0, 0],\n",
    "    [0, 0, 0, 0, 0, 0, 0, 0, 0, 0, 0, 0, 0, 0, 0, 0, 0, 0, 0, 0, 0]])\n",
    " \n",
    "\n",
    "# start point and goal\n",
    "start = (1,10)\n",
    "goal = (10, 10)\n",
    " \n",
    "\n",
    "# plot map and path\n",
    "fig, ax = plt.subplots(figsize=(10,10))\n",
    "ax.imshow(grid, cmap=plt.cm.Blues)\n",
    "ax.scatter(start[1],start[0], marker = 'o', color = \"green\", s = 200)\n",
    "ax.scatter(goal[1],goal[0], marker = 'x', color = \"red\", s = 500)\n",
    "plt.show()"
   ]
  },
  {
   "cell_type": "code",
   "execution_count": 12,
   "metadata": {},
   "outputs": [],
   "source": [
    "#heuristic function\n",
    "#using pythagoras theorem \n",
    "def heuristic(a, b):\n",
    "    return np.sqrt((b[0] - a[0]) ** 2 + (b[1] - a[1]) ** 2)"
   ]
  },
  {
   "cell_type": "code",
   "execution_count": 13,
   "metadata": {},
   "outputs": [
    {
     "name": "stdout",
     "output_type": "stream",
     "text": [
      "[(1, 10), (2, 10), (3, 11), (3, 12), (3, 13), (3, 14), (3, 15), (3, 16), (4, 17), (5, 17), (6, 16), (7, 15), (8, 15), (9, 15), (10, 15), (11, 15), (12, 15), (13, 15), (14, 15), (15, 14), (14, 13), (13, 12), (13, 11), (13, 10), (13, 9), (13, 8), (12, 7), (11, 7), (10, 7), (9, 7), (8, 7), (7, 8), (7, 9), (8, 10), (9, 10), (10, 10)]\n"
     ]
    }
   ],
   "source": [
    "def astar(array, start, goal):\n",
    "\n",
    "    neighbors = [(0,1),(0,-1),(1,0),(-1,0),(1,1),(1,-1),(-1,1),(-1,-1)]\n",
    "    #in order: up, down, right, left, right/up, right/down, left/up, left/down\n",
    "\n",
    "    close_set = set() #a closed list which positions we don't have to consider anymore\n",
    "    came_from = {} #route paths taken\n",
    "    gscore = {start:0} #dictionary which contains g scores by iteration\n",
    "    fscore = {start:heuristic(start, goal)} #dictionary which contains f scores by iteration\n",
    "    oheap = [] #open list\n",
    "\n",
    "    heapq.heappush(oheap, (fscore[start], start)) #pushing the start position and f score onto the open list\n",
    "    \n",
    "    while oheap: #check for available positions to move to until there are no more options left\n",
    "\n",
    "        current = heapq.heappop(oheap)[1]\n",
    "        #heapq.heappop returns the smallest item from the heap (i.e. in this case, the one with the smallest F score in our \n",
    "        #open list), and we extract element 1 which is the position\n",
    "\n",
    "        #If we've reached the goal (i.e. our current position = the goal position -> extract and return the shortest path\n",
    "        if current == goal:\n",
    "            data = []\n",
    "            while current in came_from:\n",
    "                data.append(current)\n",
    "                current = came_from[current]\n",
    "            return data\n",
    "\n",
    "        \n",
    "        #Otherwise... (i.e. we've not reached the goal)\n",
    "        #Add the current position to the closed list\n",
    "        close_set.add(current)\n",
    "        #Loop through all the possible neighbours, calculating their G score\n",
    "        for i, j in neighbors:\n",
    "            neighbor = current[0] + i, current[1] + j\n",
    "            tentative_g_score = gscore[current] + heuristic(current, neighbor)\n",
    "            #But, if the neighbour is outside the grid (i.e. the potential neighbour is above, below, left, or \n",
    "            #right of the bounds we've set) then ignore this neighbour and continue the loop\n",
    "            if 0 <= neighbor[0] < array.shape[0]:\n",
    "                if 0 <= neighbor[1] < array.shape[1]:                \n",
    "                    if array[neighbor[0]][neighbor[1]] == 1:\n",
    "                        continue\n",
    "                else:\n",
    "                    # array bound y walls\n",
    "                    continue\n",
    "            else:\n",
    "                # array bound x walls\n",
    "                continue\n",
    "                \n",
    "            #Also, if the neighbour is in the closed set and the G score is greater than the G score's for that\n",
    "            #position then ignore and continue the loop\n",
    "            if neighbor in close_set and tentative_g_score >= gscore.get(neighbor, 0):\n",
    "                continue\n",
    "            \n",
    "            #If the G score for the neighbour is less than the other G score's for that position OR if this neighbour is not\n",
    "            #in the open list (i.e. a new, untested position) then update our lists and add to the open list    \n",
    "            if  tentative_g_score < gscore.get(neighbor, 0) or neighbor not in [i[1]for i in oheap]:\n",
    "                came_from[neighbor] = current\n",
    "                gscore[neighbor] = tentative_g_score\n",
    "                fscore[neighbor] = tentative_g_score + heuristic(neighbor, goal)\n",
    "                heapq.heappush(oheap, (fscore[neighbor], neighbor))\n",
    "                \n",
    "    return False\n",
    "\n",
    "route = astar(grid, start, goal)\n",
    "route = route + [start] #Add start position\n",
    "route = route[::-1] #Reverse the order\n",
    "print(route)"
   ]
  },
  {
   "cell_type": "code",
   "execution_count": 14,
   "metadata": {},
   "outputs": [
    {
     "data": {
      "image/png": "[encoded data removed]",
      "text/plain": [
       "<Figure size 864x864 with 1 Axes>"
      ]
     },
     "metadata": {
      "needs_background": "light"
     },
     "output_type": "display_data"
    }
   ],
   "source": [
    "#extract x and y coordinates from route list\n",
    "x_coords = []\n",
    "y_coords = []\n",
    "\n",
    "for i in (range(0,len(route))):\n",
    "    x = route[i][0]\n",
    "    y = route[i][1]\n",
    "    x_coords.append(x)\n",
    "    y_coords.append(y)\n",
    "\n",
    "# plot map and path\n",
    "fig, ax = plt.subplots(figsize=(12,12))\n",
    "ax.imshow(grid, cmap=plt.cm.Blues)\n",
    "ax.scatter(start[1],start[0], marker = \"o\", color = \"green\", s = 200)\n",
    "ax.scatter(goal[1],goal[0], marker = \"x\", color = \"red\", s = 500)\n",
    "ax.plot(y_coords,x_coords, marker = \"o\", color = \"black\")\n",
    "plt.show()"
   ]
  },
  {
   "cell_type": "code",
   "execution_count": null,
   "metadata": {},
   "outputs": [],
   "source": []
  },
  {
   "cell_type": "code",
   "execution_count": null,
   "metadata": {},
   "outputs": [],
   "source": []
  }
 ],
 "metadata": {
  "kernelspec": {
   "display_name": "Python 3",
   "language": "python",
   "name": "python3"
  },
  "language_info": {
   "codemirror_mode": {
    "name": "ipython",
    "version": 3
   },
   "file_extension": ".py",
   "mimetype": "text/x-python",
   "name": "python",
   "nbconvert_exporter": "python",
   "pygments_lexer": "ipython3",
   "version": "3.7.3"
  }
 },
 "nbformat": 4,
 "nbformat_minor": 2
}
