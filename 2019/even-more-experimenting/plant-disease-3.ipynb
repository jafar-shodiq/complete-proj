{
 "cells": [
  {
   "cell_type": "code",
   "execution_count": 1,
   "metadata": {},
   "outputs": [
    {
     "name": "stderr",
     "output_type": "stream",
     "text": [
      "Using TensorFlow backend.\n"
     ]
    }
   ],
   "source": [
    "import matplotlib.pyplot as plt\n",
    "%matplotlib inline\n",
    "import pandas as pd\n",
    "import numpy as np\n",
    "import PIL\n",
    "from PIL import Image\n",
    "from skimage.color import rgb2gray\n",
    "from scipy import ndimage as ndi\n",
    "import cv2\n",
    "import os\n",
    "from os import listdir\n",
    "from sklearn.utils import shuffle\n",
    "\n",
    "import keras\n",
    "from keras.models import Sequential, load_model\n",
    "from keras.layers import Dense, Activation, Conv2D, MaxPooling2D, Flatten, Dropout, BatchNormalization\n",
    "from keras.optimizers import SGD\n",
    "from keras import regularizers\n",
    "from keras.callbacks import ModelCheckpoint"
   ]
  },
  {
   "cell_type": "code",
   "execution_count": 2,
   "metadata": {},
   "outputs": [
    {
     "name": "stdout",
     "output_type": "stream",
     "text": [
      "15\n"
     ]
    }
   ],
   "source": [
    "directory_root = \"datasets/plantdisease2/PlantVillage\"\n",
    "print(len(listdir(directory_root)))"
   ]
  },
  {
   "cell_type": "code",
   "execution_count": 3,
   "metadata": {},
   "outputs": [
    {
     "name": "stdout",
     "output_type": "stream",
     "text": [
      "[INFO] Loading images ...\n",
      "[INFO] Image loading completed\n"
     ]
    }
   ],
   "source": [
    "image_list, label_list = [], []\n",
    "try:\n",
    "    print(\"[INFO] Loading images ...\")\n",
    "    root_dir = listdir(directory_root)\n",
    "    for directory in root_dir :\n",
    "        # remove .DS_Store from list\n",
    "        if directory == \".DS_Store\" :\n",
    "            root_dir.remove(directory)\n",
    "\n",
    "    for plant_folder in root_dir :\n",
    "        plant_disease_folder_list = listdir(f\"{directory_root}/{plant_folder}\")\n",
    "                \n",
    "        for single_plant_disease_image in plant_disease_folder_list :\n",
    "            if single_plant_disease_image == \".DS_Store\" :\n",
    "                plant_disease_folder_list.remove(single_plant_disease_image)\n",
    "\n",
    "        for image in plant_disease_folder_list:\n",
    "            image_directory = f\"{directory_root}/{plant_folder}/{image}\"\n",
    "            if image_directory.endswith(\".jpg\") == True or image_directory.endswith(\".JPG\") == True:\n",
    "                image_list.append(image_directory)\n",
    "                label_list.append(plant_folder)\n",
    "    print(\"[INFO] Image loading completed\")  \n",
    "except Exception as e:\n",
    "    print(f\"Error : {e}\")"
   ]
  },
  {
   "cell_type": "code",
   "execution_count": 4,
   "metadata": {},
   "outputs": [
    {
     "name": "stdout",
     "output_type": "stream",
     "text": [
      "                                          image_path  \\\n",
      "0  datasets/plantdisease2/PlantVillage/Pepper__be...   \n",
      "1  datasets/plantdisease2/PlantVillage/Pepper__be...   \n",
      "2  datasets/plantdisease2/PlantVillage/Pepper__be...   \n",
      "3  datasets/plantdisease2/PlantVillage/Pepper__be...   \n",
      "4  datasets/plantdisease2/PlantVillage/Pepper__be...   \n",
      "\n",
      "                           label  \n",
      "0  Pepper__bell___Bacterial_spot  \n",
      "1  Pepper__bell___Bacterial_spot  \n",
      "2  Pepper__bell___Bacterial_spot  \n",
      "3  Pepper__bell___Bacterial_spot  \n",
      "4  Pepper__bell___Bacterial_spot  \n",
      "20636\n"
     ]
    }
   ],
   "source": [
    "img_info = pd.DataFrame({'image_path':image_list,'label':label_list})\n",
    "print(img_info.head())\n",
    "print(len(img_info))"
   ]
  },
  {
   "cell_type": "code",
   "execution_count": 5,
   "metadata": {},
   "outputs": [
    {
     "data": {
      "text/html": [
       "<div>\n",
       "<style scoped>\n",
       "    .dataframe tbody tr th:only-of-type {\n",
       "        vertical-align: middle;\n",
       "    }\n",
       "\n",
       "    .dataframe tbody tr th {\n",
       "        vertical-align: top;\n",
       "    }\n",
       "\n",
       "    .dataframe thead th {\n",
       "        text-align: right;\n",
       "    }\n",
       "</style>\n",
       "<table border=\"1\" class=\"dataframe\">\n",
       "  <thead>\n",
       "    <tr style=\"text-align: right;\">\n",
       "      <th></th>\n",
       "      <th>image_path</th>\n",
       "      <th>label</th>\n",
       "      <th>labels_integer</th>\n",
       "    </tr>\n",
       "  </thead>\n",
       "  <tbody>\n",
       "    <tr>\n",
       "      <th>20631</th>\n",
       "      <td>datasets/plantdisease2/PlantVillage/Tomato__To...</td>\n",
       "      <td>Tomato__Tomato_YellowLeaf__Curl_Virus</td>\n",
       "      <td>14</td>\n",
       "    </tr>\n",
       "    <tr>\n",
       "      <th>20632</th>\n",
       "      <td>datasets/plantdisease2/PlantVillage/Tomato__To...</td>\n",
       "      <td>Tomato__Tomato_YellowLeaf__Curl_Virus</td>\n",
       "      <td>14</td>\n",
       "    </tr>\n",
       "    <tr>\n",
       "      <th>20633</th>\n",
       "      <td>datasets/plantdisease2/PlantVillage/Tomato__To...</td>\n",
       "      <td>Tomato__Tomato_YellowLeaf__Curl_Virus</td>\n",
       "      <td>14</td>\n",
       "    </tr>\n",
       "    <tr>\n",
       "      <th>20634</th>\n",
       "      <td>datasets/plantdisease2/PlantVillage/Tomato__To...</td>\n",
       "      <td>Tomato__Tomato_YellowLeaf__Curl_Virus</td>\n",
       "      <td>14</td>\n",
       "    </tr>\n",
       "    <tr>\n",
       "      <th>20635</th>\n",
       "      <td>datasets/plantdisease2/PlantVillage/Tomato__To...</td>\n",
       "      <td>Tomato__Tomato_YellowLeaf__Curl_Virus</td>\n",
       "      <td>14</td>\n",
       "    </tr>\n",
       "  </tbody>\n",
       "</table>\n",
       "</div>"
      ],
      "text/plain": [
       "                                              image_path  \\\n",
       "20631  datasets/plantdisease2/PlantVillage/Tomato__To...   \n",
       "20632  datasets/plantdisease2/PlantVillage/Tomato__To...   \n",
       "20633  datasets/plantdisease2/PlantVillage/Tomato__To...   \n",
       "20634  datasets/plantdisease2/PlantVillage/Tomato__To...   \n",
       "20635  datasets/plantdisease2/PlantVillage/Tomato__To...   \n",
       "\n",
       "                                       label labels_integer  \n",
       "20631  Tomato__Tomato_YellowLeaf__Curl_Virus             14  \n",
       "20632  Tomato__Tomato_YellowLeaf__Curl_Virus             14  \n",
       "20633  Tomato__Tomato_YellowLeaf__Curl_Virus             14  \n",
       "20634  Tomato__Tomato_YellowLeaf__Curl_Virus             14  \n",
       "20635  Tomato__Tomato_YellowLeaf__Curl_Virus             14  "
      ]
     },
     "execution_count": 5,
     "metadata": {},
     "output_type": "execute_result"
    }
   ],
   "source": [
    "#new column (empty)\n",
    "img_info[\"labels_integer\"] = None\n",
    "#index of new column\n",
    "index_labels_integer = img_info.columns.get_loc(\"labels_integer\")\n",
    "#index of species column\n",
    "index_species = img_info.columns.get_loc(\"label\")\n",
    "#to assign numeric labels starting with 0 for the first species\n",
    "k = 0 \n",
    "for i in range(len(img_info)):\n",
    "    if i == 0:\n",
    "        img_info.iloc[i, index_labels_integer] = k #here, k == 0\n",
    "    if i > 0:\n",
    "        if img_info.iloc[i-1, index_species] == img_info.iloc[i, index_species]:\n",
    "            img_info.iloc[i, index_labels_integer] = k\n",
    "        else:\n",
    "            k += 1\n",
    "            img_info.iloc[i, index_labels_integer] = k\n",
    "img_info.tail()"
   ]
  },
  {
   "cell_type": "code",
   "execution_count": 6,
   "metadata": {},
   "outputs": [
    {
     "name": "stdout",
     "output_type": "stream",
     "text": [
      "20636\n"
     ]
    }
   ],
   "source": [
    "img_info = shuffle(img_info)\n",
    "list_vectors = []\n",
    "\n",
    "for image_path in img_info.image_path:\n",
    "    #read as rgb array\n",
    "    img = Image.open(image_path)\n",
    "    size = (64, 64)\n",
    "    img = img.resize(size, PIL.Image.ANTIALIAS)  \n",
    "    img_array = np.array(img)\n",
    "    #append image vector to list\n",
    "    list_vectors.append(img_array)\n",
    "    \n",
    "print(len(list_vectors))"
   ]
  },
  {
   "cell_type": "code",
   "execution_count": 7,
   "metadata": {},
   "outputs": [
    {
     "name": "stdout",
     "output_type": "stream",
     "text": [
      "(20636, 64, 64, 3)\n"
     ]
    }
   ],
   "source": [
    "X = np.stack((list_vectors))\n",
    "Y =  img_info['labels_integer']\n",
    "print(X.shape)"
   ]
  },
  {
   "cell_type": "code",
   "execution_count": 8,
   "metadata": {},
   "outputs": [
    {
     "name": "stdout",
     "output_type": "stream",
     "text": [
      "(20636,) (20636, 15)\n"
     ]
    }
   ],
   "source": [
    "X = X/255\n",
    "Y_one_hot = keras.utils.to_categorical(Y, num_classes=15)\n",
    "print(Y.shape, Y_one_hot.shape)"
   ]
  },
  {
   "cell_type": "code",
   "execution_count": 9,
   "metadata": {},
   "outputs": [],
   "source": [
    "np.savez(\"x_images_arrayscnn\", X)\n",
    "np.savez(\"y_numeric_labelscnn\", Y_one_hot)"
   ]
  },
  {
   "cell_type": "code",
   "execution_count": 10,
   "metadata": {},
   "outputs": [
    {
     "name": "stdout",
     "output_type": "stream",
     "text": [
      "(20636, 64, 64, 3)\n"
     ]
    }
   ],
   "source": [
    "x_npz = np.load(\"x_images_arrayscnn.npz\")\n",
    "X = x_npz['arr_0']\n",
    "\n",
    "y_npz = np.load(\"y_numeric_labelscnn.npz\")\n",
    "Y_one_hot = y_npz['arr_0']\n",
    "\n",
    "print(X.shape)"
   ]
  },
  {
   "cell_type": "code",
   "execution_count": 11,
   "metadata": {},
   "outputs": [
    {
     "name": "stdout",
     "output_type": "stream",
     "text": [
      "(16508, 64, 64, 3) (2064, 64, 64, 3) (2064, 64, 64, 3) (16508, 15) (2064, 15) (2064, 15)\n"
     ]
    }
   ],
   "source": [
    "split_train = 0.8 #train 0.8, validate 0.1, test 0.1\n",
    "split_val = 0.9\n",
    "index_train = int(split_train*len(X))\n",
    "index_val = int(split_val*len(X))\n",
    "\n",
    "X_train = X[:index_train]\n",
    "X_val = X[index_train:index_val]\n",
    "X_test = X[index_val:]\n",
    "\n",
    "Y_train = Y_one_hot[:index_train]\n",
    "Y_val = Y_one_hot[index_train:index_val]\n",
    "Y_test = Y_one_hot[index_val:]\n",
    "\n",
    "\n",
    "print(X_train.shape, X_val.shape, X_test.shape, Y_train.shape, Y_val.shape, Y_test.shape)"
   ]
  },
  {
   "cell_type": "code",
   "execution_count": 12,
   "metadata": {},
   "outputs": [
    {
     "name": "stdout",
     "output_type": "stream",
     "text": [
      "WARNING:tensorflow:From D:\\Anaconda3\\lib\\site-packages\\tensorflow\\python\\framework\\op_def_library.py:263: colocate_with (from tensorflow.python.framework.ops) is deprecated and will be removed in a future version.\n",
      "Instructions for updating:\n",
      "Colocations handled automatically by placer.\n",
      "WARNING:tensorflow:From D:\\Anaconda3\\lib\\site-packages\\keras\\backend\\tensorflow_backend.py:3445: calling dropout (from tensorflow.python.ops.nn_ops) with keep_prob is deprecated and will be removed in a future version.\n",
      "Instructions for updating:\n",
      "Please use `rate` instead of `keep_prob`. Rate should be set to `rate = 1 - keep_prob`.\n"
     ]
    }
   ],
   "source": [
    "input_shape = (X_train.shape[1], X_train.shape[2], X_train.shape[3]) \n",
    "num_classes = 15\n",
    "\n",
    "model = Sequential()\n",
    "model.add(Conv2D(32, kernel_size=(5, 5), strides=(1, 1), input_shape=input_shape))\n",
    "model.add(Activation('relu'))\n",
    "model.add(MaxPooling2D(pool_size=(2, 2), strides=(2, 2)))\n",
    "model.add(Conv2D(64, (5, 5)))\n",
    "model.add(Activation('relu'))\n",
    "model.add(MaxPooling2D(pool_size=(2, 2)))\n",
    "model.add(Dropout(0.7))\n",
    "model.add(Flatten())\n",
    "model.add(Dense(1000))\n",
    "model.add(Activation('relu'))\n",
    "model.add(Dropout(0.7))\n",
    "model.add(Dense(num_classes, activation='softmax'))\n",
    "\n",
    "\n",
    "model.compile(optimizer=keras.optimizers.Adam(lr=0.0003, beta_1=0.9, beta_2=0.999, epsilon=None, decay=1e-8, amsgrad=False),\n",
    "              loss='categorical_crossentropy',\n",
    "              metrics=['accuracy'])"
   ]
  },
  {
   "cell_type": "code",
   "execution_count": 13,
   "metadata": {},
   "outputs": [
    {
     "name": "stdout",
     "output_type": "stream",
     "text": [
      "_________________________________________________________________\n",
      "Layer (type)                 Output Shape              Param #   \n",
      "=================================================================\n",
      "conv2d_1 (Conv2D)            (None, 60, 60, 32)        2432      \n",
      "_________________________________________________________________\n",
      "activation_1 (Activation)    (None, 60, 60, 32)        0         \n",
      "_________________________________________________________________\n",
      "max_pooling2d_1 (MaxPooling2 (None, 30, 30, 32)        0         \n",
      "_________________________________________________________________\n",
      "conv2d_2 (Conv2D)            (None, 26, 26, 64)        51264     \n",
      "_________________________________________________________________\n",
      "activation_2 (Activation)    (None, 26, 26, 64)        0         \n",
      "_________________________________________________________________\n",
      "max_pooling2d_2 (MaxPooling2 (None, 13, 13, 64)        0         \n",
      "_________________________________________________________________\n",
      "dropout_1 (Dropout)          (None, 13, 13, 64)        0         \n",
      "_________________________________________________________________\n",
      "flatten_1 (Flatten)          (None, 10816)             0         \n",
      "_________________________________________________________________\n",
      "dense_1 (Dense)              (None, 1000)              10817000  \n",
      "_________________________________________________________________\n",
      "activation_3 (Activation)    (None, 1000)              0         \n",
      "_________________________________________________________________\n",
      "dropout_2 (Dropout)          (None, 1000)              0         \n",
      "_________________________________________________________________\n",
      "dense_2 (Dense)              (None, 15)                15015     \n",
      "=================================================================\n",
      "Total params: 10,885,711\n",
      "Trainable params: 10,885,711\n",
      "Non-trainable params: 0\n",
      "_________________________________________________________________\n"
     ]
    }
   ],
   "source": [
    "model.summary()"
   ]
  },
  {
   "cell_type": "code",
   "execution_count": null,
   "metadata": {},
   "outputs": [
    {
     "name": "stdout",
     "output_type": "stream",
     "text": [
      "Training model...\n",
      "WARNING:tensorflow:From D:\\Anaconda3\\lib\\site-packages\\tensorflow\\python\\ops\\math_ops.py:3066: to_int32 (from tensorflow.python.ops.math_ops) is deprecated and will be removed in a future version.\n",
      "Instructions for updating:\n",
      "Use tf.cast instead.\n",
      "Train on 16508 samples, validate on 2064 samples\n",
      "Epoch 1/10\n",
      "16508/16508 [==============================] - 192s 12ms/step - loss: 1.8120 - acc: 0.4224 - val_loss: 1.0868 - val_acc: 0.6720\n",
      "\n",
      "Epoch 00001: val_loss improved from inf to 1.08678, saving model to disease_selected_100.h5\n",
      "Epoch 2/10\n",
      "16508/16508 [==============================] - 191s 12ms/step - loss: 1.0902 - acc: 0.6484 - val_loss: 0.8857 - val_acc: 0.7161\n",
      "\n",
      "Epoch 00002: val_loss improved from 1.08678 to 0.88567, saving model to disease_selected_100.h5\n",
      "Epoch 3/10\n",
      " 5184/16508 [========>.....................] - ETA: 2:08 - loss: 0.9025 - acc: 0.7052"
     ]
    }
   ],
   "source": [
    "best_model_file = \"disease_selected_100.h5\"\n",
    "best_model = ModelCheckpoint(best_model_file, monitor='val_loss', verbose=1, save_best_only=True)\n",
    "\n",
    "print('Training model...')\n",
    "results = model.fit(X_train, Y_train, epochs=10, batch_size=64, validation_data=(X_val, Y_val), callbacks=[best_model])\n",
    "print('Traing finished.')\n",
    "\n",
    "print('Loading the best model...')\n",
    "model = load_model(best_model_file)\n",
    "print('Best Model loaded!')"
   ]
  },
  {
   "cell_type": "code",
   "execution_count": null,
   "metadata": {},
   "outputs": [],
   "source": [
    "model.evaluate(X_test, Y_test)"
   ]
  }
 ],
 "metadata": {
  "kernelspec": {
   "display_name": "Python 3",
   "language": "python",
   "name": "python3"
  },
  "language_info": {
   "codemirror_mode": {
    "name": "ipython",
    "version": 3
   },
   "file_extension": ".py",
   "mimetype": "text/x-python",
   "name": "python",
   "nbconvert_exporter": "python",
   "pygments_lexer": "ipython3",
   "version": "3.7.3"
  }
 },
 "nbformat": 4,
 "nbformat_minor": 2
}
