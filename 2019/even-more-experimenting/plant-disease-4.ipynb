{
 "cells": [
  {
   "cell_type": "code",
   "execution_count": 108,
   "metadata": {},
   "outputs": [],
   "source": [
    "from keras.preprocessing.image import ImageDataGenerator, load_img\n",
    "from keras.models import Sequential\n",
    "from keras.layers import Conv2D, MaxPooling2D\n",
    "from keras.layers import Activation, Dropout, Flatten, Dense\n",
    "from keras import backend as K\n",
    "\n",
    "\n",
    "\n",
    "import os\n",
    "import numpy as np\n",
    "import pandas as pd\n",
    "import seaborn as sns\n",
    "\n",
    "import matplotlib.pyplot as plt\n",
    "%matplotlib inline"
   ]
  },
  {
   "cell_type": "code",
   "execution_count": 109,
   "metadata": {},
   "outputs": [
    {
     "name": "stdout",
     "output_type": "stream",
     "text": [
      "['raw.txt', 'test', 'test.csv', 'train', 'train.csv']\n"
     ]
    }
   ],
   "source": [
    "print(os.listdir(\"datasets/plantdisease-tugasakhir\"))"
   ]
  },
  {
   "cell_type": "code",
   "execution_count": 110,
   "metadata": {},
   "outputs": [],
   "source": [
    "dtrain = pd.read_csv(\"datasets/plantdisease-tugasakhir/train.csv\")\n",
    "dtest = pd.read_csv(\"datasets/plantdisease-tugasakhir/test.csv\")"
   ]
  },
  {
   "cell_type": "code",
   "execution_count": 111,
   "metadata": {},
   "outputs": [
    {
     "name": "stdout",
     "output_type": "stream",
     "text": [
      "Apple___healthy                               1316\n",
      "Grape___Esca_(Black_Measles)                  1107\n",
      "Grape___Black_rot                              944\n",
      "Grape___Leaf_blight_(Isariopsis_Leaf_Spot)     861\n",
      "Potato___Early_blight                          800\n",
      "Potato___Late_blight                           800\n",
      "Apple___Apple_scab                             504\n",
      "Apple___Black_rot                              497\n",
      "Grape___healthy                                339\n",
      "Apple___Cedar_apple_rust                       220\n",
      "Potato___healthy                               122\n",
      "Name: cat, dtype: int64\n",
      "Data train total: 7510\n"
     ]
    }
   ],
   "source": [
    "train_count = dtrain.cat.value_counts()\n",
    "train_sum = sum(train_count)\n",
    "print(train_count)\n",
    "print('Data train total: ' + str(train_sum))"
   ]
  },
  {
   "cell_type": "code",
   "execution_count": 112,
   "metadata": {},
   "outputs": [
    {
     "name": "stdout",
     "output_type": "stream",
     "text": [
      "Apple___healthy                               329\n",
      "Grape___Esca_(Black_Measles)                  276\n",
      "Grape___Black_rot                             236\n",
      "Grape___Leaf_blight_(Isariopsis_Leaf_Spot)    215\n",
      "Potato___Early_blight                         200\n",
      "Potato___Late_blight                          200\n",
      "Apple___Apple_scab                            126\n",
      "Apple___Black_rot                             124\n",
      "Grape___healthy                                84\n",
      "Apple___Cedar_apple_rust                       55\n",
      "Potato___healthy                               30\n",
      "Name: cat, dtype: int64\n",
      "Data train total: 1875\n"
     ]
    }
   ],
   "source": [
    "test_count = dtest.cat.value_counts()\n",
    "test_sum = sum(test_count)\n",
    "print(test_count)\n",
    "print('Data train total: ' + str(test_sum))"
   ]
  },
  {
   "cell_type": "code",
   "execution_count": 113,
   "metadata": {},
   "outputs": [
    {
     "name": "stdout",
     "output_type": "stream",
     "text": [
      "Percentage of data train: 80.02%\n",
      "Percentage of data test: 19.98%\n"
     ]
    }
   ],
   "source": [
    "print(\"Percentage of data train: {:.2f}%\".format((train_sum / (train_sum + test_sum)*100)))\n",
    "print(\"Percentage of data test: {:.2f}%\".format((test_sum / (train_sum + test_sum)*100)))"
   ]
  },
  {
   "cell_type": "code",
   "execution_count": 121,
   "metadata": {},
   "outputs": [],
   "source": [
    "dtrain.columns = ['category', 'image_name.jpg']\n",
    "\n",
    "dtrain['category'][dtrain['category'] == 'Apple___Apple_scab'] = \"(Apple) Apple Scab\"\n",
    "dtrain['category'][dtrain['category'] == 'Apple___Black_rot'] = \"(Apple) Black Rot\"\n",
    "dtrain['category'][dtrain['category'] == 'Apple___Cedar_apple_rust'] = \"(Apple) Cedar Apple Rust\"\n",
    "dtrain['category'][dtrain['category'] == 'Apple___healthy'] = \"(Apple) Healthy\"\n",
    "\n",
    "dtrain['category'][dtrain['category'] == 'Grape___Black_rot'] = \"(Grape) Black Rot\"\n",
    "dtrain['category'][dtrain['category'] == 'Grape___Esca_(Black_Measles)'] = \"(Grape) Esca\"\n",
    "dtrain['category'][dtrain['category'] == 'Grape___Leaf_blight_(Isariopsis_Leaf_Spot)'] = \"(Grape) Leaf Blight\"\n",
    "dtrain['category'][dtrain['category'] == 'Grape___healthy'] = \"(Grape) Healthy\"\n",
    "\n",
    "dtrain['category'][dtrain['category'] == 'Potato___Early_blight'] = \"(Potato) Early Blight\"\n",
    "dtrain['category'][dtrain['category'] == 'Potato___Late_blight'] = \"(Potato) Late Blight\"\n",
    "dtrain['category'][dtrain['category'] == 'Potato___healthy'] = \"(Potato) Healthy\""
   ]
  },
  {
   "cell_type": "code",
   "execution_count": 124,
   "metadata": {},
   "outputs": [],
   "source": [
    "dtest.columns = ['category', 'image_name.jpg']\n",
    "\n",
    "dtest['category'][dtest['category'] == 'Apple___Apple_scab'] = \"(Apple) Apple Scab\"\n",
    "dtest['category'][dtest['category'] == 'Apple___Black_rot'] = \"(Apple) Black Rot\"\n",
    "dtest['category'][dtest['category'] == 'Apple___Cedar_apple_rust'] = \"(Apple) Cedar Apple Rust\"\n",
    "dtest['category'][dtest['category'] == 'Apple___healthy'] = \"(Apple) Healthy\"\n",
    "\n",
    "dtest['category'][dtest['category'] == 'Grape___Black_rot'] = \"(Grape) Black Rot\"\n",
    "dtest['category'][dtest['category'] == 'Grape___Esca_(Black_Measles)'] = \"(Grape) Esca\"\n",
    "dtest['category'][dtest['category'] == 'Grape___Leaf_blight_(Isariopsis_Leaf_Spot)'] = \"(Grape) Leaf Blight\"\n",
    "dtest['category'][dtest['category'] == 'Grape___healthy'] = \"(Grape) Healthy\"\n",
    "\n",
    "dtest['category'][dtest['category'] == 'Potato___Early_blight'] = \"(Potato) Early Blight\"\n",
    "dtest['category'][dtest['category'] == 'Potato___Late_blight'] = \"(Potato) Late Blight\"\n",
    "dtest['category'][dtest['category'] == 'Potato___healthy'] = \"(Potato) Healthy\""
   ]
  },
  {
   "cell_type": "code",
   "execution_count": 122,
   "metadata": {},
   "outputs": [
    {
     "data": {
      "text/html": [
       "<div>\n",
       "<style scoped>\n",
       "    .dataframe tbody tr th:only-of-type {\n",
       "        vertical-align: middle;\n",
       "    }\n",
       "\n",
       "    .dataframe tbody tr th {\n",
       "        vertical-align: top;\n",
       "    }\n",
       "\n",
       "    .dataframe thead th {\n",
       "        text-align: right;\n",
       "    }\n",
       "</style>\n",
       "<table border=\"1\" class=\"dataframe\">\n",
       "  <thead>\n",
       "    <tr style=\"text-align: right;\">\n",
       "      <th></th>\n",
       "      <th>category</th>\n",
       "      <th>image_name.jpg</th>\n",
       "    </tr>\n",
       "  </thead>\n",
       "  <tbody>\n",
       "    <tr>\n",
       "      <th>268</th>\n",
       "      <td>(Apple) Apple Scab</td>\n",
       "      <td>a0fb83fc-d5a2-4ddf-9a04-c2bf96e5027f___FREC_Sc...</td>\n",
       "    </tr>\n",
       "    <tr>\n",
       "      <th>6780</th>\n",
       "      <td>(Potato) Late Blight</td>\n",
       "      <td>22d5cf8c-308f-417d-9b05-b00a0791ecef___RS_LB 4...</td>\n",
       "    </tr>\n",
       "    <tr>\n",
       "      <th>3205</th>\n",
       "      <td>(Grape) Black Rot</td>\n",
       "      <td>c01ce5a9-a37d-4698-be6a-335868371a54___FAM_B.R...</td>\n",
       "    </tr>\n",
       "    <tr>\n",
       "      <th>7399</th>\n",
       "      <td>(Potato) Late Blight</td>\n",
       "      <td>e2ce6696-9f6e-445c-a6c6-c765d659447a___RS_LB 4...</td>\n",
       "    </tr>\n",
       "    <tr>\n",
       "      <th>7245</th>\n",
       "      <td>(Potato) Late Blight</td>\n",
       "      <td>c01daf14-9595-4b10-974d-3452fe133060___RS_LB 4...</td>\n",
       "    </tr>\n",
       "    <tr>\n",
       "      <th>4017</th>\n",
       "      <td>(Grape) Esca</td>\n",
       "      <td>985ada5a-091c-4c5d-bb88-a8ccc32a4d2c___FAM_B.M...</td>\n",
       "    </tr>\n",
       "    <tr>\n",
       "      <th>2544</th>\n",
       "      <td>(Grape) Black Rot</td>\n",
       "      <td>035ed95e-9c14-4096-8dce-21ae0970c6b6___FAM_B.R...</td>\n",
       "    </tr>\n",
       "    <tr>\n",
       "      <th>1844</th>\n",
       "      <td>(Apple) Healthy</td>\n",
       "      <td>8f38f758-8514-442b-82e9-90b53120db38___RS_HL 5...</td>\n",
       "    </tr>\n",
       "    <tr>\n",
       "      <th>5664</th>\n",
       "      <td>(Grape) Leaf Blight</td>\n",
       "      <td>e605eb27-faf6-4ac2-bd24-b7068e8ee2d6___FAM_L.B...</td>\n",
       "    </tr>\n",
       "    <tr>\n",
       "      <th>1438</th>\n",
       "      <td>(Apple) Healthy</td>\n",
       "      <td>32b6be5f-6482-4bd2-876d-c2a518afed09___RS_HL 6...</td>\n",
       "    </tr>\n",
       "  </tbody>\n",
       "</table>\n",
       "</div>"
      ],
      "text/plain": [
       "                  category                                     image_name.jpg\n",
       "268     (Apple) Apple Scab  a0fb83fc-d5a2-4ddf-9a04-c2bf96e5027f___FREC_Sc...\n",
       "6780  (Potato) Late Blight  22d5cf8c-308f-417d-9b05-b00a0791ecef___RS_LB 4...\n",
       "3205     (Grape) Black Rot  c01ce5a9-a37d-4698-be6a-335868371a54___FAM_B.R...\n",
       "7399  (Potato) Late Blight  e2ce6696-9f6e-445c-a6c6-c765d659447a___RS_LB 4...\n",
       "7245  (Potato) Late Blight  c01daf14-9595-4b10-974d-3452fe133060___RS_LB 4...\n",
       "4017          (Grape) Esca  985ada5a-091c-4c5d-bb88-a8ccc32a4d2c___FAM_B.M...\n",
       "2544     (Grape) Black Rot  035ed95e-9c14-4096-8dce-21ae0970c6b6___FAM_B.R...\n",
       "1844       (Apple) Healthy  8f38f758-8514-442b-82e9-90b53120db38___RS_HL 5...\n",
       "5664   (Grape) Leaf Blight  e605eb27-faf6-4ac2-bd24-b7068e8ee2d6___FAM_L.B...\n",
       "1438       (Apple) Healthy  32b6be5f-6482-4bd2-876d-c2a518afed09___RS_HL 6..."
      ]
     },
     "execution_count": 122,
     "metadata": {},
     "output_type": "execute_result"
    }
   ],
   "source": [
    "dtrain.sample(n=10)"
   ]
  },
  {
   "cell_type": "code",
   "execution_count": 125,
   "metadata": {},
   "outputs": [
    {
     "data": {
      "text/html": [
       "<div>\n",
       "<style scoped>\n",
       "    .dataframe tbody tr th:only-of-type {\n",
       "        vertical-align: middle;\n",
       "    }\n",
       "\n",
       "    .dataframe tbody tr th {\n",
       "        vertical-align: top;\n",
       "    }\n",
       "\n",
       "    .dataframe thead th {\n",
       "        text-align: right;\n",
       "    }\n",
       "</style>\n",
       "<table border=\"1\" class=\"dataframe\">\n",
       "  <thead>\n",
       "    <tr style=\"text-align: right;\">\n",
       "      <th></th>\n",
       "      <th>category</th>\n",
       "      <th>image_name.jpg</th>\n",
       "    </tr>\n",
       "  </thead>\n",
       "  <tbody>\n",
       "    <tr>\n",
       "      <th>274</th>\n",
       "      <td>(Apple) Cedar Apple Rust</td>\n",
       "      <td>3e4303ad-6293-4522-821b-ef5dd3b658ce___FREC_C....</td>\n",
       "    </tr>\n",
       "    <tr>\n",
       "      <th>1035</th>\n",
       "      <td>(Grape) Esca</td>\n",
       "      <td>4ccf1271-5da7-4951-88d2-c1d2edd3cd41___FAM_B.M...</td>\n",
       "    </tr>\n",
       "    <tr>\n",
       "      <th>541</th>\n",
       "      <td>(Apple) Healthy</td>\n",
       "      <td>5b264ecb-2c4c-47f3-93ec-c9f79a3e8e09___RS_HL 7...</td>\n",
       "    </tr>\n",
       "    <tr>\n",
       "      <th>921</th>\n",
       "      <td>(Grape) Esca</td>\n",
       "      <td>1a477ab0-0649-48d4-bbbf-fa3600d9ec03___FAM_B.M...</td>\n",
       "    </tr>\n",
       "    <tr>\n",
       "      <th>1488</th>\n",
       "      <td>(Potato) Early Blight</td>\n",
       "      <td>1ca9e3ba-e029-48bf-b207-e8cb3546f953___RS_Earl...</td>\n",
       "    </tr>\n",
       "    <tr>\n",
       "      <th>1502</th>\n",
       "      <td>(Potato) Early Blight</td>\n",
       "      <td>1f56ef5b-9a3b-4731-bf82-b08aeb84fcb5___RS_Earl...</td>\n",
       "    </tr>\n",
       "    <tr>\n",
       "      <th>1408</th>\n",
       "      <td>(Grape) Leaf Blight</td>\n",
       "      <td>6ee197ad-e554-4f70-b549-66d5f6d09d37___FAM_L.B...</td>\n",
       "    </tr>\n",
       "    <tr>\n",
       "      <th>84</th>\n",
       "      <td>(Apple) Apple Scab</td>\n",
       "      <td>6a2c0f48-b0f7-4bd9-b7b8-7410c1ef4048___FREC_Sc...</td>\n",
       "    </tr>\n",
       "    <tr>\n",
       "      <th>1587</th>\n",
       "      <td>(Potato) Early Blight</td>\n",
       "      <td>5bdc7f1d-26cc-45b2-b77f-e98084418fd9___RS_Earl...</td>\n",
       "    </tr>\n",
       "    <tr>\n",
       "      <th>164</th>\n",
       "      <td>(Apple) Black Rot</td>\n",
       "      <td>1e0244a0-b084-4f95-bf64-72efeef4dff2___JR_FrgE...</td>\n",
       "    </tr>\n",
       "  </tbody>\n",
       "</table>\n",
       "</div>"
      ],
      "text/plain": [
       "                      category  \\\n",
       "274   (Apple) Cedar Apple Rust   \n",
       "1035              (Grape) Esca   \n",
       "541            (Apple) Healthy   \n",
       "921               (Grape) Esca   \n",
       "1488     (Potato) Early Blight   \n",
       "1502     (Potato) Early Blight   \n",
       "1408       (Grape) Leaf Blight   \n",
       "84          (Apple) Apple Scab   \n",
       "1587     (Potato) Early Blight   \n",
       "164          (Apple) Black Rot   \n",
       "\n",
       "                                         image_name.jpg  \n",
       "274   3e4303ad-6293-4522-821b-ef5dd3b658ce___FREC_C....  \n",
       "1035  4ccf1271-5da7-4951-88d2-c1d2edd3cd41___FAM_B.M...  \n",
       "541   5b264ecb-2c4c-47f3-93ec-c9f79a3e8e09___RS_HL 7...  \n",
       "921   1a477ab0-0649-48d4-bbbf-fa3600d9ec03___FAM_B.M...  \n",
       "1488  1ca9e3ba-e029-48bf-b207-e8cb3546f953___RS_Earl...  \n",
       "1502  1f56ef5b-9a3b-4731-bf82-b08aeb84fcb5___RS_Earl...  \n",
       "1408  6ee197ad-e554-4f70-b549-66d5f6d09d37___FAM_L.B...  \n",
       "84    6a2c0f48-b0f7-4bd9-b7b8-7410c1ef4048___FREC_Sc...  \n",
       "1587  5bdc7f1d-26cc-45b2-b77f-e98084418fd9___RS_Earl...  \n",
       "164   1e0244a0-b084-4f95-bf64-72efeef4dff2___JR_FrgE...  "
      ]
     },
     "execution_count": 125,
     "metadata": {},
     "output_type": "execute_result"
    }
   ],
   "source": [
    "dtest.sample(n=10)"
   ]
  },
  {
   "cell_type": "code",
   "execution_count": 126,
   "metadata": {},
   "outputs": [
    {
     "name": "stdout",
     "output_type": "stream",
     "text": [
      "<class 'pandas.core.frame.DataFrame'>\n",
      "RangeIndex: 7510 entries, 0 to 7509\n",
      "Data columns (total 2 columns):\n",
      "category          7510 non-null object\n",
      "image_name.jpg    7510 non-null object\n",
      "dtypes: object(2)\n",
      "memory usage: 117.4+ KB\n"
     ]
    }
   ],
   "source": [
    "dtrain.info()"
   ]
  },
  {
   "cell_type": "code",
   "execution_count": 127,
   "metadata": {},
   "outputs": [
    {
     "name": "stdout",
     "output_type": "stream",
     "text": [
      "<class 'pandas.core.frame.DataFrame'>\n",
      "RangeIndex: 1875 entries, 0 to 1874\n",
      "Data columns (total 2 columns):\n",
      "category          1875 non-null object\n",
      "image_name.jpg    1875 non-null object\n",
      "dtypes: object(2)\n",
      "memory usage: 29.4+ KB\n"
     ]
    }
   ],
   "source": [
    "dtest.info()"
   ]
  },
  {
   "cell_type": "code",
   "execution_count": 129,
   "metadata": {},
   "outputs": [
    {
     "data": {
      "text/plain": [
       "category          object\n",
       "image_name.jpg    object\n",
       "dtype: object"
      ]
     },
     "execution_count": 129,
     "metadata": {},
     "output_type": "execute_result"
    }
   ],
   "source": [
    "dtrain.dtypes"
   ]
  },
  {
   "cell_type": "code",
   "execution_count": 130,
   "metadata": {},
   "outputs": [
    {
     "data": {
      "text/plain": [
       "category          object\n",
       "image_name.jpg    object\n",
       "dtype: object"
      ]
     },
     "execution_count": 130,
     "metadata": {},
     "output_type": "execute_result"
    }
   ],
   "source": [
    "dtest.dtypes"
   ]
  },
  {
   "cell_type": "code",
   "execution_count": 2,
   "metadata": {},
   "outputs": [
    {
     "data": {
      "text/plain": [
       "'He'"
      ]
     },
     "execution_count": 2,
     "metadata": {},
     "output_type": "execute_result"
    }
   ],
   "source": [
    "x = \"Hello world\"\n",
    "x[:2]"
   ]
  },
  {
   "cell_type": "code",
   "execution_count": 132,
   "metadata": {},
   "outputs": [
    {
     "data": {
      "text/plain": [
       "'Hello wor'"
      ]
     },
     "execution_count": 132,
     "metadata": {},
     "output_type": "execute_result"
    }
   ],
   "source": [
    "x[:-2]"
   ]
  },
  {
   "cell_type": "code",
   "execution_count": 133,
   "metadata": {},
   "outputs": [
    {
     "data": {
      "text/plain": [
       "'ld'"
      ]
     },
     "execution_count": 133,
     "metadata": {},
     "output_type": "execute_result"
    }
   ],
   "source": [
    "x[-2:]"
   ]
  },
  {
   "cell_type": "code",
   "execution_count": 134,
   "metadata": {},
   "outputs": [
    {
     "data": {
      "text/plain": [
       "'llo wor'"
      ]
     },
     "execution_count": 134,
     "metadata": {},
     "output_type": "execute_result"
    }
   ],
   "source": [
    "x[2:-2]"
   ]
  },
  {
   "cell_type": "code",
   "execution_count": 5,
   "metadata": {},
   "outputs": [
    {
     "data": {
      "text/plain": [
       "'r'"
      ]
     },
     "execution_count": 5,
     "metadata": {},
     "output_type": "execute_result"
    }
   ],
   "source": [
    "x[-3]"
   ]
  },
  {
   "cell_type": "code",
   "execution_count": 6,
   "metadata": {},
   "outputs": [],
   "source": [
    "y = \"00d8f10f-5038-4e0f-bb58-0b885ddc0cc5___RS_Early.B 8722\"\n",
    "z = \"0c83302d-4233-4e98-8ecf-755a970495bb___RS_LB 4904\""
   ]
  },
  {
   "cell_type": "code",
   "execution_count": 35,
   "metadata": {},
   "outputs": [
    {
     "data": {
      "text/plain": [
       "'Early.B'"
      ]
     },
     "execution_count": 35,
     "metadata": {},
     "output_type": "execute_result"
    }
   ],
   "source": [
    "y[42:][:-5]"
   ]
  },
  {
   "cell_type": "code",
   "execution_count": 36,
   "metadata": {},
   "outputs": [
    {
     "data": {
      "text/plain": [
       "'LB'"
      ]
     },
     "execution_count": 36,
     "metadata": {},
     "output_type": "execute_result"
    }
   ],
   "source": [
    "z[42:][:-5]"
   ]
  },
  {
   "cell_type": "code",
   "execution_count": 37,
   "metadata": {},
   "outputs": [],
   "source": [
    "cat = \"cat.100\""
   ]
  },
  {
   "cell_type": "code",
   "execution_count": 38,
   "metadata": {},
   "outputs": [
    {
     "data": {
      "text/plain": [
       "'1'"
      ]
     },
     "execution_count": 38,
     "metadata": {},
     "output_type": "execute_result"
    }
   ],
   "source": [
    "cat[-3]"
   ]
  },
  {
   "cell_type": "code",
   "execution_count": null,
   "metadata": {},
   "outputs": [],
   "source": []
  }
 ],
 "metadata": {
  "kernelspec": {
   "display_name": "Python 3",
   "language": "python",
   "name": "python3"
  },
  "language_info": {
   "codemirror_mode": {
    "name": "ipython",
    "version": 3
   },
   "file_extension": ".py",
   "mimetype": "text/x-python",
   "name": "python",
   "nbconvert_exporter": "python",
   "pygments_lexer": "ipython3",
   "version": "3.7.3"
  }
 },
 "nbformat": 4,
 "nbformat_minor": 2
}
