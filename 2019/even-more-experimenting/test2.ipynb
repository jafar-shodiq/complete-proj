{
 "cells": [
  {
   "cell_type": "code",
   "execution_count": 5,
   "metadata": {},
   "outputs": [
    {
     "name": "stdout",
     "output_type": "stream",
     "text": [
      "diterima masuk SD\n",
      "dinyatakan lulus\n",
      "8\n"
     ]
    }
   ],
   "source": [
    "usia = 8\n",
    "if usia >= 7:\n",
    "    print(\"diterima masuk SD\")\n",
    "    print(\"dinyatakan lulus\")\n",
    "    print(usia)\n",
    "    type(usia)\n",
    "\n",
    "else:\n",
    "    print(\"maaf\")"
   ]
  },
  {
   "cell_type": "code",
   "execution_count": 6,
   "metadata": {},
   "outputs": [
    {
     "data": {
      "text/plain": [
       "11"
      ]
     },
     "execution_count": 6,
     "metadata": {},
     "output_type": "execute_result"
    }
   ],
   "source": [
    "2+9"
   ]
  },
  {
   "cell_type": "code",
   "execution_count": null,
   "metadata": {},
   "outputs": [],
   "source": [
    "#masukkan data panjang dan lebar\n",
    "panjang = float(input(\"masukkan panjang: \"))\n",
    "lebar = float(input(\"masukkan lebar: \"))\n",
    "\n",
    "#hitung luas\n",
    "luas = panjang * lebar\n",
    "\n",
    "#cetak luas\n",
    "print(\"luas persegi panjang: \", luas, \"\")"
   ]
  },
  {
   "cell_type": "code",
   "execution_count": null,
   "metadata": {},
   "outputs": [],
   "source": [
    "def luaspersegipanjang(panjang, lebar):\n",
    "    luas = panjang * lebar\n",
    "    keliling = (2*panjang) + (2*lebar)\n",
    "    return luas, keliling\n",
    "\n",
    "print(\"Hasil: \", luaspersegipanjang(4,3))"
   ]
  },
  {
   "cell_type": "code",
   "execution_count": 4,
   "metadata": {},
   "outputs": [
    {
     "name": "stdout",
     "output_type": "stream",
     "text": [
      "Berapa faktorial: 10\n",
      "0 ! =  1\n",
      "1 ! =  1\n",
      "2 ! =  2\n",
      "3 ! =  6\n",
      "4 ! =  24\n",
      "5 ! =  120\n",
      "6 ! =  720\n",
      "7 ! =  5040\n",
      "8 ! =  40320\n",
      "9 ! =  362880\n",
      "10 ! =  3628800\n"
     ]
    }
   ],
   "source": [
    "def faktorial (n):\n",
    "        if n<=1:\n",
    "            return 1\n",
    "        else:\n",
    "            return n * faktorial(n-1)\n",
    "\n",
    "i=0\n",
    "n=int(input(\"Berapa faktorial: \"))\n",
    "\n",
    "while i<=n:\n",
    "    print (i,'! = ', faktorial(i))\n",
    "    i+=1"
   ]
  },
  {
   "cell_type": "code",
   "execution_count": 6,
   "metadata": {},
   "outputs": [
    {
     "name": "stdout",
     "output_type": "stream",
     "text": [
      "Masukkan faktorial yg diinginkan: 4\n",
      "4 ! =  24\n"
     ]
    }
   ],
   "source": [
    "#fungsi faktorial rekursif\n",
    "def faktorial (n):\n",
    "        if n<=1:\n",
    "            return 1\n",
    "        else:\n",
    "            return n * faktorial(n-1)\n",
    "\n",
    "#main program\n",
    "n=int(input(\"Masukkan faktorial yg diinginkan: \"))\n",
    "print (n,'! = ', faktorial(n))"
   ]
  },
  {
   "cell_type": "code",
   "execution_count": 10,
   "metadata": {},
   "outputs": [
    {
     "name": "stdout",
     "output_type": "stream",
     "text": [
      "a\n",
      "b\n"
     ]
    }
   ],
   "source": [
    "#global and local variable\n",
    "tes1 = \"a\"\n",
    "def lokal():\n",
    "    tes1 = \"b\"\n",
    "    return tes1\n",
    "\n",
    "print (tes1)\n",
    "print (lokal())"
   ]
  },
  {
   "cell_type": "code",
   "execution_count": null,
   "metadata": {},
   "outputs": [],
   "source": [
    "def constructor1():\n",
    "    return 0\n",
    "def constructor2(a,b):\n",
    "    c = \"a & b\"\n",
    "    return c\n",
    "\n",
    "print (constructor1())\n",
    "print"
   ]
  }
 ],
 "metadata": {
  "kernelspec": {
   "display_name": "Python 3",
   "language": "python",
   "name": "python3"
  },
  "language_info": {
   "codemirror_mode": {
    "name": "ipython",
    "version": 3
   },
   "file_extension": ".py",
   "mimetype": "text/x-python",
   "name": "python",
   "nbconvert_exporter": "python",
   "pygments_lexer": "ipython3",
   "version": "3.7.3"
  }
 },
 "nbformat": 4,
 "nbformat_minor": 2
}
