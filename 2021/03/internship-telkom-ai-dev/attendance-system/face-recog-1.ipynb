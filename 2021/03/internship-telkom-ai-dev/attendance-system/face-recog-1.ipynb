{
 "cells": [
  {
   "cell_type": "markdown",
   "metadata": {},
   "source": [
    "**db_maker.py**"
   ]
  },
  {
   "cell_type": "code",
   "execution_count": 1,
   "metadata": {},
   "outputs": [],
   "source": [
    "import os\n",
    "import pandas as pd"
   ]
  },
  {
   "cell_type": "code",
   "execution_count": 2,
   "metadata": {},
   "outputs": [],
   "source": [
    "image_dir = os.path.join(\"student_db\")\n",
    "data = []"
   ]
  },
  {
   "cell_type": "code",
   "execution_count": 3,
   "metadata": {},
   "outputs": [
    {
     "name": "stdout",
     "output_type": "stream",
     "text": [
      "AAMIR_KHAN.png\n",
      "AJITH_KUMAR.png\n",
      "ALLU_ARJUN.png\n",
      "ANIRUDH.png\n",
      "ANUSHKA_SHARMA.png\n",
      "BECKY_G.png\n",
      "DAVID_WARNER.png\n",
      "DEEPIKA_PADUKONE.png\n",
      "DHANUSH.png\n",
      "DUA_LIPA.png\n",
      "DULQUER_SALMAN.png\n",
      "EMINEM.png\n",
      "HARISH_KALYAN.png\n",
      "IAN_SOMERHALDER.png\n",
      "JENIFER_LOPEZ.png\n",
      "JOS_BUTTLER.png\n",
      "KAMAL_HASSAN.png\n",
      "KANE_WILLIAMSON.png\n",
      "KARTHI.png\n",
      "KEERTHY_SURESH.png\n",
      "MADONNNA_SEBASTIAN.png\n",
      "MAHESH_BABU.png\n",
      "MESSI.png\n",
      "MODI.png\n",
      "MOHANLAL.png\n",
      "M_S_DHONI.png\n",
      "NANI.png\n",
      "NAYANTHARA.png\n",
      "NINA_DOBREV.png\n",
      "panda.png\n",
      "PAUL_WESLEY.png\n",
      "PITBULL.png\n",
      "RAJINIKANTH.png\n",
      "RANVEER_SINGH.png\n",
      "RONALDO.png\n",
      "SAMANTHA.png\n",
      "SCARLETT_JOHANSSON.png\n",
      "SELENA_GOMEZ.png\n",
      "SHARUKH_KHAN.png\n",
      "SHAWN_MENDES.png\n",
      "STEVE_SMITH.png\n",
      "SURESH_RAINA.png\n",
      "SURYA.png\n",
      "SUSHANT_SINGH.png\n",
      "TAYLOR_SWIFT.png\n",
      "VIJAY.png\n",
      "VIJAY_DEVARAKONDA.png\n",
      "VIKRAM.png\n"
     ]
    }
   ],
   "source": [
    "for index, filename in enumerate(os.listdir(image_dir), start=1):\n",
    "    if filename.endswith(\".png\"):\n",
    "        new_name = filename.replace(\" \", \"_\")\n",
    "        os.rename(str(image_dir) + os.sep + filename,\n",
    "                  str(image_dir)+os.sep + new_name)\n",
    "        print(new_name)\n",
    "        data.append([new_name, new_name, index])"
   ]
  },
  {
   "cell_type": "code",
   "execution_count": 4,
   "metadata": {},
   "outputs": [],
   "source": [
    "df = pd.DataFrame(data, columns=['name', 'image', 'roll_no'])\n",
    "df.to_excel(\"student_db/people_db.xlsx\")"
   ]
  },
  {
   "cell_type": "markdown",
   "metadata": {},
   "source": [
    "**reader.py**"
   ]
  },
  {
   "cell_type": "code",
   "execution_count": 5,
   "metadata": {},
   "outputs": [],
   "source": [
    "df = pd.read_excel(r'student_db/people_db.xlsx')"
   ]
  },
  {
   "cell_type": "code",
   "execution_count": 6,
   "metadata": {},
   "outputs": [],
   "source": [
    "roll_record = {}\n",
    "for key, row in df.iterrows():\n",
    "    roll_no = row['roll_no']\n",
    "    name = row['name']\n",
    "    image_path = row['image']\n",
    "    roll_record[roll_no] = name"
   ]
  },
  {
   "cell_type": "code",
   "execution_count": 7,
   "metadata": {},
   "outputs": [
    {
     "data": {
      "text/plain": [
       "{1: 'AAMIR_KHAN.png',\n",
       " 2: 'AJITH_KUMAR.png',\n",
       " 3: 'ALLU_ARJUN.png',\n",
       " 4: 'ANIRUDH.png',\n",
       " 5: 'ANUSHKA_SHARMA.png',\n",
       " 6: 'BECKY_G.png',\n",
       " 7: 'DAVID_WARNER.png',\n",
       " 8: 'DEEPIKA_PADUKONE.png',\n",
       " 9: 'DHANUSH.png',\n",
       " 10: 'DUA_LIPA.png',\n",
       " 11: 'DULQUER_SALMAN.png',\n",
       " 12: 'EMINEM.png',\n",
       " 13: 'HARISH_KALYAN.png',\n",
       " 14: 'IAN_SOMERHALDER.png',\n",
       " 15: 'JENIFER_LOPEZ.png',\n",
       " 16: 'JOS_BUTTLER.png',\n",
       " 17: 'KAMAL_HASSAN.png',\n",
       " 18: 'KANE_WILLIAMSON.png',\n",
       " 19: 'KARTHI.png',\n",
       " 20: 'KEERTHY_SURESH.png',\n",
       " 21: 'MADONNNA_SEBASTIAN.png',\n",
       " 22: 'MAHESH_BABU.png',\n",
       " 23: 'MESSI.png',\n",
       " 24: 'MODI.png',\n",
       " 25: 'MOHANLAL.png',\n",
       " 26: 'M_S_DHONI.png',\n",
       " 27: 'NANI.png',\n",
       " 28: 'NAYANTHARA.png',\n",
       " 29: 'NINA_DOBREV.png',\n",
       " 30: 'panda.png',\n",
       " 31: 'PAUL_WESLEY.png',\n",
       " 33: 'PITBULL.png',\n",
       " 34: 'RAJINIKANTH.png',\n",
       " 35: 'RANVEER_SINGH.png',\n",
       " 36: 'RONALDO.png',\n",
       " 37: 'SAMANTHA.png',\n",
       " 38: 'SCARLETT_JOHANSSON.png',\n",
       " 39: 'SELENA_GOMEZ.png',\n",
       " 40: 'SHARUKH_KHAN.png',\n",
       " 41: 'SHAWN_MENDES.png',\n",
       " 42: 'STEVE_SMITH.png',\n",
       " 43: 'SURESH_RAINA.png',\n",
       " 44: 'SURYA.png',\n",
       " 45: 'SUSHANT_SINGH.png',\n",
       " 46: 'TAYLOR_SWIFT.png',\n",
       " 47: 'VIJAY.png',\n",
       " 48: 'VIJAY_DEVARAKONDA.png',\n",
       " 49: 'VIKRAM.png'}"
      ]
     },
     "execution_count": 7,
     "metadata": {},
     "output_type": "execute_result"
    }
   ],
   "source": [
    "roll_record"
   ]
  },
  {
   "cell_type": "markdown",
   "metadata": {},
   "source": [
    "**main.py**"
   ]
  },
  {
   "cell_type": "code",
   "execution_count": 8,
   "metadata": {},
   "outputs": [],
   "source": [
    "import face_recognition\n",
    "import cv2\n",
    "import numpy as np\n",
    "import os\n",
    "import pandas as pd\n",
    "import time\n",
    "from utils import append_df_to_excel"
   ]
  },
  {
   "cell_type": "code",
   "execution_count": 9,
   "metadata": {},
   "outputs": [],
   "source": [
    "video_capture = cv2.VideoCapture(0)"
   ]
  },
  {
   "cell_type": "code",
   "execution_count": 10,
   "metadata": {},
   "outputs": [],
   "source": [
    "known_face_encodings = []\n",
    "known_face_roll_no = []\n",
    "face_locations = []\n",
    "face_encodings = []\n",
    "face_names = []\n",
    "process_this_frame = True\n",
    "attendance_record = set([])\n",
    "roll_record = {}"
   ]
  },
  {
   "cell_type": "code",
   "execution_count": 11,
   "metadata": {},
   "outputs": [],
   "source": [
    "name_col = []\n",
    "roll_no_col = []\n",
    "time_col = []"
   ]
  },
  {
   "cell_type": "code",
   "execution_count": 12,
   "metadata": {},
   "outputs": [],
   "source": [
    "df = pd.read_excel(\"student_db\" + os.sep + \"people_db.xlsx\")"
   ]
  },
  {
   "cell_type": "code",
   "execution_count": 13,
   "metadata": {},
   "outputs": [],
   "source": [
    "for key, row in df.iterrows():\n",
    "    roll_no = row['roll_no']\n",
    "    name = row['name']\n",
    "    image_path = row['image']\n",
    "    roll_record[roll_no] = name\n",
    "    student_image = face_recognition.load_image_file(\n",
    "        \"student_db\" + os.sep + image_path)\n",
    "    student_face_encoding = face_recognition.face_encodings(student_image)[0]\n",
    "    known_face_encodings.append(student_face_encoding)\n",
    "    known_face_roll_no.append(roll_no)"
   ]
  },
  {
   "cell_type": "code",
   "execution_count": 14,
   "metadata": {},
   "outputs": [
    {
     "name": "stdout",
     "output_type": "stream",
     "text": [
      "SCARLETT_JOHANSSON.png 38\n"
     ]
    }
   ],
   "source": [
    "while True:\n",
    "    # Grab a single frame of video\n",
    "    ret, frame = video_capture.read()\n",
    "\n",
    "    # Resize frame of video to 1/4 size for faster face recognition processing\n",
    "    small_frame = cv2.resize(frame, (0, 0), fx=1, fy=1)\n",
    "\n",
    "    # Convert the image from BGR color (which OpenCV uses) to RGB color (which face_recognition uses)\n",
    "    rgb_small_frame = small_frame[:, :, ::-1]\n",
    "\n",
    "    # Only process every other frame of video to save time\n",
    "    if process_this_frame:\n",
    "        # Find all the faces and face encodings in the current frame of video\n",
    "        face_locations = face_recognition.face_locations(rgb_small_frame)\n",
    "        face_encodings = face_recognition.face_encodings(\n",
    "            rgb_small_frame, face_locations)\n",
    "\n",
    "        face_names = []\n",
    "        for face_encoding in face_encodings:\n",
    "            # See if the face is a match for the known face(s)\n",
    "            matches = face_recognition.compare_faces(\n",
    "                known_face_encodings, face_encoding, tolerance=0.5)\n",
    "            name = \"Unknown\"\n",
    "\n",
    "            # # If a match was found in known_face_encodings, just use the first one.\n",
    "            # if True in matches:\n",
    "            #     first_match_index = matches.index(True)\n",
    "            #     name = known_face_roll_no[first_match_index]\n",
    "\n",
    "            # Or instead, use the known face with the smallest distance to the new face\n",
    "            face_distances = face_recognition.face_distance(\n",
    "                known_face_encodings, face_encoding)\n",
    "            best_match_index = np.argmin(face_distances)\n",
    "            if matches[best_match_index]:\n",
    "                roll_no = known_face_roll_no[best_match_index]\n",
    "                # add this to the log\n",
    "                name = roll_record[roll_no]\n",
    "                if roll_no not in attendance_record:\n",
    "                    attendance_record.add(roll_no)\n",
    "                    print(name, roll_no)\n",
    "                    name_col.append(name)\n",
    "                    roll_no_col.append(roll_no)\n",
    "                    curr_time = time.localtime()\n",
    "                    curr_clock = time.strftime(\"%H:%M:%S\", curr_time)\n",
    "                    time_col.append(curr_clock)\n",
    "\n",
    "            face_names.append(name)\n",
    "\n",
    "    process_this_frame = not process_this_frame\n",
    "\n",
    "    # Display the results\n",
    "    for (top, right, bottom, left), name in zip(face_locations, face_names):\n",
    "        # Scale back up face locations since the frame we detected in was scaled to 1/4 size\n",
    "        # top *= 2\n",
    "        # right *= 2\n",
    "        # bottom *= 2\n",
    "        # left *= 2\n",
    "\n",
    "        # Draw a box around the face\n",
    "        cv2.rectangle(frame, (left, top), (right, bottom), (0, 0, 255), 2)\n",
    "\n",
    "        # Draw a label with a name below the face\n",
    "        cv2.rectangle(frame, (left, bottom - 35),\n",
    "                      (right, bottom), (0, 0, 255), cv2.FILLED)\n",
    "        font = cv2.FONT_HERSHEY_DUPLEX\n",
    "        cv2.putText(frame, name, (left + 6, bottom - 6),\n",
    "                    font, 1.0, (255, 255, 255), 1)\n",
    "\n",
    "    # Display the resulting image\n",
    "    cv2.imshow('Video', frame)\n",
    "\n",
    "    # Hit 'q' on the keyboard to quit!\n",
    "    if cv2.waitKey(1) & 0xFF == ord('q'):\n",
    "        break"
   ]
  },
  {
   "cell_type": "code",
   "execution_count": 19,
   "metadata": {},
   "outputs": [],
   "source": [
    "data = {'Name': name_col, 'Roll No.': roll_no_col, 'Time': time_col}\n",
    "\n",
    "curr_time = time.localtime()\n",
    "curr_clock = time.strftime(\"%c\", curr_time)\n",
    "log_file_name = f\"attendance_record {curr_clock}.xlsx\"\n",
    "\n",
    "# append_df_to_excel(log_file_name, data)\n",
    "\n",
    "\n",
    "# Release handle to the webcam\n",
    "video_capture.release()\n",
    "cv2.destroyAllWindows()"
   ]
  },
  {
   "cell_type": "code",
   "execution_count": null,
   "metadata": {},
   "outputs": [],
   "source": []
  }
 ],
 "metadata": {
  "kernelspec": {
   "display_name": "Python 3",
   "language": "python",
   "name": "python3"
  },
  "language_info": {
   "codemirror_mode": {
    "name": "ipython",
    "version": 3
   },
   "file_extension": ".py",
   "mimetype": "text/x-python",
   "name": "python",
   "nbconvert_exporter": "python",
   "pygments_lexer": "ipython3",
   "version": "3.8.5"
  }
 },
 "nbformat": 4,
 "nbformat_minor": 4
}
