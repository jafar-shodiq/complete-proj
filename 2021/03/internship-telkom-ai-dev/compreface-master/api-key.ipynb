{
 "cells": [
  {
   "cell_type": "code",
   "execution_count": 7,
   "metadata": {},
   "outputs": [
    {
     "ename": "PermissionError",
     "evalue": "[Errno 13] Permission denied: 'D:/internship-telkom/CompreFace-master/image-test'",
     "output_type": "error",
     "traceback": [
      "\u001b[1;31m---------------------------------------------------------------------------\u001b[0m",
      "\u001b[1;31mPermissionError\u001b[0m                           Traceback (most recent call last)",
      "\u001b[1;32m<ipython-input-7-ba657a9ef904>\u001b[0m in \u001b[0;36m<module>\u001b[1;34m\u001b[0m\n\u001b[0;32m     31\u001b[0m \u001b[1;33m\u001b[0m\u001b[0m\n\u001b[0;32m     32\u001b[0m \u001b[1;33m\u001b[0m\u001b[0m\n\u001b[1;32m---> 33\u001b[1;33m \u001b[0madd\u001b[0m\u001b[1;33m(\u001b[0m\u001b[0mpath\u001b[0m\u001b[1;33m,\u001b[0m \u001b[1;34m'test'\u001b[0m\u001b[1;33m)\u001b[0m\u001b[1;33m\u001b[0m\u001b[1;33m\u001b[0m\u001b[0m\n\u001b[0m\u001b[0;32m     34\u001b[0m \u001b[1;33m\u001b[0m\u001b[0m\n\u001b[0;32m     35\u001b[0m \u001b[1;31m#view()\u001b[0m\u001b[1;33m\u001b[0m\u001b[1;33m\u001b[0m\u001b[1;33m\u001b[0m\u001b[0m\n",
      "\u001b[1;32m<ipython-input-7-ba657a9ef904>\u001b[0m in \u001b[0;36madd\u001b[1;34m(path_img, subject)\u001b[0m\n\u001b[0;32m     14\u001b[0m     \u001b[0mname_img\u001b[0m \u001b[1;33m=\u001b[0m \u001b[0mos\u001b[0m\u001b[1;33m.\u001b[0m\u001b[0mpath\u001b[0m\u001b[1;33m.\u001b[0m\u001b[0mbasename\u001b[0m\u001b[1;33m(\u001b[0m\u001b[0mpath_img\u001b[0m\u001b[1;33m)\u001b[0m\u001b[1;33m\u001b[0m\u001b[1;33m\u001b[0m\u001b[0m\n\u001b[0;32m     15\u001b[0m     m = MultipartEncoder(\n\u001b[1;32m---> 16\u001b[1;33m         \u001b[0mfields\u001b[0m\u001b[1;33m=\u001b[0m\u001b[1;33m{\u001b[0m\u001b[1;34m'file'\u001b[0m\u001b[1;33m:\u001b[0m \u001b[1;33m(\u001b[0m\u001b[0mname_img\u001b[0m\u001b[1;33m,\u001b[0m \u001b[0mopen\u001b[0m\u001b[1;33m(\u001b[0m\u001b[0mpath_img\u001b[0m\u001b[1;33m,\u001b[0m \u001b[1;34m'rb'\u001b[0m\u001b[1;33m)\u001b[0m\u001b[1;33m)\u001b[0m\u001b[1;33m}\u001b[0m\u001b[1;33m\u001b[0m\u001b[1;33m\u001b[0m\u001b[0m\n\u001b[0m\u001b[0;32m     17\u001b[0m     )\n\u001b[0;32m     18\u001b[0m \u001b[1;33m\u001b[0m\u001b[0m\n",
      "\u001b[1;31mPermissionError\u001b[0m: [Errno 13] Permission denied: 'D:/internship-telkom/CompreFace-master/image-test'"
     ]
    }
   ],
   "source": [
    "import requests\n",
    "import os\n",
    "from requests_toolbelt.multipart.encoder import MultipartEncoder\n",
    " \n",
    "url_view = \"http://localhost:8000/api/v1/faces\"\n",
    "api_key = \"00000000-0000-0000-0000-000000000002\"\n",
    "headers = {\"Content-Type\": \"application/x-www-form-urlencoded\", \"x-api-key\": api_key}\n",
    "headers_api_key = {\"x-api-key\": api_key}\n",
    "path = 'D:/internship-telkom/CompreFace-master/image-test'\n",
    " \n",
    " \n",
    "def add(path_img, subject):\n",
    "    url = 'http://localhost:8000/api/v1/faces?subject=' + subject\n",
    "    name_img = os.path.basename(path_img)\n",
    "    m = MultipartEncoder(\n",
    "        fields={'file': (name_img, open(path_img, 'rb'))}\n",
    "    )\n",
    " \n",
    "    r = requests.post(url, data=m, headers={'Content-Type': m.content_type,\n",
    "                                            'x-api-key': api_key})\n",
    " \n",
    "    print(r.status_code)\n",
    "    print(r.text)\n",
    "    print(r.json())\n",
    " \n",
    " \n",
    "def view():\n",
    "    r = requests.get(url_view, headers={\"x-api-key\": api_key})\n",
    "    print(r.status_code)\n",
    "    print(r.text)\n",
    " \n",
    " \n",
    "add(path, 'test')\n",
    " \n",
    "#view()"
   ]
  },
  {
   "cell_type": "code",
   "execution_count": null,
   "metadata": {},
   "outputs": [],
   "source": []
  }
 ],
 "metadata": {
  "kernelspec": {
   "display_name": "Python 3",
   "language": "python",
   "name": "python3"
  },
  "language_info": {
   "codemirror_mode": {
    "name": "ipython",
    "version": 3
   },
   "file_extension": ".py",
   "mimetype": "text/x-python",
   "name": "python",
   "nbconvert_exporter": "python",
   "pygments_lexer": "ipython3",
   "version": "3.8.5"
  }
 },
 "nbformat": 4,
 "nbformat_minor": 4
}
