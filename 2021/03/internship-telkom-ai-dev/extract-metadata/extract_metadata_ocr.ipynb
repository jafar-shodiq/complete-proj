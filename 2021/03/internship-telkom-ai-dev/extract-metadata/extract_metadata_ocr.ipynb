{
 "cells": [
  {
   "cell_type": "code",
   "execution_count": 1,
   "metadata": {},
   "outputs": [
    {
     "name": "stderr",
     "output_type": "stream",
     "text": [
      "CUDA not available - defaulting to CPU. Note: This module is much faster with a GPU.\n"
     ]
    }
   ],
   "source": [
    "import random\n",
    "import time\n",
    "import numpy as np\n",
    "import matplotlib.pyplot as plt\n",
    "import cv2\n",
    "import glob\n",
    "from Levenshtein import distance\n",
    "import easyocr\n",
    "import pickle\n",
    "\n",
    "reader = easyocr.Reader(['en'])"
   ]
  },
  {
   "cell_type": "code",
   "execution_count": 2,
   "metadata": {},
   "outputs": [],
   "source": [
    "FILE_NAME = 'inpoopment.mp4'"
   ]
  },
  {
   "cell_type": "code",
   "execution_count": 3,
   "metadata": {},
   "outputs": [],
   "source": [
    "def analyze_video(video, start_frame=0, end_frame=None, sampling_rate=1):\n",
    "    w, h, fps, num_frames = get_detail(video)\n",
    "    print(w, h, fps, num_frames)\n",
    "    start_frame = start_frame\n",
    "    end_frame = end_frame if end_frame else num_frames\n",
    "    step = int(round(sampling_rate * fps))\n",
    "    start = time.time()\n",
    "    cap = cv2.VideoCapture(video)\n",
    "    i = start_frame\n",
    "    output = []\n",
    "    all_res = []\n",
    "    while cap.isOpened() and i < end_frame:\n",
    "        cap.set(cv2.CAP_PROP_POS_FRAMES, i)\n",
    "#         print(i)\n",
    "        ret, frame = cap.read()\n",
    "#         print(frame)\n",
    "#         try:\n",
    "        temp_res = run_inference(frame)\n",
    "#         except:\n",
    "#             return frame\n",
    "        all_res.append(temp_res)\n",
    "        i += step\n",
    "\n",
    "    cap.release()\n",
    "    end = time.time()\n",
    "\n",
    "    return {\n",
    "        'start_frame' : start_frame,\n",
    "        'end_frame' : end_frame,\n",
    "        'result_feature': all_res,\n",
    "        'step':step,\n",
    "        'fps':fps\n",
    "    }\n",
    "\n",
    "def get_detail(vid_file):\n",
    "    cap = cv2.VideoCapture(vid_file)\n",
    "\n",
    "    total_frames = int(cap.get(cv2.CAP_PROP_FRAME_COUNT))\n",
    "    fps = cap.get(cv2.CAP_PROP_FPS)\n",
    "    width, height = int(cap.get(cv2.CAP_PROP_FRAME_WIDTH)), int(cap.get(cv2.CAP_PROP_FRAME_HEIGHT))\n",
    "\n",
    "    cap.release()\n",
    "\n",
    "    return width, height, fps, total_frames\n",
    "\n",
    "def run_inference(frame):\n",
    "    all_text_here = reader.readtext(frame)\n",
    "    \n",
    "    return {\n",
    "        'text':all_text_here\n",
    "    }"
   ]
  },
  {
   "cell_type": "code",
   "execution_count": 4,
   "metadata": {},
   "outputs": [],
   "source": [
    "all_data = glob.glob(FILE_NAME)"
   ]
  },
  {
   "cell_type": "code",
   "execution_count": 5,
   "metadata": {
    "scrolled": true
   },
   "outputs": [
    {
     "name": "stdout",
     "output_type": "stream",
     "text": [
      "1280 720 25.0 646\n"
     ]
    }
   ],
   "source": [
    "result = analyze_video(all_data[0],\n",
    "                       #start_frame=10000,\n",
    "                       #end_frame=15000, \n",
    "                       sampling_rate = 10)"
   ]
  },
  {
   "cell_type": "code",
   "execution_count": 6,
   "metadata": {},
   "outputs": [],
   "source": [
    "all_meta = {all_data[0]:result}"
   ]
  },
  {
   "cell_type": "code",
   "execution_count": 7,
   "metadata": {},
   "outputs": [
    {
     "data": {
      "text/plain": [
       "dict_keys(['inpoopment.mp4'])"
      ]
     },
     "execution_count": 7,
     "metadata": {},
     "output_type": "execute_result"
    }
   ],
   "source": [
    "all_meta.keys()"
   ]
  },
  {
   "cell_type": "code",
   "execution_count": 8,
   "metadata": {},
   "outputs": [
    {
     "data": {
      "text/plain": [
       "dict_keys(['start_frame', 'end_frame', 'result_feature', 'step', 'fps'])"
      ]
     },
     "execution_count": 8,
     "metadata": {},
     "output_type": "execute_result"
    }
   ],
   "source": [
    "all_meta[FILE_NAME].keys()"
   ]
  },
  {
   "cell_type": "code",
   "execution_count": 9,
   "metadata": {},
   "outputs": [
    {
     "data": {
      "text/plain": [
       "{'start_frame': 0,\n",
       " 'end_frame': 646,\n",
       " 'result_feature': [{'text': []},\n",
       "  {'text': [([[46, 259], [1243, 259], [1243, 516], [46, 516]],\n",
       "     'NOGIRLS',\n",
       "     0.9705299773171104)]},\n",
       "  {'text': [([[43, 298], [1256, 298], [1256, 541], [43, 541]],\n",
       "     'InpoopmeGts',\n",
       "     0.7111144294015315)]}],\n",
       " 'step': 250,\n",
       " 'fps': 25.0}"
      ]
     },
     "execution_count": 9,
     "metadata": {},
     "output_type": "execute_result"
    }
   ],
   "source": [
    "all_meta[FILE_NAME]"
   ]
  },
  {
   "cell_type": "code",
   "execution_count": 10,
   "metadata": {
    "scrolled": true
   },
   "outputs": [
    {
     "data": {
      "text/plain": [
       "{'text': [([[46, 259], [1243, 259], [1243, 516], [46, 516]],\n",
       "   'NOGIRLS',\n",
       "   0.9705299773171104)]}"
      ]
     },
     "execution_count": 10,
     "metadata": {},
     "output_type": "execute_result"
    }
   ],
   "source": [
    "all_meta[FILE_NAME]['result_feature'][1]"
   ]
  },
  {
   "cell_type": "code",
   "execution_count": 11,
   "metadata": {},
   "outputs": [
    {
     "data": {
      "text/plain": [
       "3"
      ]
     },
     "execution_count": 11,
     "metadata": {},
     "output_type": "execute_result"
    }
   ],
   "source": [
    "distance('halo data','hala kcdata')"
   ]
  },
  {
   "cell_type": "code",
   "execution_count": 12,
   "metadata": {},
   "outputs": [],
   "source": [
    "def distance_text(a,b):\n",
    "    if max(len(a),len(b))==0:\n",
    "        return 1\n",
    "    return distance(a,b)/max(len(a),len(b))\n",
    "def reshape_text(data1, data2, idx):\n",
    "    for word in data2:\n",
    "        used_word = word[1].lower()\n",
    "        found = False\n",
    "        for key in data1.keys():\n",
    "            dist = distance_text(key,used_word)\n",
    "            if dist<0.1:\n",
    "                \n",
    "                if data1[key][-1]['end']+1 == idx:\n",
    "                    data1[key][-1]['end']+=1\n",
    "                else:\n",
    "                    data1[key].append({'start':idx, 'end':idx})\n",
    "                found = True\n",
    "                break\n",
    "        if not found:\n",
    "#             print('word : ',word[1].lower())\n",
    "#             print(data1)\n",
    "            data1[used_word] = [{'start':idx, 'end':idx}]\n",
    "    return data1\n",
    "    \n",
    "def aggregate_text(all_text):\n",
    "    aggregated_text = {}\n",
    "    for idx,txt in enumerate(all_text):\n",
    "        aggregated_text = reshape_text(aggregated_text,txt,idx)\n",
    "    return aggregated_text"
   ]
  },
  {
   "cell_type": "code",
   "execution_count": 13,
   "metadata": {},
   "outputs": [
    {
     "name": "stdout",
     "output_type": "stream",
     "text": [
      "inpoopment.mp4\n"
     ]
    }
   ],
   "source": [
    "for key in all_meta.keys():\n",
    "    print(key)\n",
    "    res_text = aggregate_text([i['text'] for i in all_meta[key]['result_feature']])\n",
    "    all_meta[key]['agg_text'] = res_text"
   ]
  },
  {
   "cell_type": "code",
   "execution_count": 14,
   "metadata": {},
   "outputs": [
    {
     "data": {
      "text/plain": [
       "{'start_frame': 0,\n",
       " 'end_frame': 646,\n",
       " 'result_feature': [{'text': []},\n",
       "  {'text': [([[46, 259], [1243, 259], [1243, 516], [46, 516]],\n",
       "     'NOGIRLS',\n",
       "     0.9705299773171104)]},\n",
       "  {'text': [([[43, 298], [1256, 298], [1256, 541], [43, 541]],\n",
       "     'InpoopmeGts',\n",
       "     0.7111144294015315)]}],\n",
       " 'step': 250,\n",
       " 'fps': 25.0,\n",
       " 'agg_text': {'nogirls': [{'start': 1, 'end': 1}],\n",
       "  'inpoopmegts': [{'start': 2, 'end': 2}]}}"
      ]
     },
     "execution_count": 14,
     "metadata": {},
     "output_type": "execute_result"
    }
   ],
   "source": [
    "all_meta[FILE_NAME]"
   ]
  },
  {
   "cell_type": "code",
   "execution_count": 15,
   "metadata": {},
   "outputs": [
    {
     "data": {
      "text/plain": [
       "{'nogirls': [{'start': 1, 'end': 1}], 'inpoopmegts': [{'start': 2, 'end': 2}]}"
      ]
     },
     "execution_count": 15,
     "metadata": {},
     "output_type": "execute_result"
    }
   ],
   "source": [
    "all_meta[FILE_NAME]['agg_text']"
   ]
  },
  {
   "cell_type": "code",
   "execution_count": 16,
   "metadata": {},
   "outputs": [
    {
     "data": {
      "text/plain": [
       "[{'start': 1, 'end': 1}]"
      ]
     },
     "execution_count": 16,
     "metadata": {},
     "output_type": "execute_result"
    }
   ],
   "source": [
    "all_meta[FILE_NAME]['agg_text']['nogirls']"
   ]
  },
  {
   "cell_type": "code",
   "execution_count": 17,
   "metadata": {},
   "outputs": [],
   "source": [
    "pickle.dump(all_meta,open('features','wb'))"
   ]
  },
  {
   "cell_type": "code",
   "execution_count": 18,
   "metadata": {},
   "outputs": [],
   "source": [
    "loaded_meta = pickle.load(open('features', 'rb'))"
   ]
  },
  {
   "cell_type": "code",
   "execution_count": 19,
   "metadata": {},
   "outputs": [
    {
     "data": {
      "text/plain": [
       "{'inpoopment.mp4': {'start_frame': 0,\n",
       "  'end_frame': 646,\n",
       "  'result_feature': [{'text': []},\n",
       "   {'text': [([[46, 259], [1243, 259], [1243, 516], [46, 516]],\n",
       "      'NOGIRLS',\n",
       "      0.9705299773171104)]},\n",
       "   {'text': [([[43, 298], [1256, 298], [1256, 541], [43, 541]],\n",
       "      'InpoopmeGts',\n",
       "      0.7111144294015315)]}],\n",
       "  'step': 250,\n",
       "  'fps': 25.0,\n",
       "  'agg_text': {'nogirls': [{'start': 1, 'end': 1}],\n",
       "   'inpoopmegts': [{'start': 2, 'end': 2}]}}}"
      ]
     },
     "execution_count": 19,
     "metadata": {},
     "output_type": "execute_result"
    }
   ],
   "source": [
    "loaded_meta"
   ]
  },
  {
   "cell_type": "code",
   "execution_count": 20,
   "metadata": {},
   "outputs": [
    {
     "data": {
      "text/plain": [
       "{'nogirls': [{'start': 1, 'end': 1}], 'inpoopmegts': [{'start': 2, 'end': 2}]}"
      ]
     },
     "execution_count": 20,
     "metadata": {},
     "output_type": "execute_result"
    }
   ],
   "source": [
    "res_text"
   ]
  },
  {
   "cell_type": "code",
   "execution_count": 21,
   "metadata": {},
   "outputs": [
    {
     "data": {
      "text/plain": [
       "{'inpoopment.mp4': {'start_frame': 0,\n",
       "  'end_frame': 646,\n",
       "  'result_feature': [{'text': []},\n",
       "   {'text': [([[46, 259], [1243, 259], [1243, 516], [46, 516]],\n",
       "      'NOGIRLS',\n",
       "      0.9705299773171104)]},\n",
       "   {'text': [([[43, 298], [1256, 298], [1256, 541], [43, 541]],\n",
       "      'InpoopmeGts',\n",
       "      0.7111144294015315)]}],\n",
       "  'step': 250,\n",
       "  'fps': 25.0,\n",
       "  'agg_text': {'nogirls': [{'start': 1, 'end': 1}],\n",
       "   'inpoopmegts': [{'start': 2, 'end': 2}]}}}"
      ]
     },
     "execution_count": 21,
     "metadata": {},
     "output_type": "execute_result"
    }
   ],
   "source": [
    "all_meta"
   ]
  },
  {
   "cell_type": "code",
   "execution_count": 23,
   "metadata": {},
   "outputs": [
    {
     "name": "stdout",
     "output_type": "stream",
     "text": [
      "start_frame\n"
     ]
    },
    {
     "ename": "TypeError",
     "evalue": "'int' object is not subscriptable",
     "output_type": "error",
     "traceback": [
      "\u001b[1;31m---------------------------------------------------------------------------\u001b[0m",
      "\u001b[1;31mTypeError\u001b[0m                                 Traceback (most recent call last)",
      "\u001b[1;32m<ipython-input-23-e3d27f76c676>\u001b[0m in \u001b[0;36m<module>\u001b[1;34m\u001b[0m\n\u001b[0;32m      1\u001b[0m \u001b[1;32mfor\u001b[0m \u001b[0mkey\u001b[0m \u001b[1;32min\u001b[0m \u001b[0mresult\u001b[0m\u001b[1;33m.\u001b[0m\u001b[0mkeys\u001b[0m\u001b[1;33m(\u001b[0m\u001b[1;33m)\u001b[0m\u001b[1;33m:\u001b[0m\u001b[1;33m\u001b[0m\u001b[1;33m\u001b[0m\u001b[0m\n\u001b[0;32m      2\u001b[0m     \u001b[0mprint\u001b[0m\u001b[1;33m(\u001b[0m\u001b[0mkey\u001b[0m\u001b[1;33m)\u001b[0m\u001b[1;33m\u001b[0m\u001b[1;33m\u001b[0m\u001b[0m\n\u001b[1;32m----> 3\u001b[1;33m     \u001b[0mres_text\u001b[0m \u001b[1;33m=\u001b[0m \u001b[0maggregate_text\u001b[0m\u001b[1;33m(\u001b[0m\u001b[1;33m[\u001b[0m\u001b[0mi\u001b[0m\u001b[1;33m[\u001b[0m\u001b[1;34m'text'\u001b[0m\u001b[1;33m]\u001b[0m \u001b[1;32mfor\u001b[0m \u001b[0mi\u001b[0m \u001b[1;32min\u001b[0m \u001b[0mresult\u001b[0m\u001b[1;33m[\u001b[0m\u001b[0mkey\u001b[0m\u001b[1;33m]\u001b[0m\u001b[1;33m[\u001b[0m\u001b[1;34m'result_feature'\u001b[0m\u001b[1;33m]\u001b[0m\u001b[1;33m]\u001b[0m\u001b[1;33m)\u001b[0m\u001b[1;33m\u001b[0m\u001b[1;33m\u001b[0m\u001b[0m\n\u001b[0m",
      "\u001b[1;31mTypeError\u001b[0m: 'int' object is not subscriptable"
     ]
    }
   ],
   "source": [
    "for key in result.keys():\n",
    "    print(key)\n",
    "    res_text = aggregate_text([i['text'] for i in result[key]['result_feature']])"
   ]
  },
  {
   "cell_type": "code",
   "execution_count": null,
   "metadata": {},
   "outputs": [],
   "source": []
  }
 ],
 "metadata": {
  "kernelspec": {
   "display_name": "Python 3",
   "language": "python",
   "name": "python3"
  },
  "language_info": {
   "codemirror_mode": {
    "name": "ipython",
    "version": 3
   },
   "file_extension": ".py",
   "mimetype": "text/x-python",
   "name": "python",
   "nbconvert_exporter": "python",
   "pygments_lexer": "ipython3",
   "version": "3.8.5"
  }
 },
 "nbformat": 4,
 "nbformat_minor": 4
}
