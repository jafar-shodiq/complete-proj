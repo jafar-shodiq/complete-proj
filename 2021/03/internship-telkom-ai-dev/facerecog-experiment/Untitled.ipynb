{
 "cells": [
  {
   "cell_type": "code",
   "execution_count": 1,
   "metadata": {},
   "outputs": [],
   "source": [
    "from face_recognition import load_image_file, face_encodings, compare_faces, face_locations\n",
    "import numpy as np"
   ]
  },
  {
   "cell_type": "code",
   "execution_count": 2,
   "metadata": {},
   "outputs": [],
   "source": [
    "image = load_image_file('002_elonmusk.jpg')"
   ]
  },
  {
   "cell_type": "code",
   "execution_count": 3,
   "metadata": {},
   "outputs": [],
   "source": [
    "encoding = face_encodings(image)"
   ]
  },
  {
   "cell_type": "code",
   "execution_count": 4,
   "metadata": {},
   "outputs": [
    {
     "data": {
      "text/plain": [
       "[array([-5.96273951e-02,  1.26718163e-01,  6.88228384e-02, -1.51456846e-02,\n",
       "        -1.61733896e-01,  3.47961374e-02, -2.65393518e-02, -1.92006513e-01,\n",
       "         1.74734905e-01, -5.42335808e-02,  2.54530430e-01, -9.76200402e-02,\n",
       "        -2.39728242e-01,  1.98348295e-02, -7.47244107e-03,  9.73339826e-02,\n",
       "        -1.33899882e-01, -1.22080684e-01, -3.67845967e-03, -1.07486896e-01,\n",
       "         1.15631506e-01,  8.25586915e-02,  1.68453455e-02,  3.84254083e-02,\n",
       "        -1.06277242e-01, -2.86505640e-01, -1.09368138e-01, -1.07405804e-01,\n",
       "         1.36087894e-01, -9.10880268e-02,  1.88386589e-02,  4.42708470e-02,\n",
       "        -1.62257388e-01, -7.54008666e-02,  5.03030010e-02,  2.02756822e-02,\n",
       "        -8.98274705e-02, -9.45936590e-02,  2.05097377e-01, -3.39032710e-02,\n",
       "        -1.64637864e-01, -7.28369728e-02,  2.59584486e-02,  2.21517801e-01,\n",
       "         1.11974992e-01,  4.14524898e-02,  1.85213406e-02, -1.09067917e-01,\n",
       "         8.17470849e-02, -2.16895357e-01,  6.59100711e-02,  1.66641459e-01,\n",
       "         4.94587682e-02,  2.36344784e-02,  1.23330757e-01, -1.94759771e-01,\n",
       "        -2.07361747e-02,  1.77024707e-01, -1.34995863e-01,  1.01832382e-01,\n",
       "         7.52167404e-02, -8.62226337e-02, -2.38007959e-03, -7.65043125e-02,\n",
       "         1.80825308e-01,  5.47568835e-02, -2.16981992e-02, -1.62824094e-01,\n",
       "         1.62996948e-01, -7.44986013e-02, -1.30792782e-01,  1.60471633e-01,\n",
       "        -1.38024047e-01, -1.57935873e-01, -2.79769331e-01, -4.06591073e-02,\n",
       "         5.31658232e-01,  3.50403488e-02, -1.86292589e-01,  1.80778913e-02,\n",
       "        -2.98044495e-02, -4.41173557e-04,  1.57619506e-01,  5.04080988e-02,\n",
       "         1.25860982e-03, -8.81479234e-02, -1.48549318e-01, -2.13194191e-02,\n",
       "         1.97792038e-01, -8.29935595e-02, -6.11398816e-02,  1.98566005e-01,\n",
       "        -3.24858800e-02,  5.28987274e-02,  4.44682464e-02,  8.05904940e-02,\n",
       "        -8.79833773e-02, -5.89146931e-03, -1.02693267e-01, -1.13614887e-01,\n",
       "         3.92385423e-02, -4.96412069e-03, -4.93630208e-02,  1.67199001e-01,\n",
       "        -2.08590731e-01,  1.33270726e-01,  2.41045821e-02, -1.04867062e-02,\n",
       "        -3.00922915e-02, -6.99767470e-02, -5.94693869e-02,  3.30875367e-02,\n",
       "         2.01453671e-01, -3.14756840e-01,  1.37223750e-01,  1.47459090e-01,\n",
       "        -5.06054610e-02,  1.41778857e-01, -1.58965308e-02,  3.26918326e-02,\n",
       "        -4.27073706e-03, -7.86229968e-02, -2.38176703e-01, -8.33641067e-02,\n",
       "         3.49419601e-02, -2.32627690e-02, -7.13226199e-02,  9.69697442e-03])]"
      ]
     },
     "execution_count": 4,
     "metadata": {},
     "output_type": "execute_result"
    }
   ],
   "source": [
    "encoding"
   ]
  },
  {
   "cell_type": "code",
   "execution_count": 24,
   "metadata": {},
   "outputs": [],
   "source": [
    "image = load_image_file('ini_meja.jpg')\n",
    "encoding = face_encodings(image)"
   ]
  },
  {
   "cell_type": "code",
   "execution_count": 6,
   "metadata": {},
   "outputs": [
    {
     "data": {
      "text/plain": [
       "[]"
      ]
     },
     "execution_count": 6,
     "metadata": {},
     "output_type": "execute_result"
    }
   ],
   "source": [
    "encoding"
   ]
  },
  {
   "cell_type": "code",
   "execution_count": 9,
   "metadata": {},
   "outputs": [
    {
     "name": "stdout",
     "output_type": "stream",
     "text": [
      "a\n"
     ]
    }
   ],
   "source": [
    "if len(encoding) == 0:\n",
    "    print('a')"
   ]
  },
  {
   "cell_type": "code",
   "execution_count": 8,
   "metadata": {},
   "outputs": [
    {
     "data": {
      "text/plain": [
       "0"
      ]
     },
     "execution_count": 8,
     "metadata": {},
     "output_type": "execute_result"
    }
   ],
   "source": [
    "len(encoding)"
   ]
  },
  {
   "cell_type": "code",
   "execution_count": 13,
   "metadata": {},
   "outputs": [
    {
     "name": "stdout",
     "output_type": "stream",
     "text": [
      "a\n"
     ]
    }
   ],
   "source": [
    "if len(encoding) == 0:\n",
    "    print('a')\n",
    "else:\n",
    "    np.array(encoding).tostring()"
   ]
  },
  {
   "cell_type": "code",
   "execution_count": 20,
   "metadata": {},
   "outputs": [],
   "source": [
    "image = load_image_file('002_elonmusk.jpg')\n",
    "encoding = face_encodings(image)"
   ]
  },
  {
   "cell_type": "code",
   "execution_count": 19,
   "metadata": {},
   "outputs": [
    {
     "name": "stdout",
     "output_type": "stream",
     "text": [
      "a\n"
     ]
    }
   ],
   "source": [
    "if len(encoding) > 0:\n",
    "    print(np.array(encoding).tostring())\n",
    "else:\n",
    "    print('a')"
   ]
  },
  {
   "cell_type": "code",
   "execution_count": 25,
   "metadata": {},
   "outputs": [],
   "source": [
    "loc = face_locations(image)"
   ]
  },
  {
   "cell_type": "code",
   "execution_count": 22,
   "metadata": {},
   "outputs": [
    {
     "data": {
      "text/plain": [
       "[(139, 324, 325, 139)]"
      ]
     },
     "execution_count": 22,
     "metadata": {},
     "output_type": "execute_result"
    }
   ],
   "source": [
    "loc"
   ]
  },
  {
   "cell_type": "code",
   "execution_count": 26,
   "metadata": {},
   "outputs": [
    {
     "data": {
      "text/plain": [
       "0"
      ]
     },
     "execution_count": 26,
     "metadata": {},
     "output_type": "execute_result"
    }
   ],
   "source": [
    "len(loc)"
   ]
  },
  {
   "cell_type": "code",
   "execution_count": 27,
   "metadata": {},
   "outputs": [],
   "source": [
    "def makeBlob(imagefile):\n",
    "    image = load_image_file(imagefile)\n",
    "    encoding = face_encodings(image)\n",
    "    if len(encoding) > 0:\n",
    "        return np.array(encoding).tostring()\n",
    "    else:\n",
    "        return 'nah'"
   ]
  },
  {
   "cell_type": "code",
   "execution_count": 30,
   "metadata": {},
   "outputs": [
    {
     "data": {
      "text/plain": [
       "'nah'"
      ]
     },
     "execution_count": 30,
     "metadata": {},
     "output_type": "execute_result"
    }
   ],
   "source": [
    "makeBlob('ini_meja.jpg')"
   ]
  },
  {
   "cell_type": "code",
   "execution_count": 35,
   "metadata": {},
   "outputs": [
    {
     "name": "stdout",
     "output_type": "stream",
     "text": [
      "b'\\x00\\x00\\x00`{\\x87\\xae\\xbf\\x00\\x00\\x00\\x00M8\\xc0?\\x00\\x00\\x00\\xa0_\\x9e\\xb1?\\x00\\x00\\x00`\\xb3\\x04\\x8f\\xbf\\x00\\x00\\x00@\\xb2\\xb3\\xc4\\xbf\\x00\\x00\\x00\\xa0\\xcc\\xd0\\xa1?\\x00\\x00\\x00\\xc0!-\\x9b\\xbf\\x00\\x00\\x00`\\xab\\x93\\xc8\\xbf\\x00\\x00\\x00\\xa0\\xb6]\\xc6?\\x00\\x00\\x00\\x00\\x81\\xc4\\xab\\xbf\\x00\\x00\\x00\\x00:J\\xd0?\\x00\\x00\\x00\\x80\\xa0\\xfd\\xb8\\xbf\\x00\\x00\\x00@j\\xaf\\xce\\xbf\\x00\\x00\\x00\\xe0\\x94O\\x94?\\x00\\x00\\x00 l\\x9b~\\xbf\\x00\\x00\\x00@\\xe1\\xea\\xb8?\\x00\\x00\\x00\\xa0\\xa1#\\xc1\\xbf\\x00\\x00\\x00\\x00\\xae@\\xbf\\xbf\\x00\\x00\\x00\\x00J\"n\\xbf\\x00\\x00\\x00\\xe0B\\x84\\xbb\\xbf\\x00\\x00\\x00\\xc0\\x06\\x9a\\xbd?\\x00\\x00\\x00\\x00\\x91\"\\xb5?\\x00\\x00\\x00\\x00\\xe8?\\x91?\\x00\\x00\\x00\\xc0~\\xac\\xa3?\\x00\\x00\\x00@\\xfc4\\xbb\\xbf\\x00\\x00\\x00\\xc0\\x1bV\\xd2\\xbf\\x00\\x00\\x00\\xe0\\x8c\\xff\\xbb\\xbf\\x00\\x00\\x00`\\xf2~\\xbb\\xbf\\x00\\x00\\x00\\x00Tk\\xc1?\\x00\\x00\\x00\\x80\\x8bQ\\xb7\\xbf\\x00\\x00\\x00\\x00qJ\\x93?\\x00\\x00\\x00 \\xab\\xaa\\xa6?\\x00\\x00\\x00\\xa0\\xd9\\xc4\\xc4\\xbf\\x00\\x00\\x00\\xa0xM\\xb3\\xbf\\x00\\x00\\x00\\xa0P\\xc1\\xa9?\\x00\\x00\\x00\\x00&\\xc3\\x94?\\x00\\x00\\x00\\xe0\\xee\\xfe\\xb6\\xbf\\x00\\x00\\x00@J7\\xb8\\xbf\\x00\\x00\\x00\\x80\\xa1@\\xca?\\x00\\x00\\x00\\x00\\xc5[\\xa1\\xbf\\x00\\x00\\x00\\x80\\xda\\x12\\xc5\\xbf\\x00\\x00\\x00\\xa0q\\xa5\\xb2\\xbf\\x00\\x00\\x00\\x00\\xda\\x94\\x9a?\\x00\\x00\\x00\\x00\\xb2Z\\xcc?\\x00\\x00\\x00\\xa0d\\xaa\\xbc?\\x00\\x00\\x00\\xc0B9\\xa5?\\x00\\x00\\x00 B\\xf7\\x92?\\x00\\x00\\x00\\x00\\xe0\\xeb\\xbb\\xbf\\x00\\x00\\x00\\x80`\\xed\\xb4?\\x00\\x00\\x00 :\\xc3\\xcb\\xbf\\x00\\x00\\x00\\x80{\\xdf\\xb0?\\x00\\x00\\x00\\xe0\\x81T\\xc5?\\x00\\x00\\x00\\xe0\\xa8R\\xa9?\\x00\\x00\\x00\\x00\\xa33\\x98?\\x00\\x00\\x00\\xc0\\x9a\\x92\\xbf?\\x00\\x00\\x00`\\xe3\\xed\\xc8\\xbf\\x00\\x00\\x00 \\xdd;\\x95\\xbf\\x00\\x00\\x00\\xe0\\xbe\\xa8\\xc6?\\x00\\x00\\x00`\\x8bG\\xc1\\xbf\\x00\\x00\\x00\\xe0\\xaf\\x11\\xba?\\x00\\x00\\x00\\x80gA\\xb3?\\x00\\x00\\x00\\xc0\\xaf\\x12\\xb6\\xbf\\x00\\x00\\x00\\x80c\\x7fc\\xbf\\x00\\x00\\x00`\\xc9\\x95\\xb3\\xbf\\x00\\x00\\x00\\xa0H%\\xc7?\\x00\\x00\\x00 \\x18\\t\\xac?\\x00\\x00\\x00\\x80\\r8\\x96\\xbf\\x00\\x00\\x00\\x80k\\xd7\\xc4\\xbf\\x00\\x00\\x00\\x80\\x15\\xdd\\xc4?\\x00\\x00\\x00 W\\x12\\xb3\\xbf\\x00\\x00\\x00`\\xd1\\xbd\\xc0\\xbf\\x00\\x00\\x00\\xa0U\\x8a\\xc4?\\x00\\x00\\x00\\xa0\\xc5\\xaa\\xc1\\xbf\\x00\\x00\\x00 >7\\xc4\\xbf\\x00\\x00\\x00\\xa0\\xbd\\xe7\\xd1\\xbf\\x00\\x00\\x00@E\\xd1\\xa4\\xbf\\x00\\x00\\x00 X\\x03\\xe1?\\x00\\x00\\x00\\x00\\xcf\\xf0\\xa1?\\x00\\x00\\x00\\x80o\\xd8\\xc7\\xbf\\x00\\x00\\x00\\xc0\\x02\\x83\\x92?\\x00\\x00\\x00\\xc0\\x0e\\x85\\x9e\\xbf\\x00\\x00\\x00\\x00\\xaa\\xe9<\\xbf\\x00\\x00\\x00@\\xe0,\\xc4?\\x00\\x00\\x00 \\x17\\xcf\\xa9?\\x00\\x00\\x00\\x00\\xfe\\x9eT?\\x00\\x00\\x00\\xc0\\xdc\\x90\\xb6\\xbf\\x00\\x00\\x00\\x00\\xaa\\x03\\xc3\\xbf\\x00\\x00\\x00\\x00\\xc2\\xd4\\x95\\xbf\\x00\\x00\\x00\\xe0?Q\\xc9?\\x00\\x00\\x00\\xe0\\x10?\\xb5\\xbf\\x00\\x00\\x00\\x00\\xbaM\\xaf\\xbf\\x00\\x00\\x00`\\x9cj\\xc9?\\x00\\x00\\x00@\\xfd\\xa1\\xa0\\xbf\\x00\\x00\\x00\\xc0\\x8a\\x15\\xab?\\x00\\x00\\x00\\xc0\\x8a\\xc4\\xa6?\\x00\\x00\\x00 \\x94\\xa1\\xb4?\\x00\\x00\\x00 \\x14\\x86\\xb6\\xbf\\x00\\x00\\x00@\\xa7!x\\xbf\\x00\\x00\\x00 \\x1bJ\\xba\\xbf\\x00\\x00\\x00\\x80\\xdd\\x15\\xbd\\xbf\\x00\\x00\\x00\\x00\\x13\\x17\\xa4?\\x00\\x00\\x00\\x00BUt\\xbf\\x00\\x00\\x00 \\x1cF\\xa9\\xbf\\x00\\x00\\x00\\xe0\\xc6f\\xc5?\\x00\\x00\\x00\\xe0\\x19\\xb3\\xca\\xbf\\x00\\x00\\x00\\xe0\\x03\\x0f\\xc1?\\x00\\x00\\x00 \\xdf\\xae\\x98?\\x00\\x00\\x00\\xe0\\rz\\x85\\xbf\\x00\\x00\\x00\\x80\\x83\\xd0\\x9e\\xbf\\x00\\x00\\x00\\x00\\xff\\xe9\\xb1\\xbf\\x00\\x00\\x00\\x80\\xc5r\\xae\\xbf\\x00\\x00\\x00\\x80\\xd9\\xf0\\xa0?\\x00\\x00\\x00\\xe0;\\xc9\\xc9?\\x00\\x00\\x00\\xe0\\xf9$\\xd4\\xbf\\x00\\x00\\x00@\\x8c\\x90\\xc1?\\x00\\x00\\x00\\x80\\xf0\\xdf\\xc2?\\x00\\x00\\x00\\x80\\xf5\\xe8\\xa9\\xbf\\x00\\x00\\x00@\\xcf%\\xc2?\\x00\\x00\\x00 .G\\x90\\xbf\\x00\\x00\\x00\\xe0\\xfb\\xbc\\xa0?\\x00\\x00\\x00@1~q\\xbf\\x00\\x00\\x00\\x00\\xa3 \\xb4\\xbf\\x00\\x00\\x00\\x00\\x93|\\xce\\xbf\\x00\\x00\\x00\\xa0YW\\xb5\\xbf\\x00\\x00\\x00\\xa0\\xe9\\xe3\\xa1?\\x00\\x00\\x00\\x002\\xd2\\x97\\xbf\\x00\\x00\\x00\\x003B\\xb2\\xbf\\x00\\x00\\x00\\xe0\\x01\\xdc\\x83?'\n"
     ]
    },
    {
     "name": "stderr",
     "output_type": "stream",
     "text": [
      "<ipython-input-35-ebee79f154d8>:6: DeprecationWarning: tostring() is deprecated. Use tobytes() instead.\n",
      "  print(np.array(encoding).tostring())\n"
     ]
    }
   ],
   "source": [
    "image = load_image_file('002_elonmusk.jpg')\n",
    "encoding = face_encodings(image)\n",
    "loc = face_locations(image)\n",
    "\n",
    "if len(loc) > 0:\n",
    "    print(np.array(encoding).tostring())\n",
    "else:\n",
    "    print('nah')"
   ]
  },
  {
   "cell_type": "code",
   "execution_count": 36,
   "metadata": {},
   "outputs": [
    {
     "name": "stdout",
     "output_type": "stream",
     "text": [
      "nah\n"
     ]
    }
   ],
   "source": [
    "image = load_image_file('ini_meja.jpg')\n",
    "encoding = face_encodings(image)\n",
    "loc = face_locations(image)\n",
    "\n",
    "if len(loc) > 0:\n",
    "    print(np.array(encoding).tostring())\n",
    "else:\n",
    "    print('nah')"
   ]
  },
  {
   "cell_type": "code",
   "execution_count": null,
   "metadata": {},
   "outputs": [],
   "source": []
  }
 ],
 "metadata": {
  "kernelspec": {
   "display_name": "Python 3",
   "language": "python",
   "name": "python3"
  },
  "language_info": {
   "codemirror_mode": {
    "name": "ipython",
    "version": 3
   },
   "file_extension": ".py",
   "mimetype": "text/x-python",
   "name": "python",
   "nbconvert_exporter": "python",
   "pygments_lexer": "ipython3",
   "version": "3.8.5"
  }
 },
 "nbformat": 4,
 "nbformat_minor": 4
}
