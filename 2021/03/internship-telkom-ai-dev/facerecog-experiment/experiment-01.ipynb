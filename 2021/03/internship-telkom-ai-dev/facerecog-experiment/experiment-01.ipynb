{
 "cells": [
  {
   "cell_type": "code",
   "execution_count": 2,
   "metadata": {},
   "outputs": [],
   "source": [
    "import dlib\n",
    "from imutils import paths\n",
    "import face_recognition\n",
    "import argparse\n",
    "import pickle\n",
    "import cv2\n",
    "import os\n",
    "from timeit import default_timer as timer\n",
    "import matplotlib.pyplot as plt\n",
    "import numpy as np"
   ]
  },
  {
   "cell_type": "code",
   "execution_count": 22,
   "metadata": {},
   "outputs": [],
   "source": [
    "knownEncodings = []\n",
    "knownNames = []\n",
    "labelNames = []\n",
    "tempData = []\n",
    "tempName = []"
   ]
  },
  {
   "cell_type": "code",
   "execution_count": 23,
   "metadata": {},
   "outputs": [
    {
     "name": "stdout",
     "output_type": "stream",
     "text": [
      "Processing image 1/5\n",
      "Processing image 2/5\n",
      "Processing image 3/5\n",
      "Processing image 4/5\n",
      "Processing image 5/5\n",
      "Time: 3.6607773000000634\n"
     ]
    }
   ],
   "source": [
    "imagePaths = list(paths.list_images('dataset'))\n",
    "\n",
    "start = timer()\n",
    "for (i, imagePath) in enumerate(imagePaths):\n",
    "    print(f'Processing image {i+1}/{len(imagePaths)}')\n",
    "    name = imagePath.split(os.path.sep)[-2]\n",
    "    image = cv2.imread(imagePath)\n",
    "    rgb = cv2.cvtColor(image, cv2.COLOR_BGR2RGB)\n",
    "    boxes = face_recognition.face_locations(rgb, model='hog')\n",
    "    encodings = face_recognition.face_encodings(rgb, known_face_locations=boxes)\n",
    "\n",
    "    for encoding in encodings:\n",
    "        knownEncodings.append(encoding)\n",
    "        knownNames.append(name)\n",
    "\n",
    "print(f'Time: {timer()-start}')"
   ]
  },
  {
   "cell_type": "code",
   "execution_count": 65,
   "metadata": {},
   "outputs": [
    {
     "data": {
      "text/plain": [
       "5"
      ]
     },
     "execution_count": 65,
     "metadata": {},
     "output_type": "execute_result"
    }
   ],
   "source": [
    "len(knownEncodings)"
   ]
  },
  {
   "cell_type": "code",
   "execution_count": 74,
   "metadata": {},
   "outputs": [
    {
     "data": {
      "text/plain": [
       "['bill_gates', 'dr_phil', 'elon_musk', 'jack_ma']"
      ]
     },
     "execution_count": 74,
     "metadata": {},
     "output_type": "execute_result"
    }
   ],
   "source": [
    "list(dict.fromkeys(knownNames))"
   ]
  },
  {
   "cell_type": "code",
   "execution_count": null,
   "metadata": {},
   "outputs": [],
   "source": [
    "list1 = ['bill_gates', 'dr_phil', 'elon_musk', 'jack_ma']\n",
    "if any( in s for s in some_list):"
   ]
  },
  {
   "cell_type": "code",
   "execution_count": 52,
   "metadata": {},
   "outputs": [
    {
     "data": {
      "text/plain": [
       "['abc-123', 'def-456', 'abc-456']"
      ]
     },
     "execution_count": 52,
     "metadata": {},
     "output_type": "execute_result"
    }
   ],
   "source": [
    "my_list = ['abc-123', 'def-456', 'ghi-789', 'abc-456']\n",
    "matchers = ['abc','def']\n",
    "matching = [s for s in my_list if any(xs in s for xs in matchers)]\n",
    "matching"
   ]
  },
  {
   "cell_type": "code",
   "execution_count": 11,
   "metadata": {},
   "outputs": [
    {
     "data": {
      "text/plain": [
       "['..\\\\dataset-1\\\\bill_gates\\\\bill_gates.jpg',\n",
       " '..\\\\dataset-1\\\\dr_phil\\\\e0e2a03c47.jpg',\n",
       " '..\\\\dataset-1\\\\elon_musk\\\\elon_musk.jpg',\n",
       " '..\\\\dataset-1\\\\jack_ma\\\\jack_ma.jpg']"
      ]
     },
     "execution_count": 11,
     "metadata": {},
     "output_type": "execute_result"
    }
   ],
   "source": [
    "imagePaths"
   ]
  },
  {
   "cell_type": "code",
   "execution_count": 76,
   "metadata": {},
   "outputs": [
    {
     "data": {
      "text/plain": [
       "['bill_gates', 'jack_ma']"
      ]
     },
     "execution_count": 76,
     "metadata": {},
     "output_type": "execute_result"
    }
   ],
   "source": [
    "my_list = list(dict.fromkeys(knownNames))\n",
    "matchers = ['jack','bill_gat']\n",
    "matching = [s for s in my_list if any(xs in s for xs in matchers)]\n",
    "matching"
   ]
  },
  {
   "cell_type": "code",
   "execution_count": 12,
   "metadata": {},
   "outputs": [
    {
     "data": {
      "text/plain": [
       "['bill_gates']"
      ]
     },
     "execution_count": 12,
     "metadata": {},
     "output_type": "execute_result"
    }
   ],
   "source": [
    "list1 = list(dict.fromkeys(knownNames))\n",
    "list2 = ['steve_jobs']\n",
    "list3 = ['bill_gates']\n",
    "\n",
    "[s for s in list1 if any(xs in s for xs in list3)]"
   ]
  },
  {
   "cell_type": "code",
   "execution_count": 28,
   "metadata": {},
   "outputs": [
    {
     "data": {
      "text/plain": [
       "['bill_gates', 'dr_phil', 'elon_musk', 'jack_ma', 'steve_jobs']"
      ]
     },
     "execution_count": 28,
     "metadata": {},
     "output_type": "execute_result"
    }
   ],
   "source": [
    "knownNames = list(dict.fromkeys(knownNames))\n",
    "newName = ['steve_jobs']\n",
    "\n",
    "if not [s for s in knownNames if any(xs in s for xs in newName)]:\n",
    "    knownNames.append(newName[0])\n",
    "knownNames"
   ]
  },
  {
   "cell_type": "code",
   "execution_count": 29,
   "metadata": {},
   "outputs": [
    {
     "data": {
      "text/plain": [
       "['bill_gates', 'dr_phil', 'elon_musk', 'jack_ma', 'steve_jobs']"
      ]
     },
     "execution_count": 29,
     "metadata": {},
     "output_type": "execute_result"
    }
   ],
   "source": [
    "newName = ['bill_gates']\n",
    "if not [s for s in knownNames if any(xs in s for xs in newName)]:\n",
    "    knownNames.append(newName[0])\n",
    "knownNames"
   ]
  },
  {
   "cell_type": "code",
   "execution_count": 55,
   "metadata": {},
   "outputs": [],
   "source": [
    "knownEncodings = []\n",
    "knownNames = []\n",
    "newName =[]"
   ]
  },
  {
   "cell_type": "code",
   "execution_count": 40,
   "metadata": {},
   "outputs": [
    {
     "name": "stdout",
     "output_type": "stream",
     "text": [
      "Processing image 1/5\n",
      "Processing image 2/5\n",
      "Processing image 3/5\n",
      "Processing image 4/5\n",
      "Processing image 5/5\n",
      "Time: 3.608411599999954\n"
     ]
    }
   ],
   "source": [
    "imagePaths = list(paths.list_images('dataset'))\n",
    "\n",
    "start = timer()\n",
    "if not [s for s in knownNames if any(xs in s for xs in newName)]:\n",
    "    for (i, imagePath) in enumerate(imagePaths):\n",
    "        print(f'Processing image {i+1}/{len(imagePaths)}')\n",
    "        name = imagePath.split(os.path.sep)[-2]\n",
    "        image = cv2.imread(imagePath)\n",
    "        rgb = cv2.cvtColor(image, cv2.COLOR_BGR2RGB)\n",
    "        boxes = face_recognition.face_locations(rgb, model='hog')\n",
    "        encodings = face_recognition.face_encodings(rgb, known_face_locations=boxes)\n",
    "\n",
    "        for encoding in encodings:\n",
    "            knownEncodings.append(encoding)\n",
    "            knownNames.append(name)\n",
    "    \n",
    "    knownNames = list(dict.fromkeys(knownNames))\n",
    "\n",
    "print(f'Time: {timer()-start}')\n",
    "print(knownNames)\n",
    "print(len(knownEncodings))"
   ]
  },
  {
   "cell_type": "code",
   "execution_count": 41,
   "metadata": {},
   "outputs": [
    {
     "data": {
      "text/plain": [
       "['bill_gates', 'dr_phil', 'elon_musk', 'jack_ma']"
      ]
     },
     "execution_count": 41,
     "metadata": {},
     "output_type": "execute_result"
    }
   ],
   "source": [
    "knownNames"
   ]
  },
  {
   "cell_type": "code",
   "execution_count": 42,
   "metadata": {},
   "outputs": [
    {
     "data": {
      "text/plain": [
       "5"
      ]
     },
     "execution_count": 42,
     "metadata": {},
     "output_type": "execute_result"
    }
   ],
   "source": [
    "len(knownEncodings)"
   ]
  },
  {
   "cell_type": "code",
   "execution_count": 49,
   "metadata": {},
   "outputs": [],
   "source": [
    "knownNames = ['bill_gates', 'dr_phil', 'elon_musk', 'jack_ma']"
   ]
  },
  {
   "cell_type": "code",
   "execution_count": 56,
   "metadata": {},
   "outputs": [
    {
     "name": "stdout",
     "output_type": "stream",
     "text": [
      "Processing image 1/5\n",
      "Processing image 2/5\n",
      "Processing image 3/5\n",
      "Processing image 4/5\n",
      "Processing image 5/5\n",
      "Time: 3.664825800000017\n",
      "['bill_gates', 'dr_phil', 'elon_musk', 'jack_ma']\n",
      "5\n"
     ]
    }
   ],
   "source": [
    "imagePaths = list(paths.list_images('dataset'))\n",
    "\n",
    "start = timer()\n",
    "for (i, imagePath) in enumerate(imagePaths):\n",
    "    if not [s for s in knownNames if any(xs in s for xs in newName)]:\n",
    "        print(f'Processing image {i+1}/{len(imagePaths)}')\n",
    "        name = imagePath.split(os.path.sep)[-2]\n",
    "        image = cv2.imread(imagePath)\n",
    "        rgb = cv2.cvtColor(image, cv2.COLOR_BGR2RGB)\n",
    "        boxes = face_recognition.face_locations(rgb, model='hog')\n",
    "        encodings = face_recognition.face_encodings(rgb, known_face_locations=boxes)\n",
    "\n",
    "        for encoding in encodings:\n",
    "            knownEncodings.append(encoding)\n",
    "            knownNames.append(name)\n",
    "    \n",
    "knownNames = list(dict.fromkeys(knownNames))\n",
    "\n",
    "print(f'Time: {timer()-start}')\n",
    "print(knownNames)\n",
    "print(len(knownEncodings))"
   ]
  },
  {
   "cell_type": "code",
   "execution_count": 52,
   "metadata": {},
   "outputs": [],
   "source": [
    "imagePaths = list(paths.list_images('dataset'))\n",
    "name = imagePath.split(os.path.sep)[-2]"
   ]
  },
  {
   "cell_type": "code",
   "execution_count": 54,
   "metadata": {},
   "outputs": [
    {
     "data": {
      "text/plain": [
       "str"
      ]
     },
     "execution_count": 54,
     "metadata": {},
     "output_type": "execute_result"
    }
   ],
   "source": [
    "type(name)"
   ]
  },
  {
   "cell_type": "code",
   "execution_count": null,
   "metadata": {},
   "outputs": [],
   "source": []
  }
 ],
 "metadata": {
  "kernelspec": {
   "display_name": "Python 3",
   "language": "python",
   "name": "python3"
  },
  "language_info": {
   "codemirror_mode": {
    "name": "ipython",
    "version": 3
   },
   "file_extension": ".py",
   "mimetype": "text/x-python",
   "name": "python",
   "nbconvert_exporter": "python",
   "pygments_lexer": "ipython3",
   "version": "3.8.5"
  }
 },
 "nbformat": 4,
 "nbformat_minor": 4
}
