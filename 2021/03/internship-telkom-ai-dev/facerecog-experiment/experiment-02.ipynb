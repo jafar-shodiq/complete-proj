{
 "cells": [
  {
   "cell_type": "code",
   "execution_count": 4,
   "metadata": {},
   "outputs": [],
   "source": [
    "import face_recognition\n",
    "import cv2\n",
    "import os\n",
    "from timeit import default_timer as timer\n",
    "from imutils import paths"
   ]
  },
  {
   "cell_type": "code",
   "execution_count": 45,
   "metadata": {},
   "outputs": [],
   "source": [
    "knownNames1 = ['bill_gates', 'dr_phil', 'elon_musk', 'jack_ma']"
   ]
  },
  {
   "cell_type": "code",
   "execution_count": 46,
   "metadata": {},
   "outputs": [],
   "source": [
    "for (i, imagePath) in enumerate(imagePaths):\n",
    "    imagePaths = list(paths.list_images('dataset'))\n",
    "    name = imagePath.split(os.path.sep)[-2]\n",
    "    \n",
    "    if not [s for s in knownNames1 if any(xs in s for xs in name)]:\n",
    "        knownNames1.append(name)"
   ]
  },
  {
   "cell_type": "code",
   "execution_count": 47,
   "metadata": {},
   "outputs": [
    {
     "data": {
      "text/plain": [
       "['bill_gates', 'dr_phil', 'elon_musk', 'jack_ma']"
      ]
     },
     "execution_count": 47,
     "metadata": {},
     "output_type": "execute_result"
    }
   ],
   "source": [
    "knownNames1"
   ]
  },
  {
   "cell_type": "code",
   "execution_count": 48,
   "metadata": {},
   "outputs": [],
   "source": [
    "for (i, imagePath) in enumerate(imagePaths):\n",
    "    imagePaths = list(paths.list_images('dataset'))\n",
    "    name = imagePath.split(os.path.sep)[-2]\n",
    "    \n",
    "    if not any(name in s for s in knownNames1):\n",
    "        knownNames1.append(name)"
   ]
  },
  {
   "cell_type": "code",
   "execution_count": 49,
   "metadata": {},
   "outputs": [
    {
     "data": {
      "text/plain": [
       "['bill_gates', 'dr_phil', 'elon_musk', 'jack_ma', 'steve_jobs']"
      ]
     },
     "execution_count": 49,
     "metadata": {},
     "output_type": "execute_result"
    }
   ],
   "source": [
    "knownNames1"
   ]
  },
  {
   "cell_type": "code",
   "execution_count": null,
   "metadata": {},
   "outputs": [],
   "source": []
  }
 ],
 "metadata": {
  "kernelspec": {
   "display_name": "Python 3",
   "language": "python",
   "name": "python3"
  },
  "language_info": {
   "codemirror_mode": {
    "name": "ipython",
    "version": 3
   },
   "file_extension": ".py",
   "mimetype": "text/x-python",
   "name": "python",
   "nbconvert_exporter": "python",
   "pygments_lexer": "ipython3",
   "version": "3.8.5"
  }
 },
 "nbformat": 4,
 "nbformat_minor": 4
}
