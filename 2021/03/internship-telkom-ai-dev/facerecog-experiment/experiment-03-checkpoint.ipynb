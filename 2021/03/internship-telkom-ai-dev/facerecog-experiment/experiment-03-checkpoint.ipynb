{
 "cells": [
  {
   "cell_type": "code",
   "execution_count": 1,
   "metadata": {},
   "outputs": [],
   "source": [
    "import face_recognition\n",
    "import cv2\n",
    "import os\n",
    "from timeit import default_timer as timer\n",
    "from imutils import paths"
   ]
  },
  {
   "cell_type": "code",
   "execution_count": 21,
   "metadata": {},
   "outputs": [],
   "source": [
    "knownEncodings = []\n",
    "knownNames = []"
   ]
  },
  {
   "cell_type": "code",
   "execution_count": 22,
   "metadata": {},
   "outputs": [
    {
     "name": "stdout",
     "output_type": "stream",
     "text": [
      "Processing images...\n",
      "Processing images...\n",
      "Processing images...\n",
      "Processing images...\n",
      "Time: 3.1931370999991486\n",
      "['bill_gates', 'dr_phil', 'elon_musk', 'jack_ma']\n",
      "4\n"
     ]
    }
   ],
   "source": [
    "imagePaths = list(paths.list_images('dataset'))\n",
    "\n",
    "start = timer()\n",
    "for (i, imagePath) in enumerate(imagePaths):\n",
    "    name = imagePath.split(os.path.sep)[-2]\n",
    "    if not any(name in s for s in knownNames):\n",
    "        print('Processing images...')\n",
    "        image = cv2.imread(imagePath)\n",
    "        rgb = cv2.cvtColor(image, cv2.COLOR_BGR2RGB)\n",
    "        boxes = face_recognition.face_locations(rgb, model='hog')\n",
    "        encodings = face_recognition.face_encodings(rgb, known_face_locations=boxes)\n",
    "\n",
    "        for encoding in encodings:\n",
    "            knownEncodings.append(encoding)\n",
    "            knownNames.append(name)\n",
    "    \n",
    "knownNames = list(dict.fromkeys(knownNames))\n",
    "\n",
    "print(f'Time: {timer()-start}')\n",
    "print(knownNames)\n",
    "print(len(knownEncodings))"
   ]
  },
  {
   "cell_type": "markdown",
   "metadata": {},
   "source": [
    "**Rerun**"
   ]
  },
  {
   "cell_type": "code",
   "execution_count": 12,
   "metadata": {},
   "outputs": [
    {
     "name": "stdout",
     "output_type": "stream",
     "text": [
      "Time: 0.0002282000000377593\n",
      "['bill_gates', 'dr_phil', 'elon_musk', 'jack_ma']\n",
      "4\n"
     ]
    }
   ],
   "source": [
    "imagePaths = list(paths.list_images('dataset'))\n",
    "\n",
    "start = timer()\n",
    "for (i, imagePath) in enumerate(imagePaths):\n",
    "    name = imagePath.split(os.path.sep)[-2]\n",
    "    if not any(name in s for s in knownNames):\n",
    "        print('Processing images...')\n",
    "        image = cv2.imread(imagePath)\n",
    "        rgb = cv2.cvtColor(image, cv2.COLOR_BGR2RGB)\n",
    "        boxes = face_recognition.face_locations(rgb, model='hog')\n",
    "        encodings = face_recognition.face_encodings(rgb, known_face_locations=boxes)\n",
    "\n",
    "        for encoding in encodings:\n",
    "            knownEncodings.append(encoding)\n",
    "            knownNames.append(name)\n",
    "    \n",
    "knownNames = list(dict.fromkeys(knownNames))\n",
    "\n",
    "print(f'Time: {timer()-start}')\n",
    "print(knownNames)\n",
    "print(len(knownEncodings))"
   ]
  },
  {
   "cell_type": "markdown",
   "metadata": {},
   "source": [
    "**After adding a new directory**"
   ]
  },
  {
   "cell_type": "code",
   "execution_count": 13,
   "metadata": {},
   "outputs": [
    {
     "name": "stdout",
     "output_type": "stream",
     "text": [
      "Processing images...\n",
      "Time: 0.4449769999999944\n",
      "['bill_gates', 'dr_phil', 'elon_musk', 'jack_ma', 'steve_jobs']\n",
      "5\n"
     ]
    }
   ],
   "source": [
    "imagePaths = list(paths.list_images('dataset'))\n",
    "\n",
    "start = timer()\n",
    "for (i, imagePath) in enumerate(imagePaths):\n",
    "    name = imagePath.split(os.path.sep)[-2]\n",
    "    if not any(name in s for s in knownNames):\n",
    "        print('Processing images...')\n",
    "        image = cv2.imread(imagePath)\n",
    "        rgb = cv2.cvtColor(image, cv2.COLOR_BGR2RGB)\n",
    "        boxes = face_recognition.face_locations(rgb, model='hog')\n",
    "        encodings = face_recognition.face_encodings(rgb, known_face_locations=boxes)\n",
    "\n",
    "        for encoding in encodings:\n",
    "            knownEncodings.append(encoding)\n",
    "            knownNames.append(name)\n",
    "    \n",
    "knownNames = list(dict.fromkeys(knownNames))\n",
    "\n",
    "print(f'Time: {timer()-start}')\n",
    "print(knownNames)\n",
    "print(len(knownEncodings))"
   ]
  },
  {
   "cell_type": "markdown",
   "metadata": {},
   "source": [
    "Problem: can only process 1 image in a directory"
   ]
  },
  {
   "cell_type": "code",
   "execution_count": null,
   "metadata": {},
   "outputs": [],
   "source": []
  }
 ],
 "metadata": {
  "kernelspec": {
   "display_name": "Python 3",
   "language": "python",
   "name": "python3"
  },
  "language_info": {
   "codemirror_mode": {
    "name": "ipython",
    "version": 3
   },
   "file_extension": ".py",
   "mimetype": "text/x-python",
   "name": "python",
   "nbconvert_exporter": "python",
   "pygments_lexer": "ipython3",
   "version": "3.8.5"
  }
 },
 "nbformat": 4,
 "nbformat_minor": 4
}
