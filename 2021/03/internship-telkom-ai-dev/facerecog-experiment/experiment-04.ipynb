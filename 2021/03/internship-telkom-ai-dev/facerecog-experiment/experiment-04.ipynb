{
 "cells": [
  {
   "cell_type": "code",
   "execution_count": 1,
   "metadata": {},
   "outputs": [],
   "source": [
    "import face_recognition\n",
    "import cv2\n",
    "import os\n",
    "from timeit import default_timer as timer\n",
    "from imutils import paths"
   ]
  },
  {
   "cell_type": "code",
   "execution_count": 98,
   "metadata": {},
   "outputs": [],
   "source": [
    "knownEncodings = []\n",
    "knownNames = []\n",
    "processedNames = []  "
   ]
  },
  {
   "cell_type": "code",
   "execution_count": 99,
   "metadata": {},
   "outputs": [
    {
     "name": "stdout",
     "output_type": "stream",
     "text": [
      "Processing images...\n",
      "Processing images...\n",
      "Processing images...\n",
      "Processing images...\n",
      "Processing images...\n",
      "Time: 3.7552332999998725\n",
      "['billgates', 'drphil', 'elonmusk', 'jackma']\n",
      "5\n"
     ]
    }
   ],
   "source": [
    "imagePaths = list(paths.list_images('dataset-1'))\n",
    "\n",
    "start = timer()\n",
    "for (i, imagePath) in enumerate(imagePaths):\n",
    "    name = imagePath.split(os.path.sep)[-1].split('.')[0]\n",
    "    if not any(name in s for s in knownNames):\n",
    "        print('Processing images...')\n",
    "        image = cv2.imread(imagePath)\n",
    "        rgb = cv2.cvtColor(image, cv2.COLOR_BGR2RGB)\n",
    "        boxes = face_recognition.face_locations(rgb, model='hog')\n",
    "        encodings = face_recognition.face_encodings(rgb, known_face_locations=boxes)\n",
    "\n",
    "        for encoding in encodings:\n",
    "            knownEncodings.append(encoding)\n",
    "            knownNames.append(name)\n",
    "        \n",
    "for i in knownNames:\n",
    "    processedNames.append(i.split('_')[0])\n",
    "    knownNames = list(dict.fromkeys(processedNames))\n",
    "\n",
    "print(f'Time: {timer()-start}')\n",
    "print(knownNames)\n",
    "print(len(knownEncodings))"
   ]
  },
  {
   "cell_type": "code",
   "execution_count": 86,
   "metadata": {},
   "outputs": [
    {
     "name": "stdout",
     "output_type": "stream",
     "text": [
      "Time: 0.0003640999998424377\n",
      "['billgates', 'drphil', 'elonmusk', 'jackma']\n",
      "5\n"
     ]
    }
   ],
   "source": [
    "imagePaths = list(paths.list_images('dataset-1'))\n",
    "\n",
    "start = timer()\n",
    "for (i, imagePath) in enumerate(imagePaths):\n",
    "    name = imagePath.split(os.path.sep)[-1].split('.')[0]\n",
    "    splitName = name.split('_')[0]\n",
    "    if not any(splitName in s for s in knownNames):\n",
    "        print('Processing images...')\n",
    "        image = cv2.imread(imagePath)\n",
    "        rgb = cv2.cvtColor(image, cv2.COLOR_BGR2RGB)\n",
    "        boxes = face_recognition.face_locations(rgb, model='hog')\n",
    "        encodings = face_recognition.face_encodings(rgb, known_face_locations=boxes)\n",
    "\n",
    "        for encoding in encodings:\n",
    "            knownEncodings.append(encoding)\n",
    "            knownNames.append(name)\n",
    "        \n",
    "for i in knownNames:\n",
    "    processedNames.append(i.split('_')[0])\n",
    "    knownNames = list(dict.fromkeys(processedNames))\n",
    "\n",
    "print(f'Time: {timer()-start}')\n",
    "print(knownNames)\n",
    "print(len(knownEncodings))"
   ]
  },
  {
   "cell_type": "code",
   "execution_count": 29,
   "metadata": {},
   "outputs": [
    {
     "name": "stdout",
     "output_type": "stream",
     "text": [
      "billgates\n",
      "billgates\n",
      "drphil\n",
      "elonmusk\n",
      "jackma\n"
     ]
    }
   ],
   "source": [
    "for i in knownNames:\n",
    "    print(i.split('_')[0])"
   ]
  },
  {
   "cell_type": "code",
   "execution_count": 78,
   "metadata": {},
   "outputs": [
    {
     "data": {
      "text/plain": [
       "['billgates', 'drphil', 'elonmusk', 'jackma']"
      ]
     },
     "execution_count": 78,
     "metadata": {},
     "output_type": "execute_result"
    }
   ],
   "source": [
    "for i in knownNames:\n",
    "    processedNames.append(i.split('_')[0])\n",
    "    knownNames = list(dict.fromkeys(processedNames))\n",
    "    \n",
    "knownNames"
   ]
  },
  {
   "cell_type": "code",
   "execution_count": 73,
   "metadata": {},
   "outputs": [
    {
     "data": {
      "text/plain": [
       "['billgates', 'drphil', 'elonmusk', 'jackma']"
      ]
     },
     "execution_count": 73,
     "metadata": {},
     "output_type": "execute_result"
    }
   ],
   "source": [
    "list(dict.fromkeys(processedNames))"
   ]
  },
  {
   "cell_type": "code",
   "execution_count": 83,
   "metadata": {},
   "outputs": [
    {
     "name": "stdout",
     "output_type": "stream",
     "text": [
      "billgates_01\n",
      "billgates_02\n",
      "drphil_01\n",
      "elonmusk_01\n",
      "jackma_01\n"
     ]
    }
   ],
   "source": [
    "imagePaths = list(paths.list_images('dataset-1'))\n",
    "for (i, imagePath) in enumerate(imagePaths):\n",
    "    name = imagePath.split(os.path.sep)[-1].split('.')[0]\n",
    "    print(name)"
   ]
  },
  {
   "cell_type": "code",
   "execution_count": 97,
   "metadata": {},
   "outputs": [
    {
     "name": "stdout",
     "output_type": "stream",
     "text": [
      "12\n",
      "242\n"
     ]
    }
   ],
   "source": [
    "a = [2,3,4,5,6,7,8,9,0]\n",
    "xyz = [0,12,4,6,242,7,9]\n",
    "\n",
    "gen = (x for x in xyz if x not in a)\n",
    "\n",
    "for x in gen:\n",
    "    print(x)"
   ]
  },
  {
   "cell_type": "code",
   "execution_count": 100,
   "metadata": {},
   "outputs": [
    {
     "data": {
      "text/plain": [
       "['billgates', 'drphil', 'elonmusk', 'jackma']"
      ]
     },
     "execution_count": 100,
     "metadata": {},
     "output_type": "execute_result"
    }
   ],
   "source": [
    "knownNames"
   ]
  },
  {
   "cell_type": "code",
   "execution_count": 101,
   "metadata": {},
   "outputs": [
    {
     "data": {
      "text/plain": [
       "['billgates', 'billgates', 'drphil', 'elonmusk', 'jackma']"
      ]
     },
     "execution_count": 101,
     "metadata": {},
     "output_type": "execute_result"
    }
   ],
   "source": [
    "processedNames"
   ]
  },
  {
   "cell_type": "code",
   "execution_count": 102,
   "metadata": {},
   "outputs": [],
   "source": [
    "gen = (x for x in processedNames if x not in knownNames)\n",
    "\n",
    "for x in gen:\n",
    "    print(x)"
   ]
  }
 ],
 "metadata": {
  "kernelspec": {
   "display_name": "Python 3",
   "language": "python",
   "name": "python3"
  },
  "language_info": {
   "codemirror_mode": {
    "name": "ipython",
    "version": 3
   },
   "file_extension": ".py",
   "mimetype": "text/x-python",
   "name": "python",
   "nbconvert_exporter": "python",
   "pygments_lexer": "ipython3",
   "version": "3.8.5"
  }
 },
 "nbformat": 4,
 "nbformat_minor": 4
}
