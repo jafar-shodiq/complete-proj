{
 "cells": [
  {
   "cell_type": "code",
   "execution_count": 1,
   "metadata": {},
   "outputs": [],
   "source": [
    "import face_recognition\n",
    "import cv2\n",
    "import os\n",
    "from timeit import default_timer as timer\n",
    "from imutils import paths"
   ]
  },
  {
   "cell_type": "code",
   "execution_count": 41,
   "metadata": {},
   "outputs": [],
   "source": [
    "knownEncodings = []\n",
    "knownNames = []\n",
    "processedNames = []"
   ]
  },
  {
   "cell_type": "code",
   "execution_count": 42,
   "metadata": {},
   "outputs": [
    {
     "name": "stdout",
     "output_type": "stream",
     "text": [
      "Processing images...\n",
      "Processing images...\n",
      "Processing images...\n",
      "Processing images...\n",
      "Processing images...\n",
      "Time: 4.088900799999919\n",
      "['billgates', 'drphil', 'elonmusk', 'jackma']\n",
      "5\n"
     ]
    }
   ],
   "source": [
    "imagePaths = list(paths.list_images('dataset-1'))\n",
    "\n",
    "start = timer()\n",
    "for (i, imagePath) in enumerate(imagePaths):\n",
    "    name = imagePath.split(os.path.sep)[-1].split('.')[0]\n",
    "    if not any(name in s for s in knownNames):\n",
    "        print('Processing images...')\n",
    "        image = cv2.imread(imagePath)\n",
    "        rgb = cv2.cvtColor(image, cv2.COLOR_BGR2RGB)\n",
    "        boxes = face_recognition.face_locations(rgb, model='hog')\n",
    "        encodings = face_recognition.face_encodings(rgb, known_face_locations=boxes)\n",
    "\n",
    "        for encoding in encodings:\n",
    "            knownEncodings.append(encoding)\n",
    "            knownNames.append(name)\n",
    "\n",
    "processedNames = []         \n",
    "for i in knownNames:\n",
    "    processedNames.append(i.split('_')[0])\n",
    "    knownNames = list(dict.fromkeys(processedNames))\n",
    "\n",
    "print(f'Time: {timer()-start}')\n",
    "print(knownNames)\n",
    "print(len(knownEncodings))"
   ]
  },
  {
   "cell_type": "code",
   "execution_count": 43,
   "metadata": {},
   "outputs": [
    {
     "data": {
      "text/plain": [
       "['billgates', 'billgates', 'drphil', 'elonmusk', 'jackma']"
      ]
     },
     "execution_count": 43,
     "metadata": {},
     "output_type": "execute_result"
    }
   ],
   "source": [
    "processedNames"
   ]
  },
  {
   "cell_type": "code",
   "execution_count": 40,
   "metadata": {},
   "outputs": [
    {
     "data": {
      "text/plain": [
       "['billgates', 'drphil', 'elonmusk', 'jackma']"
      ]
     },
     "execution_count": 40,
     "metadata": {},
     "output_type": "execute_result"
    }
   ],
   "source": [
    "knownNames"
   ]
  },
  {
   "cell_type": "code",
   "execution_count": 114,
   "metadata": {},
   "outputs": [],
   "source": [
    "processedNames1 = []\n",
    "knownNames1 = ['billgates', 'drphil', 'elonmusk', 'jackma', 'billgates_01']"
   ]
  },
  {
   "cell_type": "code",
   "execution_count": 115,
   "metadata": {},
   "outputs": [
    {
     "data": {
      "text/plain": [
       "['billgates',\n",
       " 'drphil',\n",
       " 'elonmusk',\n",
       " 'jackma',\n",
       " 'billgates_01',\n",
       " <generator object <genexpr> at 0x00000261DE13E120>,\n",
       " <generator object <genexpr> at 0x00000261DE13E200>,\n",
       " <generator object <genexpr> at 0x00000261DE13E040>,\n",
       " <generator object <genexpr> at 0x00000261DE13E190>]"
      ]
     },
     "execution_count": 115,
     "metadata": {},
     "output_type": "execute_result"
    }
   ],
   "source": [
    "imagePaths = list(paths.list_images('dataset-1'))\n",
    "for (i, imagePath) in enumerate(imagePaths):\n",
    "    name = imagePath.split(os.path.sep)[-1].split('.')[0]\n",
    "    if not any(name in s for s in knownNames1):\n",
    "        knownNames1.append(x for x in processedNames1 if x not in knownNames1)\n",
    "\n",
    "gen = (x for x in processedNames1 if x not in knownNames1)\n",
    "    \n",
    "knownNames1"
   ]
  },
  {
   "cell_type": "code",
   "execution_count": 117,
   "metadata": {},
   "outputs": [
    {
     "name": "stdout",
     "output_type": "stream",
     "text": [
      "0\n",
      "4\n",
      "6\n",
      "7\n",
      "9\n"
     ]
    }
   ],
   "source": [
    "a = [2,3,4,5,6,7,8,9,0]\n",
    "xyz = [0,12,4,6,242,7,9]\n",
    "for x in filter(lambda w: w in a, xyz):\n",
    "  print(x)"
   ]
  },
  {
   "cell_type": "code",
   "execution_count": 126,
   "metadata": {},
   "outputs": [
    {
     "name": "stdout",
     "output_type": "stream",
     "text": [
      "billgates_02\n",
      "stevejobs_01\n"
     ]
    }
   ],
   "source": [
    "processedNames2 = ['billgates_01', 'billgates_02', 'stevejobs_01']\n",
    "knownNames2 = ['billgates', 'drphil', 'elonmusk', 'jackma', 'billgates_01']\n",
    "\n",
    "for x in filter(lambda w: w not in knownNames2, processedNames2):\n",
    "    print(x)"
   ]
  },
  {
   "cell_type": "code",
   "execution_count": 1,
   "metadata": {},
   "outputs": [
    {
     "name": "stdout",
     "output_type": "stream",
     "text": [
      "billgates_02\n"
     ]
    }
   ],
   "source": [
    "processedNames2 = ['billgates_02']\n",
    "knownNames2 = []\n",
    "\n",
    "for x in filter(lambda w: w not in knownNames2, processedNames2):\n",
    "    print(x)"
   ]
  },
  {
   "cell_type": "code",
   "execution_count": 196,
   "metadata": {},
   "outputs": [],
   "source": [
    "knownEncodings = []\n",
    "knownNames = []"
   ]
  },
  {
   "cell_type": "code",
   "execution_count": 197,
   "metadata": {},
   "outputs": [
    {
     "data": {
      "text/plain": [
       "['billgates_01', 'billgates_02', 'drphil_01', 'elonmusk_01', 'jackma_01']"
      ]
     },
     "execution_count": 197,
     "metadata": {},
     "output_type": "execute_result"
    }
   ],
   "source": [
    "start = timer()\n",
    "\n",
    "imagePaths = list(paths.list_images('dataset-1'))\n",
    "processedNames = []\n",
    "\n",
    "for (i, imagePath) in enumerate(imagePaths):\n",
    "    name = imagePath.split(os.path.sep)[-1].split('.')[0]\n",
    "    processedNames.append(name)\n",
    "for x in filter(lambda w: w not in knownNames, processedNames):\n",
    "    knownNames.append(x)\n",
    "    \n",
    "knownNames"
   ]
  },
  {
   "cell_type": "code",
   "execution_count": 199,
   "metadata": {},
   "outputs": [
    {
     "data": {
      "text/plain": [
       "['billgates_01', 'billgates_02', 'drphil_01', 'elonmusk_01', 'jackma_01']"
      ]
     },
     "execution_count": 199,
     "metadata": {},
     "output_type": "execute_result"
    }
   ],
   "source": [
    "processedNames"
   ]
  },
  {
   "cell_type": "code",
   "execution_count": null,
   "metadata": {},
   "outputs": [],
   "source": []
  }
 ],
 "metadata": {
  "kernelspec": {
   "display_name": "Python 3",
   "language": "python",
   "name": "python3"
  },
  "language_info": {
   "codemirror_mode": {
    "name": "ipython",
    "version": 3
   },
   "file_extension": ".py",
   "mimetype": "text/x-python",
   "name": "python",
   "nbconvert_exporter": "python",
   "pygments_lexer": "ipython3",
   "version": "3.8.5"
  }
 },
 "nbformat": 4,
 "nbformat_minor": 4
}
