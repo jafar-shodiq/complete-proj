{
 "cells": [
  {
   "cell_type": "code",
   "execution_count": 1,
   "metadata": {},
   "outputs": [],
   "source": [
    "import face_recognition\n",
    "import cv2\n",
    "import os\n",
    "from timeit import default_timer as timer\n",
    "from imutils import paths"
   ]
  },
  {
   "cell_type": "code",
   "execution_count": 28,
   "metadata": {},
   "outputs": [],
   "source": [
    "knownEncodings = []\n",
    "knownNames = []"
   ]
  },
  {
   "cell_type": "code",
   "execution_count": 38,
   "metadata": {},
   "outputs": [
    {
     "name": "stdout",
     "output_type": "stream",
     "text": [
      "Time: 0.0022122000000308617\n",
      "['billgates_01', 'billgates_02', 'drphil_01', 'elonmusk_01', 'jackma_01']\n",
      "5\n"
     ]
    }
   ],
   "source": [
    "start = timer()\n",
    "imagePaths = list(paths.list_images('dataset-1'))\n",
    "tempNames = []\n",
    "\n",
    "for (i, imagePath) in enumerate(imagePaths):\n",
    "    name = imagePath.split(os.path.sep)[-1].split('.')[0]\n",
    "    tempNames.append(name)\n",
    "\n",
    "for x in filter(lambda w: w not in knownNames, tempNames):\n",
    "    print('Processing...')\n",
    "    image = cv2.imread(imagePath)\n",
    "    rgb = cv2.cvtColor(image, cv2.COLOR_BGR2RGB)\n",
    "    boxes = face_recognition.face_locations(rgb, model='hog')\n",
    "    encodings = face_recognition.face_encodings(rgb, known_face_locations=boxes)\n",
    "    \n",
    "    for encoding in encodings:\n",
    "        knownEncodings.append(encoding)\n",
    "        knownNames.append(x)\n",
    "\n",
    "knownNames = [s.split('_')[0] for s in knownNames]\n",
    "knownNames = list(dict.fromkeys(tempNames))\n",
    "\n",
    "knownEncodings = list(dict.fromkeys(tempNames))\n",
    "\n",
    "print(f'Time: {timer()-start}')\n",
    "print(knownNames)\n",
    "print(len(knownEncodings))"
   ]
  },
  {
   "cell_type": "code",
   "execution_count": 39,
   "metadata": {},
   "outputs": [
    {
     "data": {
      "text/plain": [
       "['billgates', 'billgates', 'drphil', 'elonmusk', 'jackma']"
      ]
     },
     "execution_count": 39,
     "metadata": {},
     "output_type": "execute_result"
    }
   ],
   "source": [
    "knownNames2 = [s.split('_')[0] for s in knownNames]\n",
    "knownNames2"
   ]
  },
  {
   "cell_type": "code",
   "execution_count": 26,
   "metadata": {},
   "outputs": [
    {
     "data": {
      "text/plain": [
       "['billgates', 'drphil', 'elonmusk', 'jackma']"
      ]
     },
     "execution_count": 26,
     "metadata": {},
     "output_type": "execute_result"
    }
   ],
   "source": [
    "knownNames2 = list(dict.fromkeys(knownNames2))\n",
    "knownNames2"
   ]
  },
  {
   "cell_type": "code",
   "execution_count": null,
   "metadata": {},
   "outputs": [],
   "source": []
  }
 ],
 "metadata": {
  "kernelspec": {
   "display_name": "Python 3",
   "language": "python",
   "name": "python3"
  },
  "language_info": {
   "codemirror_mode": {
    "name": "ipython",
    "version": 3
   },
   "file_extension": ".py",
   "mimetype": "text/x-python",
   "name": "python",
   "nbconvert_exporter": "python",
   "pygments_lexer": "ipython3",
   "version": "3.8.5"
  }
 },
 "nbformat": 4,
 "nbformat_minor": 4
}
