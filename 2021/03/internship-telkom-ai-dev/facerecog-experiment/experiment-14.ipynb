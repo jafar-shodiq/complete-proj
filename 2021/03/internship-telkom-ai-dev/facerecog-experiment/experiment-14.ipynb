{
 "cells": [
  {
   "cell_type": "code",
   "execution_count": 29,
   "metadata": {},
   "outputs": [],
   "source": [
    "import numpy as np\n",
    "import cv2\n",
    "import face_recognition\n",
    "import os\n",
    "from datetime import datetime\n",
    "from timeit import default_timer as timer\n",
    "from imutils import paths"
   ]
  },
  {
   "cell_type": "code",
   "execution_count": 156,
   "metadata": {},
   "outputs": [],
   "source": [
    "knownNames = []\n",
    "knownEncodings = []\n",
    "images = []\n",
    "path = 'dataset-insert-one-by-one'"
   ]
  },
  {
   "cell_type": "markdown",
   "metadata": {},
   "source": [
    "## ###############"
   ]
  },
  {
   "cell_type": "markdown",
   "metadata": {},
   "source": [
    "# Insert-face\n",
    "Insert a new face into the directory **one by one**:\n",
    "> Insert 1 face --> run **insert-face** --> insert 1 face --> run **insert-face** --> ... --> repeat"
   ]
  },
  {
   "cell_type": "code",
   "execution_count": 157,
   "metadata": {},
   "outputs": [
    {
     "name": "stdout",
     "output_type": "stream",
     "text": [
      "Processing...\n",
      "Time: 0.716353199999503\n",
      "['001_billgates.jpg']\n",
      "1\n"
     ]
    }
   ],
   "source": [
    "start = timer()\n",
    "imagePaths = list(paths.list_images('dataset-insert-one-by-one'))\n",
    "tempNames = []\n",
    "\n",
    "def findEncodings(images):\n",
    "    for img in images:\n",
    "        img = cv2.cvtColor(img, cv2.COLOR_BGR2RGB)\n",
    "        encode = face_recognition.face_encodings(img)[0]\n",
    "        knownEncodings.append(encode)\n",
    "    return knownEncodings  \n",
    "\n",
    "for (i, imagePath) in enumerate(imagePaths):\n",
    "    name = imagePath.split(os.path.sep)[-1]\n",
    "    tempNames.append(name)\n",
    "\n",
    "for x in filter(lambda w: w not in knownNames, tempNames):\n",
    "    print('Processing...')\n",
    "    img = cv2.imread(f'{path}/{x}')\n",
    "    images.append(img)\n",
    "\n",
    "    findEncodings(images)\n",
    "\n",
    "knownNames = list(dict.fromkeys(tempNames))\n",
    "knownEncodings = list(np.unique(knownEncodings, axis=0))\n",
    "\n",
    "print(f'Time: {timer()-start}')\n",
    "print(knownNames)\n",
    "print(len(knownEncodings))"
   ]
  },
  {
   "cell_type": "markdown",
   "metadata": {},
   "source": [
    "## ###############"
   ]
  },
  {
   "cell_type": "code",
   "execution_count": 154,
   "metadata": {},
   "outputs": [
    {
     "name": "stdout",
     "output_type": "stream",
     "text": [
      "Selamat datang, BILLGATES\n",
      "Selamat datang, BILLGATES\n",
      "Selamat datang, BILLGATES\n",
      "Selamat datang, BILLGATES\n",
      "Selamat datang, BILLGATES\n",
      "Selamat datang, BILLGATES\n",
      "Selamat datang, BILLGATES\n",
      "Selamat datang, BILLGATES\n",
      "Selamat datang, BILLGATES\n",
      "Selamat datang, BILLGATES\n",
      "Selamat datang, BILLGATES\n",
      "Selamat datang, BILLGATES\n",
      "Selamat datang, BILLGATES\n",
      "Selamat datang, BILLGATES\n",
      "Selamat datang, BILLGATES\n",
      "Selamat datang, BILLGATES\n",
      "Selamat datang, BILLGATES\n",
      "Selamat datang, BILLGATES\n",
      "Selamat datang, BILLGATES\n",
      "Selamat datang, BILLGATES\n",
      "Selamat datang, BILLGATES\n",
      "Selamat datang, BILLGATES\n",
      "Selamat datang, JACKMA\n",
      "Selamat datang, JACKMA\n",
      "Selamat datang, JACKMA\n",
      "Selamat datang, JACKMA\n",
      "Selamat datang, JACKMA\n",
      "Selamat datang, JACKMA\n",
      "Selamat datang, JACKMA\n",
      "Selamat datang, JACKMA\n",
      "Selamat datang, JACKMA\n",
      "Selamat datang, JACKMA\n",
      "Selamat datang, JACKMA\n",
      "Selamat datang, JACKMA\n",
      "Selamat datang, JACKMA\n",
      "Selamat datang, JACKMA\n",
      "Selamat datang, BILLGATES\n",
      "Selamat datang, ELONMUSK\n",
      "Selamat datang, ELONMUSK\n",
      "Selamat datang, ELONMUSK\n"
     ]
    }
   ],
   "source": [
    "def markAttendace(name):\n",
    "    with open('attendance.csv', 'r+') as f:\n",
    "        myDataList = f.readlines()\n",
    "        nameList = []\n",
    "        for line in myDataList:\n",
    "            entry = line.split(',')\n",
    "            nameList.append(entry[0])\n",
    "        if name not in nameList:\n",
    "            now = datetime.now()\n",
    "            dtString = now.strftime('%H:%M:%S')\n",
    "            f.writelines(f'\\n{name},{dtString}')\n",
    "\n",
    "cap = cv2.VideoCapture(0)\n",
    "\n",
    "while True:\n",
    "    success, img = cap.read()\n",
    "    imgS = cv2.resize(img, (0, 0), None, 0.25, 0.25)\n",
    "    imgS = cv2.cvtColor(imgS, cv2.COLOR_BGR2RGB)\n",
    "    \n",
    "    faceCurFrame = face_recognition.face_locations(imgS)\n",
    "    encodeCurFrame = face_recognition.face_encodings(imgS, faceCurFrame)\n",
    "    \n",
    "    for encodeFace, faceLoc in zip(encodeCurFrame, faceCurFrame):\n",
    "        matches = face_recognition.compare_faces(knownEncodings, encodeFace)\n",
    "        faceDis = face_recognition.face_distance(knownEncodings, encodeFace)\n",
    "        matchIndex = np.argmin(faceDis)\n",
    "        \n",
    "        if matches[matchIndex]:\n",
    "            name = knownNames[matchIndex].upper()\n",
    "            name = name.split('.')[0]\n",
    "            name = name.split('_')[1]\n",
    "            print(f\"Selamat datang, {name}\")\n",
    "            y1, x2, y2, x1 = faceLoc\n",
    "            y1, x2, y2, x1 = y1*4, x2*4, y2*4, x1*4\n",
    "            cv2.rectangle(img, (x1, y1), (x2, y2), (0, 255, 0), 2)\n",
    "            cv2.rectangle(img, (x1, y2-35), (x2, y2), (0, 255, 0), cv2.FILLED)\n",
    "            cv2.putText(img, name, (x1+6, y2-6), cv2.FONT_HERSHEY_COMPLEX, 1, (255, 255, 255), 2)\n",
    "            markAttendace(name)\n",
    "    \n",
    "    cv2.imshow('Webcam', img)\n",
    "    if cv2.waitKey(1) & 0xFF == ord('q'):\n",
    "        break\n",
    "    \n",
    "cap.release()\n",
    "cv2.destroyAllWindows()"
   ]
  },
  {
   "cell_type": "markdown",
   "metadata": {},
   "source": [
    "problem: cannot remove faces, "
   ]
  },
  {
   "cell_type": "code",
   "execution_count": null,
   "metadata": {},
   "outputs": [],
   "source": []
  }
 ],
 "metadata": {
  "kernelspec": {
   "display_name": "Python 3",
   "language": "python",
   "name": "python3"
  },
  "language_info": {
   "codemirror_mode": {
    "name": "ipython",
    "version": 3
   },
   "file_extension": ".py",
   "mimetype": "text/x-python",
   "name": "python",
   "nbconvert_exporter": "python",
   "pygments_lexer": "ipython3",
   "version": "3.8.5"
  }
 },
 "nbformat": 4,
 "nbformat_minor": 4
}
