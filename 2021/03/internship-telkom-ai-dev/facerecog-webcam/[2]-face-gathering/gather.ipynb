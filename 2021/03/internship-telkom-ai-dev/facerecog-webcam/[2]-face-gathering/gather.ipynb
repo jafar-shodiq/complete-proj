{
 "cells": [
  {
   "cell_type": "code",
   "execution_count": 1,
   "metadata": {},
   "outputs": [],
   "source": [
    "import cv2\n",
    "import os"
   ]
  },
  {
   "cell_type": "code",
   "execution_count": 7,
   "metadata": {},
   "outputs": [
    {
     "name": "stdout",
     "output_type": "stream",
     "text": [
      "Enter user id and press <return>: 3\n",
      "[INFO] Initializing face capture. Look at the camera and wait...\n",
      "[INFO] Exiting program...\n"
     ]
    }
   ],
   "source": [
    "cam = cv2.VideoCapture(0)\n",
    "cam.set(3, 640)\n",
    "cam.set(4, 480)\n",
    "face_detector = cv2.CascadeClassifier('../[1]-face-detection/cascades/haarcascade_frontalface_default.xml')\n",
    "\n",
    "# For each person, enter one numeric face id\n",
    "face_id = input('Enter user id and press <return>: ')\n",
    "print('[INFO] Initializing face capture. Look at the camera and wait...')\n",
    "\n",
    "# Initialize individual sampling face count\n",
    "count = 0\n",
    "while True:\n",
    "    ret, img = cam.read()\n",
    "    gray = cv2.cvtColor(img, cv2.COLOR_BGR2GRAY)\n",
    "    faces = face_detector.detectMultiScale(gray, 1.3, 5)\n",
    "    for (x, y, w, h) in faces:\n",
    "        cv2.rectangle(img, (x, y), (x+w, y+h), (255, 0, 0), 2)\n",
    "        count += 1\n",
    "        # Save the captured image into the datasets folder\n",
    "        cv2.imwrite('dataset/User_' + str(face_id) + '_' + str(count) + '.jpg',\n",
    "                    gray[y:y+h, x:x+w])\n",
    "        cv2.imshow('image', img)\n",
    "    \n",
    "    k = cv2.waitKey(100) & 0xff # Press 'ESC' to exit\n",
    "    if k == 27:\n",
    "        break\n",
    "    elif count >= 30: # Take 30 face sample and stop video\n",
    "        break\n",
    "        \n",
    "print('[INFO] Exiting program...')\n",
    "cam.release()\n",
    "cv2.destroyAllWindows()"
   ]
  },
  {
   "cell_type": "code",
   "execution_count": null,
   "metadata": {},
   "outputs": [],
   "source": []
  }
 ],
 "metadata": {
  "kernelspec": {
   "display_name": "Python 3",
   "language": "python",
   "name": "python3"
  },
  "language_info": {
   "codemirror_mode": {
    "name": "ipython",
    "version": 3
   },
   "file_extension": ".py",
   "mimetype": "text/x-python",
   "name": "python",
   "nbconvert_exporter": "python",
   "pygments_lexer": "ipython3",
   "version": "3.8.5"
  }
 },
 "nbformat": 4,
 "nbformat_minor": 4
}
