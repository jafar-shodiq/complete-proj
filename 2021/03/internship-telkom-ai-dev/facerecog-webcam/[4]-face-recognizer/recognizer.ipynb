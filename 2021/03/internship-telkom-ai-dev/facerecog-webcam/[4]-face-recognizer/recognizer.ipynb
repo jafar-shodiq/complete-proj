{
 "cells": [
  {
   "cell_type": "code",
   "execution_count": 1,
   "metadata": {},
   "outputs": [],
   "source": [
    "import cv2\n",
    "import numpy as np\n",
    "import os"
   ]
  },
  {
   "cell_type": "code",
   "execution_count": 2,
   "metadata": {},
   "outputs": [],
   "source": [
    "recognizer = cv2.face.LBPHFaceRecognizer_create()\n",
    "recognizer.read('../[3]-face-training/trainer.yml')\n",
    "faceCascade = cv2.CascadeClassifier('../[1]-face-detection/cascades/haarcascade_frontalface_default.xml')"
   ]
  },
  {
   "cell_type": "code",
   "execution_count": 3,
   "metadata": {},
   "outputs": [],
   "source": [
    "# Initiate id counter\n",
    "id = 0\n",
    "# Names related to ids: example ==> Marcelo: id=1\n",
    "names = ['None', 'Shodiq', 'Elon', 'Gates']"
   ]
  },
  {
   "cell_type": "code",
   "execution_count": 10,
   "metadata": {},
   "outputs": [
    {
     "name": "stdout",
     "output_type": "stream",
     "text": [
      "[INFO] Program exited\n"
     ]
    }
   ],
   "source": [
    "cam = cv2.VideoCapture(0)\n",
    "cam.set(3, 640) # Width\n",
    "cam.set(4, 480) # Height\n",
    "\n",
    "# Define min window size to be recognized as a face\n",
    "minW = 0.1*cam.get(3)\n",
    "minH = 0.1*cam.get(4)\n",
    "\n",
    "while True:\n",
    "    ret, img = cam.read()\n",
    "    gray = cv2.cvtColor(img, cv2.COLOR_BGR2GRAY)\n",
    "    \n",
    "    faces = faceCascade.detectMultiScale(\n",
    "        gray,\n",
    "        scaleFactor=1.2,\n",
    "        minNeighbors=5,\n",
    "        minSize=(int(minW), int(minH))\n",
    "    )\n",
    "    for (x, y, w, h) in faces:\n",
    "        cv2.rectangle(img, (x, y), (x+w, y+h), (0, 255, 0), 2)\n",
    "        id, confidence = recognizer.predict(gray[y:y+h, x:x+w])\n",
    "        \n",
    "        # If confidence is less than 100 ==> '0':perfect match\n",
    "        if(confidence < 100):\n",
    "            id = names[id]\n",
    "            confidence = f'{round(100-confidence)}%'\n",
    "        else:\n",
    "            id = 'unknown'\n",
    "            confidence = f'{round(100-confidence)}%'\n",
    "        \n",
    "        cv2.putText(\n",
    "            img,\n",
    "            str(id),\n",
    "            (x+5, y-5),\n",
    "            cv2.FONT_HERSHEY_SIMPLEX,\n",
    "            1,\n",
    "            (255, 255, 255),\n",
    "            2\n",
    "        )\n",
    "        cv2.putText(\n",
    "            img,\n",
    "            str(confidence),\n",
    "            (x+5, y+h-5),\n",
    "            cv2.FONT_HERSHEY_SIMPLEX,\n",
    "            1,\n",
    "            (255, 255, 0),\n",
    "            1\n",
    "        )\n",
    "    \n",
    "    cv2.imshow('camera', img)\n",
    "    k = cv2.waitKey(10) & 0xff # Press 'ESC' to exit\n",
    "    if k==27:\n",
    "        break\n",
    "\n",
    "print('[INFO] Program exited')\n",
    "cam.release()\n",
    "cv2.destroyAllWindows()"
   ]
  },
  {
   "cell_type": "code",
   "execution_count": null,
   "metadata": {},
   "outputs": [],
   "source": []
  }
 ],
 "metadata": {
  "kernelspec": {
   "display_name": "Python 3",
   "language": "python",
   "name": "python3"
  },
  "language_info": {
   "codemirror_mode": {
    "name": "ipython",
    "version": 3
   },
   "file_extension": ".py",
   "mimetype": "text/x-python",
   "name": "python",
   "nbconvert_exporter": "python",
   "pygments_lexer": "ipython3",
   "version": "3.8.5"
  }
 },
 "nbformat": 4,
 "nbformat_minor": 4
}
