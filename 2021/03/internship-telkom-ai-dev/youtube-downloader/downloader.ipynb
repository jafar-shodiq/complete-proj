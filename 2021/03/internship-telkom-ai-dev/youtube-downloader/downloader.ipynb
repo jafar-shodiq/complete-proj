{
 "cells": [
  {
   "cell_type": "code",
   "execution_count": 4,
   "metadata": {},
   "outputs": [],
   "source": [
    "from pytube import YouTube"
   ]
  },
  {
   "cell_type": "code",
   "execution_count": 5,
   "metadata": {},
   "outputs": [],
   "source": [
    "vid = YouTube(\"https://www.youtube.com/watch?v=YDk0kkN8DGw\")"
   ]
  },
  {
   "cell_type": "code",
   "execution_count": 13,
   "metadata": {},
   "outputs": [
    {
     "data": {
      "text/plain": [
       "'YDk0kkN8DGw'"
      ]
     },
     "execution_count": 13,
     "metadata": {},
     "output_type": "execute_result"
    }
   ],
   "source": [
    "vid.video_id"
   ]
  },
  {
   "cell_type": "code",
   "execution_count": 9,
   "metadata": {},
   "outputs": [],
   "source": [
    "stream = vid.streams.filter(res=\"720p\", mime_type=\"video/mp4\")"
   ]
  },
  {
   "cell_type": "code",
   "execution_count": 10,
   "metadata": {},
   "outputs": [
    {
     "data": {
      "text/plain": [
       "'D:\\\\facerecog-proj\\\\Visit of University Technology Petronas Malaysia.mp4'"
      ]
     },
     "execution_count": 10,
     "metadata": {},
     "output_type": "execute_result"
    }
   ],
   "source": [
    "stream[0].download()"
   ]
  },
  {
   "cell_type": "code",
   "execution_count": 11,
   "metadata": {},
   "outputs": [
    {
     "data": {
      "text/plain": [
       "16"
      ]
     },
     "execution_count": 11,
     "metadata": {},
     "output_type": "execute_result"
    }
   ],
   "source": [
    "len(vid.streams)"
   ]
  },
  {
   "cell_type": "code",
   "execution_count": 12,
   "metadata": {},
   "outputs": [
    {
     "data": {
      "text/plain": [
       "2"
      ]
     },
     "execution_count": 12,
     "metadata": {},
     "output_type": "execute_result"
    }
   ],
   "source": [
    "len(vid.streams.filter(only_audio=True))"
   ]
  },
  {
   "cell_type": "code",
   "execution_count": 35,
   "metadata": {},
   "outputs": [
    {
     "data": {
      "text/plain": [
       "15"
      ]
     },
     "execution_count": 35,
     "metadata": {},
     "output_type": "execute_result"
    }
   ],
   "source": [
    "len(vid.streams.filter(only_video=True))"
   ]
  },
  {
   "cell_type": "code",
   "execution_count": 79,
   "metadata": {},
   "outputs": [
    {
     "data": {
      "text/plain": [
       "[<Stream: itag=\"18\" mime_type=\"video/mp4\" res=\"360p\" fps=\"25fps\" vcodec=\"avc1.42001E\" acodec=\"mp4a.40.2\" progressive=\"True\" type=\"video\">,\n",
       " <Stream: itag=\"22\" mime_type=\"video/mp4\" res=\"720p\" fps=\"25fps\" vcodec=\"avc1.64001F\" acodec=\"mp4a.40.2\" progressive=\"True\" type=\"video\">,\n",
       " <Stream: itag=\"136\" mime_type=\"video/mp4\" res=\"720p\" fps=\"25fps\" vcodec=\"avc1.4d401f\" progressive=\"False\" type=\"video\">,\n",
       " <Stream: itag=\"247\" mime_type=\"video/webm\" res=\"720p\" fps=\"25fps\" vcodec=\"vp9\" progressive=\"False\" type=\"video\">,\n",
       " <Stream: itag=\"398\" mime_type=\"video/mp4\" res=\"720p\" fps=\"25fps\" vcodec=\"av01.0.05M.08\" progressive=\"False\" type=\"video\">,\n",
       " <Stream: itag=\"135\" mime_type=\"video/mp4\" res=\"480p\" fps=\"25fps\" vcodec=\"avc1.4d401e\" progressive=\"False\" type=\"video\">,\n",
       " <Stream: itag=\"244\" mime_type=\"video/webm\" res=\"480p\" fps=\"25fps\" vcodec=\"vp9\" progressive=\"False\" type=\"video\">,\n",
       " <Stream: itag=\"397\" mime_type=\"video/mp4\" res=\"480p\" fps=\"25fps\" vcodec=\"av01.0.04M.08\" progressive=\"False\" type=\"video\">,\n",
       " <Stream: itag=\"134\" mime_type=\"video/mp4\" res=\"360p\" fps=\"25fps\" vcodec=\"avc1.4d401e\" progressive=\"False\" type=\"video\">,\n",
       " <Stream: itag=\"243\" mime_type=\"video/webm\" res=\"360p\" fps=\"25fps\" vcodec=\"vp9\" progressive=\"False\" type=\"video\">,\n",
       " <Stream: itag=\"396\" mime_type=\"video/mp4\" res=\"360p\" fps=\"25fps\" vcodec=\"av01.0.01M.08\" progressive=\"False\" type=\"video\">,\n",
       " <Stream: itag=\"133\" mime_type=\"video/mp4\" res=\"240p\" fps=\"25fps\" vcodec=\"avc1.4d4015\" progressive=\"False\" type=\"video\">,\n",
       " <Stream: itag=\"242\" mime_type=\"video/webm\" res=\"240p\" fps=\"25fps\" vcodec=\"vp9\" progressive=\"False\" type=\"video\">,\n",
       " <Stream: itag=\"395\" mime_type=\"video/mp4\" res=\"240p\" fps=\"25fps\" vcodec=\"av01.0.00M.08\" progressive=\"False\" type=\"video\">,\n",
       " <Stream: itag=\"160\" mime_type=\"video/mp4\" res=\"144p\" fps=\"25fps\" vcodec=\"avc1.4d400c\" progressive=\"False\" type=\"video\">,\n",
       " <Stream: itag=\"278\" mime_type=\"video/webm\" res=\"144p\" fps=\"25fps\" vcodec=\"vp9\" progressive=\"False\" type=\"video\">,\n",
       " <Stream: itag=\"394\" mime_type=\"video/mp4\" res=\"144p\" fps=\"25fps\" vcodec=\"av01.0.00M.08\" progressive=\"False\" type=\"video\">,\n",
       " <Stream: itag=\"140\" mime_type=\"audio/mp4\" abr=\"128kbps\" acodec=\"mp4a.40.2\" progressive=\"False\" type=\"audio\">,\n",
       " <Stream: itag=\"249\" mime_type=\"audio/webm\" abr=\"50kbps\" acodec=\"opus\" progressive=\"False\" type=\"audio\">,\n",
       " <Stream: itag=\"250\" mime_type=\"audio/webm\" abr=\"70kbps\" acodec=\"opus\" progressive=\"False\" type=\"audio\">,\n",
       " <Stream: itag=\"251\" mime_type=\"audio/webm\" abr=\"160kbps\" acodec=\"opus\" progressive=\"False\" type=\"audio\">]"
      ]
     },
     "execution_count": 79,
     "metadata": {},
     "output_type": "execute_result"
    }
   ],
   "source": [
    "vid.fmt_streams"
   ]
  },
  {
   "cell_type": "code",
   "execution_count": 14,
   "metadata": {},
   "outputs": [
    {
     "data": {
      "text/plain": [
       "['avc1.42001E', 'mp4a.40.2']"
      ]
     },
     "execution_count": 14,
     "metadata": {},
     "output_type": "execute_result"
    }
   ],
   "source": [
    "vid.streams[0].codecs"
   ]
  },
  {
   "cell_type": "code",
   "execution_count": 131,
   "metadata": {},
   "outputs": [],
   "source": [
    "streams = vid.streams.filter(only_audio=True,mime_type=\"audio/mp4\")"
   ]
  },
  {
   "cell_type": "code",
   "execution_count": 132,
   "metadata": {},
   "outputs": [
    {
     "data": {
      "text/plain": [
       "[<Stream: itag=\"140\" mime_type=\"audio/mp4\" abr=\"128kbps\" acodec=\"mp4a.40.2\" progressive=\"False\" type=\"audio\">]"
      ]
     },
     "execution_count": 132,
     "metadata": {},
     "output_type": "execute_result"
    }
   ],
   "source": [
    "streams"
   ]
  },
  {
   "cell_type": "code",
   "execution_count": 127,
   "metadata": {},
   "outputs": [
    {
     "data": {
      "text/plain": [
       "'128'"
      ]
     },
     "execution_count": 127,
     "metadata": {},
     "output_type": "execute_result"
    }
   ],
   "source": [
    "str(128)"
   ]
  },
  {
   "cell_type": "code",
   "execution_count": 125,
   "metadata": {},
   "outputs": [
    {
     "ename": "TypeError",
     "evalue": "'in <string>' requires string as left operand, not int",
     "output_type": "error",
     "traceback": [
      "\u001b[0;31m---------------------------------------------------------------------------\u001b[0m",
      "\u001b[0;31mTypeError\u001b[0m                                 Traceback (most recent call last)",
      "\u001b[0;32m<ipython-input-125-d7bb7b9c950b>\u001b[0m in \u001b[0;36m<module>\u001b[0;34m\u001b[0m\n\u001b[0;32m----> 1\u001b[0;31m \u001b[0;32mif\u001b[0m \u001b[0;36m128\u001b[0m \u001b[0;32min\u001b[0m \u001b[0mstreams\u001b[0m\u001b[0;34m[\u001b[0m\u001b[0;36m0\u001b[0m\u001b[0;34m]\u001b[0m\u001b[0;34m.\u001b[0m\u001b[0mabr\u001b[0m\u001b[0;34m:\u001b[0m\u001b[0;34m\u001b[0m\u001b[0;34m\u001b[0m\u001b[0m\n\u001b[0m\u001b[1;32m      2\u001b[0m     \u001b[0mprint\u001b[0m\u001b[0;34m(\u001b[0m\u001b[0mtrue\u001b[0m\u001b[0;34m)\u001b[0m\u001b[0;34m\u001b[0m\u001b[0;34m\u001b[0m\u001b[0m\n",
      "\u001b[0;31mTypeError\u001b[0m: 'in <string>' requires string as left operand, not int"
     ]
    }
   ],
   "source": [
    "if 128 in streams[0].abr:\n",
    "    print(true)"
   ]
  },
  {
   "cell_type": "code",
   "execution_count": 137,
   "metadata": {},
   "outputs": [
    {
     "data": {
      "text/plain": [
       "'128'"
      ]
     },
     "execution_count": 137,
     "metadata": {},
     "output_type": "execute_result"
    }
   ],
   "source": [
    "str(max([int(i.abr[0:-4]) for i in streams]))"
   ]
  },
  {
   "cell_type": "code",
   "execution_count": 128,
   "metadata": {},
   "outputs": [
    {
     "data": {
      "text/plain": [
       "'128'"
      ]
     },
     "execution_count": 128,
     "metadata": {},
     "output_type": "execute_result"
    }
   ],
   "source": [
    "str(max([int(i.abr[0:-4]) for i in streams]))"
   ]
  },
  {
   "cell_type": "code",
   "execution_count": 101,
   "metadata": {},
   "outputs": [
    {
     "name": "stdout",
     "output_type": "stream",
     "text": [
      "avc1.4d401f\n"
     ]
    }
   ],
   "source": [
    "if \"avc\" in stream.codecs[0]:\n",
    "    print(stream.codecs[0])"
   ]
  },
  {
   "cell_type": "code",
   "execution_count": 82,
   "metadata": {},
   "outputs": [],
   "source": [
    "stream = vid.streams[4]"
   ]
  },
  {
   "cell_type": "code",
   "execution_count": 252,
   "metadata": {},
   "outputs": [
    {
     "data": {
      "text/plain": [
       "['avc1.4d4016']"
      ]
     },
     "execution_count": 252,
     "metadata": {},
     "output_type": "execute_result"
    }
   ],
   "source": [
    "stream."
   ]
  },
  {
   "cell_type": "code",
   "execution_count": 97,
   "metadata": {},
   "outputs": [
    {
     "data": {
      "text/plain": [
       "<Stream: itag=\"18\" mime_type=\"video/mp4\" res=\"360p\" fps=\"25fps\" vcodec=\"avc1.42001E\" acodec=\"mp4a.40.2\" progressive=\"True\" type=\"video\">"
      ]
     },
     "execution_count": 97,
     "metadata": {},
     "output_type": "execute_result"
    }
   ],
   "source": [
    "stream"
   ]
  },
  {
   "cell_type": "code",
   "execution_count": 113,
   "metadata": {},
   "outputs": [
    {
     "data": {
      "text/plain": [
       "'[FULL] Pidato Presiden RI Joko Widodo di Sidang Umum PBB.'"
      ]
     },
     "execution_count": 113,
     "metadata": {},
     "output_type": "execute_result"
    }
   ],
   "source": [
    "stream.default_filename[0:-3]"
   ]
  },
  {
   "cell_type": "code",
   "execution_count": 109,
   "metadata": {},
   "outputs": [
    {
     "data": {
      "text/plain": [
       "'https://r3---sn-2gb7sn7r.googlevideo.com/videoplayback?expire=1618944049&ei=0ct-YLeXE5GIgAfztasw&ip=167.86.85.4&id=o-AKoTEp1SYEumFIpOpBz8Jk3o1nFpESe7LnehP6HUFzSQ&itag=136&aitags=133%2C134%2C135%2C136%2C160%2C242%2C243%2C244%2C247%2C278%2C394%2C395%2C396%2C397%2C398&source=youtube&requiressl=yes&mh=q8&mm=31%2C26&mn=sn-2gb7sn7r%2Csn-5hne6nsz&ms=au%2Conr&mv=u&mvi=3&pl=25&vprv=1&svpuc=1&mime=video%2Fmp4&ns=z5sAVL4fBHHaeMsAjbb1NUwF&gir=yes&clen=19665293&dur=957.440&lmt=1601118723307828&mt=1618922309&fvip=3&keepalive=yes&fexp=24001373%2C24007246&c=WEB&txp=5535434&n=5747jWnJetbhUNMKks9x&sparams=expire%2Cei%2Cip%2Cid%2Caitags%2Csource%2Crequiressl%2Cvprv%2Csvpuc%2Cmime%2Cns%2Cgir%2Cclen%2Cdur%2Clmt&sig=AOq0QJ8wRAIgdVhXOzxqrkqMGtKFDFZfnSpwBZCeHdN6xmkOX2PKLTUCIDElyxs6FMFJpSybiXqO5nSAMDQldGjKdsEezQDn_FdZ&lsparams=mh%2Cmm%2Cmn%2Cms%2Cmv%2Cmvi%2Cpl&lsig=AG3C_xAwRAIgIeSXzGwLbzwn6wGTWrB1k_JN_KJhc17SURzCF7-2okgCIHNheYkobKOpx5VwNwnFYJI1ISG1IXYj9eDsev9_KZoP'"
      ]
     },
     "execution_count": 109,
     "metadata": {},
     "output_type": "execute_result"
    }
   ],
   "source": [
    "stream."
   ]
  },
  {
   "cell_type": "code",
   "execution_count": 110,
   "metadata": {},
   "outputs": [
    {
     "data": {
      "text/plain": [
       "'video/mp4'"
      ]
     },
     "execution_count": 110,
     "metadata": {},
     "output_type": "execute_result"
    }
   ],
   "source": [
    "stream.mime_type"
   ]
  },
  {
   "cell_type": "code",
   "execution_count": 164,
   "metadata": {},
   "outputs": [
    {
     "data": {
      "text/plain": [
       "[<Stream: itag=\"140\" mime_type=\"audio/mp4\" abr=\"128kbps\" acodec=\"mp4a.40.2\" progressive=\"False\" type=\"audio\">]"
      ]
     },
     "execution_count": 164,
     "metadata": {},
     "output_type": "execute_result"
    }
   ],
   "source": [
    "stream.downlo"
   ]
  },
  {
   "cell_type": "code",
   "execution_count": 213,
   "metadata": {},
   "outputs": [
    {
     "data": {
      "text/plain": [
       "100"
      ]
     },
     "execution_count": 213,
     "metadata": {},
     "output_type": "execute_result"
    }
   ],
   "source": []
  },
  {
   "cell_type": "code",
   "execution_count": 232,
   "metadata": {},
   "outputs": [],
   "source": [
    "vid = YouTube(\"https://www.youtube.com/watch?v=d97qvpTO3R4\",on_progress_callback=progress_function)"
   ]
  },
  {
   "cell_type": "code",
   "execution_count": 225,
   "metadata": {},
   "outputs": [
    {
     "name": "stdout",
     "output_type": "stream",
     "text": [
      "<Stream: itag=\"137\" mime_type=\"video/mp4\" res=\"1080p\" fps=\"30fps\" vcodec=\"avc1.640028\" progressive=\"False\" type=\"video\">\n",
      "<Stream: itag=\"136\" mime_type=\"video/mp4\" res=\"720p\" fps=\"30fps\" vcodec=\"avc1.4d400b\" progressive=\"False\" type=\"video\">\n",
      "<Stream: itag=\"135\" mime_type=\"video/mp4\" res=\"480p\" fps=\"30fps\" vcodec=\"avc1.4d4014\" progressive=\"False\" type=\"video\">\n",
      "<Stream: itag=\"134\" mime_type=\"video/mp4\" res=\"360p\" fps=\"30fps\" vcodec=\"avc1.4d401e\" progressive=\"False\" type=\"video\">\n",
      "<Stream: itag=\"133\" mime_type=\"video/mp4\" res=\"240p\" fps=\"30fps\" vcodec=\"avc1.4d400c\" progressive=\"False\" type=\"video\">\n",
      "<Stream: itag=\"160\" mime_type=\"video/mp4\" res=\"144p\" fps=\"30fps\" vcodec=\"avc1.4d400b\" progressive=\"False\" type=\"video\">\n"
     ]
    }
   ],
   "source": [
    "for i in vid.streams.filter(only_video=True, mime_type=\"video/mp4\"):\n",
    "    print(i)"
   ]
  },
  {
   "cell_type": "code",
   "execution_count": 242,
   "metadata": {},
   "outputs": [
    {
     "data": {
      "text/plain": [
       "<Stream: itag=\"140\" mime_type=\"audio/mp4\" abr=\"128kbps\" acodec=\"mp4a.40.2\" progressive=\"False\" type=\"audio\">"
      ]
     },
     "execution_count": 242,
     "metadata": {},
     "output_type": "execute_result"
    }
   ],
   "source": [
    "vid.streams.filter(only_audio=True,mime_type=\"audio/mp4\").order_by('abr').desc().first()"
   ]
  },
  {
   "cell_type": "code",
   "execution_count": 235,
   "metadata": {},
   "outputs": [
    {
     "data": {
      "text/plain": [
       "'/home/infidea/youtubescrapper/[FULL] Pidato Presiden RI Joko Widodo di Sidang Umum PBB.mp4'"
      ]
     },
     "execution_count": 235,
     "metadata": {},
     "output_type": "execute_result"
    }
   ],
   "source": [
    "vid.streams.filter(only_video=True, mime_type=\"video/mp4\").order_by('resolution').desc().first().download()"
   ]
  },
  {
   "cell_type": "code",
   "execution_count": 214,
   "metadata": {},
   "outputs": [
    {
     "ename": "MaxRetriesExceeded",
     "evalue": "",
     "output_type": "error",
     "traceback": [
      "\u001b[0;31m---------------------------------------------------------------------------\u001b[0m",
      "\u001b[0;31mMaxRetriesExceeded\u001b[0m                        Traceback (most recent call last)",
      "\u001b[0;32m<ipython-input-214-a43f60ecbe1f>\u001b[0m in \u001b[0;36m<module>\u001b[0;34m\u001b[0m\n\u001b[1;32m      1\u001b[0m \u001b[0mpreviousprogress\u001b[0m \u001b[0;34m=\u001b[0m \u001b[0;36m0\u001b[0m\u001b[0;34m\u001b[0m\u001b[0;34m\u001b[0m\u001b[0m\n\u001b[0;32m----> 2\u001b[0;31m \u001b[0mdownload_by_url\u001b[0m\u001b[0;34m(\u001b[0m\u001b[0;34m\"https://www.youtube.com/watch?v=SnsZ6FiKvvs\"\u001b[0m\u001b[0;34m)\u001b[0m\u001b[0;34m\u001b[0m\u001b[0;34m\u001b[0m\u001b[0m\n\u001b[0m",
      "\u001b[0;32m<ipython-input-211-cfae126fa964>\u001b[0m in \u001b[0;36mdownload_by_url\u001b[0;34m(vid_url, video_save_path, audio_save_path)\u001b[0m\n\u001b[1;32m     20\u001b[0m     \u001b[0;32mfor\u001b[0m \u001b[0mvid_stream\u001b[0m \u001b[0;32min\u001b[0m \u001b[0mvid_streams\u001b[0m\u001b[0;34m:\u001b[0m\u001b[0;34m\u001b[0m\u001b[0;34m\u001b[0m\u001b[0m\n\u001b[1;32m     21\u001b[0m         \u001b[0;32mif\u001b[0m \u001b[0;34m\"avc\"\u001b[0m \u001b[0;32min\u001b[0m \u001b[0mvid_stream\u001b[0m\u001b[0;34m.\u001b[0m\u001b[0mcodecs\u001b[0m\u001b[0;34m[\u001b[0m\u001b[0;36m0\u001b[0m\u001b[0;34m]\u001b[0m\u001b[0;34m:\u001b[0m\u001b[0;34m\u001b[0m\u001b[0;34m\u001b[0m\u001b[0m\n\u001b[0;32m---> 22\u001b[0;31m             \u001b[0mvid_path\u001b[0m \u001b[0;34m=\u001b[0m \u001b[0mvid_stream\u001b[0m\u001b[0;34m.\u001b[0m\u001b[0mdownload\u001b[0m\u001b[0;34m(\u001b[0m\u001b[0mvideo_save_path\u001b[0m\u001b[0;34m)\u001b[0m\u001b[0;34m\u001b[0m\u001b[0;34m\u001b[0m\u001b[0m\n\u001b[0m\u001b[1;32m     23\u001b[0m             \u001b[0mvid_json\u001b[0m \u001b[0;34m=\u001b[0m \u001b[0;34m{\u001b[0m\u001b[0;34m}\u001b[0m\u001b[0;34m\u001b[0m\u001b[0;34m\u001b[0m\u001b[0m\n\u001b[1;32m     24\u001b[0m             \u001b[0mvid_json\u001b[0m\u001b[0;34m[\u001b[0m\u001b[0;34m\"url\"\u001b[0m\u001b[0;34m]\u001b[0m \u001b[0;34m=\u001b[0m \u001b[0mvid_url\u001b[0m\u001b[0;34m\u001b[0m\u001b[0;34m\u001b[0m\u001b[0m\n",
      "\u001b[0;32m~/miniconda3/envs/py38/lib/python3.8/site-packages/pytube/streams.py\u001b[0m in \u001b[0;36mdownload\u001b[0;34m(self, output_path, filename, filename_prefix, skip_existing, timeout, max_retries)\u001b[0m\n\u001b[1;32m    254\u001b[0m         \u001b[0;32mwith\u001b[0m \u001b[0mopen\u001b[0m\u001b[0;34m(\u001b[0m\u001b[0mfile_path\u001b[0m\u001b[0;34m,\u001b[0m \u001b[0;34m\"wb\"\u001b[0m\u001b[0;34m)\u001b[0m \u001b[0;32mas\u001b[0m \u001b[0mfh\u001b[0m\u001b[0;34m:\u001b[0m\u001b[0;34m\u001b[0m\u001b[0;34m\u001b[0m\u001b[0m\n\u001b[1;32m    255\u001b[0m             \u001b[0;32mtry\u001b[0m\u001b[0;34m:\u001b[0m\u001b[0;34m\u001b[0m\u001b[0;34m\u001b[0m\u001b[0m\n\u001b[0;32m--> 256\u001b[0;31m                 for chunk in request.stream(\n\u001b[0m\u001b[1;32m    257\u001b[0m                     \u001b[0mself\u001b[0m\u001b[0;34m.\u001b[0m\u001b[0murl\u001b[0m\u001b[0;34m,\u001b[0m\u001b[0;34m\u001b[0m\u001b[0;34m\u001b[0m\u001b[0m\n\u001b[1;32m    258\u001b[0m                     \u001b[0mtimeout\u001b[0m\u001b[0;34m=\u001b[0m\u001b[0mtimeout\u001b[0m\u001b[0;34m,\u001b[0m\u001b[0;34m\u001b[0m\u001b[0;34m\u001b[0m\u001b[0m\n",
      "\u001b[0;32m~/miniconda3/envs/py38/lib/python3.8/site-packages/pytube/request.py\u001b[0m in \u001b[0;36mstream\u001b[0;34m(url, timeout, max_retries)\u001b[0m\n\u001b[1;32m    152\u001b[0m             \u001b[0;31m# If the max retries is exceeded, raise an exception\u001b[0m\u001b[0;34m\u001b[0m\u001b[0;34m\u001b[0m\u001b[0;34m\u001b[0m\u001b[0m\n\u001b[1;32m    153\u001b[0m             \u001b[0;32mif\u001b[0m \u001b[0mtries\u001b[0m \u001b[0;34m>=\u001b[0m \u001b[0;36m1\u001b[0m \u001b[0;34m+\u001b[0m \u001b[0mmax_retries\u001b[0m\u001b[0;34m:\u001b[0m\u001b[0;34m\u001b[0m\u001b[0;34m\u001b[0m\u001b[0m\n\u001b[0;32m--> 154\u001b[0;31m                 \u001b[0;32mraise\u001b[0m \u001b[0mMaxRetriesExceeded\u001b[0m\u001b[0;34m(\u001b[0m\u001b[0;34m)\u001b[0m\u001b[0;34m\u001b[0m\u001b[0;34m\u001b[0m\u001b[0m\n\u001b[0m\u001b[1;32m    155\u001b[0m \u001b[0;34m\u001b[0m\u001b[0m\n\u001b[1;32m    156\u001b[0m             \u001b[0;31m# Try to execute the request, ignoring socket timeouts\u001b[0m\u001b[0;34m\u001b[0m\u001b[0;34m\u001b[0m\u001b[0;34m\u001b[0m\u001b[0m\n",
      "\u001b[0;31mMaxRetriesExceeded\u001b[0m: "
     ]
    }
   ],
   "source": [
    "previousprogress = 0\n",
    "download_by_url(\"https://www.youtube.com/watch?v=SnsZ6FiKvvs\")"
   ]
  },
  {
   "cell_type": "code",
   "execution_count": 244,
   "metadata": {},
   "outputs": [],
   "source": [
    "# previousprogress = 0\n",
    "# def progress_function(stream, chunk, bytes_remaining):\n",
    "#     global previousprogress\n",
    "#     total_size = stream.filesize\n",
    "#     bytes_downloaded = total_size - bytes_remaining \n",
    "\n",
    "#     liveprogress = (int)(bytes_downloaded / total_size * 100)\n",
    "#     if liveprogress > previousprogress:\n",
    "#         previousprogress = liveprogress\n",
    "#         print(liveprogress)\n",
    "        \n",
    "# def percent(self, tem, total):\n",
    "#         perc = (float(tem) / float(total)) * float(100)\n",
    "#         return perc\n",
    "\n",
    "def download_by_url(vid_url,video_save_path=\"video\",audio_save_path=\"audio\"):\n",
    "    vid = YouTube(vid_url)\n",
    "    # download video only\n",
    "    vid_stream = vid.streams.filter(only_video=True, mime_type=\"video/mp4\").order_by('resolution').desc().first()\n",
    "    vid_path = vid_stream.download(video_save_path)\n",
    "    vid_json = {}\n",
    "    vid_json[\"url\"] = vid_url\n",
    "    vid_json[\"res\"] = vid_stream.resolution\n",
    "    vid_json[\"mimetype\"] = vid_stream.mime_type\n",
    "    vid_json[\"fps\"] = vid_stream.fps\n",
    "    vid_json[\"filepath\"] = vid_path\n",
    "    jsonfile = video_save_path+\"/\"+vid_stream.default_filename[0:-3]+\"txt\"\n",
    "    with open(jsonfile, 'w') as f:\n",
    "        f.write(json.dumps(vid_json))\n",
    "    print(vid_path, \"downloaded\")\n",
    "    # download audio only\n",
    "    aud_stream = vid.streams.filter(only_audio=True,mime_type=\"audio/mp4\").order_by('abr').desc().first()\n",
    "    aud_path = aud_stream.download(audio_save_path)\n",
    "    aud_json = {}\n",
    "    aud_json[\"url\"] = vid_url\n",
    "    aud_json[\"bitrate\"] = aud_stream.abr\n",
    "    aud_json[\"mimetype\"] = aud_stream.mime_type\n",
    "    aud_json[\"filepath\"] = aud_path\n",
    "    jsonfile = audio_save_path+\"/\"+aud_stream.default_filename[0:-3]+\"txt\"\n",
    "    with open(jsonfile, 'w') as f:\n",
    "        f.write(json.dumps(aud_json))\n",
    "    print(aud_path, \"downloaded\")\n",
    "    \n",
    "    \n",
    "def download_by_id(vid_id,video_save_path,audio_save_path):\n",
    "    vid_url = \"www.youtube.com/watch?v=\"+vid_id\n",
    "    return download_by_url(vid_url,video_save_path,audio_save_path)"
   ]
  },
  {
   "cell_type": "code",
   "execution_count": null,
   "metadata": {},
   "outputs": [],
   "source": []
  },
  {
   "cell_type": "markdown",
   "metadata": {},
   "source": [
    "# Run without function"
   ]
  },
  {
   "cell_type": "code",
   "execution_count": 65,
   "metadata": {},
   "outputs": [],
   "source": [
    "import json\n",
    "with open('vid_url.txt', 'r') as f:\n",
    "    a = json.loads(f.read())"
   ]
  },
  {
   "cell_type": "code",
   "execution_count": 147,
   "metadata": {
    "scrolled": true
   },
   "outputs": [
    {
     "data": {
      "text/plain": [
       "['https://www.youtube.com/watch?v=SnsZ6FiKvvs',\n",
       " 'https://www.youtube.com/watch?v=k7XszijoXjY',\n",
       " 'https://www.youtube.com/watch?v=koxpgKI-AIE',\n",
       " 'https://www.youtube.com/watch?v=vnwfdPzx5oE',\n",
       " 'https://www.youtube.com/watch?v=rJ5Rh7SlFBI',\n",
       " 'https://www.youtube.com/watch?v=WKX7OSq0y5o',\n",
       " 'https://www.youtube.com/watch?v=ao93AQXkdnQ',\n",
       " 'https://www.youtube.com/watch?v=Qa-v3YIHzlE',\n",
       " 'https://www.youtube.com/watch?v=d6ajaX--D2M',\n",
       " 'https://www.youtube.com/watch?v=CcWiFWYKGCI',\n",
       " 'https://www.youtube.com/watch?v=E9tZKPxl9MY',\n",
       " 'https://www.youtube.com/watch?v=UwjIWen0zmE',\n",
       " 'https://www.youtube.com/watch?v=UtTPLckT8N0',\n",
       " 'https://www.youtube.com/watch?v=N_gwW9YFvAk',\n",
       " 'https://www.youtube.com/watch?v=L3wFTjpoyZg',\n",
       " 'https://www.youtube.com/watch?v=MJzpI0ABSMA',\n",
       " 'https://www.youtube.com/watch?v=FRNs9weKOfo',\n",
       " 'https://www.youtube.com/watch?v=RcYpND2HzDc',\n",
       " 'https://www.youtube.com/watch?v=z2Kde_K_RPA',\n",
       " 'https://www.youtube.com/watch?v=LecsDgUWsr4',\n",
       " 'https://www.youtube.com/watch?v=ZAvbPbNBCQ0',\n",
       " 'https://www.youtube.com/watch?v=gycXbXuIbKY',\n",
       " 'https://www.youtube.com/watch?v=EcCqIGcRT_o',\n",
       " 'https://www.youtube.com/watch?v=WyW1ueXrC9U',\n",
       " 'https://www.youtube.com/watch?v=U2PQgi3ZLxA',\n",
       " 'https://www.youtube.com/watch?v=qaI4aaUGsbY',\n",
       " 'https://www.youtube.com/watch?v=b2bjZWJWYtI',\n",
       " 'https://www.youtube.com/watch?v=fDXfNklB0AA',\n",
       " 'https://www.youtube.com/watch?v=4mm1l6P5KyE',\n",
       " 'https://www.youtube.com/watch?v=YDk0kkN8DGw',\n",
       " None]"
      ]
     },
     "execution_count": 147,
     "metadata": {},
     "output_type": "execute_result"
    }
   ],
   "source": [
    "a"
   ]
  },
  {
   "cell_type": "code",
   "execution_count": 151,
   "metadata": {},
   "outputs": [],
   "source": [
    "a = [i for i in a if i is not None]"
   ]
  },
  {
   "cell_type": "code",
   "execution_count": 153,
   "metadata": {
    "scrolled": true
   },
   "outputs": [
    {
     "data": {
      "text/plain": [
       "['https://www.youtube.com/watch?v=SnsZ6FiKvvs',\n",
       " 'https://www.youtube.com/watch?v=k7XszijoXjY',\n",
       " 'https://www.youtube.com/watch?v=koxpgKI-AIE',\n",
       " 'https://www.youtube.com/watch?v=vnwfdPzx5oE',\n",
       " 'https://www.youtube.com/watch?v=rJ5Rh7SlFBI',\n",
       " 'https://www.youtube.com/watch?v=WKX7OSq0y5o',\n",
       " 'https://www.youtube.com/watch?v=ao93AQXkdnQ',\n",
       " 'https://www.youtube.com/watch?v=Qa-v3YIHzlE',\n",
       " 'https://www.youtube.com/watch?v=d6ajaX--D2M',\n",
       " 'https://www.youtube.com/watch?v=CcWiFWYKGCI',\n",
       " 'https://www.youtube.com/watch?v=E9tZKPxl9MY',\n",
       " 'https://www.youtube.com/watch?v=UwjIWen0zmE',\n",
       " 'https://www.youtube.com/watch?v=UtTPLckT8N0',\n",
       " 'https://www.youtube.com/watch?v=N_gwW9YFvAk',\n",
       " 'https://www.youtube.com/watch?v=L3wFTjpoyZg',\n",
       " 'https://www.youtube.com/watch?v=MJzpI0ABSMA',\n",
       " 'https://www.youtube.com/watch?v=FRNs9weKOfo',\n",
       " 'https://www.youtube.com/watch?v=RcYpND2HzDc',\n",
       " 'https://www.youtube.com/watch?v=z2Kde_K_RPA',\n",
       " 'https://www.youtube.com/watch?v=LecsDgUWsr4',\n",
       " 'https://www.youtube.com/watch?v=ZAvbPbNBCQ0',\n",
       " 'https://www.youtube.com/watch?v=gycXbXuIbKY',\n",
       " 'https://www.youtube.com/watch?v=EcCqIGcRT_o',\n",
       " 'https://www.youtube.com/watch?v=WyW1ueXrC9U',\n",
       " 'https://www.youtube.com/watch?v=U2PQgi3ZLxA',\n",
       " 'https://www.youtube.com/watch?v=qaI4aaUGsbY',\n",
       " 'https://www.youtube.com/watch?v=b2bjZWJWYtI',\n",
       " 'https://www.youtube.com/watch?v=fDXfNklB0AA',\n",
       " 'https://www.youtube.com/watch?v=4mm1l6P5KyE',\n",
       " 'https://www.youtube.com/watch?v=YDk0kkN8DGw']"
      ]
     },
     "execution_count": 153,
     "metadata": {},
     "output_type": "execute_result"
    }
   ],
   "source": [
    "a"
   ]
  },
  {
   "cell_type": "code",
   "execution_count": 247,
   "metadata": {},
   "outputs": [
    {
     "name": "stdout",
     "output_type": "stream",
     "text": [
      "start\n",
      "/home/infidea/youtubescrapper/video/Use API to Accelerate The Making of Your Ideas.mp4 downloaded\n",
      "/home/infidea/youtubescrapper/audio/Use API to Accelerate The Making of Your Ideas.mp4 downloaded\n",
      "start\n",
      "/home/infidea/youtubescrapper/video/Crafting Your Powerful Personal Branding.mp4 downloaded\n",
      "/home/infidea/youtubescrapper/audio/Crafting Your Powerful Personal Branding.mp4 downloaded\n",
      "start\n",
      "/home/infidea/youtubescrapper/video/How to Cope with WFH Challenges for Leader & Member.mp4 downloaded\n",
      "/home/infidea/youtubescrapper/audio/How to Cope with WFH Challenges for Leader & Member.mp4 downloaded\n",
      "start\n",
      "/home/infidea/youtubescrapper/video/Wellness at Home during WFH.mp4 downloaded\n",
      "/home/infidea/youtubescrapper/audio/Wellness at Home during WFH.mp4 downloaded\n",
      "start\n",
      "/home/infidea/youtubescrapper/video/Infrastruktur FTTH (Fiber to the Home) Bawah Tanah (Under-Ground).mp4 downloaded\n",
      "/home/infidea/youtubescrapper/audio/Infrastruktur FTTH (Fiber to the Home) Bawah Tanah (Under-Ground).mp4 downloaded\n",
      "start\n",
      "/home/infidea/youtubescrapper/video/Design Thinking for Career Planning and Development.mp4 downloaded\n",
      "/home/infidea/youtubescrapper/audio/Design Thinking for Career Planning and Development.mp4 downloaded\n",
      "start\n",
      "/home/infidea/youtubescrapper/video/What Is Guild and Why Engineering Excellence Matters for World Class Products.mp4 downloaded\n",
      "/home/infidea/youtubescrapper/audio/What Is Guild and Why Engineering Excellence Matters for World Class Products.mp4 downloaded\n",
      "start\n",
      "/home/infidea/youtubescrapper/video/Build Your Own Push Notification Server as an Alternative to Firebase and its Impact on Business.mp4 downloaded\n",
      "/home/infidea/youtubescrapper/audio/Build Your Own Push Notification Server as an Alternative to Firebase and its Impact on Business.mp4 downloaded\n",
      "start\n",
      "/home/infidea/youtubescrapper/video/Fast and Furious in UX Design.mp4 downloaded\n",
      "/home/infidea/youtubescrapper/audio/Fast and Furious in UX Design.mp4 downloaded\n",
      "start\n",
      "/home/infidea/youtubescrapper/video/Smart Village Nusantara Tantangan Digitalisasi Desa.mp4 downloaded\n",
      "/home/infidea/youtubescrapper/audio/Smart Village Nusantara Tantangan Digitalisasi Desa.mp4 downloaded\n",
      "start\n",
      "/home/infidea/youtubescrapper/video/A Way of Creating Social Media Persona.mp4 downloaded\n",
      "/home/infidea/youtubescrapper/audio/A Way of Creating Social Media Persona.mp4 downloaded\n",
      "start\n",
      "/home/infidea/youtubescrapper/video/How to Get Your Product Being Adopted and Used by the User.mp4 downloaded\n",
      "/home/infidea/youtubescrapper/audio/How to Get Your Product Being Adopted and Used by the User.mp4 downloaded\n",
      "start\n",
      "/home/infidea/youtubescrapper/video/How to Increase Code Quality with Clean Code on Android.mp4 downloaded\n",
      "/home/infidea/youtubescrapper/audio/How to Increase Code Quality with Clean Code on Android.mp4 downloaded\n",
      "start\n",
      "/home/infidea/youtubescrapper/video/Empati Kepada Pelanggan.mp4 downloaded\n",
      "/home/infidea/youtubescrapper/audio/Empati Kepada Pelanggan.mp4 downloaded\n",
      "start\n",
      "/home/infidea/youtubescrapper/video/Agile Transformation Through Self-Organizing Team.mp4 downloaded\n",
      "/home/infidea/youtubescrapper/audio/Agile Transformation Through Self-Organizing Team.mp4 downloaded\n",
      "start\n",
      "/home/infidea/youtubescrapper/video/A Roadmap Journey to Become a Modern Front End Developer​.mp4 downloaded\n",
      "/home/infidea/youtubescrapper/audio/A Roadmap Journey to Become a Modern Front End Developer​.mp4 downloaded\n",
      "start\n",
      "/home/infidea/youtubescrapper/video/Simple Steps to Build Blockchain Business Projects.mp4 downloaded\n",
      "/home/infidea/youtubescrapper/audio/Simple Steps to Build Blockchain Business Projects.mp4 downloaded\n",
      "start\n",
      "/home/infidea/youtubescrapper/video/Managing Offline Mode in Android Its Easier Than You Think!.mp4 downloaded\n",
      "/home/infidea/youtubescrapper/audio/Managing Offline Mode in Android Its Easier Than You Think!.mp4 downloaded\n",
      "start\n",
      "/home/infidea/youtubescrapper/video/Developing Learning Culture to Enhance Innovative Work Behavior.mp4 downloaded\n",
      "/home/infidea/youtubescrapper/audio/Developing Learning Culture to Enhance Innovative Work Behavior.mp4 downloaded\n",
      "start\n",
      "/home/infidea/youtubescrapper/video/Stay Productive While Remote Working With Scrum Implementation.mp4 downloaded\n",
      "/home/infidea/youtubescrapper/audio/Stay Productive While Remote Working With Scrum Implementation.mp4 downloaded\n",
      "start\n",
      "/home/infidea/youtubescrapper/video/Accelerate Your Workflows With Secured Digital Signature.mp4 downloaded\n",
      "/home/infidea/youtubescrapper/audio/Accelerate Your Workflows With Secured Digital Signature.mp4 downloaded\n",
      "start\n",
      "/home/infidea/youtubescrapper/video/Berubah atau Punah - Bagaimana UKM survive di Next Normal.mp4 downloaded\n",
      "/home/infidea/youtubescrapper/audio/Berubah atau Punah - Bagaimana UKM survive di Next Normal.mp4 downloaded\n",
      "start\n",
      "/home/infidea/youtubescrapper/video/Agile Implementation with Scrum Framework.mp4 downloaded\n",
      "/home/infidea/youtubescrapper/audio/Agile Implementation with Scrum Framework.mp4 downloaded\n",
      "start\n",
      "/home/infidea/youtubescrapper/video/Digitalisasi UMKM dengan BONUM POS.mp4 downloaded\n",
      "/home/infidea/youtubescrapper/audio/Digitalisasi UMKM dengan BONUM POS.mp4 downloaded\n",
      "start\n",
      "/home/infidea/youtubescrapper/video/Database Implementation In Microservices Architecture Software Architecture.mp4 downloaded\n",
      "/home/infidea/youtubescrapper/audio/Database Implementation In Microservices Architecture Software Architecture.mp4 downloaded\n",
      "start\n",
      "/home/infidea/youtubescrapper/video/Rapat Anggota Tahunan (RAT) Kopegtel RisTi Tahun Buku 2019.mp4 downloaded\n",
      "/home/infidea/youtubescrapper/audio/Rapat Anggota Tahunan (RAT) Kopegtel RisTi Tahun Buku 2019.mp4 downloaded\n",
      "start\n",
      "/home/infidea/youtubescrapper/video/Rapat Anggota Tahunan - Tahun Buku  2019 - Kopegtel Kantor Perusahaan.mp4 downloaded\n",
      "/home/infidea/youtubescrapper/audio/Rapat Anggota Tahunan - Tahun Buku  2019 - Kopegtel Kantor Perusahaan.mp4 downloaded\n",
      "start\n",
      "/home/infidea/youtubescrapper/video/Robotic Process Automation (RPA) for Next Generation of Indonesia.mp4 downloaded\n",
      "/home/infidea/youtubescrapper/audio/Robotic Process Automation (RPA) for Next Generation of Indonesia.mp4 downloaded\n",
      "start\n",
      "/home/infidea/youtubescrapper/video/Polines Terkesan dengan Infrastruktur Lab DDS.mp4 downloaded\n",
      "/home/infidea/youtubescrapper/audio/Polines Terkesan dengan Infrastruktur Lab DDS.mp4 downloaded\n",
      "start\n",
      "\n"
     ]
    }
   ],
   "source": [
    "\n",
    "err_list = []\n",
    "for url in a:\n",
    "    try:\n",
    "        print(\"start\")\n",
    "        download_by_url(url)\n",
    "    except Exception as err:\n",
    "        print(err)\n",
    "        err_list.append(url)"
   ]
  },
  {
   "cell_type": "code",
   "execution_count": 248,
   "metadata": {},
   "outputs": [
    {
     "data": {
      "text/plain": [
       "['https://www.youtube.com/watch?v=YDk0kkN8DGw']"
      ]
     },
     "execution_count": 248,
     "metadata": {},
     "output_type": "execute_result"
    }
   ],
   "source": [
    "err_list"
   ]
  },
  {
   "cell_type": "code",
   "execution_count": null,
   "metadata": {},
   "outputs": [],
   "source": []
  },
  {
   "cell_type": "code",
   "execution_count": null,
   "metadata": {},
   "outputs": [],
   "source": []
  },
  {
   "cell_type": "code",
   "execution_count": null,
   "metadata": {},
   "outputs": [],
   "source": []
  },
  {
   "cell_type": "code",
   "execution_count": null,
   "metadata": {},
   "outputs": [],
   "source": []
  },
  {
   "cell_type": "code",
   "execution_count": null,
   "metadata": {},
   "outputs": [],
   "source": []
  },
  {
   "cell_type": "code",
   "execution_count": 255,
   "metadata": {},
   "outputs": [],
   "source": [
    "exp = [\n",
    "    {\n",
    "        \"type\":\"A\",\n",
    "        \"value\":\"128kbps\"\n",
    "    },\n",
    "    {\n",
    "        \"type\":\"B\",\n",
    "        \"nominal\":\"5usd\"\n",
    "    },\n",
    "    {\n",
    "        \"type\":\"C\",\n",
    "        \"amount\":\"10seconds\"\n",
    "    },\n",
    "    {\n",
    "        \"type\":\"A\",\n",
    "        \"value\":\"256kbps\"\n",
    "    },\n",
    "]"
   ]
  },
  {
   "cell_type": "code",
   "execution_count": 275,
   "metadata": {
    "scrolled": true
   },
   "outputs": [
    {
     "data": {
      "text/plain": [
       "{'index': 3, 'val': 256}"
      ]
     },
     "execution_count": 275,
     "metadata": {},
     "output_type": "execute_result"
    }
   ],
   "source": [
    "[{\"index\":i,\"val\":int(val[\"value\"][0:-4])} for i,val in enumerate(exp) if val[\"type\"]==\"A\"]"
   ]
  },
  {
   "cell_type": "code",
   "execution_count": null,
   "metadata": {},
   "outputs": [],
   "source": []
  }
 ],
 "metadata": {
  "kernelspec": {
   "display_name": "Python 3",
   "language": "python",
   "name": "python3"
  },
  "language_info": {
   "codemirror_mode": {
    "name": "ipython",
    "version": 3
   },
   "file_extension": ".py",
   "mimetype": "text/x-python",
   "name": "python",
   "nbconvert_exporter": "python",
   "pygments_lexer": "ipython3",
   "version": "3.8.5"
  }
 },
 "nbformat": 4,
 "nbformat_minor": 5
}
