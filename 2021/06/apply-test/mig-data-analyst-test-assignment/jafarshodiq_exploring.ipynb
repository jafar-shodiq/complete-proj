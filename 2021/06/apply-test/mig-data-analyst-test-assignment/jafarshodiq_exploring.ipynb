{
 "cells": [
  {
   "cell_type": "markdown",
   "metadata": {},
   "source": [
    "## MIG Data Analyst Pre-test Assignment\n",
    "\n",
    "#### Study Case\n",
    "MigWare adalah salah satu layanan hardware manage service yang dimiliki oleh\n",
    "MIG. Pada aktivitas hardware managed service terdapat dua aktivitas utama\n",
    "yaitu sewa dan juga perawatan. Sebelum memasukan data tersebut ke\n",
    "datawarehouse perlu dilakukan pre processing sehingga nantinya data dapat\n",
    "diolah dan nantinya dapat digunakan untuk mendapatkan insight, dan juga\n",
    "menghasilakan report yang dapat meningkatkan layanan.\n",
    "1. Bagaimana data quality dari data excel yang diberikan dan bagaimana\n",
    "meningkatkan data quality dari data tersebut.\n",
    "2. Lakukan data cleansing dari data tersebut, jelaskan tahapan tahapannya.\n",
    "(dapat melampirkan file jupyter notebook,google colab, atau sejenisnya)\n",
    "3. Insight apa yang temukan dari data tersebut."
   ]
  },
  {
   "cell_type": "markdown",
   "metadata": {},
   "source": [
    "## SEWAATM\n",
    "#### Data\n",
    "* File: data-set.xlsx\n",
    "* Sheetname: SEWAATM\n",
    "* Columns: 279\n",
    "* Rows: 65780\n",
    "\n",
    "Setelah melihat langsung, dataset hanya memiliki value sampai dengan baris ke-1247. Dan karena banyaknya kolom `Tagihan`, saya akan memilih 3 kolom tagihan terakhir dengan alasan tagihan di kolom-kolom awal memiliki format yang tidak konsisten. Oleh karena itu, dipilih kolom terbaru sehingga lebih produktif dalam pengerjaan pre-test ini.\n",
    "\n",
    "Saya akan membuat multiple header kolom menjadi satu kolom saja. Header kolom yang diambil adalah baris header yang paling bawah, yaitu ke-6."
   ]
  },
  {
   "cell_type": "code",
   "execution_count": 1,
   "metadata": {},
   "outputs": [],
   "source": [
    "import numpy as np\n",
    "import pandas as pd\n",
    "import seaborn as sns\n",
    "import matplotlib.pyplot as plt\n",
    "import warnings\n",
    "\n",
    "warnings.filterwarnings('ignore')\n",
    "sns.set_style('whitegrid')\n",
    "sns.set_palette('viridis')\n",
    "%matplotlib inline"
   ]
  },
  {
   "cell_type": "code",
   "execution_count": 2,
   "metadata": {},
   "outputs": [],
   "source": [
    "data = pd.read_excel('data-set.xlsx', sheet_name='SEWAATM', usecols='A:H, JH:JP', header=6)\n",
    "df = data.iloc[0:1247]"
   ]
  },
  {
   "cell_type": "code",
   "execution_count": 3,
   "metadata": {},
   "outputs": [
    {
     "data": {
      "text/html": [
       "<div>\n",
       "<style scoped>\n",
       "    .dataframe tbody tr th:only-of-type {\n",
       "        vertical-align: middle;\n",
       "    }\n",
       "\n",
       "    .dataframe tbody tr th {\n",
       "        vertical-align: top;\n",
       "    }\n",
       "\n",
       "    .dataframe thead th {\n",
       "        text-align: right;\n",
       "    }\n",
       "</style>\n",
       "<table border=\"1\" class=\"dataframe\">\n",
       "  <thead>\n",
       "    <tr style=\"text-align: right;\">\n",
       "      <th></th>\n",
       "      <th>Unnamed: 0</th>\n",
       "      <th>Unnamed: 1</th>\n",
       "      <th>Unnamed: 2</th>\n",
       "      <th>Unnamed: 3</th>\n",
       "      <th>Unnamed: 4</th>\n",
       "      <th>Unnamed: 5</th>\n",
       "      <th>Unnamed: 6</th>\n",
       "      <th>Unnamed: 7</th>\n",
       "      <th>No. Inv..98</th>\n",
       "      <th>Periode.98</th>\n",
       "      <th>JT48.59</th>\n",
       "      <th>No. Inv..99</th>\n",
       "      <th>Periode.99</th>\n",
       "      <th>JT48.60</th>\n",
       "      <th>No. Inv..100</th>\n",
       "      <th>Periode.100</th>\n",
       "      <th>JT48.61</th>\n",
       "    </tr>\n",
       "  </thead>\n",
       "  <tbody>\n",
       "    <tr>\n",
       "      <th>0</th>\n",
       "      <td>1.0</td>\n",
       "      <td>2010-09-21 00:00:00</td>\n",
       "      <td>PLN Kota</td>\n",
       "      <td>Jkt-HUB II RPC</td>\n",
       "      <td>NaN</td>\n",
       "      <td>2010-10-07 00:00:00</td>\n",
       "      <td>522</td>\n",
       "      <td>2013-10-01 00:00:00</td>\n",
       "      <td>NaN</td>\n",
       "      <td>NaT</td>\n",
       "      <td>NaN</td>\n",
       "      <td>NaN</td>\n",
       "      <td>NaT</td>\n",
       "      <td>NaN</td>\n",
       "      <td>NaN</td>\n",
       "      <td>NaT</td>\n",
       "      <td>NaN</td>\n",
       "    </tr>\n",
       "    <tr>\n",
       "      <th>1</th>\n",
       "      <td>2.0</td>\n",
       "      <td>2010-09-21 00:00:00</td>\n",
       "      <td>Perumnas</td>\n",
       "      <td>Jkt-HUB I RPC</td>\n",
       "      <td>NaN</td>\n",
       "      <td>2010-10-07 00:00:00</td>\n",
       "      <td>522</td>\n",
       "      <td>2013-10-01 00:00:00</td>\n",
       "      <td>NaN</td>\n",
       "      <td>NaT</td>\n",
       "      <td>NaN</td>\n",
       "      <td>NaN</td>\n",
       "      <td>NaT</td>\n",
       "      <td>NaN</td>\n",
       "      <td>NaN</td>\n",
       "      <td>NaT</td>\n",
       "      <td>NaN</td>\n",
       "    </tr>\n",
       "    <tr>\n",
       "      <th>2</th>\n",
       "      <td>3.0</td>\n",
       "      <td>2010-09-21 00:00:00</td>\n",
       "      <td>Tip Top Depok</td>\n",
       "      <td>Jkt-HUB VIII RPC</td>\n",
       "      <td>NaN</td>\n",
       "      <td>2010-10-07 00:00:00</td>\n",
       "      <td>522</td>\n",
       "      <td>2013-10-01 00:00:00</td>\n",
       "      <td>NaN</td>\n",
       "      <td>NaT</td>\n",
       "      <td>NaN</td>\n",
       "      <td>NaN</td>\n",
       "      <td>NaT</td>\n",
       "      <td>NaN</td>\n",
       "      <td>NaN</td>\n",
       "      <td>NaT</td>\n",
       "      <td>NaN</td>\n",
       "    </tr>\n",
       "    <tr>\n",
       "      <th>3</th>\n",
       "      <td>4.0</td>\n",
       "      <td>2010-09-21 00:00:00</td>\n",
       "      <td>Tip Top Pdk Bambu</td>\n",
       "      <td>Jkt-HUB VI RPC</td>\n",
       "      <td>NaN</td>\n",
       "      <td>2010-10-07 00:00:00</td>\n",
       "      <td>522</td>\n",
       "      <td>2013-10-01 00:00:00</td>\n",
       "      <td>NaN</td>\n",
       "      <td>NaT</td>\n",
       "      <td>NaN</td>\n",
       "      <td>NaN</td>\n",
       "      <td>NaT</td>\n",
       "      <td>NaN</td>\n",
       "      <td>NaN</td>\n",
       "      <td>NaT</td>\n",
       "      <td>NaN</td>\n",
       "    </tr>\n",
       "    <tr>\n",
       "      <th>4</th>\n",
       "      <td>5.0</td>\n",
       "      <td>2010-09-21 00:00:00</td>\n",
       "      <td>Tip Top Rawamangun</td>\n",
       "      <td>JKT-HUB VII</td>\n",
       "      <td>NaN</td>\n",
       "      <td>2010-10-07 00:00:00</td>\n",
       "      <td>529EPP7</td>\n",
       "      <td>2013-10-01 00:00:00</td>\n",
       "      <td>042-02-19</td>\n",
       "      <td>2019-02-01</td>\n",
       "      <td>NaN</td>\n",
       "      <td>070-03-19</td>\n",
       "      <td>2019-03-01</td>\n",
       "      <td>NaN</td>\n",
       "      <td>095-04-19</td>\n",
       "      <td>2019-04-01</td>\n",
       "      <td>NaN</td>\n",
       "    </tr>\n",
       "  </tbody>\n",
       "</table>\n",
       "</div>"
      ],
      "text/plain": [
       "   Unnamed: 0           Unnamed: 1           Unnamed: 2        Unnamed: 3  \\\n",
       "0         1.0  2010-09-21 00:00:00             PLN Kota    Jkt-HUB II RPC   \n",
       "1         2.0  2010-09-21 00:00:00             Perumnas     Jkt-HUB I RPC   \n",
       "2         3.0  2010-09-21 00:00:00        Tip Top Depok  Jkt-HUB VIII RPC   \n",
       "3         4.0  2010-09-21 00:00:00    Tip Top Pdk Bambu    Jkt-HUB VI RPC   \n",
       "4         5.0  2010-09-21 00:00:00  Tip Top Rawamangun        JKT-HUB VII   \n",
       "\n",
       "  Unnamed: 4           Unnamed: 5 Unnamed: 6           Unnamed: 7 No. Inv..98  \\\n",
       "0        NaN  2010-10-07 00:00:00        522  2013-10-01 00:00:00         NaN   \n",
       "1        NaN  2010-10-07 00:00:00        522  2013-10-01 00:00:00         NaN   \n",
       "2        NaN  2010-10-07 00:00:00        522  2013-10-01 00:00:00         NaN   \n",
       "3        NaN  2010-10-07 00:00:00        522  2013-10-01 00:00:00         NaN   \n",
       "4        NaN  2010-10-07 00:00:00    529EPP7  2013-10-01 00:00:00   042-02-19   \n",
       "\n",
       "  Periode.98  JT48.59 No. Inv..99 Periode.99  JT48.60 No. Inv..100  \\\n",
       "0        NaT      NaN         NaN        NaT      NaN          NaN   \n",
       "1        NaT      NaN         NaN        NaT      NaN          NaN   \n",
       "2        NaT      NaN         NaN        NaT      NaN          NaN   \n",
       "3        NaT      NaN         NaN        NaT      NaN          NaN   \n",
       "4 2019-02-01      NaN   070-03-19 2019-03-01      NaN    095-04-19   \n",
       "\n",
       "  Periode.100  JT48.61  \n",
       "0         NaT      NaN  \n",
       "1         NaT      NaN  \n",
       "2         NaT      NaN  \n",
       "3         NaT      NaN  \n",
       "4  2019-04-01      NaN  "
      ]
     },
     "execution_count": 3,
     "metadata": {},
     "output_type": "execute_result"
    }
   ],
   "source": [
    "df.head()"
   ]
  },
  {
   "cell_type": "markdown",
   "metadata": {},
   "source": [
    "Set kolom pertama sebagai index"
   ]
  },
  {
   "cell_type": "code",
   "execution_count": 4,
   "metadata": {},
   "outputs": [],
   "source": [
    "df['Unnamed: 0'] = df['Unnamed: 0'].astype(int)\n",
    "df.set_index('Unnamed: 0', inplace=True)\n",
    "df.index.name = None"
   ]
  },
  {
   "cell_type": "code",
   "execution_count": 5,
   "metadata": {},
   "outputs": [
    {
     "data": {
      "text/html": [
       "<div>\n",
       "<style scoped>\n",
       "    .dataframe tbody tr th:only-of-type {\n",
       "        vertical-align: middle;\n",
       "    }\n",
       "\n",
       "    .dataframe tbody tr th {\n",
       "        vertical-align: top;\n",
       "    }\n",
       "\n",
       "    .dataframe thead th {\n",
       "        text-align: right;\n",
       "    }\n",
       "</style>\n",
       "<table border=\"1\" class=\"dataframe\">\n",
       "  <thead>\n",
       "    <tr style=\"text-align: right;\">\n",
       "      <th></th>\n",
       "      <th>Unnamed: 1</th>\n",
       "      <th>Unnamed: 2</th>\n",
       "      <th>Unnamed: 3</th>\n",
       "      <th>Unnamed: 4</th>\n",
       "      <th>Unnamed: 5</th>\n",
       "      <th>Unnamed: 6</th>\n",
       "      <th>Unnamed: 7</th>\n",
       "      <th>No. Inv..98</th>\n",
       "      <th>Periode.98</th>\n",
       "      <th>JT48.59</th>\n",
       "      <th>No. Inv..99</th>\n",
       "      <th>Periode.99</th>\n",
       "      <th>JT48.60</th>\n",
       "      <th>No. Inv..100</th>\n",
       "      <th>Periode.100</th>\n",
       "      <th>JT48.61</th>\n",
       "    </tr>\n",
       "  </thead>\n",
       "  <tbody>\n",
       "    <tr>\n",
       "      <th>1</th>\n",
       "      <td>2010-09-21 00:00:00</td>\n",
       "      <td>PLN Kota</td>\n",
       "      <td>Jkt-HUB II RPC</td>\n",
       "      <td>NaN</td>\n",
       "      <td>2010-10-07 00:00:00</td>\n",
       "      <td>522</td>\n",
       "      <td>2013-10-01 00:00:00</td>\n",
       "      <td>NaN</td>\n",
       "      <td>NaT</td>\n",
       "      <td>NaN</td>\n",
       "      <td>NaN</td>\n",
       "      <td>NaT</td>\n",
       "      <td>NaN</td>\n",
       "      <td>NaN</td>\n",
       "      <td>NaT</td>\n",
       "      <td>NaN</td>\n",
       "    </tr>\n",
       "    <tr>\n",
       "      <th>2</th>\n",
       "      <td>2010-09-21 00:00:00</td>\n",
       "      <td>Perumnas</td>\n",
       "      <td>Jkt-HUB I RPC</td>\n",
       "      <td>NaN</td>\n",
       "      <td>2010-10-07 00:00:00</td>\n",
       "      <td>522</td>\n",
       "      <td>2013-10-01 00:00:00</td>\n",
       "      <td>NaN</td>\n",
       "      <td>NaT</td>\n",
       "      <td>NaN</td>\n",
       "      <td>NaN</td>\n",
       "      <td>NaT</td>\n",
       "      <td>NaN</td>\n",
       "      <td>NaN</td>\n",
       "      <td>NaT</td>\n",
       "      <td>NaN</td>\n",
       "    </tr>\n",
       "    <tr>\n",
       "      <th>3</th>\n",
       "      <td>2010-09-21 00:00:00</td>\n",
       "      <td>Tip Top Depok</td>\n",
       "      <td>Jkt-HUB VIII RPC</td>\n",
       "      <td>NaN</td>\n",
       "      <td>2010-10-07 00:00:00</td>\n",
       "      <td>522</td>\n",
       "      <td>2013-10-01 00:00:00</td>\n",
       "      <td>NaN</td>\n",
       "      <td>NaT</td>\n",
       "      <td>NaN</td>\n",
       "      <td>NaN</td>\n",
       "      <td>NaT</td>\n",
       "      <td>NaN</td>\n",
       "      <td>NaN</td>\n",
       "      <td>NaT</td>\n",
       "      <td>NaN</td>\n",
       "    </tr>\n",
       "    <tr>\n",
       "      <th>4</th>\n",
       "      <td>2010-09-21 00:00:00</td>\n",
       "      <td>Tip Top Pdk Bambu</td>\n",
       "      <td>Jkt-HUB VI RPC</td>\n",
       "      <td>NaN</td>\n",
       "      <td>2010-10-07 00:00:00</td>\n",
       "      <td>522</td>\n",
       "      <td>2013-10-01 00:00:00</td>\n",
       "      <td>NaN</td>\n",
       "      <td>NaT</td>\n",
       "      <td>NaN</td>\n",
       "      <td>NaN</td>\n",
       "      <td>NaT</td>\n",
       "      <td>NaN</td>\n",
       "      <td>NaN</td>\n",
       "      <td>NaT</td>\n",
       "      <td>NaN</td>\n",
       "    </tr>\n",
       "    <tr>\n",
       "      <th>5</th>\n",
       "      <td>2010-09-21 00:00:00</td>\n",
       "      <td>Tip Top Rawamangun</td>\n",
       "      <td>JKT-HUB VII</td>\n",
       "      <td>NaN</td>\n",
       "      <td>2010-10-07 00:00:00</td>\n",
       "      <td>529EPP7</td>\n",
       "      <td>2013-10-01 00:00:00</td>\n",
       "      <td>042-02-19</td>\n",
       "      <td>2019-02-01</td>\n",
       "      <td>NaN</td>\n",
       "      <td>070-03-19</td>\n",
       "      <td>2019-03-01</td>\n",
       "      <td>NaN</td>\n",
       "      <td>095-04-19</td>\n",
       "      <td>2019-04-01</td>\n",
       "      <td>NaN</td>\n",
       "    </tr>\n",
       "  </tbody>\n",
       "</table>\n",
       "</div>"
      ],
      "text/plain": [
       "            Unnamed: 1           Unnamed: 2        Unnamed: 3 Unnamed: 4  \\\n",
       "1  2010-09-21 00:00:00             PLN Kota    Jkt-HUB II RPC        NaN   \n",
       "2  2010-09-21 00:00:00             Perumnas     Jkt-HUB I RPC        NaN   \n",
       "3  2010-09-21 00:00:00        Tip Top Depok  Jkt-HUB VIII RPC        NaN   \n",
       "4  2010-09-21 00:00:00    Tip Top Pdk Bambu    Jkt-HUB VI RPC        NaN   \n",
       "5  2010-09-21 00:00:00  Tip Top Rawamangun        JKT-HUB VII        NaN   \n",
       "\n",
       "            Unnamed: 5 Unnamed: 6           Unnamed: 7 No. Inv..98 Periode.98  \\\n",
       "1  2010-10-07 00:00:00        522  2013-10-01 00:00:00         NaN        NaT   \n",
       "2  2010-10-07 00:00:00        522  2013-10-01 00:00:00         NaN        NaT   \n",
       "3  2010-10-07 00:00:00        522  2013-10-01 00:00:00         NaN        NaT   \n",
       "4  2010-10-07 00:00:00        522  2013-10-01 00:00:00         NaN        NaT   \n",
       "5  2010-10-07 00:00:00    529EPP7  2013-10-01 00:00:00   042-02-19 2019-02-01   \n",
       "\n",
       "   JT48.59 No. Inv..99 Periode.99  JT48.60 No. Inv..100 Periode.100  JT48.61  \n",
       "1      NaN         NaN        NaT      NaN          NaN         NaT      NaN  \n",
       "2      NaN         NaN        NaT      NaN          NaN         NaT      NaN  \n",
       "3      NaN         NaN        NaT      NaN          NaN         NaT      NaN  \n",
       "4      NaN         NaN        NaT      NaN          NaN         NaT      NaN  \n",
       "5      NaN   070-03-19 2019-03-01      NaN    095-04-19  2019-04-01      NaN  "
      ]
     },
     "execution_count": 5,
     "metadata": {},
     "output_type": "execute_result"
    }
   ],
   "source": [
    "df.head()"
   ]
  },
  {
   "cell_type": "markdown",
   "metadata": {},
   "source": [
    "Rename header kolom"
   ]
  },
  {
   "cell_type": "code",
   "execution_count": 6,
   "metadata": {},
   "outputs": [
    {
     "data": {
      "text/plain": [
       "Index(['Unnamed: 1', 'Unnamed: 2', 'Unnamed: 3', 'Unnamed: 4', 'Unnamed: 5',\n",
       "       'Unnamed: 6', 'Unnamed: 7', 'No. Inv..98', 'Periode.98', 'JT48.59',\n",
       "       'No. Inv..99', 'Periode.99', 'JT48.60', 'No. Inv..100', 'Periode.100',\n",
       "       'JT48.61'],\n",
       "      dtype='object')"
      ]
     },
     "execution_count": 6,
     "metadata": {},
     "output_type": "execute_result"
    }
   ],
   "source": [
    "df.columns"
   ]
  },
  {
   "cell_type": "code",
   "execution_count": 7,
   "metadata": {},
   "outputs": [],
   "source": [
    "col_dict = {'Unnamed: 1':'Tanggal Request',\n",
    "            'Unnamed: 2':'Nama LOKASI',\n",
    "            'Unnamed: 3':'KOTA',\n",
    "            'Unnamed: 4':'MASA SEWA (TAHUN)',\n",
    "            'Unnamed: 5':'Delivery',\n",
    "            'Unnamed: 6':'Type',\n",
    "            'Unnamed: 7':'Jatuh Tempo Tag 3-4th',\n",
    "            \n",
    "            'No. Inv..98':'Tag098_No. Inv.',\n",
    "            'No. Inv..99':'Tag099_No. Inv.',\n",
    "            'No. Inv..100':'Tag100_No. Inv.',\n",
    "           \n",
    "            'Periode.98':'Tag098_Periode',\n",
    "            'Periode.99':'Tag099_Periode',\n",
    "            'Periode.100':'Tag100_Periode',\n",
    "           \n",
    "            'JT48.59':'Tag098_JT48',\n",
    "            'JT48.60':'Tag099_JT48',\n",
    "            'JT48.61':'Tag100_JT48'}"
   ]
  },
  {
   "cell_type": "code",
   "execution_count": 8,
   "metadata": {},
   "outputs": [],
   "source": [
    "df.rename(columns=col_dict, inplace=True)"
   ]
  },
  {
   "cell_type": "code",
   "execution_count": 9,
   "metadata": {},
   "outputs": [
    {
     "data": {
      "text/html": [
       "<div>\n",
       "<style scoped>\n",
       "    .dataframe tbody tr th:only-of-type {\n",
       "        vertical-align: middle;\n",
       "    }\n",
       "\n",
       "    .dataframe tbody tr th {\n",
       "        vertical-align: top;\n",
       "    }\n",
       "\n",
       "    .dataframe thead th {\n",
       "        text-align: right;\n",
       "    }\n",
       "</style>\n",
       "<table border=\"1\" class=\"dataframe\">\n",
       "  <thead>\n",
       "    <tr style=\"text-align: right;\">\n",
       "      <th></th>\n",
       "      <th>Tanggal Request</th>\n",
       "      <th>Nama LOKASI</th>\n",
       "      <th>KOTA</th>\n",
       "      <th>MASA SEWA (TAHUN)</th>\n",
       "      <th>Delivery</th>\n",
       "      <th>Type</th>\n",
       "      <th>Jatuh Tempo Tag 3-4th</th>\n",
       "      <th>Tag098_No. Inv.</th>\n",
       "      <th>Tag098_Periode</th>\n",
       "      <th>Tag098_JT48</th>\n",
       "      <th>Tag099_No. Inv.</th>\n",
       "      <th>Tag099_Periode</th>\n",
       "      <th>Tag099_JT48</th>\n",
       "      <th>Tag100_No. Inv.</th>\n",
       "      <th>Tag100_Periode</th>\n",
       "      <th>Tag100_JT48</th>\n",
       "    </tr>\n",
       "  </thead>\n",
       "  <tbody>\n",
       "    <tr>\n",
       "      <th>1</th>\n",
       "      <td>2010-09-21 00:00:00</td>\n",
       "      <td>PLN Kota</td>\n",
       "      <td>Jkt-HUB II RPC</td>\n",
       "      <td>NaN</td>\n",
       "      <td>2010-10-07 00:00:00</td>\n",
       "      <td>522</td>\n",
       "      <td>2013-10-01 00:00:00</td>\n",
       "      <td>NaN</td>\n",
       "      <td>NaT</td>\n",
       "      <td>NaN</td>\n",
       "      <td>NaN</td>\n",
       "      <td>NaT</td>\n",
       "      <td>NaN</td>\n",
       "      <td>NaN</td>\n",
       "      <td>NaT</td>\n",
       "      <td>NaN</td>\n",
       "    </tr>\n",
       "    <tr>\n",
       "      <th>2</th>\n",
       "      <td>2010-09-21 00:00:00</td>\n",
       "      <td>Perumnas</td>\n",
       "      <td>Jkt-HUB I RPC</td>\n",
       "      <td>NaN</td>\n",
       "      <td>2010-10-07 00:00:00</td>\n",
       "      <td>522</td>\n",
       "      <td>2013-10-01 00:00:00</td>\n",
       "      <td>NaN</td>\n",
       "      <td>NaT</td>\n",
       "      <td>NaN</td>\n",
       "      <td>NaN</td>\n",
       "      <td>NaT</td>\n",
       "      <td>NaN</td>\n",
       "      <td>NaN</td>\n",
       "      <td>NaT</td>\n",
       "      <td>NaN</td>\n",
       "    </tr>\n",
       "    <tr>\n",
       "      <th>3</th>\n",
       "      <td>2010-09-21 00:00:00</td>\n",
       "      <td>Tip Top Depok</td>\n",
       "      <td>Jkt-HUB VIII RPC</td>\n",
       "      <td>NaN</td>\n",
       "      <td>2010-10-07 00:00:00</td>\n",
       "      <td>522</td>\n",
       "      <td>2013-10-01 00:00:00</td>\n",
       "      <td>NaN</td>\n",
       "      <td>NaT</td>\n",
       "      <td>NaN</td>\n",
       "      <td>NaN</td>\n",
       "      <td>NaT</td>\n",
       "      <td>NaN</td>\n",
       "      <td>NaN</td>\n",
       "      <td>NaT</td>\n",
       "      <td>NaN</td>\n",
       "    </tr>\n",
       "    <tr>\n",
       "      <th>4</th>\n",
       "      <td>2010-09-21 00:00:00</td>\n",
       "      <td>Tip Top Pdk Bambu</td>\n",
       "      <td>Jkt-HUB VI RPC</td>\n",
       "      <td>NaN</td>\n",
       "      <td>2010-10-07 00:00:00</td>\n",
       "      <td>522</td>\n",
       "      <td>2013-10-01 00:00:00</td>\n",
       "      <td>NaN</td>\n",
       "      <td>NaT</td>\n",
       "      <td>NaN</td>\n",
       "      <td>NaN</td>\n",
       "      <td>NaT</td>\n",
       "      <td>NaN</td>\n",
       "      <td>NaN</td>\n",
       "      <td>NaT</td>\n",
       "      <td>NaN</td>\n",
       "    </tr>\n",
       "    <tr>\n",
       "      <th>5</th>\n",
       "      <td>2010-09-21 00:00:00</td>\n",
       "      <td>Tip Top Rawamangun</td>\n",
       "      <td>JKT-HUB VII</td>\n",
       "      <td>NaN</td>\n",
       "      <td>2010-10-07 00:00:00</td>\n",
       "      <td>529EPP7</td>\n",
       "      <td>2013-10-01 00:00:00</td>\n",
       "      <td>042-02-19</td>\n",
       "      <td>2019-02-01</td>\n",
       "      <td>NaN</td>\n",
       "      <td>070-03-19</td>\n",
       "      <td>2019-03-01</td>\n",
       "      <td>NaN</td>\n",
       "      <td>095-04-19</td>\n",
       "      <td>2019-04-01</td>\n",
       "      <td>NaN</td>\n",
       "    </tr>\n",
       "  </tbody>\n",
       "</table>\n",
       "</div>"
      ],
      "text/plain": [
       "       Tanggal Request          Nama LOKASI              KOTA  \\\n",
       "1  2010-09-21 00:00:00             PLN Kota    Jkt-HUB II RPC   \n",
       "2  2010-09-21 00:00:00             Perumnas     Jkt-HUB I RPC   \n",
       "3  2010-09-21 00:00:00        Tip Top Depok  Jkt-HUB VIII RPC   \n",
       "4  2010-09-21 00:00:00    Tip Top Pdk Bambu    Jkt-HUB VI RPC   \n",
       "5  2010-09-21 00:00:00  Tip Top Rawamangun        JKT-HUB VII   \n",
       "\n",
       "  MASA SEWA (TAHUN)             Delivery     Type Jatuh Tempo Tag 3-4th  \\\n",
       "1               NaN  2010-10-07 00:00:00      522   2013-10-01 00:00:00   \n",
       "2               NaN  2010-10-07 00:00:00      522   2013-10-01 00:00:00   \n",
       "3               NaN  2010-10-07 00:00:00      522   2013-10-01 00:00:00   \n",
       "4               NaN  2010-10-07 00:00:00      522   2013-10-01 00:00:00   \n",
       "5               NaN  2010-10-07 00:00:00  529EPP7   2013-10-01 00:00:00   \n",
       "\n",
       "  Tag098_No. Inv. Tag098_Periode  Tag098_JT48 Tag099_No. Inv. Tag099_Periode  \\\n",
       "1             NaN            NaT          NaN             NaN            NaT   \n",
       "2             NaN            NaT          NaN             NaN            NaT   \n",
       "3             NaN            NaT          NaN             NaN            NaT   \n",
       "4             NaN            NaT          NaN             NaN            NaT   \n",
       "5       042-02-19     2019-02-01          NaN       070-03-19     2019-03-01   \n",
       "\n",
       "   Tag099_JT48 Tag100_No. Inv. Tag100_Periode  Tag100_JT48  \n",
       "1          NaN             NaN            NaT          NaN  \n",
       "2          NaN             NaN            NaT          NaN  \n",
       "3          NaN             NaN            NaT          NaN  \n",
       "4          NaN             NaN            NaT          NaN  \n",
       "5          NaN       095-04-19     2019-04-01          NaN  "
      ]
     },
     "execution_count": 9,
     "metadata": {},
     "output_type": "execute_result"
    }
   ],
   "source": [
    "df.head()"
   ]
  },
  {
   "cell_type": "code",
   "execution_count": 10,
   "metadata": {},
   "outputs": [],
   "source": [
    "# Membuat backup\n",
    "df_backup = df.copy()"
   ]
  },
  {
   "cell_type": "markdown",
   "metadata": {},
   "source": [
    "Sekarang saya bisa mulai melakukan analisis."
   ]
  },
  {
   "cell_type": "markdown",
   "metadata": {},
   "source": [
    "### Exploratory Data Analysis"
   ]
  },
  {
   "cell_type": "code",
   "execution_count": 11,
   "metadata": {},
   "outputs": [
    {
     "name": "stdout",
     "output_type": "stream",
     "text": [
      "<class 'pandas.core.frame.DataFrame'>\n",
      "Int64Index: 1247 entries, 1 to 1247\n",
      "Data columns (total 16 columns):\n",
      " #   Column                 Non-Null Count  Dtype         \n",
      "---  ------                 --------------  -----         \n",
      " 0   Tanggal Request        1172 non-null   object        \n",
      " 1   Nama LOKASI            1247 non-null   object        \n",
      " 2   KOTA                   1247 non-null   object        \n",
      " 3   MASA SEWA (TAHUN)      421 non-null    object        \n",
      " 4   Delivery               1085 non-null   object        \n",
      " 5   Type                   1141 non-null   object        \n",
      " 6   Jatuh Tempo Tag 3-4th  1072 non-null   object        \n",
      " 7   Tag098_No. Inv.        25 non-null     object        \n",
      " 8   Tag098_Periode         25 non-null     datetime64[ns]\n",
      " 9   Tag098_JT48            0 non-null      float64       \n",
      " 10  Tag099_No. Inv.        22 non-null     object        \n",
      " 11  Tag099_Periode         22 non-null     datetime64[ns]\n",
      " 12  Tag099_JT48            0 non-null      float64       \n",
      " 13  Tag100_No. Inv.        15 non-null     object        \n",
      " 14  Tag100_Periode         15 non-null     datetime64[ns]\n",
      " 15  Tag100_JT48            0 non-null      float64       \n",
      "dtypes: datetime64[ns](3), float64(3), object(10)\n",
      "memory usage: 165.6+ KB\n"
     ]
    }
   ],
   "source": [
    "df.info()"
   ]
  },
  {
   "cell_type": "code",
   "execution_count": 12,
   "metadata": {},
   "outputs": [
    {
     "data": {
      "text/plain": [
       "Tanggal Request            75\n",
       "Nama LOKASI                 0\n",
       "KOTA                        0\n",
       "MASA SEWA (TAHUN)         826\n",
       "Delivery                  162\n",
       "Type                      106\n",
       "Jatuh Tempo Tag 3-4th     175\n",
       "Tag098_No. Inv.          1222\n",
       "Tag098_Periode           1222\n",
       "Tag098_JT48              1247\n",
       "Tag099_No. Inv.          1225\n",
       "Tag099_Periode           1225\n",
       "Tag099_JT48              1247\n",
       "Tag100_No. Inv.          1232\n",
       "Tag100_Periode           1232\n",
       "Tag100_JT48              1247\n",
       "dtype: int64"
      ]
     },
     "execution_count": 12,
     "metadata": {},
     "output_type": "execute_result"
    }
   ],
   "source": [
    "# Cek missing value\n",
    "df.isna().sum()"
   ]
  },
  {
   "cell_type": "code",
   "execution_count": 13,
   "metadata": {},
   "outputs": [
    {
     "data": {
      "text/plain": [
       "1247"
      ]
     },
     "execution_count": 13,
     "metadata": {},
     "output_type": "execute_result"
    }
   ],
   "source": [
    "len(df)"
   ]
  },
  {
   "cell_type": "code",
   "execution_count": 14,
   "metadata": {},
   "outputs": [
    {
     "data": {
      "text/plain": [
       "529EPP7CL    318\n",
       "GRG          172\n",
       "529          129\n",
       "529EPP7      122\n",
       "522S         105\n",
       "GRGW10        97\n",
       "WIN           53\n",
       "-             37\n",
       "522           37\n",
       "529EPP5W7     33\n",
       "522           24\n",
       "HYS            6\n",
       "520            3\n",
       "cancel         1\n",
       "Cancel         1\n",
       "520 D          1\n",
       "GRG            1\n",
       "522D           1\n",
       "Name: Type, dtype: int64"
      ]
     },
     "execution_count": 14,
     "metadata": {},
     "output_type": "execute_result"
    }
   ],
   "source": [
    "# Cek masing-masing kolom\n",
    "df['Type'].value_counts()"
   ]
  },
  {
   "cell_type": "code",
   "execution_count": 15,
   "metadata": {},
   "outputs": [
    {
     "data": {
      "text/plain": [
       "1141"
      ]
     },
     "execution_count": 15,
     "metadata": {},
     "output_type": "execute_result"
    }
   ],
   "source": [
    "df['Type'].value_counts().sum()"
   ]
  },
  {
   "cell_type": "code",
   "execution_count": 16,
   "metadata": {},
   "outputs": [
    {
     "data": {
      "text/plain": [
       "106"
      ]
     },
     "execution_count": 16,
     "metadata": {},
     "output_type": "execute_result"
    }
   ],
   "source": [
    "1247-1141"
   ]
  },
  {
   "cell_type": "code",
   "execution_count": 17,
   "metadata": {},
   "outputs": [
    {
     "data": {
      "text/plain": [
       "1167"
      ]
     },
     "execution_count": 17,
     "metadata": {},
     "output_type": "execute_result"
    }
   ],
   "source": [
    "df['Nama LOKASI'].nunique()"
   ]
  },
  {
   "cell_type": "code",
   "execution_count": 18,
   "metadata": {},
   "outputs": [
    {
     "data": {
      "text/plain": [
       "258"
      ]
     },
     "execution_count": 18,
     "metadata": {},
     "output_type": "execute_result"
    }
   ],
   "source": [
    "df['KOTA'].nunique()"
   ]
  },
  {
   "cell_type": "code",
   "execution_count": 19,
   "metadata": {},
   "outputs": [
    {
     "data": {
      "text/plain": [
       "Surabaya              39\n",
       "JKT-HUB I             37\n",
       "BANDUNG               27\n",
       "Yogyakarta            27\n",
       "BOGOR                 26\n",
       "                      ..\n",
       "Bandar Lampung OFF     1\n",
       "Medan                  1\n",
       "Cirebon                1\n",
       "Cilegon OFF            1\n",
       "CIREBON CANCEL         1\n",
       "Name: KOTA, Length: 258, dtype: int64"
      ]
     },
     "execution_count": 19,
     "metadata": {},
     "output_type": "execute_result"
    }
   ],
   "source": [
    "df['KOTA'].value_counts()"
   ]
  },
  {
   "cell_type": "code",
   "execution_count": 20,
   "metadata": {},
   "outputs": [
    {
     "data": {
      "text/plain": [
       "4"
      ]
     },
     "execution_count": 20,
     "metadata": {},
     "output_type": "execute_result"
    }
   ],
   "source": [
    "df['MASA SEWA (TAHUN)'].nunique()"
   ]
  },
  {
   "cell_type": "code",
   "execution_count": 21,
   "metadata": {},
   "outputs": [
    {
     "data": {
      "text/plain": [
       "4          353\n",
       "3           59\n",
       "1            8\n",
       "1 BULAN      1\n",
       "Name: MASA SEWA (TAHUN), dtype: int64"
      ]
     },
     "execution_count": 21,
     "metadata": {},
     "output_type": "execute_result"
    }
   ],
   "source": [
    "df['MASA SEWA (TAHUN)'].value_counts()"
   ]
  },
  {
   "cell_type": "code",
   "execution_count": 22,
   "metadata": {},
   "outputs": [
    {
     "data": {
      "text/plain": [
       "111"
      ]
     },
     "execution_count": 22,
     "metadata": {},
     "output_type": "execute_result"
    }
   ],
   "source": [
    "df['Jatuh Tempo Tag 3-4th'].nunique()"
   ]
  },
  {
   "cell_type": "markdown",
   "metadata": {},
   "source": [
    "**`Nama LOKASI`**"
   ]
  },
  {
   "cell_type": "code",
   "execution_count": 23,
   "metadata": {},
   "outputs": [
    {
     "data": {
      "text/plain": [
       "1                         pln kota\n",
       "2                         perumnas\n",
       "3                    tip top depok\n",
       "4                tip top pdk bambu\n",
       "5              tip top rawamangun \n",
       "                   ...            \n",
       "1243    kk rs sardjito/ kampus ity\n",
       "1244                     mari mall\n",
       "1245             bandara hasanudin\n",
       "1246                kk rs. syafira\n",
       "1247              taspen pekanbaru\n",
       "Name: Nama LOKASI, Length: 1247, dtype: object"
      ]
     },
     "execution_count": 23,
     "metadata": {},
     "output_type": "execute_result"
    }
   ],
   "source": [
    "df_lokasi = df['Nama LOKASI'].str.lower()\n",
    "df_lokasi"
   ]
  },
  {
   "cell_type": "code",
   "execution_count": 24,
   "metadata": {},
   "outputs": [
    {
     "data": {
      "text/plain": [
       "1247"
      ]
     },
     "execution_count": 24,
     "metadata": {},
     "output_type": "execute_result"
    }
   ],
   "source": [
    "len(df_lokasi)"
   ]
  },
  {
   "cell_type": "code",
   "execution_count": 25,
   "metadata": {},
   "outputs": [
    {
     "data": {
      "text/plain": [
       "429                                   kk pln sunter (rpc)\n",
       "339                                    pasaraya bintan 21\n",
       "1245                                    bandara hasanudin\n",
       "1213                      idm ahmad yani / kcp bangkinang\n",
       "1112                             rest area km 19 cikampek\n",
       "442                                   cpm suryotomo (rpc)\n",
       "1137                                alfamart pasar modern\n",
       "779                                      lenmarc surabaya\n",
       "263           tunjungan plaza / rs. pelindo husada citra \n",
       "821                         kcu teuku umar / kcu denpasar\n",
       "232     wisma indovision / ditarik 15 juli 2016 / jt a...\n",
       "1042                         palembang ii / kk kayu agung\n",
       "301                          sevel dewi sartika jt apr 17\n",
       "996                                          atm kepanjen\n",
       "754                     atm indomaret undaan kulon (tokh)\n",
       "36                                    assalam hypermarket\n",
       "575     indomaret beringin-eks lindteves/mall trona ek...\n",
       "285     spbu pussenkav / kaveleri / bpjs majalaya/ tok...\n",
       "353                        griyamart bandung / kcp subang\n",
       "921                              capem blok b tanah abang\n",
       "307                                           sevel biak \n",
       "1161                                       swiss belhotel\n",
       "1192                                        kk bojonegoro\n",
       "827                    felins swalayan/univ. nusa cendana\n",
       "670                                      metro indah mall\n",
       "716                    atm indomaret m. panjaitan (f1ky )\n",
       "1005                                       kcp temanggung\n",
       "17                                        citraland plaza\n",
       "520                                  spbu juanda pasuruan\n",
       "125                                  trans studio makasar\n",
       "Name: Nama LOKASI, dtype: object"
      ]
     },
     "execution_count": 25,
     "metadata": {},
     "output_type": "execute_result"
    }
   ],
   "source": [
    "df_lokasi.sample(30)"
   ]
  },
  {
   "cell_type": "code",
   "execution_count": 26,
   "metadata": {},
   "outputs": [
    {
     "data": {
      "text/plain": [
       "19                                   mall ramayana\n",
       "28                 matahari pontianak/ a.yani mall\n",
       "46                                       mari mall\n",
       "126                              mall paragon solo\n",
       "143                            hartono mall des 17\n",
       "                           ...                    \n",
       "1063                             mall panakukang 2\n",
       "1070    lippo mall kemang/rest area cikampek km 19\n",
       "1122                                 duta mall bjm\n",
       "1125                                panbil mall tc\n",
       "1244                                     mari mall\n",
       "Name: Nama LOKASI, Length: 67, dtype: object"
      ]
     },
     "execution_count": 26,
     "metadata": {},
     "output_type": "execute_result"
    }
   ],
   "source": [
    "df_lokasi[df_lokasi.str.contains('mall')]"
   ]
  },
  {
   "cell_type": "code",
   "execution_count": 27,
   "metadata": {},
   "outputs": [
    {
     "data": {
      "text/plain": [
       "53                  kk kusumanegara / hotel grand dafam\n",
       "102                   balikpapan plaza / blue sky hotel\n",
       "134                        hotel fave / kcu denpasar ii\n",
       "177                           hotel fave / galeria mall\n",
       "239                            hotel azza / graha tiara\n",
       "252         hotel grand sakura / kampung kuliner binjai\n",
       "265     kk jamsostek klaten / hotel nano ( jl. a yani )\n",
       "266                  rs. hasan sadikin / hotel el royal\n",
       "293                                    hotel the batara\n",
       "354                                       hotel ambhara\n",
       "355                                   hotel makmur jaya\n",
       "363                                   hotel bumi minang\n",
       "367                                 hotel puri denpasar\n",
       "379           royale krakatau hotel / indomaret salira \n",
       "460                                 hotel sasando (rpc)\n",
       "637                        grand usu hotel & convention\n",
       "673                          hotel guntur gatot subroto\n",
       "833                                        hotel g sign\n",
       "870                                         hotel ayola\n",
       "979                 kk kusumanegara / hotel grand dafam\n",
       "989             hotel fave / kcu denpasar ii teuku umar\n",
       "1050                  balikpapan plaza / blue sky hotel\n",
       "1074                                    hotel bumikarsa\n",
       "1130                                   hotel seruni btm\n",
       "1161                                     swiss belhotel\n",
       "Name: Nama LOKASI, dtype: object"
      ]
     },
     "execution_count": 27,
     "metadata": {},
     "output_type": "execute_result"
    }
   ],
   "source": [
    "df_lokasi[df_lokasi.str.contains('hotel')]"
   ]
  },
  {
   "cell_type": "code",
   "execution_count": 28,
   "metadata": {},
   "outputs": [
    {
     "data": {
      "text/plain": [
       "60                            sob malang / spbu sawojajar\n",
       "164                         tiban centre/spbu vitka point\n",
       "169                                    spbu parang tritis\n",
       "173     samarinda seberang / mall samarinda square/ sp...\n",
       "176                                          spbu manahan\n",
       "                              ...                        \n",
       "1110                        spbu 34-17514 mm2100 cibitung\n",
       "1129                                      spbu hulu banda\n",
       "1154                                 spbu khatib sulaiman\n",
       "1180                   spbu 44.534.08 wangon banjarnegara\n",
       "1230                                          spbu palima\n",
       "Name: Nama LOKASI, Length: 107, dtype: object"
      ]
     },
     "execution_count": 28,
     "metadata": {},
     "output_type": "execute_result"
    }
   ],
   "source": [
    "df_lokasi[df_lokasi.str.contains('spbu')]"
   ]
  },
  {
   "cell_type": "code",
   "execution_count": 29,
   "metadata": {},
   "outputs": [
    {
     "data": {
      "text/plain": [
       "55      saphire square/apotik kimia farma/ indomaret k...\n",
       "68                 jasindo cirebon / indomaret perjuangan\n",
       "167               indomaret veteran /univ indonesia timur\n",
       "199     rs. budi asih serang / ramayana/ indomaret boj...\n",
       "295            miko mall bandung / indomaret ujung berung\n",
       "                              ...                        \n",
       "1030                           indomaret kaliurang km 9,3\n",
       "1037                              atm indomaret umbansari\n",
       "1065              indomaret veteran /univ indonesia timur\n",
       "1229                                  indomaret rogojampi\n",
       "1232                                 indomaret bojonegara\n",
       "Name: Nama LOKASI, Length: 110, dtype: object"
      ]
     },
     "execution_count": 29,
     "metadata": {},
     "output_type": "execute_result"
    }
   ],
   "source": [
    "df_lokasi[df_lokasi.str.contains('indomaret')]"
   ]
  },
  {
   "cell_type": "code",
   "execution_count": 30,
   "metadata": {},
   "outputs": [
    {
     "data": {
      "text/plain": [
       "580                     alfa mart moh toha 2/ kcp soreang\n",
       "581                                 alfa mart kalipah apo\n",
       "582            alfa mart re martadinata / alfamart semeru\n",
       "584                                     alfa mart ciracas\n",
       "585                        alfa mart dianmart  raya anyer\n",
       "586                                 alfa mart cakra buana\n",
       "587                                   alfa mart bandorasa\n",
       "588                                 alfa mart dampu awang\n",
       "589                                   alfa mart abianbase\n",
       "590           alfa mart celuk/ alfamart anyar kaja canggu\n",
       "591                              alfa mart pasar minggu 2\n",
       "592                                alfa mart ptb angke  4\n",
       "593                         alfa mart cideng barat (ceba)\n",
       "594                            alfa mart jembatan  lima 5\n",
       "595                                  alfa mart utama raya\n",
       "596                               alfa mart terogong raya\n",
       "597                                alfa mart kemang utara\n",
       "598                              alfa mart rc. veteran  2\n",
       "599                       alfa mart jatiwaringin 2 (jwn2)\n",
       "600                          alfa mart raya  bogor  km 27\n",
       "601                               alfa mart pulo gebang 4\n",
       "602         alfa mart gdc de caspia / alfamart kali mulya\n",
       "603                        alfa mart lenteng agung  barat\n",
       "604                                alfa mart villa kenali\n",
       "605                       alfa mart soekarno hatta_vandal\n",
       "606                         alfa mart kalimantan/f [klmj)\n",
       "607                        alfa mart perintis kemerdekaan\n",
       "609                                alfa mart antang  raya\n",
       "610     alfa mart perintis kemerdekaan/ kcp sunggumina...\n",
       "611                                   alfa mart mondoroko\n",
       "612                      alfa mart sukarno hatta  selatan\n",
       "613                                     alfa mart rs haji\n",
       "614                        alfa mart ah nasution/ tritura\n",
       "615                                    alfa mart krakatau\n",
       "616                                     alfa mart katamso\n",
       "617                        alfa mart medan binjai km 15.5\n",
       "618                         alfa mart mayor zen  2 (mrz2)\n",
       "619                                 alfa mart yos sudarso\n",
       "620                              alfa mart re martadinata\n",
       "621                          alfa mart adi sucipto km 6,5\n",
       "622                                 alfa mart karang jati\n",
       "623                                    alfa mart sukorejo\n",
       "626                                alfa mart pasar wisata\n",
       "627                               alfa mart kebak  kramat\n",
       "628                                alfa mart adisumarmo 2\n",
       "629                                      alfa mart a.yani\n",
       "630                              alfa mart pelda suryanta\n",
       "631           alfa mart lemah  duwur ttp 19 jan jt sep 18\n",
       "633            alfa mart perumnas sleman/alfamart palagan\n",
       "634            alfa mart parang tritis/alfamart sorogenan\n",
       "635       alfa mart sanggrahan sleman/ alfamart anggajaya\n",
       "957            alfa mart soekarno hatta / transmart jambi\n",
       "961                alfa mart cakra buana/rs putra bahagia\n",
       "1013                   alfa mart lemah  duwur / kcp slawi\n",
       "Name: Nama LOKASI, dtype: object"
      ]
     },
     "execution_count": 30,
     "metadata": {},
     "output_type": "execute_result"
    }
   ],
   "source": [
    "df_lokasi[df_lokasi.str.contains('alfa mart')]"
   ]
  },
  {
   "cell_type": "code",
   "execution_count": 31,
   "metadata": {},
   "outputs": [
    {
     "data": {
      "text/plain": [
       "108        ramayana plaza / swalayan bentar\n",
       "216                tip top swalayan ciputat\n",
       "278              mega swalayan prawirotaman\n",
       "452     swalayan panti perak/warkop  3 in 1\n",
       "643         swalayan grandmart tanjung raya\n",
       "827      felins swalayan/univ. nusa cendana\n",
       "928      toserba 2m neusu/ anugrah swalayan\n",
       "1010       ramayana plaza / swalayan bentar\n",
       "Name: Nama LOKASI, dtype: object"
      ]
     },
     "execution_count": 31,
     "metadata": {},
     "output_type": "execute_result"
    }
   ],
   "source": [
    "df_lokasi[df_lokasi.str.contains('swalayan')]"
   ]
  },
  {
   "cell_type": "code",
   "execution_count": 32,
   "metadata": {},
   "outputs": [
    {
     "data": {
      "text/plain": [
       "34             bandara raden inten\n",
       "123              bandara hasanudin\n",
       "423     bandara soeta term 3 (rpc)\n",
       "424     bandara soeta term 2 (rpc)\n",
       "425     bandara soeta term 1 (rpc)\n",
       "662            bandara kuala namu \n",
       "1245             bandara hasanudin\n",
       "Name: Nama LOKASI, dtype: object"
      ]
     },
     "execution_count": 32,
     "metadata": {},
     "output_type": "execute_result"
    }
   ],
   "source": [
    "df_lokasi[df_lokasi.str.contains('bandara')]"
   ]
  },
  {
   "cell_type": "code",
   "execution_count": 33,
   "metadata": {},
   "outputs": [
    {
     "data": {
      "text/plain": [
       "107                        pln surabaya / stasiun gubeng\n",
       "276     stasiun gubeng surabaya relok dari pln surabaya)\n",
       "311                  sevel jati waringin / stasiun tebet\n",
       "918    rs. cito interchange karawang / dewi air/pusat...\n",
       "Name: Nama LOKASI, dtype: object"
      ]
     },
     "execution_count": 33,
     "metadata": {},
     "output_type": "execute_result"
    }
   ],
   "source": [
    "df_lokasi[df_lokasi.str.contains('stasiun')]"
   ]
  },
  {
   "cell_type": "code",
   "execution_count": 34,
   "metadata": {},
   "outputs": [
    {
     "data": {
      "text/plain": [
       "525             universitas negri mataram\n",
       "639                 universitas bosowa 45\n",
       "652          universitas eka sakti padang\n",
       "842     universitas katolik widya mandira\n",
       "873     universitas esa unggul citra raya\n",
       "898               universitas mercu buana\n",
       "1106               kk universitas jakarta\n",
       "Name: Nama LOKASI, dtype: object"
      ]
     },
     "execution_count": 34,
     "metadata": {},
     "output_type": "execute_result"
    }
   ],
   "source": [
    "df_lokasi[df_lokasi.str.contains('universitas')]"
   ]
  },
  {
   "cell_type": "markdown",
   "metadata": {},
   "source": [
    "Swalayan"
   ]
  },
  {
   "cell_type": "code",
   "execution_count": 35,
   "metadata": {},
   "outputs": [],
   "source": [
    "lst_swalayan = []\n",
    "lst_swalayan_cat = ['toko', 'swalayan', 'tip top', 'carefour', 'indomaret', 'alfa mart', 'alfamart']\n",
    "\n",
    "for i in lst_swalayan_cat:\n",
    "    for x in list(df_lokasi[df_lokasi.str.contains(i)]):\n",
    "        lst_swalayan.append(x)\n",
    "        \n",
    "len_swalayan = len(list(set(lst_swalayan))) # set agar tidak ada duplikasi        "
   ]
  },
  {
   "cell_type": "markdown",
   "metadata": {},
   "source": [
    "Mall"
   ]
  },
  {
   "cell_type": "code",
   "execution_count": 36,
   "metadata": {},
   "outputs": [],
   "source": [
    "lst_mall = []\n",
    "lst_mall_cat = ['mall', 'plaza']\n",
    "\n",
    "for i in lst_mall_cat:\n",
    "    for x in list(df_lokasi[df_lokasi.str.contains(i)]):\n",
    "        lst_mall.append(x)\n",
    "\n",
    "len_mall = len(list(set(lst_mall)))"
   ]
  },
  {
   "cell_type": "markdown",
   "metadata": {},
   "source": [
    "SPBU"
   ]
  },
  {
   "cell_type": "code",
   "execution_count": 37,
   "metadata": {},
   "outputs": [],
   "source": [
    "lst_spbu = []\n",
    "lst_spbu_cat = ['spbu']\n",
    "\n",
    "for i in lst_spbu_cat:\n",
    "    for x in list(df_lokasi[df_lokasi.str.contains(i)]):\n",
    "        lst_spbu.append(x)\n",
    "\n",
    "len_spbu = len(list(set(lst_spbu)))        "
   ]
  },
  {
   "cell_type": "markdown",
   "metadata": {},
   "source": [
    "Universitas"
   ]
  },
  {
   "cell_type": "code",
   "execution_count": 38,
   "metadata": {},
   "outputs": [],
   "source": [
    "lst_univ = []\n",
    "lst_univ_cat = ['universitas', 'univ', 'kampus']\n",
    "\n",
    "for i in lst_univ_cat:\n",
    "    for x in list(df_lokasi[df_lokasi.str.contains(i)]):\n",
    "        lst_univ.append(x)\n",
    "        \n",
    "len_univ = len(list(set(lst_univ)))        "
   ]
  },
  {
   "cell_type": "code",
   "execution_count": 39,
   "metadata": {},
   "outputs": [],
   "source": [
    "new_df_lokasi = pd.DataFrame(columns=('Cat', 'Count'))"
   ]
  },
  {
   "cell_type": "code",
   "execution_count": 40,
   "metadata": {},
   "outputs": [],
   "source": [
    "cat_lst = ['Swalayan', 'Mall', 'SPBU', 'Universitas']\n",
    "len_lst = [len_swalayan, len_mall, len_spbu, len_univ]"
   ]
  },
  {
   "cell_type": "code",
   "execution_count": 41,
   "metadata": {},
   "outputs": [],
   "source": [
    "new_df_lokasi['Cat'] = cat_lst\n",
    "new_df_lokasi['Count'] = len_lst"
   ]
  },
  {
   "cell_type": "code",
   "execution_count": 42,
   "metadata": {},
   "outputs": [
    {
     "data": {
      "text/html": [
       "<div>\n",
       "<style scoped>\n",
       "    .dataframe tbody tr th:only-of-type {\n",
       "        vertical-align: middle;\n",
       "    }\n",
       "\n",
       "    .dataframe tbody tr th {\n",
       "        vertical-align: top;\n",
       "    }\n",
       "\n",
       "    .dataframe thead th {\n",
       "        text-align: right;\n",
       "    }\n",
       "</style>\n",
       "<table border=\"1\" class=\"dataframe\">\n",
       "  <thead>\n",
       "    <tr style=\"text-align: right;\">\n",
       "      <th></th>\n",
       "      <th>Cat</th>\n",
       "      <th>Count</th>\n",
       "    </tr>\n",
       "  </thead>\n",
       "  <tbody>\n",
       "    <tr>\n",
       "      <th>0</th>\n",
       "      <td>Swalayan</td>\n",
       "      <td>205</td>\n",
       "    </tr>\n",
       "    <tr>\n",
       "      <th>1</th>\n",
       "      <td>Mall</td>\n",
       "      <td>85</td>\n",
       "    </tr>\n",
       "    <tr>\n",
       "      <th>2</th>\n",
       "      <td>SPBU</td>\n",
       "      <td>99</td>\n",
       "    </tr>\n",
       "    <tr>\n",
       "      <th>3</th>\n",
       "      <td>Universitas</td>\n",
       "      <td>22</td>\n",
       "    </tr>\n",
       "  </tbody>\n",
       "</table>\n",
       "</div>"
      ],
      "text/plain": [
       "           Cat  Count\n",
       "0     Swalayan    205\n",
       "1         Mall     85\n",
       "2         SPBU     99\n",
       "3  Universitas     22"
      ]
     },
     "execution_count": 42,
     "metadata": {},
     "output_type": "execute_result"
    }
   ],
   "source": [
    "new_df_lokasi"
   ]
  },
  {
   "cell_type": "code",
   "execution_count": 43,
   "metadata": {},
   "outputs": [
    {
     "data": {
      "text/plain": [
       "Text(0.5, 1.0, 'Kategori Lokasi Sewa ATM')"
      ]
     },
     "execution_count": 43,
     "metadata": {},
     "output_type": "execute_result"
    },
    {
     "data": {
      "image/png": "[encoded data removed]",
      "text/plain": [
       "<Figure size 720x360 with 1 Axes>"
      ]
     },
     "metadata": {
      "needs_background": "light"
     },
     "output_type": "display_data"
    }
   ],
   "source": [
    "plt.figure(figsize=(10, 5))\n",
    "sns.barplot(x='Cat', y='Count', data=new_df_lokasi)\n",
    "plt.title('Kategori Lokasi Sewa ATM')"
   ]
  },
  {
   "cell_type": "markdown",
   "metadata": {},
   "source": [
    "Tempat yang banyak sewa atm adalah swalayan."
   ]
  },
  {
   "cell_type": "code",
   "execution_count": 44,
   "metadata": {},
   "outputs": [
    {
     "name": "stdout",
     "output_type": "stream",
     "text": [
      "<class 'pandas.core.frame.DataFrame'>\n",
      "Int64Index: 1247 entries, 1 to 1247\n",
      "Data columns (total 16 columns):\n",
      " #   Column                 Non-Null Count  Dtype         \n",
      "---  ------                 --------------  -----         \n",
      " 0   Tanggal Request        1172 non-null   object        \n",
      " 1   Nama LOKASI            1247 non-null   object        \n",
      " 2   KOTA                   1247 non-null   object        \n",
      " 3   MASA SEWA (TAHUN)      421 non-null    object        \n",
      " 4   Delivery               1085 non-null   object        \n",
      " 5   Type                   1141 non-null   object        \n",
      " 6   Jatuh Tempo Tag 3-4th  1072 non-null   object        \n",
      " 7   Tag098_No. Inv.        25 non-null     object        \n",
      " 8   Tag098_Periode         25 non-null     datetime64[ns]\n",
      " 9   Tag098_JT48            0 non-null      float64       \n",
      " 10  Tag099_No. Inv.        22 non-null     object        \n",
      " 11  Tag099_Periode         22 non-null     datetime64[ns]\n",
      " 12  Tag099_JT48            0 non-null      float64       \n",
      " 13  Tag100_No. Inv.        15 non-null     object        \n",
      " 14  Tag100_Periode         15 non-null     datetime64[ns]\n",
      " 15  Tag100_JT48            0 non-null      float64       \n",
      "dtypes: datetime64[ns](3), float64(3), object(10)\n",
      "memory usage: 165.6+ KB\n"
     ]
    }
   ],
   "source": [
    "df.info()"
   ]
  },
  {
   "cell_type": "markdown",
   "metadata": {},
   "source": [
    "**`KOTA`**"
   ]
  },
  {
   "cell_type": "code",
   "execution_count": 45,
   "metadata": {},
   "outputs": [
    {
     "data": {
      "text/plain": [
       "1         jkt-hub ii rpc\n",
       "2          jkt-hub i rpc\n",
       "3       jkt-hub viii rpc\n",
       "4         jkt-hub vi rpc\n",
       "5            jkt-hub vii\n",
       "              ...       \n",
       "1243          yogyakarta\n",
       "1244             makasar\n",
       "1245             makasar\n",
       "1246           pekanbaru\n",
       "1247           pekanbaru\n",
       "Name: KOTA, Length: 1247, dtype: object"
      ]
     },
     "execution_count": 45,
     "metadata": {},
     "output_type": "execute_result"
    }
   ],
   "source": [
    "df_kota = df['KOTA'].str.lower()\n",
    "df_kota"
   ]
  },
  {
   "cell_type": "code",
   "execution_count": 46,
   "metadata": {},
   "outputs": [
    {
     "data": {
      "text/plain": [
       "556                solo\n",
       "177          yogyakarta\n",
       "1135              jambi\n",
       "1006            cirebon\n",
       "814              malang\n",
       "531         banjarmasin\n",
       "181        denpasar off\n",
       "366            karawang\n",
       "873           jkt-hub v\n",
       "921          jkt-hub ii\n",
       "749           samarinda\n",
       "1121        banjarmasin\n",
       "481         tasikmalaya\n",
       "670             bandung\n",
       "1157      padang cancel\n",
       "398     jkt-hub ii hold\n",
       "395           jkt-hub i\n",
       "809               bogor\n",
       "471            karawang\n",
       "190      jkt-hub iv off\n",
       "425      jkt-hub v hold\n",
       "836              manado\n",
       "294            solo off\n",
       "1246          pekanbaru\n",
       "949            surabaya\n",
       "161        magelang rpc\n",
       "696      jkt-hub xi off\n",
       "242            surabaya\n",
       "898          jkt-hub xi\n",
       "49        bandung relok\n",
       "Name: KOTA, dtype: object"
      ]
     },
     "execution_count": 46,
     "metadata": {},
     "output_type": "execute_result"
    }
   ],
   "source": [
    "df_kota.sample(30)"
   ]
  },
  {
   "cell_type": "code",
   "execution_count": 47,
   "metadata": {},
   "outputs": [
    {
     "data": {
      "text/plain": [
       "surabaya       49\n",
       "jkt-hub i      37\n",
       "makasar        34\n",
       "solo           33\n",
       "yogyakarta     30\n",
       "cilegon        28\n",
       "medan          28\n",
       "bandung        27\n",
       "bogor          26\n",
       "jkt-hub vii    22\n",
       "Name: KOTA, dtype: int64"
      ]
     },
     "execution_count": 47,
     "metadata": {},
     "output_type": "execute_result"
    }
   ],
   "source": [
    "df_kota.value_counts().head(10)"
   ]
  },
  {
   "cell_type": "code",
   "execution_count": 48,
   "metadata": {},
   "outputs": [
    {
     "data": {
      "text/plain": [
       "<AxesSubplot:>"
      ]
     },
     "execution_count": 48,
     "metadata": {},
     "output_type": "execute_result"
    },
    {
     "data": {
      "image/png": "[encoded data removed]",
      "text/plain": [
       "<Figure size 720x360 with 1 Axes>"
      ]
     },
     "metadata": {
      "needs_background": "light"
     },
     "output_type": "display_data"
    }
   ],
   "source": [
    "df_kota.value_counts().head(5).sort_values().plot(figsize=(10, 5), kind='barh')"
   ]
  },
  {
   "cell_type": "code",
   "execution_count": 49,
   "metadata": {},
   "outputs": [
    {
     "data": {
      "text/plain": [
       "jkt-hub i       37\n",
       "jkt-hub vii     22\n",
       "jkt-hub viii    19\n",
       "jkt-hub v       19\n",
       "jkt-hub iii     18\n",
       "Name: KOTA, dtype: int64"
      ]
     },
     "execution_count": 49,
     "metadata": {},
     "output_type": "execute_result"
    }
   ],
   "source": [
    "df_kota[df_kota.str.contains('jkt')].value_counts().head(5)"
   ]
  },
  {
   "cell_type": "code",
   "execution_count": 50,
   "metadata": {},
   "outputs": [
    {
     "data": {
      "text/plain": [
       "364"
      ]
     },
     "execution_count": 50,
     "metadata": {},
     "output_type": "execute_result"
    }
   ],
   "source": [
    "df_kota[df_kota.str.contains('jkt')].value_counts().sum()"
   ]
  },
  {
   "cell_type": "code",
   "execution_count": 51,
   "metadata": {},
   "outputs": [
    {
     "data": {
      "text/plain": [
       "<AxesSubplot:>"
      ]
     },
     "execution_count": 51,
     "metadata": {},
     "output_type": "execute_result"
    },
    {
     "data": {
      "image/png": "[encoded data removed]",
      "text/plain": [
       "<Figure size 720x360 with 1 Axes>"
      ]
     },
     "metadata": {
      "needs_background": "light"
     },
     "output_type": "display_data"
    }
   ],
   "source": [
    "df_kota[df_kota.str.contains('jkt')].value_counts().head(5).sort_values().plot(figsize=(10, 5), kind='barh')"
   ]
  },
  {
   "cell_type": "code",
   "execution_count": 52,
   "metadata": {},
   "outputs": [
    {
     "data": {
      "text/plain": [
       "bandar lampung cancel    4\n",
       "jkt-hub vii cancel       3\n",
       "medan cancel             3\n",
       "semarang cancel          2\n",
       "bandung cancel           2\n",
       "surabaya cancel          2\n",
       "jkt-hub v cancel         2\n",
       "solo-cancel              2\n",
       "jkt-hub i cancel         2\n",
       "jakarta pusat cancel     2\n",
       "jkt-hub iii cancel       2\n",
       "banda aceh-cancel        2\n",
       "solo cancel              1\n",
       "padang cancel            1\n",
       "cirebon cancel           1\n",
       "batam cancel             1\n",
       "jkt-hub ix cancel        1\n",
       "pekanbaru cancel         1\n",
       "denpasar cancel          1\n",
       "probolinggo cancel       1\n",
       "jakarta timur cancel     1\n",
       "jkt-hub xi cancel        1\n",
       "makasar cancel           1\n",
       "sidoarjo cancel          1\n",
       "jakarta barat cancel     1\n",
       "manado-cancel            1\n",
       "jambi cancel             1\n",
       "Name: KOTA, dtype: int64"
      ]
     },
     "execution_count": 52,
     "metadata": {},
     "output_type": "execute_result"
    }
   ],
   "source": [
    "df_kota[df_kota.str.contains('cancel')].value_counts()"
   ]
  },
  {
   "cell_type": "code",
   "execution_count": 53,
   "metadata": {},
   "outputs": [],
   "source": [
    "df_eda = df[['Nama LOKASI', 'KOTA']]"
   ]
  },
  {
   "cell_type": "code",
   "execution_count": 54,
   "metadata": {},
   "outputs": [
    {
     "data": {
      "text/html": [
       "<div>\n",
       "<style scoped>\n",
       "    .dataframe tbody tr th:only-of-type {\n",
       "        vertical-align: middle;\n",
       "    }\n",
       "\n",
       "    .dataframe tbody tr th {\n",
       "        vertical-align: top;\n",
       "    }\n",
       "\n",
       "    .dataframe thead th {\n",
       "        text-align: right;\n",
       "    }\n",
       "</style>\n",
       "<table border=\"1\" class=\"dataframe\">\n",
       "  <thead>\n",
       "    <tr style=\"text-align: right;\">\n",
       "      <th></th>\n",
       "      <th>Nama LOKASI</th>\n",
       "      <th>KOTA</th>\n",
       "    </tr>\n",
       "  </thead>\n",
       "  <tbody>\n",
       "    <tr>\n",
       "      <th>1120</th>\n",
       "      <td>KK BULOG BANDUNG</td>\n",
       "      <td>BANDUNG CANCEL</td>\n",
       "    </tr>\n",
       "    <tr>\n",
       "      <th>800</th>\n",
       "      <td>RS SANTO YUSUP relokasi dari Dago Outlet</td>\n",
       "      <td>BANDUNG CANCEL</td>\n",
       "    </tr>\n",
       "    <tr>\n",
       "      <th>1128</th>\n",
       "      <td>KK DISPENDA KEPRI BATAM</td>\n",
       "      <td>BATAM CANCEL</td>\n",
       "    </tr>\n",
       "    <tr>\n",
       "      <th>140</th>\n",
       "      <td>Banda Aceh 2</td>\n",
       "      <td>Banda Aceh-cancel</td>\n",
       "    </tr>\n",
       "    <tr>\n",
       "      <th>141</th>\n",
       "      <td>Capem simpang surabaya</td>\n",
       "      <td>Banda Aceh-cancel</td>\n",
       "    </tr>\n",
       "    <tr>\n",
       "      <th>34</th>\n",
       "      <td>Bandara Raden Inten</td>\n",
       "      <td>Bandar Lampung cancel</td>\n",
       "    </tr>\n",
       "    <tr>\n",
       "      <th>35</th>\n",
       "      <td>Teluk Betung</td>\n",
       "      <td>Bandar Lampung cancel</td>\n",
       "    </tr>\n",
       "    <tr>\n",
       "      <th>871</th>\n",
       "      <td>RSIA RESTU BUNDA</td>\n",
       "      <td>Bandar Lampung cancel</td>\n",
       "    </tr>\n",
       "    <tr>\n",
       "      <th>1217</th>\n",
       "      <td>KK METRO</td>\n",
       "      <td>Bandar Lampung cancel</td>\n",
       "    </tr>\n",
       "    <tr>\n",
       "      <th>1131</th>\n",
       "      <td>KCU CIREBON</td>\n",
       "      <td>CIREBON CANCEL</td>\n",
       "    </tr>\n",
       "    <tr>\n",
       "      <th>784</th>\n",
       "      <td>STIKOM DENPASAR</td>\n",
       "      <td>DENPASAR CANCEL</td>\n",
       "    </tr>\n",
       "    <tr>\n",
       "      <th>957</th>\n",
       "      <td>ALFA MART SOEKARNO HATTA / TRANSMART JAMBI</td>\n",
       "      <td>JAMBI CANCEL</td>\n",
       "    </tr>\n",
       "    <tr>\n",
       "      <th>818</th>\n",
       "      <td>EPIWALK - CANCEL</td>\n",
       "      <td>JKT-HUB I CANCEL</td>\n",
       "    </tr>\n",
       "    <tr>\n",
       "      <th>863</th>\n",
       "      <td>KCP KEMANG  Rpc WIN</td>\n",
       "      <td>JKT-HUB III CANCEL</td>\n",
       "    </tr>\n",
       "    <tr>\n",
       "      <th>1112</th>\n",
       "      <td>REST AREA KM 19 CIKAMPEK</td>\n",
       "      <td>JKT-HUB IX cancel</td>\n",
       "    </tr>\n",
       "    <tr>\n",
       "      <th>931</th>\n",
       "      <td>SEPULSA TEKNOLOGI INDONESIA</td>\n",
       "      <td>JKT-HUB V CANCEL</td>\n",
       "    </tr>\n",
       "    <tr>\n",
       "      <th>1113</th>\n",
       "      <td>KK RS PURI INDAH</td>\n",
       "      <td>JKT-HUB XI CANCEL</td>\n",
       "    </tr>\n",
       "    <tr>\n",
       "      <th>120</th>\n",
       "      <td>KK PLN Lenteng Agung</td>\n",
       "      <td>Jakarta Barat cancel</td>\n",
       "    </tr>\n",
       "    <tr>\n",
       "      <th>119</th>\n",
       "      <td>KK Dolog Klp Gading</td>\n",
       "      <td>Jakarta Pusat cancel</td>\n",
       "    </tr>\n",
       "    <tr>\n",
       "      <th>138</th>\n",
       "      <td>Atrium Plaza</td>\n",
       "      <td>Jakarta Pusat cancel</td>\n",
       "    </tr>\n",
       "    <tr>\n",
       "      <th>129</th>\n",
       "      <td>Capem Cakung Dua</td>\n",
       "      <td>Jakarta Timur cancel</td>\n",
       "    </tr>\n",
       "    <tr>\n",
       "      <th>394</th>\n",
       "      <td>PLAZA SEMANGGI (Rpc)</td>\n",
       "      <td>Jkt-HUB I CANCEL</td>\n",
       "    </tr>\n",
       "    <tr>\n",
       "      <th>415</th>\n",
       "      <td>SOGO PLAZA SENAYAN (Rpc)  info 27 des 2017 sud...</td>\n",
       "      <td>Jkt-HUB III cancel</td>\n",
       "    </tr>\n",
       "    <tr>\n",
       "      <th>289</th>\n",
       "      <td>Mall CBD Lt. GF</td>\n",
       "      <td>Jkt-HUB V cancel</td>\n",
       "    </tr>\n",
       "    <tr>\n",
       "      <th>429</th>\n",
       "      <td>KK PLN SUNTER (Rpc)</td>\n",
       "      <td>Jkt-HUB VII CANCEL</td>\n",
       "    </tr>\n",
       "    <tr>\n",
       "      <th>220</th>\n",
       "      <td>RS. Yarsi</td>\n",
       "      <td>Jkt-HUB VII cancel</td>\n",
       "    </tr>\n",
       "    <tr>\n",
       "      <th>338</th>\n",
       "      <td>Kampus B Univ Negeri Jakarta</td>\n",
       "      <td>Jkt-HUB VII cancel</td>\n",
       "    </tr>\n",
       "    <tr>\n",
       "      <th>1223</th>\n",
       "      <td>KK BONE</td>\n",
       "      <td>MAKASAR CANCEL</td>\n",
       "    </tr>\n",
       "    <tr>\n",
       "      <th>837</th>\n",
       "      <td>STARWAY MART SUPER STORE</td>\n",
       "      <td>MANADO-CANCEL</td>\n",
       "    </tr>\n",
       "    <tr>\n",
       "      <th>862</th>\n",
       "      <td>RS. MITRA MEDIKA alok dr Home Sentra</td>\n",
       "      <td>MEDAN CANCEL</td>\n",
       "    </tr>\n",
       "    <tr>\n",
       "      <th>616</th>\n",
       "      <td>ALFA MART KATAMSO</td>\n",
       "      <td>MEDAN CANCEL</td>\n",
       "    </tr>\n",
       "    <tr>\n",
       "      <th>861</th>\n",
       "      <td>INSTITUT TEKNOLOGI MEDAN</td>\n",
       "      <td>MEDAN CANCEL</td>\n",
       "    </tr>\n",
       "    <tr>\n",
       "      <th>1157</th>\n",
       "      <td>SEMEN PADANG</td>\n",
       "      <td>PADANG CANCEL</td>\n",
       "    </tr>\n",
       "    <tr>\n",
       "      <th>623</th>\n",
       "      <td>ALFA MART SUKOREJO</td>\n",
       "      <td>PROBOLINGGO CANCEL</td>\n",
       "    </tr>\n",
       "    <tr>\n",
       "      <th>355</th>\n",
       "      <td>Hotel Makmur Jaya</td>\n",
       "      <td>Pekanbaru cancel</td>\n",
       "    </tr>\n",
       "    <tr>\n",
       "      <th>823</th>\n",
       "      <td>MALL CITY OF TOMOROW (STAND ALONE) cancel</td>\n",
       "      <td>SIDOARJO CANCEL</td>\n",
       "    </tr>\n",
       "    <tr>\n",
       "      <th>803</th>\n",
       "      <td>KANTOR MITRA PENSIUN WONOGIRI - CANCEL</td>\n",
       "      <td>SOLO CANCEL</td>\n",
       "    </tr>\n",
       "    <tr>\n",
       "      <th>465</th>\n",
       "      <td>JAVA SUPERMALL (Rpc) penutupan ATM per Des 2017</td>\n",
       "      <td>Semarang CANCEL</td>\n",
       "    </tr>\n",
       "    <tr>\n",
       "      <th>464</th>\n",
       "      <td>CANDI PLAZA (Rpc)</td>\n",
       "      <td>Semarang CANCEL</td>\n",
       "    </tr>\n",
       "    <tr>\n",
       "      <th>33</th>\n",
       "      <td>KCP Klaten</td>\n",
       "      <td>Solo-cancel</td>\n",
       "    </tr>\n",
       "    <tr>\n",
       "      <th>32</th>\n",
       "      <td>KCP Slamet Riyadi</td>\n",
       "      <td>Solo-cancel</td>\n",
       "    </tr>\n",
       "    <tr>\n",
       "      <th>276</th>\n",
       "      <td>Stasiun Gubeng Surabaya relok dari PLN Surabaya)</td>\n",
       "      <td>Surabaya cancel</td>\n",
       "    </tr>\n",
       "    <tr>\n",
       "      <th>243</th>\n",
       "      <td>Capem Pusat Grosir Surabaya</td>\n",
       "      <td>Surabaya cancel</td>\n",
       "    </tr>\n",
       "  </tbody>\n",
       "</table>\n",
       "</div>"
      ],
      "text/plain": [
       "                                            Nama LOKASI                   KOTA\n",
       "1120                                   KK BULOG BANDUNG         BANDUNG CANCEL\n",
       "800            RS SANTO YUSUP relokasi dari Dago Outlet         BANDUNG CANCEL\n",
       "1128                            KK DISPENDA KEPRI BATAM           BATAM CANCEL\n",
       "140                                        Banda Aceh 2      Banda Aceh-cancel\n",
       "141                              Capem simpang surabaya      Banda Aceh-cancel\n",
       "34                                  Bandara Raden Inten  Bandar Lampung cancel\n",
       "35                                         Teluk Betung  Bandar Lampung cancel\n",
       "871                                    RSIA RESTU BUNDA  Bandar Lampung cancel\n",
       "1217                                           KK METRO  Bandar Lampung cancel\n",
       "1131                                        KCU CIREBON         CIREBON CANCEL\n",
       "784                                     STIKOM DENPASAR        DENPASAR CANCEL\n",
       "957          ALFA MART SOEKARNO HATTA / TRANSMART JAMBI           JAMBI CANCEL\n",
       "818                                    EPIWALK - CANCEL       JKT-HUB I CANCEL\n",
       "863                                 KCP KEMANG  Rpc WIN     JKT-HUB III CANCEL\n",
       "1112                           REST AREA KM 19 CIKAMPEK      JKT-HUB IX cancel\n",
       "931                         SEPULSA TEKNOLOGI INDONESIA       JKT-HUB V CANCEL\n",
       "1113                                   KK RS PURI INDAH      JKT-HUB XI CANCEL\n",
       "120                                KK PLN Lenteng Agung   Jakarta Barat cancel\n",
       "119                                 KK Dolog Klp Gading   Jakarta Pusat cancel\n",
       "138                                        Atrium Plaza   Jakarta Pusat cancel\n",
       "129                                    Capem Cakung Dua   Jakarta Timur cancel\n",
       "394                                PLAZA SEMANGGI (Rpc)       Jkt-HUB I CANCEL\n",
       "415   SOGO PLAZA SENAYAN (Rpc)  info 27 des 2017 sud...     Jkt-HUB III cancel\n",
       "289                                     Mall CBD Lt. GF       Jkt-HUB V cancel\n",
       "429                                 KK PLN SUNTER (Rpc)     Jkt-HUB VII CANCEL\n",
       "220                                           RS. Yarsi     Jkt-HUB VII cancel\n",
       "338                        Kampus B Univ Negeri Jakarta     Jkt-HUB VII cancel\n",
       "1223                                            KK BONE         MAKASAR CANCEL\n",
       "837                            STARWAY MART SUPER STORE          MANADO-CANCEL\n",
       "862                RS. MITRA MEDIKA alok dr Home Sentra           MEDAN CANCEL\n",
       "616                                   ALFA MART KATAMSO           MEDAN CANCEL\n",
       "861                            INSTITUT TEKNOLOGI MEDAN           MEDAN CANCEL\n",
       "1157                                      SEMEN PADANG           PADANG CANCEL\n",
       "623                                  ALFA MART SUKOREJO     PROBOLINGGO CANCEL\n",
       "355                                   Hotel Makmur Jaya       Pekanbaru cancel\n",
       "823           MALL CITY OF TOMOROW (STAND ALONE) cancel        SIDOARJO CANCEL\n",
       "803              KANTOR MITRA PENSIUN WONOGIRI - CANCEL            SOLO CANCEL\n",
       "465     JAVA SUPERMALL (Rpc) penutupan ATM per Des 2017        Semarang CANCEL\n",
       "464                                   CANDI PLAZA (Rpc)        Semarang CANCEL\n",
       "33                                           KCP Klaten            Solo-cancel\n",
       "32                                    KCP Slamet Riyadi            Solo-cancel\n",
       "276    Stasiun Gubeng Surabaya relok dari PLN Surabaya)        Surabaya cancel\n",
       "243                         Capem Pusat Grosir Surabaya        Surabaya cancel"
      ]
     },
     "execution_count": 54,
     "metadata": {},
     "output_type": "execute_result"
    }
   ],
   "source": [
    "df_eda[df['KOTA'].str.lower().str.contains('cancel')].sort_values('KOTA')"
   ]
  },
  {
   "cell_type": "code",
   "execution_count": 55,
   "metadata": {},
   "outputs": [
    {
     "data": {
      "text/html": [
       "<div>\n",
       "<style scoped>\n",
       "    .dataframe tbody tr th:only-of-type {\n",
       "        vertical-align: middle;\n",
       "    }\n",
       "\n",
       "    .dataframe tbody tr th {\n",
       "        vertical-align: top;\n",
       "    }\n",
       "\n",
       "    .dataframe thead th {\n",
       "        text-align: right;\n",
       "    }\n",
       "</style>\n",
       "<table border=\"1\" class=\"dataframe\">\n",
       "  <thead>\n",
       "    <tr style=\"text-align: right;\">\n",
       "      <th></th>\n",
       "      <th>Nama LOKASI</th>\n",
       "      <th>KOTA</th>\n",
       "    </tr>\n",
       "  </thead>\n",
       "  <tbody>\n",
       "    <tr>\n",
       "      <th>102</th>\n",
       "      <td>Balikpapan Plaza / BLUE SKY HOTEL</td>\n",
       "      <td>BALIKPAPAN rpc</td>\n",
       "    </tr>\n",
       "    <tr>\n",
       "      <th>101</th>\n",
       "      <td>BKP Karang Jati</td>\n",
       "      <td>BALIKPAPAN rpc</td>\n",
       "    </tr>\n",
       "    <tr>\n",
       "      <th>51</th>\n",
       "      <td>KCU Balikpapan</td>\n",
       "      <td>BALIKPAPAN rpc</td>\n",
       "    </tr>\n",
       "    <tr>\n",
       "      <th>157</th>\n",
       "      <td>PLN Balikpapan</td>\n",
       "      <td>BALIKPAPAN rpc</td>\n",
       "    </tr>\n",
       "    <tr>\n",
       "      <th>133</th>\n",
       "      <td>Balikpapan Baru</td>\n",
       "      <td>BALIKPAPAN rpc</td>\n",
       "    </tr>\n",
       "    <tr>\n",
       "      <th>...</th>\n",
       "      <td>...</td>\n",
       "      <td>...</td>\n",
       "    </tr>\n",
       "    <tr>\n",
       "      <th>57</th>\n",
       "      <td>Fak Hukum UII, Yogya</td>\n",
       "      <td>Yogyakarta Rpc</td>\n",
       "    </tr>\n",
       "    <tr>\n",
       "      <th>288</th>\n",
       "      <td>SPBU Adi Sucipto</td>\n",
       "      <td>Yogyakarta Rpc</td>\n",
       "    </tr>\n",
       "    <tr>\n",
       "      <th>58</th>\n",
       "      <td>Kampus UII Terpadu Yk</td>\n",
       "      <td>Yogyakarta Rpc</td>\n",
       "    </tr>\n",
       "    <tr>\n",
       "      <th>53</th>\n",
       "      <td>KK Kusumanegara / Hotel grand Dafam</td>\n",
       "      <td>Yogyakarta Rpc</td>\n",
       "    </tr>\n",
       "    <tr>\n",
       "      <th>54</th>\n",
       "      <td>ASRI Medical Centre YK 2</td>\n",
       "      <td>Yogyakarta Rpc</td>\n",
       "    </tr>\n",
       "  </tbody>\n",
       "</table>\n",
       "<p>156 rows × 2 columns</p>\n",
       "</div>"
      ],
      "text/plain": [
       "                             Nama LOKASI            KOTA\n",
       "102    Balikpapan Plaza / BLUE SKY HOTEL  BALIKPAPAN rpc\n",
       "101                      BKP Karang Jati  BALIKPAPAN rpc\n",
       "51                        KCU Balikpapan  BALIKPAPAN rpc\n",
       "157                       PLN Balikpapan  BALIKPAPAN rpc\n",
       "133                      Balikpapan Baru  BALIKPAPAN rpc\n",
       "..                                   ...             ...\n",
       "57                  Fak Hukum UII, Yogya  Yogyakarta Rpc\n",
       "288                     SPBU Adi Sucipto  Yogyakarta Rpc\n",
       "58                 Kampus UII Terpadu Yk  Yogyakarta Rpc\n",
       "53   KK Kusumanegara / Hotel grand Dafam  Yogyakarta Rpc\n",
       "54              ASRI Medical Centre YK 2  Yogyakarta Rpc\n",
       "\n",
       "[156 rows x 2 columns]"
      ]
     },
     "execution_count": 55,
     "metadata": {},
     "output_type": "execute_result"
    }
   ],
   "source": [
    "df_eda[df['KOTA'].str.lower().str.contains('rpc')].sort_values('KOTA')"
   ]
  },
  {
   "cell_type": "code",
   "execution_count": 56,
   "metadata": {},
   "outputs": [
    {
     "data": {
      "text/html": [
       "<div>\n",
       "<style scoped>\n",
       "    .dataframe tbody tr th:only-of-type {\n",
       "        vertical-align: middle;\n",
       "    }\n",
       "\n",
       "    .dataframe tbody tr th {\n",
       "        vertical-align: top;\n",
       "    }\n",
       "\n",
       "    .dataframe thead th {\n",
       "        text-align: right;\n",
       "    }\n",
       "</style>\n",
       "<table border=\"1\" class=\"dataframe\">\n",
       "  <thead>\n",
       "    <tr style=\"text-align: right;\">\n",
       "      <th></th>\n",
       "      <th>Nama LOKASI</th>\n",
       "      <th>KOTA</th>\n",
       "    </tr>\n",
       "  </thead>\n",
       "  <tbody>\n",
       "    <tr>\n",
       "      <th>568</th>\n",
       "      <td>GRAND GUCI PASIR KALIKI</td>\n",
       "      <td>BANDUNG OFF</td>\n",
       "    </tr>\n",
       "    <tr>\n",
       "      <th>663</th>\n",
       "      <td>RS. BORROMEUS (AREA FOOD COURT)</td>\n",
       "      <td>BANDUNG OFF</td>\n",
       "    </tr>\n",
       "    <tr>\n",
       "      <th>685</th>\n",
       "      <td>ATM PCI PANBIL MUKA KUNING</td>\n",
       "      <td>BATAM OFF</td>\n",
       "    </tr>\n",
       "    <tr>\n",
       "      <th>688</th>\n",
       "      <td>ATM IDM LUCKY PERMAI/PCI PANBIL MUKA KUNING II</td>\n",
       "      <td>BATAM OFF</td>\n",
       "    </tr>\n",
       "    <tr>\n",
       "      <th>690</th>\n",
       "      <td>ATM INDOMARET TANJUNG SENGKUANG ( T9M0 )</td>\n",
       "      <td>BATAM OFF</td>\n",
       "    </tr>\n",
       "    <tr>\n",
       "      <th>...</th>\n",
       "      <td>...</td>\n",
       "      <td>...</td>\n",
       "    </tr>\n",
       "    <tr>\n",
       "      <th>352</th>\n",
       "      <td>Rita Super Mall ttp jan 19 jt jun18</td>\n",
       "      <td>Tegal OFF</td>\n",
       "    </tr>\n",
       "    <tr>\n",
       "      <th>349</th>\n",
       "      <td>RS. Mitra  Siaga Tegal Des 2017</td>\n",
       "      <td>Tegal OFF</td>\n",
       "    </tr>\n",
       "    <tr>\n",
       "      <th>268</th>\n",
       "      <td>Pasific Mall Tegal</td>\n",
       "      <td>Tegal OFF</td>\n",
       "    </tr>\n",
       "    <tr>\n",
       "      <th>631</th>\n",
       "      <td>ALFA MART LEMAH  DUWUR ttp 19 jan JT sep 18</td>\n",
       "      <td>Tegal OFF</td>\n",
       "    </tr>\n",
       "    <tr>\n",
       "      <th>443</th>\n",
       "      <td>KK RS SARDJITO (Rpc)</td>\n",
       "      <td>Yogyakarta OFF</td>\n",
       "    </tr>\n",
       "  </tbody>\n",
       "</table>\n",
       "<p>171 rows × 2 columns</p>\n",
       "</div>"
      ],
      "text/plain": [
       "                                        Nama LOKASI            KOTA\n",
       "568                         GRAND GUCI PASIR KALIKI     BANDUNG OFF\n",
       "663                 RS. BORROMEUS (AREA FOOD COURT)     BANDUNG OFF\n",
       "685                      ATM PCI PANBIL MUKA KUNING       BATAM OFF\n",
       "688  ATM IDM LUCKY PERMAI/PCI PANBIL MUKA KUNING II       BATAM OFF\n",
       "690        ATM INDOMARET TANJUNG SENGKUANG ( T9M0 )       BATAM OFF\n",
       "..                                              ...             ...\n",
       "352             Rita Super Mall ttp jan 19 jt jun18       Tegal OFF\n",
       "349                 RS. Mitra  Siaga Tegal Des 2017       Tegal OFF\n",
       "268                              Pasific Mall Tegal       Tegal OFF\n",
       "631     ALFA MART LEMAH  DUWUR ttp 19 jan JT sep 18       Tegal OFF\n",
       "443                            KK RS SARDJITO (Rpc)  Yogyakarta OFF\n",
       "\n",
       "[171 rows x 2 columns]"
      ]
     },
     "execution_count": 56,
     "metadata": {},
     "output_type": "execute_result"
    }
   ],
   "source": [
    "df_eda[df['KOTA'].str.lower().str.contains('off')].sort_values('KOTA')"
   ]
  },
  {
   "cell_type": "code",
   "execution_count": 57,
   "metadata": {},
   "outputs": [],
   "source": [
    "lst1 = ['Cancel', 'RPC', 'OFF']\n",
    "lst2 = [len(df_eda[df['KOTA'].str.lower().str.contains('cancel')].sort_values('KOTA')),\n",
    "        len(df_eda[df['KOTA'].str.lower().str.contains('rpc')].sort_values('KOTA')),\n",
    "        len(df_eda[df['KOTA'].str.lower().str.contains('off')].sort_values('KOTA'))]"
   ]
  },
  {
   "cell_type": "code",
   "execution_count": 58,
   "metadata": {},
   "outputs": [],
   "source": [
    "df_status = pd.DataFrame()\n",
    "df_status['Status'] = lst1\n",
    "df_status['Count'] = lst2"
   ]
  },
  {
   "cell_type": "code",
   "execution_count": 59,
   "metadata": {},
   "outputs": [
    {
     "data": {
      "text/html": [
       "<div>\n",
       "<style scoped>\n",
       "    .dataframe tbody tr th:only-of-type {\n",
       "        vertical-align: middle;\n",
       "    }\n",
       "\n",
       "    .dataframe tbody tr th {\n",
       "        vertical-align: top;\n",
       "    }\n",
       "\n",
       "    .dataframe thead th {\n",
       "        text-align: right;\n",
       "    }\n",
       "</style>\n",
       "<table border=\"1\" class=\"dataframe\">\n",
       "  <thead>\n",
       "    <tr style=\"text-align: right;\">\n",
       "      <th></th>\n",
       "      <th>Status</th>\n",
       "      <th>Count</th>\n",
       "    </tr>\n",
       "  </thead>\n",
       "  <tbody>\n",
       "    <tr>\n",
       "      <th>0</th>\n",
       "      <td>Cancel</td>\n",
       "      <td>43</td>\n",
       "    </tr>\n",
       "    <tr>\n",
       "      <th>1</th>\n",
       "      <td>RPC</td>\n",
       "      <td>156</td>\n",
       "    </tr>\n",
       "    <tr>\n",
       "      <th>2</th>\n",
       "      <td>OFF</td>\n",
       "      <td>171</td>\n",
       "    </tr>\n",
       "  </tbody>\n",
       "</table>\n",
       "</div>"
      ],
      "text/plain": [
       "   Status  Count\n",
       "0  Cancel     43\n",
       "1     RPC    156\n",
       "2     OFF    171"
      ]
     },
     "execution_count": 59,
     "metadata": {},
     "output_type": "execute_result"
    }
   ],
   "source": [
    "df_status"
   ]
  },
  {
   "cell_type": "code",
   "execution_count": 60,
   "metadata": {},
   "outputs": [
    {
     "data": {
      "text/plain": [
       "<AxesSubplot:xlabel='Status', ylabel='Count'>"
      ]
     },
     "execution_count": 60,
     "metadata": {},
     "output_type": "execute_result"
    },
    {
     "data": {
      "image/png": "[encoded data removed]",
      "text/plain": [
       "<Figure size 720x360 with 1 Axes>"
      ]
     },
     "metadata": {
      "needs_background": "light"
     },
     "output_type": "display_data"
    }
   ],
   "source": [
    "plt.figure(figsize=(10, 5))\n",
    "sns.barplot(x='Status', y='Count', data=df_status)"
   ]
  },
  {
   "cell_type": "markdown",
   "metadata": {},
   "source": [
    "Bisa dikembangkan lagi untuk insight yang lebih dalam dengan mengkategorikan tiap wilayah kota/provinsi mana yang paling banyak `cancel`, `rpc`, atau `off`."
   ]
  },
  {
   "cell_type": "markdown",
   "metadata": {},
   "source": [
    "**`Type`**"
   ]
  },
  {
   "cell_type": "code",
   "execution_count": 61,
   "metadata": {},
   "outputs": [
    {
     "data": {
      "text/plain": [
       "Text(0.5, 1.0, 'Top 5 Tipe')"
      ]
     },
     "execution_count": 61,
     "metadata": {},
     "output_type": "execute_result"
    },
    {
     "data": {
      "image/png": "[encoded data removed]",
      "text/plain": [
       "<Figure size 720x360 with 1 Axes>"
      ]
     },
     "metadata": {
      "needs_background": "light"
     },
     "output_type": "display_data"
    }
   ],
   "source": [
    "df['Type'].value_counts().head().sort_values().plot(figsize=(10, 5), kind='barh')\n",
    "plt.title('Top 5 Tipe')"
   ]
  },
  {
   "cell_type": "markdown",
   "metadata": {},
   "source": [
    "Bisa dikembangkan dengan melihat tipe mana yang paling banyak diminati oleh wilayah tertentu"
   ]
  },
  {
   "cell_type": "markdown",
   "metadata": {},
   "source": [
    "# #####################################"
   ]
  },
  {
   "cell_type": "markdown",
   "metadata": {},
   "source": [
    "## Data Aktifitas\n",
    "#### Data\n",
    "* File: data-set.xlsx\n",
    "* Sheetname: Data Aktifitas\n",
    "* Columns: 14\n",
    "* Rows: 3662"
   ]
  },
  {
   "cell_type": "code",
   "execution_count": 62,
   "metadata": {},
   "outputs": [],
   "source": [
    "import numpy as np\n",
    "import pandas as pd\n",
    "import seaborn as sns\n",
    "import matplotlib.pyplot as plt\n",
    "import warnings\n",
    "\n",
    "warnings.filterwarnings('ignore')\n",
    "sns.set_style('whitegrid')\n",
    "sns.set_palette('viridis')\n",
    "%matplotlib inline"
   ]
  },
  {
   "cell_type": "code",
   "execution_count": 63,
   "metadata": {},
   "outputs": [
    {
     "data": {
      "text/html": [
       "<div>\n",
       "<style scoped>\n",
       "    .dataframe tbody tr th:only-of-type {\n",
       "        vertical-align: middle;\n",
       "    }\n",
       "\n",
       "    .dataframe tbody tr th {\n",
       "        vertical-align: top;\n",
       "    }\n",
       "\n",
       "    .dataframe thead th {\n",
       "        text-align: right;\n",
       "    }\n",
       "</style>\n",
       "<table border=\"1\" class=\"dataframe\">\n",
       "  <thead>\n",
       "    <tr style=\"text-align: right;\">\n",
       "      <th></th>\n",
       "      <th>No.</th>\n",
       "      <th>Tanggal</th>\n",
       "      <th>Nomor</th>\n",
       "      <th>ATM ID</th>\n",
       "      <th>Lokasi</th>\n",
       "      <th>Jenis Layanan</th>\n",
       "      <th>Laporan Kerusakan</th>\n",
       "      <th>Pekerjaan Dilakukan</th>\n",
       "      <th>Nomor Tiket</th>\n",
       "      <th>Penggantian Sparepart</th>\n",
       "      <th>Jumlah Part</th>\n",
       "      <th>Status</th>\n",
       "      <th>CSE</th>\n",
       "      <th>Pilihan</th>\n",
       "    </tr>\n",
       "  </thead>\n",
       "  <tbody>\n",
       "    <tr>\n",
       "      <th>0</th>\n",
       "      <td>1.0</td>\n",
       "      <td>16 Juli 2020</td>\n",
       "      <td>88826.0</td>\n",
       "      <td>ATM00001</td>\n",
       "      <td>RUANG UAT DPTI</td>\n",
       "      <td>Error</td>\n",
       "      <td>Hardware</td>\n",
       "      <td>Check &amp; Clean all devices, replace ..............</td>\n",
       "      <td>2007-100</td>\n",
       "      <td>Hard Disk</td>\n",
       "      <td>1</td>\n",
       "      <td></td>\n",
       "      <td>M. Yani</td>\n",
       "      <td>NaN</td>\n",
       "    </tr>\n",
       "    <tr>\n",
       "      <th>1</th>\n",
       "      <td>2.0</td>\n",
       "      <td>03 Maret 2020</td>\n",
       "      <td>86010.0</td>\n",
       "      <td>ATM120029008</td>\n",
       "      <td>PLN AHMAD YANI</td>\n",
       "      <td>Error</td>\n",
       "      <td>Hardware</td>\n",
       "      <td>Check &amp; Clean all devices, replace EPP5 &amp; CCA ...</td>\n",
       "      <td>2003-028</td>\n",
       "      <td>CCA Dispenser (CCA Kit Presenter Ctrl.) 49-747...</td>\n",
       "      <td>1</td>\n",
       "      <td></td>\n",
       "      <td>Hendri Apridzal</td>\n",
       "      <td>NaN</td>\n",
       "    </tr>\n",
       "    <tr>\n",
       "      <th>2</th>\n",
       "      <td>NaN</td>\n",
       "      <td>NaN</td>\n",
       "      <td>NaN</td>\n",
       "      <td>NaN</td>\n",
       "      <td>NaN</td>\n",
       "      <td>NaN</td>\n",
       "      <td>NaN</td>\n",
       "      <td>NaN</td>\n",
       "      <td>NaN</td>\n",
       "      <td>EPP5(BSC),LGE,STTL,ENG(AU),QZ1,BLANK,X,I,O</td>\n",
       "      <td>1</td>\n",
       "      <td></td>\n",
       "      <td>Hendri Apridzal</td>\n",
       "      <td>NaN</td>\n",
       "    </tr>\n",
       "    <tr>\n",
       "      <th>3</th>\n",
       "      <td>3.0</td>\n",
       "      <td>02 September 2020</td>\n",
       "      <td>90681.0</td>\n",
       "      <td>ATM120044005</td>\n",
       "      <td>GRAHA ENERGY</td>\n",
       "      <td>PM 1</td>\n",
       "      <td>Preventive Maintenance</td>\n",
       "      <td>Check &amp; Clean all devices, no replace, test OK.</td>\n",
       "      <td></td>\n",
       "      <td></td>\n",
       "      <td></td>\n",
       "      <td></td>\n",
       "      <td>ozi medina</td>\n",
       "      <td>NaN</td>\n",
       "    </tr>\n",
       "    <tr>\n",
       "      <th>4</th>\n",
       "      <td>4.0</td>\n",
       "      <td>09 September 2020</td>\n",
       "      <td>89466.0</td>\n",
       "      <td>ATM120047014</td>\n",
       "      <td>NaN</td>\n",
       "      <td>Installation</td>\n",
       "      <td>Installation</td>\n",
       "      <td>Instalasi ATM, Check all devices, test OK.</td>\n",
       "      <td></td>\n",
       "      <td></td>\n",
       "      <td></td>\n",
       "      <td></td>\n",
       "      <td>M. Yani</td>\n",
       "      <td>NaN</td>\n",
       "    </tr>\n",
       "  </tbody>\n",
       "</table>\n",
       "</div>"
      ],
      "text/plain": [
       "   No.            Tanggal    Nomor        ATM ID          Lokasi  \\\n",
       "0  1.0       16 Juli 2020  88826.0      ATM00001  RUANG UAT DPTI   \n",
       "1  2.0      03 Maret 2020  86010.0  ATM120029008  PLN AHMAD YANI   \n",
       "2  NaN                NaN      NaN           NaN             NaN   \n",
       "3  3.0  02 September 2020  90681.0  ATM120044005    GRAHA ENERGY   \n",
       "4  4.0  09 September 2020  89466.0  ATM120047014             NaN   \n",
       "\n",
       "   Jenis Layanan        Laporan Kerusakan  \\\n",
       "0         Error                 Hardware    \n",
       "1         Error                 Hardware    \n",
       "2            NaN                      NaN   \n",
       "3          PM 1   Preventive Maintenance    \n",
       "4  Installation             Installation    \n",
       "\n",
       "                                 Pekerjaan Dilakukan Nomor Tiket  \\\n",
       "0  Check & Clean all devices, replace ..............   2007-100    \n",
       "1  Check & Clean all devices, replace EPP5 & CCA ...   2003-028    \n",
       "2                                                NaN         NaN   \n",
       "3   Check & Clean all devices, no replace, test OK.                \n",
       "4        Instalasi ATM, Check all devices, test OK.                \n",
       "\n",
       "                               Penggantian Sparepart Jumlah Part Status  \\\n",
       "0                                         Hard Disk           1           \n",
       "1  CCA Dispenser (CCA Kit Presenter Ctrl.) 49-747...          1           \n",
       "2        EPP5(BSC),LGE,STTL,ENG(AU),QZ1,BLANK,X,I,O           1           \n",
       "3                                                                         \n",
       "4                                                                         \n",
       "\n",
       "                CSE  Pilihan  \n",
       "0          M. Yani       NaN  \n",
       "1  Hendri Apridzal       NaN  \n",
       "2  Hendri Apridzal       NaN  \n",
       "3       ozi medina       NaN  \n",
       "4          M. Yani       NaN  "
      ]
     },
     "execution_count": 63,
     "metadata": {},
     "output_type": "execute_result"
    }
   ],
   "source": [
    "df = pd.read_excel('data-set.xlsx', sheet_name='Data Aktifitas', header=3)\n",
    "df.head()"
   ]
  },
  {
   "cell_type": "code",
   "execution_count": 64,
   "metadata": {},
   "outputs": [
    {
     "name": "stdout",
     "output_type": "stream",
     "text": [
      "<class 'pandas.core.frame.DataFrame'>\n",
      "RangeIndex: 3662 entries, 0 to 3661\n",
      "Data columns (total 14 columns):\n",
      " #   Column                 Non-Null Count  Dtype  \n",
      "---  ------                 --------------  -----  \n",
      " 0   No.                    3171 non-null   float64\n",
      " 1   Tanggal                3171 non-null   object \n",
      " 2   Nomor                  3171 non-null   float64\n",
      " 3   ATM ID                 3171 non-null   object \n",
      " 4   Lokasi                 3027 non-null   object \n",
      " 5   Jenis Layanan          3171 non-null   object \n",
      " 6   Laporan Kerusakan      3171 non-null   object \n",
      " 7   Pekerjaan Dilakukan    3171 non-null   object \n",
      " 8   Nomor Tiket            3171 non-null   object \n",
      " 9   Penggantian Sparepart  3662 non-null   object \n",
      " 10  Jumlah Part            3662 non-null   object \n",
      " 11  Status                 3662 non-null   object \n",
      " 12  CSE                    3662 non-null   object \n",
      " 13  Pilihan                0 non-null      float64\n",
      "dtypes: float64(3), object(11)\n",
      "memory usage: 400.7+ KB\n"
     ]
    }
   ],
   "source": [
    "df.info()"
   ]
  },
  {
   "cell_type": "markdown",
   "metadata": {},
   "source": [
    "**Index**"
   ]
  },
  {
   "cell_type": "code",
   "execution_count": 65,
   "metadata": {},
   "outputs": [],
   "source": [
    "df.index += 1"
   ]
  },
  {
   "cell_type": "code",
   "execution_count": 66,
   "metadata": {},
   "outputs": [],
   "source": [
    "df.drop('No.', axis=1, inplace=True)"
   ]
  },
  {
   "cell_type": "code",
   "execution_count": 67,
   "metadata": {},
   "outputs": [
    {
     "data": {
      "text/html": [
       "<div>\n",
       "<style scoped>\n",
       "    .dataframe tbody tr th:only-of-type {\n",
       "        vertical-align: middle;\n",
       "    }\n",
       "\n",
       "    .dataframe tbody tr th {\n",
       "        vertical-align: top;\n",
       "    }\n",
       "\n",
       "    .dataframe thead th {\n",
       "        text-align: right;\n",
       "    }\n",
       "</style>\n",
       "<table border=\"1\" class=\"dataframe\">\n",
       "  <thead>\n",
       "    <tr style=\"text-align: right;\">\n",
       "      <th></th>\n",
       "      <th>Tanggal</th>\n",
       "      <th>Nomor</th>\n",
       "      <th>ATM ID</th>\n",
       "      <th>Lokasi</th>\n",
       "      <th>Jenis Layanan</th>\n",
       "      <th>Laporan Kerusakan</th>\n",
       "      <th>Pekerjaan Dilakukan</th>\n",
       "      <th>Nomor Tiket</th>\n",
       "      <th>Penggantian Sparepart</th>\n",
       "      <th>Jumlah Part</th>\n",
       "      <th>Status</th>\n",
       "      <th>CSE</th>\n",
       "      <th>Pilihan</th>\n",
       "    </tr>\n",
       "  </thead>\n",
       "  <tbody>\n",
       "    <tr>\n",
       "      <th>1</th>\n",
       "      <td>16 Juli 2020</td>\n",
       "      <td>88826.0</td>\n",
       "      <td>ATM00001</td>\n",
       "      <td>RUANG UAT DPTI</td>\n",
       "      <td>Error</td>\n",
       "      <td>Hardware</td>\n",
       "      <td>Check &amp; Clean all devices, replace ..............</td>\n",
       "      <td>2007-100</td>\n",
       "      <td>Hard Disk</td>\n",
       "      <td>1</td>\n",
       "      <td></td>\n",
       "      <td>M. Yani</td>\n",
       "      <td>NaN</td>\n",
       "    </tr>\n",
       "    <tr>\n",
       "      <th>2</th>\n",
       "      <td>03 Maret 2020</td>\n",
       "      <td>86010.0</td>\n",
       "      <td>ATM120029008</td>\n",
       "      <td>PLN AHMAD YANI</td>\n",
       "      <td>Error</td>\n",
       "      <td>Hardware</td>\n",
       "      <td>Check &amp; Clean all devices, replace EPP5 &amp; CCA ...</td>\n",
       "      <td>2003-028</td>\n",
       "      <td>CCA Dispenser (CCA Kit Presenter Ctrl.) 49-747...</td>\n",
       "      <td>1</td>\n",
       "      <td></td>\n",
       "      <td>Hendri Apridzal</td>\n",
       "      <td>NaN</td>\n",
       "    </tr>\n",
       "    <tr>\n",
       "      <th>3</th>\n",
       "      <td>NaN</td>\n",
       "      <td>NaN</td>\n",
       "      <td>NaN</td>\n",
       "      <td>NaN</td>\n",
       "      <td>NaN</td>\n",
       "      <td>NaN</td>\n",
       "      <td>NaN</td>\n",
       "      <td>NaN</td>\n",
       "      <td>EPP5(BSC),LGE,STTL,ENG(AU),QZ1,BLANK,X,I,O</td>\n",
       "      <td>1</td>\n",
       "      <td></td>\n",
       "      <td>Hendri Apridzal</td>\n",
       "      <td>NaN</td>\n",
       "    </tr>\n",
       "    <tr>\n",
       "      <th>4</th>\n",
       "      <td>02 September 2020</td>\n",
       "      <td>90681.0</td>\n",
       "      <td>ATM120044005</td>\n",
       "      <td>GRAHA ENERGY</td>\n",
       "      <td>PM 1</td>\n",
       "      <td>Preventive Maintenance</td>\n",
       "      <td>Check &amp; Clean all devices, no replace, test OK.</td>\n",
       "      <td></td>\n",
       "      <td></td>\n",
       "      <td></td>\n",
       "      <td></td>\n",
       "      <td>ozi medina</td>\n",
       "      <td>NaN</td>\n",
       "    </tr>\n",
       "    <tr>\n",
       "      <th>5</th>\n",
       "      <td>09 September 2020</td>\n",
       "      <td>89466.0</td>\n",
       "      <td>ATM120047014</td>\n",
       "      <td>NaN</td>\n",
       "      <td>Installation</td>\n",
       "      <td>Installation</td>\n",
       "      <td>Instalasi ATM, Check all devices, test OK.</td>\n",
       "      <td></td>\n",
       "      <td></td>\n",
       "      <td></td>\n",
       "      <td></td>\n",
       "      <td>M. Yani</td>\n",
       "      <td>NaN</td>\n",
       "    </tr>\n",
       "  </tbody>\n",
       "</table>\n",
       "</div>"
      ],
      "text/plain": [
       "             Tanggal    Nomor        ATM ID          Lokasi  Jenis Layanan  \\\n",
       "1       16 Juli 2020  88826.0      ATM00001  RUANG UAT DPTI         Error    \n",
       "2      03 Maret 2020  86010.0  ATM120029008  PLN AHMAD YANI         Error    \n",
       "3                NaN      NaN           NaN             NaN            NaN   \n",
       "4  02 September 2020  90681.0  ATM120044005    GRAHA ENERGY          PM 1    \n",
       "5  09 September 2020  89466.0  ATM120047014             NaN  Installation    \n",
       "\n",
       "         Laporan Kerusakan                                Pekerjaan Dilakukan  \\\n",
       "1                Hardware   Check & Clean all devices, replace ..............   \n",
       "2                Hardware   Check & Clean all devices, replace EPP5 & CCA ...   \n",
       "3                      NaN                                                NaN   \n",
       "4  Preventive Maintenance    Check & Clean all devices, no replace, test OK.    \n",
       "5            Installation         Instalasi ATM, Check all devices, test OK.    \n",
       "\n",
       "  Nomor Tiket                              Penggantian Sparepart Jumlah Part  \\\n",
       "1   2007-100                                          Hard Disk           1    \n",
       "2   2003-028   CCA Dispenser (CCA Kit Presenter Ctrl.) 49-747...          1    \n",
       "3         NaN        EPP5(BSC),LGE,STTL,ENG(AU),QZ1,BLANK,X,I,O           1    \n",
       "4                                                                              \n",
       "5                                                                              \n",
       "\n",
       "  Status               CSE  Pilihan  \n",
       "1                 M. Yani       NaN  \n",
       "2         Hendri Apridzal       NaN  \n",
       "3         Hendri Apridzal       NaN  \n",
       "4              ozi medina       NaN  \n",
       "5                 M. Yani       NaN  "
      ]
     },
     "execution_count": 67,
     "metadata": {},
     "output_type": "execute_result"
    }
   ],
   "source": [
    "df.head()"
   ]
  },
  {
   "cell_type": "markdown",
   "metadata": {},
   "source": [
    "**Memisah tanggal, bulan, dan tahun**\n",
    "\n",
    "(Untuk visualisasi)"
   ]
  },
  {
   "cell_type": "code",
   "execution_count": 68,
   "metadata": {},
   "outputs": [],
   "source": [
    "df['Tgl'] = df['Tanggal'].str[:2]\n",
    "df['Bln'] = df['Tanggal'].str[2:-5]\n",
    "df['Thn'] = df['Tanggal'].str[-4:]"
   ]
  },
  {
   "cell_type": "code",
   "execution_count": 69,
   "metadata": {},
   "outputs": [
    {
     "data": {
      "text/html": [
       "<div>\n",
       "<style scoped>\n",
       "    .dataframe tbody tr th:only-of-type {\n",
       "        vertical-align: middle;\n",
       "    }\n",
       "\n",
       "    .dataframe tbody tr th {\n",
       "        vertical-align: top;\n",
       "    }\n",
       "\n",
       "    .dataframe thead th {\n",
       "        text-align: right;\n",
       "    }\n",
       "</style>\n",
       "<table border=\"1\" class=\"dataframe\">\n",
       "  <thead>\n",
       "    <tr style=\"text-align: right;\">\n",
       "      <th></th>\n",
       "      <th>Tgl</th>\n",
       "      <th>Bln</th>\n",
       "      <th>Thn</th>\n",
       "    </tr>\n",
       "  </thead>\n",
       "  <tbody>\n",
       "    <tr>\n",
       "      <th>1</th>\n",
       "      <td>16</td>\n",
       "      <td>Juli</td>\n",
       "      <td>2020</td>\n",
       "    </tr>\n",
       "    <tr>\n",
       "      <th>2</th>\n",
       "      <td>03</td>\n",
       "      <td>Maret</td>\n",
       "      <td>2020</td>\n",
       "    </tr>\n",
       "    <tr>\n",
       "      <th>3</th>\n",
       "      <td>NaN</td>\n",
       "      <td>NaN</td>\n",
       "      <td>NaN</td>\n",
       "    </tr>\n",
       "    <tr>\n",
       "      <th>4</th>\n",
       "      <td>02</td>\n",
       "      <td>September</td>\n",
       "      <td>2020</td>\n",
       "    </tr>\n",
       "    <tr>\n",
       "      <th>5</th>\n",
       "      <td>09</td>\n",
       "      <td>September</td>\n",
       "      <td>2020</td>\n",
       "    </tr>\n",
       "    <tr>\n",
       "      <th>...</th>\n",
       "      <td>...</td>\n",
       "      <td>...</td>\n",
       "      <td>...</td>\n",
       "    </tr>\n",
       "    <tr>\n",
       "      <th>3658</th>\n",
       "      <td>01</td>\n",
       "      <td>Juli</td>\n",
       "      <td>2020</td>\n",
       "    </tr>\n",
       "    <tr>\n",
       "      <th>3659</th>\n",
       "      <td>09</td>\n",
       "      <td>November</td>\n",
       "      <td>2020</td>\n",
       "    </tr>\n",
       "    <tr>\n",
       "      <th>3660</th>\n",
       "      <td>27</td>\n",
       "      <td>Mei</td>\n",
       "      <td>2020</td>\n",
       "    </tr>\n",
       "    <tr>\n",
       "      <th>3661</th>\n",
       "      <td>NaN</td>\n",
       "      <td>NaN</td>\n",
       "      <td>NaN</td>\n",
       "    </tr>\n",
       "    <tr>\n",
       "      <th>3662</th>\n",
       "      <td>22</td>\n",
       "      <td>Februari</td>\n",
       "      <td>2020</td>\n",
       "    </tr>\n",
       "  </tbody>\n",
       "</table>\n",
       "<p>3662 rows × 3 columns</p>\n",
       "</div>"
      ],
      "text/plain": [
       "      Tgl         Bln   Thn\n",
       "1      16        Juli  2020\n",
       "2      03       Maret  2020\n",
       "3     NaN         NaN   NaN\n",
       "4      02   September  2020\n",
       "5      09   September  2020\n",
       "...   ...         ...   ...\n",
       "3658   01        Juli  2020\n",
       "3659   09    November  2020\n",
       "3660   27         Mei  2020\n",
       "3661  NaN         NaN   NaN\n",
       "3662   22    Februari  2020\n",
       "\n",
       "[3662 rows x 3 columns]"
      ]
     },
     "execution_count": 69,
     "metadata": {},
     "output_type": "execute_result"
    }
   ],
   "source": [
    "df_date = df[['Tgl', 'Bln', 'Thn']]\n",
    "df_date"
   ]
  },
  {
   "cell_type": "markdown",
   "metadata": {},
   "source": [
    "**Tipe data `Nomor` menjadi str**\n",
    "\n",
    "Asumsi saya adalah `Nomor` merupakan sebuah id, bukan untuk dioperasikan"
   ]
  },
  {
   "cell_type": "code",
   "execution_count": 70,
   "metadata": {},
   "outputs": [
    {
     "data": {
      "text/plain": [
       "1       88826.0\n",
       "2       86010.0\n",
       "3           NaN\n",
       "4       90681.0\n",
       "5       89466.0\n",
       "         ...   \n",
       "3658    88730.0\n",
       "3659    90731.0\n",
       "3660    88655.0\n",
       "3661        NaN\n",
       "3662    88642.0\n",
       "Name: Nomor, Length: 3662, dtype: float64"
      ]
     },
     "execution_count": 70,
     "metadata": {},
     "output_type": "execute_result"
    }
   ],
   "source": [
    "df['Nomor']"
   ]
  },
  {
   "cell_type": "code",
   "execution_count": 71,
   "metadata": {},
   "outputs": [
    {
     "data": {
      "text/plain": [
       "3170"
      ]
     },
     "execution_count": 71,
     "metadata": {},
     "output_type": "execute_result"
    }
   ],
   "source": [
    "df['Nomor'].nunique()"
   ]
  },
  {
   "cell_type": "code",
   "execution_count": 72,
   "metadata": {},
   "outputs": [],
   "source": [
    "df['Nomor'] = df['Nomor'].astype(str)"
   ]
  },
  {
   "cell_type": "code",
   "execution_count": 73,
   "metadata": {},
   "outputs": [
    {
     "data": {
      "text/plain": [
       "1       88826.0\n",
       "2       86010.0\n",
       "3           nan\n",
       "4       90681.0\n",
       "5       89466.0\n",
       "         ...   \n",
       "3658    88730.0\n",
       "3659    90731.0\n",
       "3660    88655.0\n",
       "3661        nan\n",
       "3662    88642.0\n",
       "Name: Nomor, Length: 3662, dtype: object"
      ]
     },
     "execution_count": 73,
     "metadata": {},
     "output_type": "execute_result"
    }
   ],
   "source": [
    "df['Nomor']"
   ]
  },
  {
   "cell_type": "markdown",
   "metadata": {},
   "source": [
    "**`Lokasi`**"
   ]
  },
  {
   "cell_type": "code",
   "execution_count": 74,
   "metadata": {},
   "outputs": [],
   "source": [
    "df_lokasi = df['Lokasi'].str.upper()\n",
    "df_lokasi.dropna(inplace=True)"
   ]
  },
  {
   "cell_type": "code",
   "execution_count": 75,
   "metadata": {},
   "outputs": [
    {
     "data": {
      "text/plain": [
       "97          ATM INDOMARET KAPTEN MUSLIM 2 (TO35)\n",
       "98          ATM INDOMARET KAPTEN MUSLIM 2 (TO35)\n",
       "99        ATM INDOMARET MANDALA BY PASS 2 (T7ZY)\n",
       "100                         INDOMARET HARJO SARI\n",
       "101                   ATM INDOMARET A.H NASUTION\n",
       "                          ...                   \n",
       "3615    ATM INDOMARET POINT RUNGKUT MADYA (TWCL)\n",
       "3616    ATM INDOMARET POINT RUNGKUT MADYA (TWCL)\n",
       "3617    ATM INDOMARET POINT RUNGKUT MADYA (TWCL)\n",
       "3618       ATM INDOMARET PLUS MULYOSARI 2 (T4LR)\n",
       "3619       ATM INDOMARET PLUS MULYOSARI 2 (T4LR)\n",
       "Name: Lokasi, Length: 252, dtype: object"
      ]
     },
     "execution_count": 75,
     "metadata": {},
     "output_type": "execute_result"
    }
   ],
   "source": [
    "df_lokasi[df_lokasi.str.contains('INDOMARET')]"
   ]
  },
  {
   "cell_type": "code",
   "execution_count": 76,
   "metadata": {},
   "outputs": [
    {
     "data": {
      "text/plain": [
       "423                ALFA MART KEBAK  KRAMAT\n",
       "424                ALFA MART KEBAK  KRAMAT\n",
       "425                 ALFA MART ADISUMARMO 2\n",
       "690                   ALFA MART DAENG TATA\n",
       "1484    ALFA MART PURI ANJASMORO  RAYA  26\n",
       "1485    ALFA MART PURI ANJASMORO  RAYA  26\n",
       "2632                ALFA MART PASAR WISATA\n",
       "2633                ALFA MART PASAR WISATA\n",
       "2993                ALFA MART KEMANG UTARA\n",
       "2994                ALFA MART KEMANG UTARA\n",
       "2995                ALFA MART KEMANG UTARA\n",
       "2996                ALFA MART KEMANG UTARA\n",
       "3127              ALFA MART RC. VETERAN  2\n",
       "3248              ALFA MART JATIWARINGIN 4\n",
       "3249              ALFA MART JATIWARINGIN 4\n",
       "3334               ALFA MART PULO GEBANG 4\n",
       "3335               ALFA MART PULO GEBANG 4\n",
       "Name: Lokasi, dtype: object"
      ]
     },
     "execution_count": 76,
     "metadata": {},
     "output_type": "execute_result"
    }
   ],
   "source": [
    "df_lokasi[df_lokasi.str.contains('ALFA MART')]"
   ]
  },
  {
   "cell_type": "code",
   "execution_count": 77,
   "metadata": {},
   "outputs": [
    {
     "data": {
      "text/plain": [
       "1106                   ANUGRAH SWALAYAN\n",
       "1107                   ANUGRAH SWALAYAN\n",
       "2221    SWALAYAN GRANDMART TANJUNG RAYA\n",
       "2222    SWALAYAN GRANDMART TANJUNG RAYA\n",
       "2223    SWALAYAN GRANDMART TANJUNG RAYA\n",
       "2224    SWALAYAN GRANDMART TANJUNG RAYA\n",
       "2225    SWALAYAN GRANDMART TANJUNG RAYA\n",
       "2226    SWALAYAN GRANDMART TANJUNG RAYA\n",
       "2612                    SWALAYAN BENTAR\n",
       "2613                    SWALAYAN BENTAR\n",
       "2614                    SWALAYAN BENTAR\n",
       "2615                    SWALAYAN BENTAR\n",
       "3647             BSB SWALAYAN AL HIKMAH\n",
       "Name: Lokasi, dtype: object"
      ]
     },
     "execution_count": 77,
     "metadata": {},
     "output_type": "execute_result"
    }
   ],
   "source": [
    "df_lokasi[df_lokasi.str.contains('SWALAYAN')]"
   ]
  },
  {
   "cell_type": "code",
   "execution_count": 78,
   "metadata": {},
   "outputs": [
    {
     "data": {
      "text/plain": [
       "3118         TIP TOP CIPUTAT\n",
       "3160    TIP TOP PONDOK BAMBU\n",
       "3303     TIP TOP  RAWAMANGUN\n",
       "Name: Lokasi, dtype: object"
      ]
     },
     "execution_count": 78,
     "metadata": {},
     "output_type": "execute_result"
    }
   ],
   "source": [
    "df_lokasi[df_lokasi.str.contains('TIP TOP')]"
   ]
  },
  {
   "cell_type": "code",
   "execution_count": 79,
   "metadata": {},
   "outputs": [
    {
     "data": {
      "text/plain": [
       "132              SPBU KHATIB SULAIMAN\n",
       "133              SPBU KHATIB SULAIMAN\n",
       "134              SPBU KHATIB SULAIMAN\n",
       "135              SPBU KHATIB SULAIMAN\n",
       "138              SPBU KHATIB SULAIMAN\n",
       "                    ...              \n",
       "3470    SPBU 34-17514 MM2100 CIBITUNG\n",
       "3471    SPBU 34-17514 MM2100 CIBITUNG\n",
       "3472    SPBU 34-17514 MM2100 CIBITUNG\n",
       "3473    SPBU 34-17514 MM2100 CIBITUNG\n",
       "3493               SPBU COCO CIKARANG\n",
       "Name: Lokasi, Length: 220, dtype: object"
      ]
     },
     "execution_count": 79,
     "metadata": {},
     "output_type": "execute_result"
    }
   ],
   "source": [
    "df_lokasi[df_lokasi.str.contains('SPBU')]"
   ]
  },
  {
   "cell_type": "code",
   "execution_count": 80,
   "metadata": {},
   "outputs": [],
   "source": [
    "lst_swalayan = []\n",
    "lst_swalayan_cat = ['INDOMARET', 'MART', 'SWALAYAN', 'TIP TOP']\n",
    "\n",
    "for i in lst_swalayan_cat:\n",
    "    for x in list(df_lokasi[df_lokasi.str.contains(i)]):\n",
    "        lst_swalayan.append(x)\n",
    "\n",
    "len_swalayan = len(lst_swalayan)"
   ]
  },
  {
   "cell_type": "code",
   "execution_count": 81,
   "metadata": {},
   "outputs": [],
   "source": [
    "lst_spbu = []\n",
    "lst_spbu_cat = ['SPBU']\n",
    "\n",
    "for i in lst_spbu_cat:\n",
    "    for x in list(df_lokasi[df_lokasi.str.contains(i)]):\n",
    "        lst_spbu.append(x)\n",
    "\n",
    "len_spbu = len(lst_spbu)"
   ]
  },
  {
   "cell_type": "code",
   "execution_count": 82,
   "metadata": {},
   "outputs": [],
   "source": [
    "lst1 = ['SWALAYAN', 'SPBU']\n",
    "lst2 = [len_swalayan, len_spbu]\n",
    "\n",
    "df_viz = pd.DataFrame()\n",
    "df_viz['Cat'] = lst1\n",
    "df_viz['Count'] = lst2"
   ]
  },
  {
   "cell_type": "code",
   "execution_count": 83,
   "metadata": {},
   "outputs": [
    {
     "data": {
      "text/plain": [
       "0    429\n",
       "1    220\n",
       "Name: Count, dtype: int64"
      ]
     },
     "execution_count": 83,
     "metadata": {},
     "output_type": "execute_result"
    }
   ],
   "source": [
    "df_viz['Count']"
   ]
  },
  {
   "cell_type": "code",
   "execution_count": 84,
   "metadata": {},
   "outputs": [
    {
     "data": {
      "text/plain": [
       "Text(0.5, 1.0, 'Aktifitas ATM di Swalayan dan SPBU')"
      ]
     },
     "execution_count": 84,
     "metadata": {},
     "output_type": "execute_result"
    },
    {
     "data": {
      "image/png": "[encoded data removed]",
      "text/plain": [
       "<Figure size 720x360 with 1 Axes>"
      ]
     },
     "metadata": {
      "needs_background": "light"
     },
     "output_type": "display_data"
    }
   ],
   "source": [
    "plt.figure(figsize=(10, 5))\n",
    "sns.barplot(x='Cat', y='Count', data=df_viz)\n",
    "plt.title('Aktifitas ATM di Swalayan dan SPBU')"
   ]
  },
  {
   "cell_type": "code",
   "execution_count": 85,
   "metadata": {},
   "outputs": [
    {
     "name": "stdout",
     "output_type": "stream",
     "text": [
      "<class 'pandas.core.frame.DataFrame'>\n",
      "RangeIndex: 3662 entries, 1 to 3662\n",
      "Data columns (total 16 columns):\n",
      " #   Column                 Non-Null Count  Dtype  \n",
      "---  ------                 --------------  -----  \n",
      " 0   Tanggal                3171 non-null   object \n",
      " 1   Nomor                  3662 non-null   object \n",
      " 2   ATM ID                 3171 non-null   object \n",
      " 3   Lokasi                 3027 non-null   object \n",
      " 4   Jenis Layanan          3171 non-null   object \n",
      " 5   Laporan Kerusakan      3171 non-null   object \n",
      " 6   Pekerjaan Dilakukan    3171 non-null   object \n",
      " 7   Nomor Tiket            3171 non-null   object \n",
      " 8   Penggantian Sparepart  3662 non-null   object \n",
      " 9   Jumlah Part            3662 non-null   object \n",
      " 10  Status                 3662 non-null   object \n",
      " 11  CSE                    3662 non-null   object \n",
      " 12  Pilihan                0 non-null      float64\n",
      " 13  Tgl                    3171 non-null   object \n",
      " 14  Bln                    3171 non-null   object \n",
      " 15  Thn                    3171 non-null   object \n",
      "dtypes: float64(1), object(15)\n",
      "memory usage: 457.9+ KB\n"
     ]
    }
   ],
   "source": [
    "df.info()"
   ]
  },
  {
   "cell_type": "code",
   "execution_count": 88,
   "metadata": {},
   "outputs": [
    {
     "data": {
      "text/plain": [
       "<AxesSubplot:>"
      ]
     },
     "execution_count": 88,
     "metadata": {},
     "output_type": "execute_result"
    },
    {
     "data": {
      "image/png": "[encoded data removed]",
      "text/plain": [
       "<Figure size 432x288 with 1 Axes>"
      ]
     },
     "metadata": {
      "needs_background": "light"
     },
     "output_type": "display_data"
    }
   ],
   "source": [
    "df['Jenis Layanan'].value_counts().head().sort_values().plot(kind='barh')"
   ]
  },
  {
   "cell_type": "code",
   "execution_count": 89,
   "metadata": {},
   "outputs": [
    {
     "data": {
      "text/plain": [
       "<AxesSubplot:>"
      ]
     },
     "execution_count": 89,
     "metadata": {},
     "output_type": "execute_result"
    },
    {
     "data": {
      "image/png": "[encoded data removed]",
      "text/plain": [
       "<Figure size 432x288 with 1 Axes>"
      ]
     },
     "metadata": {
      "needs_background": "light"
     },
     "output_type": "display_data"
    }
   ],
   "source": [
    "df['Laporan Kerusakan'].value_counts().head().sort_values().plot(kind='barh')"
   ]
  },
  {
   "cell_type": "code",
   "execution_count": null,
   "metadata": {},
   "outputs": [],
   "source": []
  }
 ],
 "metadata": {
  "kernelspec": {
   "display_name": "Python 3",
   "language": "python",
   "name": "python3"
  },
  "language_info": {
   "codemirror_mode": {
    "name": "ipython",
    "version": 3
   },
   "file_extension": ".py",
   "mimetype": "text/x-python",
   "name": "python",
   "nbconvert_exporter": "python",
   "pygments_lexer": "ipython3",
   "version": "3.8.5"
  }
 },
 "nbformat": 4,
 "nbformat_minor": 4
}
