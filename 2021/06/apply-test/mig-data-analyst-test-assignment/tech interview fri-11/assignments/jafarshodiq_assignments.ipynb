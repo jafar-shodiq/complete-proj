{
 "cells": [
  {
   "cell_type": "code",
   "execution_count": 1,
   "metadata": {},
   "outputs": [],
   "source": [
    "import numpy as np\n",
    "import pandas as pd\n",
    "import seaborn as sns\n",
    "import matplotlib.pyplot as plt\n",
    "import warnings\n",
    "\n",
    "warnings.filterwarnings('ignore')\n",
    "sns.set_style('whitegrid')\n",
    "sns.set_palette('viridis')\n",
    "%matplotlib inline"
   ]
  },
  {
   "cell_type": "code",
   "execution_count": 2,
   "metadata": {},
   "outputs": [],
   "source": [
    "data = pd.read_excel('../data-set.xlsx', sheet_name='SEWAATM', usecols='A:H', header=6)\n",
    "data = data.iloc[0:1247]"
   ]
  },
  {
   "cell_type": "code",
   "execution_count": 3,
   "metadata": {},
   "outputs": [],
   "source": [
    "data['Unnamed: 0'] = data['Unnamed: 0'].astype(int)\n",
    "data.set_index('Unnamed: 0', inplace=True)\n",
    "data.index.name = None"
   ]
  },
  {
   "cell_type": "code",
   "execution_count": 4,
   "metadata": {},
   "outputs": [
    {
     "data": {
      "text/html": [
       "<div>\n",
       "<style scoped>\n",
       "    .dataframe tbody tr th:only-of-type {\n",
       "        vertical-align: middle;\n",
       "    }\n",
       "\n",
       "    .dataframe tbody tr th {\n",
       "        vertical-align: top;\n",
       "    }\n",
       "\n",
       "    .dataframe thead th {\n",
       "        text-align: right;\n",
       "    }\n",
       "</style>\n",
       "<table border=\"1\" class=\"dataframe\">\n",
       "  <thead>\n",
       "    <tr style=\"text-align: right;\">\n",
       "      <th></th>\n",
       "      <th>Tanggal Request</th>\n",
       "      <th>Nama LOKASI</th>\n",
       "      <th>KOTA</th>\n",
       "      <th>MASA SEWA (TAHUN)</th>\n",
       "      <th>Delivery</th>\n",
       "      <th>Type</th>\n",
       "      <th>Jatuh Tempo Tag 3-4th</th>\n",
       "    </tr>\n",
       "  </thead>\n",
       "  <tbody>\n",
       "    <tr>\n",
       "      <th>1</th>\n",
       "      <td>2010-09-21 00:00:00</td>\n",
       "      <td>PLN Kota</td>\n",
       "      <td>Jkt-HUB II RPC</td>\n",
       "      <td>NaN</td>\n",
       "      <td>2010-10-07 00:00:00</td>\n",
       "      <td>522</td>\n",
       "      <td>2013-10-01 00:00:00</td>\n",
       "    </tr>\n",
       "    <tr>\n",
       "      <th>2</th>\n",
       "      <td>2010-09-21 00:00:00</td>\n",
       "      <td>Perumnas</td>\n",
       "      <td>Jkt-HUB I RPC</td>\n",
       "      <td>NaN</td>\n",
       "      <td>2010-10-07 00:00:00</td>\n",
       "      <td>522</td>\n",
       "      <td>2013-10-01 00:00:00</td>\n",
       "    </tr>\n",
       "    <tr>\n",
       "      <th>3</th>\n",
       "      <td>2010-09-21 00:00:00</td>\n",
       "      <td>Tip Top Depok</td>\n",
       "      <td>Jkt-HUB VIII RPC</td>\n",
       "      <td>NaN</td>\n",
       "      <td>2010-10-07 00:00:00</td>\n",
       "      <td>522</td>\n",
       "      <td>2013-10-01 00:00:00</td>\n",
       "    </tr>\n",
       "    <tr>\n",
       "      <th>4</th>\n",
       "      <td>2010-09-21 00:00:00</td>\n",
       "      <td>Tip Top Pdk Bambu</td>\n",
       "      <td>Jkt-HUB VI RPC</td>\n",
       "      <td>NaN</td>\n",
       "      <td>2010-10-07 00:00:00</td>\n",
       "      <td>522</td>\n",
       "      <td>2013-10-01 00:00:00</td>\n",
       "    </tr>\n",
       "    <tr>\n",
       "      <th>5</th>\n",
       "      <td>2010-09-21 00:00:00</td>\n",
       "      <td>Tip Top Rawamangun</td>\n",
       "      <td>JKT-HUB VII</td>\n",
       "      <td>NaN</td>\n",
       "      <td>2010-10-07 00:00:00</td>\n",
       "      <td>529EPP7</td>\n",
       "      <td>2013-10-01 00:00:00</td>\n",
       "    </tr>\n",
       "  </tbody>\n",
       "</table>\n",
       "</div>"
      ],
      "text/plain": [
       "       Tanggal Request          Nama LOKASI              KOTA  \\\n",
       "1  2010-09-21 00:00:00             PLN Kota    Jkt-HUB II RPC   \n",
       "2  2010-09-21 00:00:00             Perumnas     Jkt-HUB I RPC   \n",
       "3  2010-09-21 00:00:00        Tip Top Depok  Jkt-HUB VIII RPC   \n",
       "4  2010-09-21 00:00:00    Tip Top Pdk Bambu    Jkt-HUB VI RPC   \n",
       "5  2010-09-21 00:00:00  Tip Top Rawamangun        JKT-HUB VII   \n",
       "\n",
       "  MASA SEWA (TAHUN)             Delivery     Type Jatuh Tempo Tag 3-4th  \n",
       "1               NaN  2010-10-07 00:00:00      522   2013-10-01 00:00:00  \n",
       "2               NaN  2010-10-07 00:00:00      522   2013-10-01 00:00:00  \n",
       "3               NaN  2010-10-07 00:00:00      522   2013-10-01 00:00:00  \n",
       "4               NaN  2010-10-07 00:00:00      522   2013-10-01 00:00:00  \n",
       "5               NaN  2010-10-07 00:00:00  529EPP7   2013-10-01 00:00:00  "
      ]
     },
     "execution_count": 4,
     "metadata": {},
     "output_type": "execute_result"
    }
   ],
   "source": [
    "col_dict = {'Unnamed: 1':'Tanggal Request',\n",
    "            'Unnamed: 2':'Nama LOKASI',\n",
    "            'Unnamed: 3':'KOTA',\n",
    "            'Unnamed: 4':'MASA SEWA (TAHUN)',\n",
    "            'Unnamed: 5':'Delivery',\n",
    "            'Unnamed: 6':'Type',\n",
    "            'Unnamed: 7':'Jatuh Tempo Tag 3-4th'}\n",
    "data.rename(columns=col_dict, inplace=True)\n",
    "data.head()"
   ]
  },
  {
   "cell_type": "code",
   "execution_count": 5,
   "metadata": {},
   "outputs": [],
   "source": [
    "df = data[['Nama LOKASI', 'KOTA']]\n",
    "col_dict2 = {'Nama LOKASI':'lokasi', 'KOTA':'kota'}\n",
    "df.rename(columns=col_dict2, inplace=True)"
   ]
  },
  {
   "cell_type": "code",
   "execution_count": 6,
   "metadata": {},
   "outputs": [],
   "source": [
    "df['lokasi'] = df['lokasi'].str.lower()\n",
    "df['kota'] = df['kota'].str.lower()"
   ]
  },
  {
   "cell_type": "code",
   "execution_count": 7,
   "metadata": {},
   "outputs": [
    {
     "data": {
      "text/html": [
       "<div>\n",
       "<style scoped>\n",
       "    .dataframe tbody tr th:only-of-type {\n",
       "        vertical-align: middle;\n",
       "    }\n",
       "\n",
       "    .dataframe tbody tr th {\n",
       "        vertical-align: top;\n",
       "    }\n",
       "\n",
       "    .dataframe thead th {\n",
       "        text-align: right;\n",
       "    }\n",
       "</style>\n",
       "<table border=\"1\" class=\"dataframe\">\n",
       "  <thead>\n",
       "    <tr style=\"text-align: right;\">\n",
       "      <th></th>\n",
       "      <th>lokasi</th>\n",
       "      <th>kota</th>\n",
       "    </tr>\n",
       "  </thead>\n",
       "  <tbody>\n",
       "    <tr>\n",
       "      <th>1</th>\n",
       "      <td>pln kota</td>\n",
       "      <td>jkt-hub ii rpc</td>\n",
       "    </tr>\n",
       "    <tr>\n",
       "      <th>2</th>\n",
       "      <td>perumnas</td>\n",
       "      <td>jkt-hub i rpc</td>\n",
       "    </tr>\n",
       "    <tr>\n",
       "      <th>3</th>\n",
       "      <td>tip top depok</td>\n",
       "      <td>jkt-hub viii rpc</td>\n",
       "    </tr>\n",
       "    <tr>\n",
       "      <th>4</th>\n",
       "      <td>tip top pdk bambu</td>\n",
       "      <td>jkt-hub vi rpc</td>\n",
       "    </tr>\n",
       "    <tr>\n",
       "      <th>5</th>\n",
       "      <td>tip top rawamangun</td>\n",
       "      <td>jkt-hub vii</td>\n",
       "    </tr>\n",
       "  </tbody>\n",
       "</table>\n",
       "</div>"
      ],
      "text/plain": [
       "                lokasi              kota\n",
       "1             pln kota    jkt-hub ii rpc\n",
       "2             perumnas     jkt-hub i rpc\n",
       "3        tip top depok  jkt-hub viii rpc\n",
       "4    tip top pdk bambu    jkt-hub vi rpc\n",
       "5  tip top rawamangun        jkt-hub vii"
      ]
     },
     "execution_count": 7,
     "metadata": {},
     "output_type": "execute_result"
    }
   ],
   "source": [
    "df.head()"
   ]
  },
  {
   "cell_type": "code",
   "execution_count": 8,
   "metadata": {},
   "outputs": [],
   "source": [
    "df['status'] = ''"
   ]
  },
  {
   "cell_type": "code",
   "execution_count": 9,
   "metadata": {},
   "outputs": [],
   "source": [
    "df['status'][df['kota'].str.contains('rpc')] = 'rpc'\n",
    "df['status'][df['kota'].str.contains('relok')] = 'relok'\n",
    "df['status'][df['kota'].str.contains('cancel')] = 'cancel'\n",
    "df['status'][df['kota'].str.contains('off')] = 'off'\n",
    "df['status'][df['kota'].str.contains('hold')] = 'hold'\n",
    "\n",
    "df['status'] = df['status'].replace('', 'aktif')"
   ]
  },
  {
   "cell_type": "code",
   "execution_count": 10,
   "metadata": {},
   "outputs": [
    {
     "data": {
      "text/plain": [
       "aktif     835\n",
       "off       171\n",
       "rpc       156\n",
       "cancel     43\n",
       "hold       40\n",
       "relok       2\n",
       "Name: status, dtype: int64"
      ]
     },
     "execution_count": 10,
     "metadata": {},
     "output_type": "execute_result"
    }
   ],
   "source": [
    "df['status'].value_counts()"
   ]
  },
  {
   "cell_type": "code",
   "execution_count": 11,
   "metadata": {},
   "outputs": [
    {
     "data": {
      "text/html": [
       "<div>\n",
       "<style scoped>\n",
       "    .dataframe tbody tr th:only-of-type {\n",
       "        vertical-align: middle;\n",
       "    }\n",
       "\n",
       "    .dataframe tbody tr th {\n",
       "        vertical-align: top;\n",
       "    }\n",
       "\n",
       "    .dataframe thead th {\n",
       "        text-align: right;\n",
       "    }\n",
       "</style>\n",
       "<table border=\"1\" class=\"dataframe\">\n",
       "  <thead>\n",
       "    <tr style=\"text-align: right;\">\n",
       "      <th></th>\n",
       "      <th>lokasi</th>\n",
       "      <th>kota</th>\n",
       "      <th>status</th>\n",
       "    </tr>\n",
       "  </thead>\n",
       "  <tbody>\n",
       "    <tr>\n",
       "      <th>409</th>\n",
       "      <td>graha energy (rpc)</td>\n",
       "      <td>jkt-hub iii hold</td>\n",
       "      <td>hold</td>\n",
       "    </tr>\n",
       "    <tr>\n",
       "      <th>449</th>\n",
       "      <td>capem buah batu (rpc)</td>\n",
       "      <td>bandung hold</td>\n",
       "      <td>hold</td>\n",
       "    </tr>\n",
       "    <tr>\n",
       "      <th>455</th>\n",
       "      <td>cabang cirebon (rpc)</td>\n",
       "      <td>cirebon hold</td>\n",
       "      <td>hold</td>\n",
       "    </tr>\n",
       "    <tr>\n",
       "      <th>399</th>\n",
       "      <td>kcp kebon jeruk (rpc)</td>\n",
       "      <td>jkt-hub ii hold</td>\n",
       "      <td>hold</td>\n",
       "    </tr>\n",
       "    <tr>\n",
       "      <th>859</th>\n",
       "      <td>alfamart lapangan bola 2</td>\n",
       "      <td>jkt-hub ii hold</td>\n",
       "      <td>hold</td>\n",
       "    </tr>\n",
       "    <tr>\n",
       "      <th>458</th>\n",
       "      <td>rs. putra bahagia (rpc)</td>\n",
       "      <td>cirebon hold</td>\n",
       "      <td>hold</td>\n",
       "    </tr>\n",
       "    <tr>\n",
       "      <th>846</th>\n",
       "      <td>alfamart senen raya - sevel cikini</td>\n",
       "      <td>jkt-hub iv-hold</td>\n",
       "      <td>hold</td>\n",
       "    </tr>\n",
       "    <tr>\n",
       "      <th>858</th>\n",
       "      <td>alfamart pancoran riverside</td>\n",
       "      <td>jkt-hub i hold</td>\n",
       "      <td>hold</td>\n",
       "    </tr>\n",
       "    <tr>\n",
       "      <th>857</th>\n",
       "      <td>alfamart ciputat raya 5</td>\n",
       "      <td>jkt-hub iii hold</td>\n",
       "      <td>hold</td>\n",
       "    </tr>\n",
       "    <tr>\n",
       "      <th>848</th>\n",
       "      <td>alfamart pspt tebet -  sevel pejaten</td>\n",
       "      <td>jkt-hub i hold</td>\n",
       "      <td>hold</td>\n",
       "    </tr>\n",
       "  </tbody>\n",
       "</table>\n",
       "</div>"
      ],
      "text/plain": [
       "                                   lokasi              kota status\n",
       "409                    graha energy (rpc)  jkt-hub iii hold   hold\n",
       "449                 capem buah batu (rpc)      bandung hold   hold\n",
       "455                  cabang cirebon (rpc)      cirebon hold   hold\n",
       "399                 kcp kebon jeruk (rpc)   jkt-hub ii hold   hold\n",
       "859              alfamart lapangan bola 2   jkt-hub ii hold   hold\n",
       "458               rs. putra bahagia (rpc)      cirebon hold   hold\n",
       "846    alfamart senen raya - sevel cikini   jkt-hub iv-hold   hold\n",
       "858           alfamart pancoran riverside    jkt-hub i hold   hold\n",
       "857               alfamart ciputat raya 5  jkt-hub iii hold   hold\n",
       "848  alfamart pspt tebet -  sevel pejaten    jkt-hub i hold   hold"
      ]
     },
     "execution_count": 11,
     "metadata": {},
     "output_type": "execute_result"
    }
   ],
   "source": [
    "df[df['status'].str.contains('hold')].sample(10)"
   ]
  },
  {
   "cell_type": "code",
   "execution_count": 12,
   "metadata": {},
   "outputs": [],
   "source": [
    "df['kota'] = df['kota'].str.replace(' off', '')\n",
    "df['kota'] = df['kota'].str.replace(' rpc', '')\n",
    "df['kota'] = df['kota'].str.replace(' cancel', '')\n",
    "df['kota'] = df['kota'].str.replace(' hold', '')\n",
    "df['kota'] = df['kota'].str.replace(' relok', '')"
   ]
  },
  {
   "cell_type": "markdown",
   "metadata": {},
   "source": [
    "## Jakarta"
   ]
  },
  {
   "cell_type": "code",
   "execution_count": 13,
   "metadata": {},
   "outputs": [],
   "source": [
    "for i in df['kota']:\n",
    "    if 'hub' in i:\n",
    "        df['kota'] = df['kota'].str.replace(i, 'jakarta')\n",
    "    if 'jakarta' in i:\n",
    "        x = i[:7]\n",
    "        df['kota'] = df['kota'].str.replace(i, x)"
   ]
  },
  {
   "cell_type": "code",
   "execution_count": 14,
   "metadata": {},
   "outputs": [
    {
     "data": {
      "text/html": [
       "<div>\n",
       "<style scoped>\n",
       "    .dataframe tbody tr th:only-of-type {\n",
       "        vertical-align: middle;\n",
       "    }\n",
       "\n",
       "    .dataframe tbody tr th {\n",
       "        vertical-align: top;\n",
       "    }\n",
       "\n",
       "    .dataframe thead th {\n",
       "        text-align: right;\n",
       "    }\n",
       "</style>\n",
       "<table border=\"1\" class=\"dataframe\">\n",
       "  <thead>\n",
       "    <tr style=\"text-align: right;\">\n",
       "      <th></th>\n",
       "      <th>kota</th>\n",
       "      <th>status</th>\n",
       "    </tr>\n",
       "  </thead>\n",
       "  <tbody>\n",
       "    <tr>\n",
       "      <th>1102</th>\n",
       "      <td>jakarta</td>\n",
       "      <td>aktif</td>\n",
       "    </tr>\n",
       "    <tr>\n",
       "      <th>959</th>\n",
       "      <td>jakarta</td>\n",
       "      <td>aktif</td>\n",
       "    </tr>\n",
       "    <tr>\n",
       "      <th>831</th>\n",
       "      <td>jakarta</td>\n",
       "      <td>aktif</td>\n",
       "    </tr>\n",
       "    <tr>\n",
       "      <th>186</th>\n",
       "      <td>jakarta</td>\n",
       "      <td>rpc</td>\n",
       "    </tr>\n",
       "    <tr>\n",
       "      <th>1089</th>\n",
       "      <td>jakarta</td>\n",
       "      <td>aktif</td>\n",
       "    </tr>\n",
       "    <tr>\n",
       "      <th>923</th>\n",
       "      <td>jakarta</td>\n",
       "      <td>off</td>\n",
       "    </tr>\n",
       "    <tr>\n",
       "      <th>904</th>\n",
       "      <td>jakarta</td>\n",
       "      <td>aktif</td>\n",
       "    </tr>\n",
       "    <tr>\n",
       "      <th>806</th>\n",
       "      <td>jakarta</td>\n",
       "      <td>aktif</td>\n",
       "    </tr>\n",
       "    <tr>\n",
       "      <th>908</th>\n",
       "      <td>jakarta</td>\n",
       "      <td>aktif</td>\n",
       "    </tr>\n",
       "    <tr>\n",
       "      <th>329</th>\n",
       "      <td>jakarta</td>\n",
       "      <td>off</td>\n",
       "    </tr>\n",
       "  </tbody>\n",
       "</table>\n",
       "</div>"
      ],
      "text/plain": [
       "         kota status\n",
       "1102  jakarta  aktif\n",
       "959   jakarta  aktif\n",
       "831   jakarta  aktif\n",
       "186   jakarta    rpc\n",
       "1089  jakarta  aktif\n",
       "923   jakarta    off\n",
       "904   jakarta  aktif\n",
       "806   jakarta  aktif\n",
       "908   jakarta  aktif\n",
       "329   jakarta    off"
      ]
     },
     "execution_count": 14,
     "metadata": {},
     "output_type": "execute_result"
    }
   ],
   "source": [
    "df[['kota', 'status']][df['kota'].str.contains('jakarta')].sample(10)"
   ]
  },
  {
   "cell_type": "markdown",
   "metadata": {},
   "source": [
    "## Top 5 kota aktif"
   ]
  },
  {
   "cell_type": "code",
   "execution_count": 15,
   "metadata": {},
   "outputs": [],
   "source": [
    "df2 = df[['kota', 'status']]"
   ]
  },
  {
   "cell_type": "code",
   "execution_count": 16,
   "metadata": {},
   "outputs": [
    {
     "data": {
      "text/plain": [
       "jakarta       195\n",
       "surabaya       49\n",
       "makasar        34\n",
       "solo           33\n",
       "yogyakarta     30\n",
       "Name: kota, dtype: int64"
      ]
     },
     "execution_count": 16,
     "metadata": {},
     "output_type": "execute_result"
    }
   ],
   "source": [
    "df2['kota'][df2['status'].str.contains('aktif')].value_counts().head()"
   ]
  },
  {
   "cell_type": "code",
   "execution_count": 17,
   "metadata": {},
   "outputs": [
    {
     "data": {
      "text/plain": [
       "<AxesSubplot:>"
      ]
     },
     "execution_count": 17,
     "metadata": {},
     "output_type": "execute_result"
    },
    {
     "data": {
      "image/png": "[encoded data removed]",
      "text/plain": [
       "<Figure size 720x360 with 1 Axes>"
      ]
     },
     "metadata": {
      "needs_background": "light"
     },
     "output_type": "display_data"
    }
   ],
   "source": [
    "df2['kota'][df2['status'].str.contains('aktif')].value_counts().head().sort_values().plot(kind='barh', figsize=(10, 5))"
   ]
  },
  {
   "cell_type": "markdown",
   "metadata": {},
   "source": [
    "## Kategori aktif di Jakarta"
   ]
  },
  {
   "cell_type": "code",
   "execution_count": 18,
   "metadata": {},
   "outputs": [],
   "source": [
    "df3 = df[['lokasi']][(df['kota']=='jakarta') & (df['status']=='aktif')]"
   ]
  },
  {
   "cell_type": "code",
   "execution_count": 19,
   "metadata": {},
   "outputs": [
    {
     "data": {
      "text/html": [
       "<div>\n",
       "<style scoped>\n",
       "    .dataframe tbody tr th:only-of-type {\n",
       "        vertical-align: middle;\n",
       "    }\n",
       "\n",
       "    .dataframe tbody tr th {\n",
       "        vertical-align: top;\n",
       "    }\n",
       "\n",
       "    .dataframe thead th {\n",
       "        text-align: right;\n",
       "    }\n",
       "</style>\n",
       "<table border=\"1\" class=\"dataframe\">\n",
       "  <thead>\n",
       "    <tr style=\"text-align: right;\">\n",
       "      <th></th>\n",
       "      <th>lokasi</th>\n",
       "    </tr>\n",
       "  </thead>\n",
       "  <tbody>\n",
       "    <tr>\n",
       "      <th>419</th>\n",
       "      <td>kk rspad (rpc)</td>\n",
       "    </tr>\n",
       "    <tr>\n",
       "      <th>799</th>\n",
       "      <td>rs pondok indah bintaro</td>\n",
       "    </tr>\n",
       "    <tr>\n",
       "      <th>1109</th>\n",
       "      <td>kk plaza menteng cikarang</td>\n",
       "    </tr>\n",
       "    <tr>\n",
       "      <th>601</th>\n",
       "      <td>alfa mart pulo gebang 4</td>\n",
       "    </tr>\n",
       "    <tr>\n",
       "      <th>1077</th>\n",
       "      <td>kk gedung bulog i</td>\n",
       "    </tr>\n",
       "    <tr>\n",
       "      <th>602</th>\n",
       "      <td>alfa mart gdc de caspia / alfamart kali mulya</td>\n",
       "    </tr>\n",
       "    <tr>\n",
       "      <th>888</th>\n",
       "      <td>capem pluit</td>\n",
       "    </tr>\n",
       "    <tr>\n",
       "      <th>1096</th>\n",
       "      <td>kcp billy moon</td>\n",
       "    </tr>\n",
       "    <tr>\n",
       "      <th>793</th>\n",
       "      <td>kcp bendungan hilir</td>\n",
       "    </tr>\n",
       "    <tr>\n",
       "      <th>876</th>\n",
       "      <td>kk rawamangun</td>\n",
       "    </tr>\n",
       "  </tbody>\n",
       "</table>\n",
       "</div>"
      ],
      "text/plain": [
       "                                             lokasi\n",
       "419                                  kk rspad (rpc)\n",
       "799                         rs pondok indah bintaro\n",
       "1109                      kk plaza menteng cikarang\n",
       "601                         alfa mart pulo gebang 4\n",
       "1077                              kk gedung bulog i\n",
       "602   alfa mart gdc de caspia / alfamart kali mulya\n",
       "888                                     capem pluit\n",
       "1096                                 kcp billy moon\n",
       "793                             kcp bendungan hilir\n",
       "876                                   kk rawamangun"
      ]
     },
     "execution_count": 19,
     "metadata": {},
     "output_type": "execute_result"
    }
   ],
   "source": [
    "df3.sample(10)"
   ]
  },
  {
   "cell_type": "code",
   "execution_count": 20,
   "metadata": {},
   "outputs": [],
   "source": [
    "lst_swalayan = []\n",
    "lst_swalayan_cat = ['toko', 'swalayan', 'tip top', 'carefour', 'indomaret', 'alfa mart', 'alfamart', 'giant', 'super indo']\n",
    "\n",
    "for i in lst_swalayan_cat:\n",
    "    for x in list(df3['lokasi'][df3['lokasi'].str.contains(i)]):\n",
    "        lst_swalayan.append(x)\n",
    "        \n",
    "len_swalayan = len(list(set(lst_swalayan)))"
   ]
  },
  {
   "cell_type": "code",
   "execution_count": 21,
   "metadata": {},
   "outputs": [
    {
     "data": {
      "text/plain": [
       "['tip top rawamangun ',\n",
       " 'tip top ciputat',\n",
       " 'tip top depok',\n",
       " 'tip top pondok bambu',\n",
       " 'atm indomaret kayu putih selatan',\n",
       " 'atm indomaret jaksa',\n",
       " 'atm indomaret pramuka',\n",
       " 'atm indomaret boulevard timur',\n",
       " 'atm indomaret hybrid sentra puri',\n",
       " 'atm indomaret srengseng 117',\n",
       " 'atm indomaret point samanhudi',\n",
       " 'indomaret gading serpong',\n",
       " 'alfa mart pasar minggu 2',\n",
       " 'alfa mart ptb angke  4',\n",
       " 'alfa mart cideng barat (ceba)',\n",
       " 'alfa mart utama raya',\n",
       " 'alfa mart terogong raya',\n",
       " 'alfa mart kemang utara',\n",
       " 'alfa mart rc. veteran  2',\n",
       " 'alfa mart jatiwaringin 2 (jwn2)',\n",
       " 'alfa mart raya  bogor  km 27',\n",
       " 'alfa mart pulo gebang 4',\n",
       " 'alfa mart gdc de caspia / alfamart kali mulya',\n",
       " 'alfa mart lenteng agung  barat',\n",
       " 'alfa mart gdc de caspia / alfamart kali mulya',\n",
       " 'arion plaza / alfamart paus',\n",
       " 'alfamart bekasi',\n",
       " 'super indo daan mogot / alok dr market city',\n",
       " 'super indo citra garden/ kk pln kalideres']"
      ]
     },
     "execution_count": 21,
     "metadata": {},
     "output_type": "execute_result"
    }
   ],
   "source": [
    "lst_swalayan"
   ]
  },
  {
   "cell_type": "code",
   "execution_count": 22,
   "metadata": {},
   "outputs": [],
   "source": [
    "lst_spbu = []\n",
    "lst_spbu_cat = ['spbu']\n",
    "\n",
    "for i in lst_spbu_cat:\n",
    "    for x in list(df3['lokasi'][df3['lokasi'].str.contains(i)]):\n",
    "        lst_spbu.append(x)\n",
    "\n",
    "len_spbu = len(list(set(lst_spbu)))  "
   ]
  },
  {
   "cell_type": "code",
   "execution_count": 23,
   "metadata": {},
   "outputs": [
    {
     "data": {
      "text/plain": [
       "['spbu kemanggisan',\n",
       " 'spbu pantai indah kapuk',\n",
       " 'spbu pluit permai / apartemen gp plaza',\n",
       " 'spbu joglo',\n",
       " 'spbu halim',\n",
       " 'spbu sunter pertamina',\n",
       " 'spbu pondok terong depok',\n",
       " 'spbu soebijanto',\n",
       " 'spbu condet',\n",
       " 'spbu cilangkap',\n",
       " 'spbu menteng',\n",
       " 'spbu pasar minggu',\n",
       " 'spbu deltamas cikarang / padang golf cikarang',\n",
       " 'spbu jatinegara / rs mmc',\n",
       " 'spbu pramuka  ',\n",
       " 'spbu tanjung barat eks sevel',\n",
       " 'spbu matraman',\n",
       " 'spbu cempaka putih',\n",
       " 'spbu rasuna said',\n",
       " 'spbu pertamina abdul muis',\n",
       " 'spbu km 27',\n",
       " 'spbu coco cikarang',\n",
       " 'spbu pulogadung',\n",
       " 'spbu 34-17514 mm2100 cibitung']"
      ]
     },
     "execution_count": 23,
     "metadata": {},
     "output_type": "execute_result"
    }
   ],
   "source": [
    "lst_spbu"
   ]
  },
  {
   "cell_type": "code",
   "execution_count": 24,
   "metadata": {},
   "outputs": [],
   "source": [
    "lst_kcp = []\n",
    "lst_kcp_cat = ['kcp']\n",
    "\n",
    "for i in lst_kcp_cat:\n",
    "    for x in list(df3['lokasi'][df3['lokasi'].str.contains(i)]):\n",
    "        lst_kcp.append(x)\n",
    "\n",
    "len_kcp = len(list(set(lst_kcp))) "
   ]
  },
  {
   "cell_type": "code",
   "execution_count": 25,
   "metadata": {},
   "outputs": [
    {
     "data": {
      "text/plain": [
       "['kcp itc roxy mas (rpc)',\n",
       " 'kcp s. parman (rpc)',\n",
       " 'kcp pondok indah 2 (rpc)',\n",
       " 'kcp melawai (rpc)',\n",
       " 'kcp gunung sahari (rpc)',\n",
       " 'kcp mangga dua (rpc)',\n",
       " 'kcp oil centre thamrin (rpc)',\n",
       " 'kcp ruko pondok gede (rpc)',\n",
       " 'kcp cikarang (rpc) - brubah ke hub 9 sjk mr 19',\n",
       " 'kcp mikro sunter (rpc)',\n",
       " 'kcp kelapa gading ',\n",
       " 'kcp pamulang',\n",
       " 'kcp kelapa gading ii',\n",
       " 'kcp bendungan hilir',\n",
       " 'kcp kemang',\n",
       " 'kcp s parman 2',\n",
       " 'kcp saharjo',\n",
       " 'kcp tebet',\n",
       " 'kcp bakrie tower',\n",
       " 'kcp plaza abda',\n",
       " 'kcp kby-baru',\n",
       " 'kcp radio dalam',\n",
       " 'kcp pln menteng ii',\n",
       " 'kcp bintaro jaya',\n",
       " 'kcp bsd city',\n",
       " 'kcp billy moon',\n",
       " 'kcp bekasi barat',\n",
       " 'kcp cibubur citra grand',\n",
       " 'kcp niaga kalimas',\n",
       " 'kcp tj. priok',\n",
       " 'kcp kb jeruk',\n",
       " 'kcp mampang']"
      ]
     },
     "execution_count": 25,
     "metadata": {},
     "output_type": "execute_result"
    }
   ],
   "source": [
    "lst_kcp"
   ]
  },
  {
   "cell_type": "code",
   "execution_count": 26,
   "metadata": {},
   "outputs": [],
   "source": [
    "lst_mall = []\n",
    "lst_mall_cat = ['mall', 'plaza']\n",
    "\n",
    "for i in lst_mall_cat:\n",
    "    for x in list(df3['lokasi'][df3['lokasi'].str.contains(i)]):\n",
    "        lst_mall.append(x)\n",
    "        \n",
    "len_mall = len(list(set(lst_mall)))"
   ]
  },
  {
   "cell_type": "code",
   "execution_count": 27,
   "metadata": {},
   "outputs": [
    {
     "data": {
      "text/plain": [
       "['cipinang indah mall',\n",
       " 'grand metropolitan mall',\n",
       " 'capem cinere mall (rpc)',\n",
       " 'lippo mall kemang/rest area cikampek km 19',\n",
       " 'spbu pluit permai / apartemen gp plaza',\n",
       " 'kk al-ashar / plaza blok m',\n",
       " 'kcp plaza abda',\n",
       " 'arion plaza / alfamart paus',\n",
       " 'kk plaza menteng cikarang']"
      ]
     },
     "execution_count": 27,
     "metadata": {},
     "output_type": "execute_result"
    }
   ],
   "source": [
    "lst_mall"
   ]
  },
  {
   "cell_type": "code",
   "execution_count": 28,
   "metadata": {},
   "outputs": [],
   "source": [
    "lst_univ = []\n",
    "lst_univ_cat = ['universitas', 'univ', 'kampus']\n",
    "\n",
    "for i in lst_univ_cat:\n",
    "    for x in list(df3['lokasi'][df3['lokasi'].str.contains(i)]):\n",
    "        lst_univ.append(x)\n",
    "        \n",
    "len_univ = len(list(set(lst_univ)))"
   ]
  },
  {
   "cell_type": "code",
   "execution_count": 29,
   "metadata": {},
   "outputs": [
    {
     "data": {
      "text/plain": [
       "['universitas esa unggul citra raya',\n",
       " 'universitas mercu buana',\n",
       " 'kk universitas jakarta',\n",
       " 'kk univ esa unggul - 2 (rpc)',\n",
       " 'universitas esa unggul citra raya',\n",
       " 'universitas mercu buana',\n",
       " 'kk universitas jakarta',\n",
       " 'kampus perbanas (rpc)',\n",
       " 'kk kampus ft ui depok']"
      ]
     },
     "execution_count": 29,
     "metadata": {},
     "output_type": "execute_result"
    }
   ],
   "source": [
    "lst_univ"
   ]
  },
  {
   "cell_type": "code",
   "execution_count": 30,
   "metadata": {},
   "outputs": [],
   "source": [
    "lst_pln = []\n",
    "lst_pln_cat = ['pln']\n",
    "\n",
    "for i in lst_pln_cat:\n",
    "    for x in list(df3['lokasi'][df3['lokasi'].str.contains(i)]):\n",
    "        lst_pln.append(x)\n",
    "        \n",
    "len_pln = len(list(set(lst_pln)))"
   ]
  },
  {
   "cell_type": "code",
   "execution_count": 31,
   "metadata": {},
   "outputs": [
    {
     "data": {
      "text/plain": [
       "['kk pln trunojoyo (pln pusat)- rpc',\n",
       " 'kk pln kebayoran baru (pln csw) - rpc',\n",
       " 'kk pln menteng',\n",
       " 'pln pondok gede',\n",
       " 'pln kota',\n",
       " 'lippo karawaci / pln bekasi/rsmk cibubur/ rs permata jonggol',\n",
       " 'kk pln duren tiga',\n",
       " 'super indo citra garden/ kk pln kalideres',\n",
       " 'kk pln jatinegara',\n",
       " 'kcp pln menteng ii',\n",
       " 'kk pln kramat jati',\n",
       " 'kk pln kalimalang']"
      ]
     },
     "execution_count": 31,
     "metadata": {},
     "output_type": "execute_result"
    }
   ],
   "source": [
    "lst_pln"
   ]
  },
  {
   "cell_type": "code",
   "execution_count": 32,
   "metadata": {},
   "outputs": [],
   "source": [
    "new_df_lokasi = pd.DataFrame(columns=('Cat', 'Count'))\n",
    "cat_lst = ['Swalayan', 'Mall', 'SPBU', 'Universitas', 'KCP', 'PLN']\n",
    "len_lst = [len_swalayan, len_mall, len_spbu, len_univ, len_kcp, len_pln]"
   ]
  },
  {
   "cell_type": "code",
   "execution_count": 33,
   "metadata": {},
   "outputs": [],
   "source": [
    "new_df_lokasi['Cat'] = cat_lst\n",
    "new_df_lokasi['Count'] = len_lst\n",
    "new_df_lokasi.sort_values('Count', ascending=False, inplace=True)"
   ]
  },
  {
   "cell_type": "code",
   "execution_count": 34,
   "metadata": {},
   "outputs": [
    {
     "data": {
      "text/html": [
       "<div>\n",
       "<style scoped>\n",
       "    .dataframe tbody tr th:only-of-type {\n",
       "        vertical-align: middle;\n",
       "    }\n",
       "\n",
       "    .dataframe tbody tr th {\n",
       "        vertical-align: top;\n",
       "    }\n",
       "\n",
       "    .dataframe thead th {\n",
       "        text-align: right;\n",
       "    }\n",
       "</style>\n",
       "<table border=\"1\" class=\"dataframe\">\n",
       "  <thead>\n",
       "    <tr style=\"text-align: right;\">\n",
       "      <th></th>\n",
       "      <th>Cat</th>\n",
       "      <th>Count</th>\n",
       "    </tr>\n",
       "  </thead>\n",
       "  <tbody>\n",
       "    <tr>\n",
       "      <th>4</th>\n",
       "      <td>KCP</td>\n",
       "      <td>32</td>\n",
       "    </tr>\n",
       "    <tr>\n",
       "      <th>0</th>\n",
       "      <td>Swalayan</td>\n",
       "      <td>28</td>\n",
       "    </tr>\n",
       "    <tr>\n",
       "      <th>2</th>\n",
       "      <td>SPBU</td>\n",
       "      <td>24</td>\n",
       "    </tr>\n",
       "    <tr>\n",
       "      <th>5</th>\n",
       "      <td>PLN</td>\n",
       "      <td>12</td>\n",
       "    </tr>\n",
       "    <tr>\n",
       "      <th>1</th>\n",
       "      <td>Mall</td>\n",
       "      <td>9</td>\n",
       "    </tr>\n",
       "    <tr>\n",
       "      <th>3</th>\n",
       "      <td>Universitas</td>\n",
       "      <td>6</td>\n",
       "    </tr>\n",
       "  </tbody>\n",
       "</table>\n",
       "</div>"
      ],
      "text/plain": [
       "           Cat  Count\n",
       "4          KCP     32\n",
       "0     Swalayan     28\n",
       "2         SPBU     24\n",
       "5          PLN     12\n",
       "1         Mall      9\n",
       "3  Universitas      6"
      ]
     },
     "execution_count": 34,
     "metadata": {},
     "output_type": "execute_result"
    }
   ],
   "source": [
    "new_df_lokasi"
   ]
  },
  {
   "cell_type": "code",
   "execution_count": 35,
   "metadata": {},
   "outputs": [
    {
     "data": {
      "text/plain": [
       "Text(0.5, 1.0, 'Kategori Lokasi Sewa ATM di Jakarta yang Aktif')"
      ]
     },
     "execution_count": 35,
     "metadata": {},
     "output_type": "execute_result"
    },
    {
     "data": {
      "image/png": "[encoded data removed]",
      "text/plain": [
       "<Figure size 720x360 with 1 Axes>"
      ]
     },
     "metadata": {
      "needs_background": "light"
     },
     "output_type": "display_data"
    }
   ],
   "source": [
    "plt.figure(figsize=(10, 5))\n",
    "sns.barplot(x='Cat', y='Count', data=new_df_lokasi)\n",
    "plt.title('Kategori Lokasi Sewa ATM di Jakarta yang Aktif')"
   ]
  },
  {
   "cell_type": "code",
   "execution_count": 39,
   "metadata": {},
   "outputs": [],
   "source": [
    "data2 = pd.read_excel('../data-cleaned.xlsx', sheet_name='data_aktifitas', index_col=0)"
   ]
  },
  {
   "cell_type": "code",
   "execution_count": 40,
   "metadata": {},
   "outputs": [
    {
     "data": {
      "text/plain": [
       "1    ruang uat dpti\n",
       "2    pln ahmad yani\n",
       "4      graha energy\n",
       "6         bkp medan\n",
       "7         bkp medan\n",
       "Name: lokasi, dtype: object"
      ]
     },
     "execution_count": 40,
     "metadata": {},
     "output_type": "execute_result"
    }
   ],
   "source": [
    "df4 = data2['lokasi']\n",
    "df4.head()"
   ]
  },
  {
   "cell_type": "code",
   "execution_count": 61,
   "metadata": {},
   "outputs": [],
   "source": [
    "df5 = df[['lokasi']][df['status']=='aktif']"
   ]
  },
  {
   "cell_type": "code",
   "execution_count": 62,
   "metadata": {},
   "outputs": [],
   "source": [
    "lst_swalayan_da = []\n",
    "lst_swalayan_sa = []\n",
    "lst_swalayan_cat = ['toko', 'swalayan', 'tip top', 'carefour', 'indomaret', 'alfa mart', 'alfamart', 'giant', 'super indo']\n",
    "\n",
    "for i in lst_swalayan_cat:\n",
    "    for x in list(df4[df4.str.contains(i)]):\n",
    "        lst_swalayan_da.append(x)\n",
    "    for x in list(df5['lokasi'][df5['lokasi'].str.contains(i)]):\n",
    "        lst_swalayan_sa.append(x)\n",
    "        \n",
    "len_swalayan_da = len(list(set(lst_swalayan_da)))\n",
    "len_swalayan_sa = len(list(set(lst_swalayan_sa)))"
   ]
  },
  {
   "cell_type": "code",
   "execution_count": 79,
   "metadata": {},
   "outputs": [],
   "source": [
    "new_df = pd.DataFrame(columns=('cat', 'count'))\n",
    "cat_lst = ['count_sewaatm', 'count_dataakifitas']\n",
    "len_lst = [len_swalayan_sa, len_swalayan_da]"
   ]
  },
  {
   "cell_type": "code",
   "execution_count": 80,
   "metadata": {},
   "outputs": [],
   "source": [
    "new_df['cat'] = cat_lst\n",
    "new_df['count'] = len_lst"
   ]
  },
  {
   "cell_type": "code",
   "execution_count": 81,
   "metadata": {},
   "outputs": [
    {
     "data": {
      "text/html": [
       "<div>\n",
       "<style scoped>\n",
       "    .dataframe tbody tr th:only-of-type {\n",
       "        vertical-align: middle;\n",
       "    }\n",
       "\n",
       "    .dataframe tbody tr th {\n",
       "        vertical-align: top;\n",
       "    }\n",
       "\n",
       "    .dataframe thead th {\n",
       "        text-align: right;\n",
       "    }\n",
       "</style>\n",
       "<table border=\"1\" class=\"dataframe\">\n",
       "  <thead>\n",
       "    <tr style=\"text-align: right;\">\n",
       "      <th></th>\n",
       "      <th>cat</th>\n",
       "      <th>count</th>\n",
       "    </tr>\n",
       "  </thead>\n",
       "  <tbody>\n",
       "    <tr>\n",
       "      <th>0</th>\n",
       "      <td>count_sewaatm</td>\n",
       "      <td>177</td>\n",
       "    </tr>\n",
       "    <tr>\n",
       "      <th>1</th>\n",
       "      <td>count_dataakifitas</td>\n",
       "      <td>142</td>\n",
       "    </tr>\n",
       "  </tbody>\n",
       "</table>\n",
       "</div>"
      ],
      "text/plain": [
       "                  cat  count\n",
       "0       count_sewaatm    177\n",
       "1  count_dataakifitas    142"
      ]
     },
     "execution_count": 81,
     "metadata": {},
     "output_type": "execute_result"
    }
   ],
   "source": [
    "new_df"
   ]
  },
  {
   "cell_type": "code",
   "execution_count": 83,
   "metadata": {},
   "outputs": [
    {
     "data": {
      "text/plain": [
       "Text(0.5, 1.0, 'Perbedaan Jumlah ATM Swalayan yang Aktif pada `SEWAATM` dan `Data Aktifitas`')"
      ]
     },
     "execution_count": 83,
     "metadata": {},
     "output_type": "execute_result"
    },
    {
     "data": {
      "image/png": "[encoded data removed]",
      "text/plain": [
       "<Figure size 720x360 with 1 Axes>"
      ]
     },
     "metadata": {
      "needs_background": "light"
     },
     "output_type": "display_data"
    }
   ],
   "source": [
    "plt.figure(figsize=(10, 5))\n",
    "sns.barplot(x='cat', y='count', data=new_df)\n",
    "plt.title('Perbedaan Jumlah ATM Swalayan yang Aktif pada `SEWAATM` dan `Data Aktifitas`')"
   ]
  },
  {
   "cell_type": "code",
   "execution_count": null,
   "metadata": {},
   "outputs": [],
   "source": []
  }
 ],
 "metadata": {
  "kernelspec": {
   "display_name": "Python 3",
   "language": "python",
   "name": "python3"
  },
  "language_info": {
   "codemirror_mode": {
    "name": "ipython",
    "version": 3
   },
   "file_extension": ".py",
   "mimetype": "text/x-python",
   "name": "python",
   "nbconvert_exporter": "python",
   "pygments_lexer": "ipython3",
   "version": "3.8.5"
  }
 },
 "nbformat": 4,
 "nbformat_minor": 4
}
