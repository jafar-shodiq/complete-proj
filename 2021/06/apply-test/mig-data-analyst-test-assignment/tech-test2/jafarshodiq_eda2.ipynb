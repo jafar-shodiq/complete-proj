{
 "cells": [
  {
   "cell_type": "code",
   "execution_count": 1,
   "metadata": {},
   "outputs": [],
   "source": [
    "import numpy as np\n",
    "import pandas as pd\n",
    "import seaborn as sns\n",
    "import matplotlib.pyplot as plt\n",
    "import warnings\n",
    "import time\n",
    "import datetime\n",
    "\n",
    "warnings.filterwarnings('ignore')\n",
    "sns.set_style('whitegrid')\n",
    "sns.set_palette('viridis')\n",
    "%matplotlib inline"
   ]
  },
  {
   "cell_type": "code",
   "execution_count": 3,
   "metadata": {},
   "outputs": [],
   "source": [
    "data = pd.read_excel('data_modified.xlsx', sheet_name='Stock Movement')"
   ]
  },
  {
   "cell_type": "code",
   "execution_count": 4,
   "metadata": {},
   "outputs": [],
   "source": [
    "df = data.copy()"
   ]
  },
  {
   "cell_type": "code",
   "execution_count": 6,
   "metadata": {},
   "outputs": [],
   "source": [
    "df.set_index('id', inplace=True)"
   ]
  },
  {
   "cell_type": "code",
   "execution_count": 7,
   "metadata": {},
   "outputs": [
    {
     "data": {
      "text/html": [
       "<div>\n",
       "<style scoped>\n",
       "    .dataframe tbody tr th:only-of-type {\n",
       "        vertical-align: middle;\n",
       "    }\n",
       "\n",
       "    .dataframe tbody tr th {\n",
       "        vertical-align: top;\n",
       "    }\n",
       "\n",
       "    .dataframe thead th {\n",
       "        text-align: right;\n",
       "    }\n",
       "</style>\n",
       "<table border=\"1\" class=\"dataframe\">\n",
       "  <thead>\n",
       "    <tr style=\"text-align: right;\">\n",
       "      <th></th>\n",
       "      <th>trans_id</th>\n",
       "      <th>qty</th>\n",
       "      <th>trans_date</th>\n",
       "      <th>trans_cat</th>\n",
       "      <th>warehouse_code</th>\n",
       "      <th>tenant_code</th>\n",
       "    </tr>\n",
       "    <tr>\n",
       "      <th>id</th>\n",
       "      <th></th>\n",
       "      <th></th>\n",
       "      <th></th>\n",
       "      <th></th>\n",
       "      <th></th>\n",
       "      <th></th>\n",
       "    </tr>\n",
       "  </thead>\n",
       "  <tbody>\n",
       "    <tr>\n",
       "      <th>1</th>\n",
       "      <td>INB00359486</td>\n",
       "      <td>40</td>\n",
       "      <td>2020-10-22 14:20:00</td>\n",
       "      <td>Inbound</td>\n",
       "      <td>WH3</td>\n",
       "      <td>XYZ</td>\n",
       "    </tr>\n",
       "    <tr>\n",
       "      <th>2</th>\n",
       "      <td>OUT00000412</td>\n",
       "      <td>1</td>\n",
       "      <td>2020-10-24 11:46:00</td>\n",
       "      <td>Outbound</td>\n",
       "      <td>WH3</td>\n",
       "      <td>XYZ</td>\n",
       "    </tr>\n",
       "    <tr>\n",
       "      <th>3</th>\n",
       "      <td>OUT00003133</td>\n",
       "      <td>1</td>\n",
       "      <td>2020-10-26 14:04:00</td>\n",
       "      <td>Outbound</td>\n",
       "      <td>WH3</td>\n",
       "      <td>XYZ</td>\n",
       "    </tr>\n",
       "    <tr>\n",
       "      <th>4</th>\n",
       "      <td>OUT00001393</td>\n",
       "      <td>1</td>\n",
       "      <td>2020-10-28 14:20:00</td>\n",
       "      <td>Outbound</td>\n",
       "      <td>WH3</td>\n",
       "      <td>XYZ</td>\n",
       "    </tr>\n",
       "    <tr>\n",
       "      <th>5</th>\n",
       "      <td>INB00360130</td>\n",
       "      <td>7</td>\n",
       "      <td>2020-10-28 14:58:00</td>\n",
       "      <td>Inbound</td>\n",
       "      <td>WH3</td>\n",
       "      <td>XYZ</td>\n",
       "    </tr>\n",
       "    <tr>\n",
       "      <th>...</th>\n",
       "      <td>...</td>\n",
       "      <td>...</td>\n",
       "      <td>...</td>\n",
       "      <td>...</td>\n",
       "      <td>...</td>\n",
       "      <td>...</td>\n",
       "    </tr>\n",
       "    <tr>\n",
       "      <th>100569</th>\n",
       "      <td>OUT00021496</td>\n",
       "      <td>2</td>\n",
       "      <td>2020-11-20 11:12:00</td>\n",
       "      <td>Outbound</td>\n",
       "      <td>WH3</td>\n",
       "      <td>XYZ</td>\n",
       "    </tr>\n",
       "    <tr>\n",
       "      <th>100571</th>\n",
       "      <td>INB00362586</td>\n",
       "      <td>2</td>\n",
       "      <td>2020-11-27 17:35:00</td>\n",
       "      <td>Inbound</td>\n",
       "      <td>WH3</td>\n",
       "      <td>XYZ</td>\n",
       "    </tr>\n",
       "    <tr>\n",
       "      <th>100572</th>\n",
       "      <td>OUT00038471</td>\n",
       "      <td>1</td>\n",
       "      <td>2020-12-21 10:12:00</td>\n",
       "      <td>Outbound</td>\n",
       "      <td>WH3</td>\n",
       "      <td>XYZ</td>\n",
       "    </tr>\n",
       "    <tr>\n",
       "      <th>100573</th>\n",
       "      <td>OUT00042731</td>\n",
       "      <td>1</td>\n",
       "      <td>2020-12-30 10:59:00</td>\n",
       "      <td>Outbound</td>\n",
       "      <td>WH3</td>\n",
       "      <td>XYZ</td>\n",
       "    </tr>\n",
       "    <tr>\n",
       "      <th>100574</th>\n",
       "      <td>OUT00054254</td>\n",
       "      <td>1</td>\n",
       "      <td>2021-01-15 10:46:00</td>\n",
       "      <td>Outbound</td>\n",
       "      <td>WH3</td>\n",
       "      <td>XYZ</td>\n",
       "    </tr>\n",
       "  </tbody>\n",
       "</table>\n",
       "<p>92641 rows × 6 columns</p>\n",
       "</div>"
      ],
      "text/plain": [
       "           trans_id  qty          trans_date trans_cat warehouse_code  \\\n",
       "id                                                                      \n",
       "1       INB00359486   40 2020-10-22 14:20:00   Inbound            WH3   \n",
       "2       OUT00000412    1 2020-10-24 11:46:00  Outbound            WH3   \n",
       "3       OUT00003133    1 2020-10-26 14:04:00  Outbound            WH3   \n",
       "4       OUT00001393    1 2020-10-28 14:20:00  Outbound            WH3   \n",
       "5       INB00360130    7 2020-10-28 14:58:00   Inbound            WH3   \n",
       "...             ...  ...                 ...       ...            ...   \n",
       "100569  OUT00021496    2 2020-11-20 11:12:00  Outbound            WH3   \n",
       "100571  INB00362586    2 2020-11-27 17:35:00   Inbound            WH3   \n",
       "100572  OUT00038471    1 2020-12-21 10:12:00  Outbound            WH3   \n",
       "100573  OUT00042731    1 2020-12-30 10:59:00  Outbound            WH3   \n",
       "100574  OUT00054254    1 2021-01-15 10:46:00  Outbound            WH3   \n",
       "\n",
       "       tenant_code  \n",
       "id                  \n",
       "1              XYZ  \n",
       "2              XYZ  \n",
       "3              XYZ  \n",
       "4              XYZ  \n",
       "5              XYZ  \n",
       "...            ...  \n",
       "100569         XYZ  \n",
       "100571         XYZ  \n",
       "100572         XYZ  \n",
       "100573         XYZ  \n",
       "100574         XYZ  \n",
       "\n",
       "[92641 rows x 6 columns]"
      ]
     },
     "execution_count": 7,
     "metadata": {},
     "output_type": "execute_result"
    }
   ],
   "source": [
    "df"
   ]
  },
  {
   "cell_type": "code",
   "execution_count": 45,
   "metadata": {},
   "outputs": [],
   "source": [
    "year_2021_bool = df['trans_date'].dt.year==2021\n",
    "\n",
    "month_jan_bool = df['trans_date'].dt.month==1\n",
    "month_feb_bool = df['trans_date'].dt.month==2\n",
    "month_mar_bool = df['trans_date'].dt.month==3\n",
    "\n",
    "outbound_bool = df['trans_cat']=='Outbound'"
   ]
  },
  {
   "cell_type": "code",
   "execution_count": 46,
   "metadata": {},
   "outputs": [],
   "source": [
    "out_2021_jan_sum = df['qty'][(year_2021_bool) & (month_jan_bool) & (outbound_bool)].sum()\n",
    "out_2021_feb_sum = df['qty'][(year_2021_bool) & (month_feb_bool) & (outbound_bool)].sum()\n",
    "out_2021_mar_sum = df['qty'][(year_2021_bool) & (month_mar_bool) & (outbound_bool)].sum()"
   ]
  },
  {
   "cell_type": "code",
   "execution_count": 36,
   "metadata": {},
   "outputs": [
    {
     "data": {
      "text/plain": [
       "15664"
      ]
     },
     "execution_count": 36,
     "metadata": {},
     "output_type": "execute_result"
    }
   ],
   "source": [
    "out_2021_jan_sum"
   ]
  },
  {
   "cell_type": "code",
   "execution_count": 35,
   "metadata": {},
   "outputs": [
    {
     "data": {
      "text/plain": [
       "21888"
      ]
     },
     "execution_count": 35,
     "metadata": {},
     "output_type": "execute_result"
    }
   ],
   "source": [
    "out_2021_feb_sum"
   ]
  },
  {
   "cell_type": "code",
   "execution_count": 52,
   "metadata": {},
   "outputs": [],
   "source": [
    "df_percent = pd.DataFrame()"
   ]
  },
  {
   "cell_type": "code",
   "execution_count": 53,
   "metadata": {},
   "outputs": [],
   "source": [
    "df_percent['Month'] = ['January', 'February', 'March']\n",
    "df_percent['Sum'] = [out_2021_jan_sum, out_2021_feb_sum, out_2021_mar_sum]"
   ]
  },
  {
   "cell_type": "code",
   "execution_count": 74,
   "metadata": {},
   "outputs": [
    {
     "data": {
      "text/html": [
       "<div>\n",
       "<style scoped>\n",
       "    .dataframe tbody tr th:only-of-type {\n",
       "        vertical-align: middle;\n",
       "    }\n",
       "\n",
       "    .dataframe tbody tr th {\n",
       "        vertical-align: top;\n",
       "    }\n",
       "\n",
       "    .dataframe thead th {\n",
       "        text-align: right;\n",
       "    }\n",
       "</style>\n",
       "<table border=\"1\" class=\"dataframe\">\n",
       "  <thead>\n",
       "    <tr style=\"text-align: right;\">\n",
       "      <th></th>\n",
       "      <th>Month</th>\n",
       "      <th>Sum</th>\n",
       "    </tr>\n",
       "  </thead>\n",
       "  <tbody>\n",
       "    <tr>\n",
       "      <th>0</th>\n",
       "      <td>January</td>\n",
       "      <td>15664</td>\n",
       "    </tr>\n",
       "    <tr>\n",
       "      <th>1</th>\n",
       "      <td>February</td>\n",
       "      <td>21888</td>\n",
       "    </tr>\n",
       "    <tr>\n",
       "      <th>2</th>\n",
       "      <td>March</td>\n",
       "      <td>12382</td>\n",
       "    </tr>\n",
       "  </tbody>\n",
       "</table>\n",
       "</div>"
      ],
      "text/plain": [
       "      Month    Sum\n",
       "0   January  15664\n",
       "1  February  21888\n",
       "2     March  12382"
      ]
     },
     "execution_count": 74,
     "metadata": {},
     "output_type": "execute_result"
    }
   ],
   "source": [
    "df_percent"
   ]
  },
  {
   "cell_type": "code",
   "execution_count": 82,
   "metadata": {},
   "outputs": [
    {
     "data": {
      "text/plain": [
       "(12000.0, 22000.0)"
      ]
     },
     "execution_count": 82,
     "metadata": {},
     "output_type": "execute_result"
    },
    {
     "data": {
      "image/png": "[encoded data removed]",
      "text/plain": [
       "<Figure size 864x576 with 1 Axes>"
      ]
     },
     "metadata": {
      "needs_background": "light"
     },
     "output_type": "display_data"
    }
   ],
   "source": [
    "plt.figure(figsize=(12, 8))\n",
    "sns.lineplot(x='Month', y='Sum', data=df_percent)\n",
    "plt.title('2021 Outbound Sum')\n",
    "plt.xlim('January', 'March')\n",
    "plt.ylim(12000, 22000)"
   ]
  },
  {
   "cell_type": "code",
   "execution_count": 58,
   "metadata": {},
   "outputs": [],
   "source": [
    "ori = 90\n",
    "new = 86"
   ]
  },
  {
   "cell_type": "code",
   "execution_count": 59,
   "metadata": {},
   "outputs": [],
   "source": [
    "inc = new - ori"
   ]
  },
  {
   "cell_type": "code",
   "execution_count": 61,
   "metadata": {},
   "outputs": [
    {
     "data": {
      "text/plain": [
       "-4.444444444444445"
      ]
     },
     "execution_count": 61,
     "metadata": {},
     "output_type": "execute_result"
    }
   ],
   "source": [
    "(inc/ori) * 100"
   ]
  },
  {
   "cell_type": "code",
   "execution_count": 72,
   "metadata": {},
   "outputs": [
    {
     "name": "stdout",
     "output_type": "stream",
     "text": [
      "Outbound 2021 in February has changed 39.73% from January\n",
      "Outbound 2021 in March has changed -43.43% from February\n"
     ]
    }
   ],
   "source": [
    "print('Outbound 2021 in February has changed {0:.2f}% from January'.format(((out_2021_feb_sum - out_2021_jan_sum) / out_2021_jan_sum)*100))\n",
    "print('Outbound 2021 in March has changed {0:.2f}% from February'.format(((out_2021_mar_sum - out_2021_feb_sum) / out_2021_feb_sum)*100))"
   ]
  },
  {
   "cell_type": "code",
   "execution_count": 83,
   "metadata": {},
   "outputs": [
    {
     "data": {
      "text/html": [
       "<div>\n",
       "<style scoped>\n",
       "    .dataframe tbody tr th:only-of-type {\n",
       "        vertical-align: middle;\n",
       "    }\n",
       "\n",
       "    .dataframe tbody tr th {\n",
       "        vertical-align: top;\n",
       "    }\n",
       "\n",
       "    .dataframe thead th {\n",
       "        text-align: right;\n",
       "    }\n",
       "</style>\n",
       "<table border=\"1\" class=\"dataframe\">\n",
       "  <thead>\n",
       "    <tr style=\"text-align: right;\">\n",
       "      <th></th>\n",
       "      <th>trans_id</th>\n",
       "      <th>qty</th>\n",
       "      <th>trans_date</th>\n",
       "      <th>trans_cat</th>\n",
       "      <th>warehouse_code</th>\n",
       "      <th>tenant_code</th>\n",
       "    </tr>\n",
       "    <tr>\n",
       "      <th>id</th>\n",
       "      <th></th>\n",
       "      <th></th>\n",
       "      <th></th>\n",
       "      <th></th>\n",
       "      <th></th>\n",
       "      <th></th>\n",
       "    </tr>\n",
       "  </thead>\n",
       "  <tbody>\n",
       "    <tr>\n",
       "      <th>1</th>\n",
       "      <td>INB00359486</td>\n",
       "      <td>40</td>\n",
       "      <td>2020-10-22 14:20:00</td>\n",
       "      <td>Inbound</td>\n",
       "      <td>WH3</td>\n",
       "      <td>XYZ</td>\n",
       "    </tr>\n",
       "    <tr>\n",
       "      <th>2</th>\n",
       "      <td>OUT00000412</td>\n",
       "      <td>1</td>\n",
       "      <td>2020-10-24 11:46:00</td>\n",
       "      <td>Outbound</td>\n",
       "      <td>WH3</td>\n",
       "      <td>XYZ</td>\n",
       "    </tr>\n",
       "    <tr>\n",
       "      <th>3</th>\n",
       "      <td>OUT00003133</td>\n",
       "      <td>1</td>\n",
       "      <td>2020-10-26 14:04:00</td>\n",
       "      <td>Outbound</td>\n",
       "      <td>WH3</td>\n",
       "      <td>XYZ</td>\n",
       "    </tr>\n",
       "    <tr>\n",
       "      <th>4</th>\n",
       "      <td>OUT00001393</td>\n",
       "      <td>1</td>\n",
       "      <td>2020-10-28 14:20:00</td>\n",
       "      <td>Outbound</td>\n",
       "      <td>WH3</td>\n",
       "      <td>XYZ</td>\n",
       "    </tr>\n",
       "    <tr>\n",
       "      <th>5</th>\n",
       "      <td>INB00360130</td>\n",
       "      <td>7</td>\n",
       "      <td>2020-10-28 14:58:00</td>\n",
       "      <td>Inbound</td>\n",
       "      <td>WH3</td>\n",
       "      <td>XYZ</td>\n",
       "    </tr>\n",
       "    <tr>\n",
       "      <th>...</th>\n",
       "      <td>...</td>\n",
       "      <td>...</td>\n",
       "      <td>...</td>\n",
       "      <td>...</td>\n",
       "      <td>...</td>\n",
       "      <td>...</td>\n",
       "    </tr>\n",
       "    <tr>\n",
       "      <th>100569</th>\n",
       "      <td>OUT00021496</td>\n",
       "      <td>2</td>\n",
       "      <td>2020-11-20 11:12:00</td>\n",
       "      <td>Outbound</td>\n",
       "      <td>WH3</td>\n",
       "      <td>XYZ</td>\n",
       "    </tr>\n",
       "    <tr>\n",
       "      <th>100571</th>\n",
       "      <td>INB00362586</td>\n",
       "      <td>2</td>\n",
       "      <td>2020-11-27 17:35:00</td>\n",
       "      <td>Inbound</td>\n",
       "      <td>WH3</td>\n",
       "      <td>XYZ</td>\n",
       "    </tr>\n",
       "    <tr>\n",
       "      <th>100572</th>\n",
       "      <td>OUT00038471</td>\n",
       "      <td>1</td>\n",
       "      <td>2020-12-21 10:12:00</td>\n",
       "      <td>Outbound</td>\n",
       "      <td>WH3</td>\n",
       "      <td>XYZ</td>\n",
       "    </tr>\n",
       "    <tr>\n",
       "      <th>100573</th>\n",
       "      <td>OUT00042731</td>\n",
       "      <td>1</td>\n",
       "      <td>2020-12-30 10:59:00</td>\n",
       "      <td>Outbound</td>\n",
       "      <td>WH3</td>\n",
       "      <td>XYZ</td>\n",
       "    </tr>\n",
       "    <tr>\n",
       "      <th>100574</th>\n",
       "      <td>OUT00054254</td>\n",
       "      <td>1</td>\n",
       "      <td>2021-01-15 10:46:00</td>\n",
       "      <td>Outbound</td>\n",
       "      <td>WH3</td>\n",
       "      <td>XYZ</td>\n",
       "    </tr>\n",
       "  </tbody>\n",
       "</table>\n",
       "<p>92641 rows × 6 columns</p>\n",
       "</div>"
      ],
      "text/plain": [
       "           trans_id  qty          trans_date trans_cat warehouse_code  \\\n",
       "id                                                                      \n",
       "1       INB00359486   40 2020-10-22 14:20:00   Inbound            WH3   \n",
       "2       OUT00000412    1 2020-10-24 11:46:00  Outbound            WH3   \n",
       "3       OUT00003133    1 2020-10-26 14:04:00  Outbound            WH3   \n",
       "4       OUT00001393    1 2020-10-28 14:20:00  Outbound            WH3   \n",
       "5       INB00360130    7 2020-10-28 14:58:00   Inbound            WH3   \n",
       "...             ...  ...                 ...       ...            ...   \n",
       "100569  OUT00021496    2 2020-11-20 11:12:00  Outbound            WH3   \n",
       "100571  INB00362586    2 2020-11-27 17:35:00   Inbound            WH3   \n",
       "100572  OUT00038471    1 2020-12-21 10:12:00  Outbound            WH3   \n",
       "100573  OUT00042731    1 2020-12-30 10:59:00  Outbound            WH3   \n",
       "100574  OUT00054254    1 2021-01-15 10:46:00  Outbound            WH3   \n",
       "\n",
       "       tenant_code  \n",
       "id                  \n",
       "1              XYZ  \n",
       "2              XYZ  \n",
       "3              XYZ  \n",
       "4              XYZ  \n",
       "5              XYZ  \n",
       "...            ...  \n",
       "100569         XYZ  \n",
       "100571         XYZ  \n",
       "100572         XYZ  \n",
       "100573         XYZ  \n",
       "100574         XYZ  \n",
       "\n",
       "[92641 rows x 6 columns]"
      ]
     },
     "execution_count": 83,
     "metadata": {},
     "output_type": "execute_result"
    }
   ],
   "source": [
    "df"
   ]
  },
  {
   "cell_type": "code",
   "execution_count": 92,
   "metadata": {},
   "outputs": [
    {
     "name": "stdout",
     "output_type": "stream",
     "text": [
      "Warehouses Inbound\n",
      "WH3    1380\n",
      "WH1    1356\n",
      "WH2    1242\n",
      "WH4    1233\n",
      "Name: warehouse_code, dtype: int64\n"
     ]
    }
   ],
   "source": [
    "print('Warehouses Inbound')\n",
    "print(df['warehouse_code'][df['trans_cat']=='Inbound'].value_counts())"
   ]
  },
  {
   "cell_type": "code",
   "execution_count": 93,
   "metadata": {},
   "outputs": [
    {
     "name": "stdout",
     "output_type": "stream",
     "text": [
      "Warehouses Outbound\n",
      "WH1    31167\n",
      "WH3    22005\n",
      "WH4    17533\n",
      "WH2    16725\n",
      "Name: warehouse_code, dtype: int64\n"
     ]
    }
   ],
   "source": [
    "print('Warehouses Outbound')\n",
    "print(df['warehouse_code'][df['trans_cat']=='Outbound'].value_counts())"
   ]
  },
  {
   "cell_type": "code",
   "execution_count": 114,
   "metadata": {},
   "outputs": [
    {
     "data": {
      "text/plain": [
       "Text(0.5, 0, 'Activity')"
      ]
     },
     "execution_count": 114,
     "metadata": {},
     "output_type": "execute_result"
    },
    {
     "data": {
      "image/png": "[encoded data removed]",
      "text/plain": [
       "<Figure size 720x432 with 1 Axes>"
      ]
     },
     "metadata": {
      "needs_background": "light"
     },
     "output_type": "display_data"
    }
   ],
   "source": [
    "plt.figure(figsize=(10, 6))\n",
    "df['trans_date'][(df['warehouse_code']=='WH1')].dt.month.value_counts().sort_values().plot(kind='barh')\n",
    "plt.title('WH1 (Jakarta) Activity Month')\n",
    "plt.ylabel('Month')\n",
    "plt.xlabel('Activity')"
   ]
  },
  {
   "cell_type": "code",
   "execution_count": 122,
   "metadata": {},
   "outputs": [
    {
     "data": {
      "text/plain": [
       "Text(0.5, 0, 'Activity')"
      ]
     },
     "execution_count": 122,
     "metadata": {},
     "output_type": "execute_result"
    },
    {
     "data": {
      "image/png": "[encoded data removed]",
      "text/plain": [
       "<Figure size 720x432 with 1 Axes>"
      ]
     },
     "metadata": {
      "needs_background": "light"
     },
     "output_type": "display_data"
    }
   ],
   "source": [
    "plt.figure(figsize=(10, 6))\n",
    "df['trans_date'][(df['warehouse_code']=='WH2')].dt.month.value_counts().sort_values().plot(kind='barh')\n",
    "plt.title('WH2 (Bogor) Activity Month')\n",
    "plt.ylabel('Month')\n",
    "plt.xlabel('Activity')"
   ]
  },
  {
   "cell_type": "code",
   "execution_count": 119,
   "metadata": {},
   "outputs": [
    {
     "data": {
      "text/plain": [
       "Text(0.5, 0, 'Activity')"
      ]
     },
     "execution_count": 119,
     "metadata": {},
     "output_type": "execute_result"
    },
    {
     "data": {
      "image/png": "[encoded data removed]",
      "text/plain": [
       "<Figure size 720x432 with 1 Axes>"
      ]
     },
     "metadata": {
      "needs_background": "light"
     },
     "output_type": "display_data"
    }
   ],
   "source": [
    "plt.figure(figsize=(10, 6))\n",
    "df['trans_date'][(df['warehouse_code']=='WH3')].dt.month.value_counts().sort_values().plot(kind='barh')\n",
    "plt.title('WH3 (Tangerang) Activity Month')\n",
    "plt.ylabel('Month')\n",
    "plt.xlabel('Activity')"
   ]
  },
  {
   "cell_type": "code",
   "execution_count": 118,
   "metadata": {},
   "outputs": [
    {
     "data": {
      "text/plain": [
       "Text(0.5, 0, 'Activity')"
      ]
     },
     "execution_count": 118,
     "metadata": {},
     "output_type": "execute_result"
    },
    {
     "data": {
      "image/png": "[encoded data removed]",
      "text/plain": [
       "<Figure size 720x432 with 1 Axes>"
      ]
     },
     "metadata": {
      "needs_background": "light"
     },
     "output_type": "display_data"
    }
   ],
   "source": [
    "plt.figure(figsize=(10, 6))\n",
    "df['trans_date'][(df['warehouse_code']=='WH4')].dt.month.value_counts().sort_values().plot(kind='barh')\n",
    "plt.title('WH4 (Bekasi) Activity Month')\n",
    "plt.ylabel('Month')\n",
    "plt.xlabel('Activity')"
   ]
  },
  {
   "cell_type": "code",
   "execution_count": null,
   "metadata": {},
   "outputs": [],
   "source": []
  }
 ],
 "metadata": {
  "kernelspec": {
   "display_name": "Python 3",
   "language": "python",
   "name": "python3"
  },
  "language_info": {
   "codemirror_mode": {
    "name": "ipython",
    "version": 3
   },
   "file_extension": ".py",
   "mimetype": "text/x-python",
   "name": "python",
   "nbconvert_exporter": "python",
   "pygments_lexer": "ipython3",
   "version": "3.8.5"
  }
 },
 "nbformat": 4,
 "nbformat_minor": 4
}
