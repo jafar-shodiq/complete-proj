{
 "cells": [
  {
   "cell_type": "code",
   "execution_count": 1,
   "metadata": {},
   "outputs": [],
   "source": [
    "import numpy as np\n",
    "import pandas as pd\n",
    "from openpyxl import load_workbook\n",
    "import warnings\n",
    "warnings.filterwarnings('ignore')"
   ]
  },
  {
   "cell_type": "code",
   "execution_count": 2,
   "metadata": {},
   "outputs": [],
   "source": [
    "data = pd.read_excel('data-set.xlsx', sheet_name='Data Aktifitas', header=3)"
   ]
  },
  {
   "cell_type": "code",
   "execution_count": 3,
   "metadata": {},
   "outputs": [],
   "source": [
    "df = data.copy() # Run cell ini agar tidak perlu load read_excel"
   ]
  },
  {
   "cell_type": "code",
   "execution_count": 4,
   "metadata": {},
   "outputs": [],
   "source": [
    "df.reset_index()\n",
    "df.index += 1"
   ]
  },
  {
   "cell_type": "code",
   "execution_count": 5,
   "metadata": {},
   "outputs": [],
   "source": [
    "df.drop('No.', axis=1, inplace=True)"
   ]
  },
  {
   "cell_type": "code",
   "execution_count": 6,
   "metadata": {},
   "outputs": [
    {
     "data": {
      "text/html": [
       "<div>\n",
       "<style scoped>\n",
       "    .dataframe tbody tr th:only-of-type {\n",
       "        vertical-align: middle;\n",
       "    }\n",
       "\n",
       "    .dataframe tbody tr th {\n",
       "        vertical-align: top;\n",
       "    }\n",
       "\n",
       "    .dataframe thead th {\n",
       "        text-align: right;\n",
       "    }\n",
       "</style>\n",
       "<table border=\"1\" class=\"dataframe\">\n",
       "  <thead>\n",
       "    <tr style=\"text-align: right;\">\n",
       "      <th></th>\n",
       "      <th>Tanggal</th>\n",
       "      <th>Nomor</th>\n",
       "      <th>ATM ID</th>\n",
       "      <th>Lokasi</th>\n",
       "      <th>Jenis Layanan</th>\n",
       "      <th>Laporan Kerusakan</th>\n",
       "      <th>Pekerjaan Dilakukan</th>\n",
       "      <th>Nomor Tiket</th>\n",
       "      <th>Penggantian Sparepart</th>\n",
       "      <th>Jumlah Part</th>\n",
       "      <th>Status</th>\n",
       "      <th>CSE</th>\n",
       "      <th>Pilihan</th>\n",
       "    </tr>\n",
       "  </thead>\n",
       "  <tbody>\n",
       "    <tr>\n",
       "      <th>1</th>\n",
       "      <td>16 Juli 2020</td>\n",
       "      <td>88826.0</td>\n",
       "      <td>ATM00001</td>\n",
       "      <td>RUANG UAT DPTI</td>\n",
       "      <td>Error</td>\n",
       "      <td>Hardware</td>\n",
       "      <td>Check &amp; Clean all devices, replace ..............</td>\n",
       "      <td>2007-100</td>\n",
       "      <td>Hard Disk</td>\n",
       "      <td>1</td>\n",
       "      <td></td>\n",
       "      <td>M. Yani</td>\n",
       "      <td>NaN</td>\n",
       "    </tr>\n",
       "    <tr>\n",
       "      <th>2</th>\n",
       "      <td>03 Maret 2020</td>\n",
       "      <td>86010.0</td>\n",
       "      <td>ATM120029008</td>\n",
       "      <td>PLN AHMAD YANI</td>\n",
       "      <td>Error</td>\n",
       "      <td>Hardware</td>\n",
       "      <td>Check &amp; Clean all devices, replace EPP5 &amp; CCA ...</td>\n",
       "      <td>2003-028</td>\n",
       "      <td>CCA Dispenser (CCA Kit Presenter Ctrl.) 49-747...</td>\n",
       "      <td>1</td>\n",
       "      <td></td>\n",
       "      <td>Hendri Apridzal</td>\n",
       "      <td>NaN</td>\n",
       "    </tr>\n",
       "    <tr>\n",
       "      <th>3</th>\n",
       "      <td>NaN</td>\n",
       "      <td>NaN</td>\n",
       "      <td>NaN</td>\n",
       "      <td>NaN</td>\n",
       "      <td>NaN</td>\n",
       "      <td>NaN</td>\n",
       "      <td>NaN</td>\n",
       "      <td>NaN</td>\n",
       "      <td>EPP5(BSC),LGE,STTL,ENG(AU),QZ1,BLANK,X,I,O</td>\n",
       "      <td>1</td>\n",
       "      <td></td>\n",
       "      <td>Hendri Apridzal</td>\n",
       "      <td>NaN</td>\n",
       "    </tr>\n",
       "    <tr>\n",
       "      <th>4</th>\n",
       "      <td>02 September 2020</td>\n",
       "      <td>90681.0</td>\n",
       "      <td>ATM120044005</td>\n",
       "      <td>GRAHA ENERGY</td>\n",
       "      <td>PM 1</td>\n",
       "      <td>Preventive Maintenance</td>\n",
       "      <td>Check &amp; Clean all devices, no replace, test OK.</td>\n",
       "      <td></td>\n",
       "      <td></td>\n",
       "      <td></td>\n",
       "      <td></td>\n",
       "      <td>ozi medina</td>\n",
       "      <td>NaN</td>\n",
       "    </tr>\n",
       "    <tr>\n",
       "      <th>5</th>\n",
       "      <td>09 September 2020</td>\n",
       "      <td>89466.0</td>\n",
       "      <td>ATM120047014</td>\n",
       "      <td>NaN</td>\n",
       "      <td>Installation</td>\n",
       "      <td>Installation</td>\n",
       "      <td>Instalasi ATM, Check all devices, test OK.</td>\n",
       "      <td></td>\n",
       "      <td></td>\n",
       "      <td></td>\n",
       "      <td></td>\n",
       "      <td>M. Yani</td>\n",
       "      <td>NaN</td>\n",
       "    </tr>\n",
       "  </tbody>\n",
       "</table>\n",
       "</div>"
      ],
      "text/plain": [
       "             Tanggal    Nomor        ATM ID          Lokasi  Jenis Layanan  \\\n",
       "1       16 Juli 2020  88826.0      ATM00001  RUANG UAT DPTI         Error    \n",
       "2      03 Maret 2020  86010.0  ATM120029008  PLN AHMAD YANI         Error    \n",
       "3                NaN      NaN           NaN             NaN            NaN   \n",
       "4  02 September 2020  90681.0  ATM120044005    GRAHA ENERGY          PM 1    \n",
       "5  09 September 2020  89466.0  ATM120047014             NaN  Installation    \n",
       "\n",
       "         Laporan Kerusakan                                Pekerjaan Dilakukan  \\\n",
       "1                Hardware   Check & Clean all devices, replace ..............   \n",
       "2                Hardware   Check & Clean all devices, replace EPP5 & CCA ...   \n",
       "3                      NaN                                                NaN   \n",
       "4  Preventive Maintenance    Check & Clean all devices, no replace, test OK.    \n",
       "5            Installation         Instalasi ATM, Check all devices, test OK.    \n",
       "\n",
       "  Nomor Tiket                              Penggantian Sparepart Jumlah Part  \\\n",
       "1   2007-100                                          Hard Disk           1    \n",
       "2   2003-028   CCA Dispenser (CCA Kit Presenter Ctrl.) 49-747...          1    \n",
       "3         NaN        EPP5(BSC),LGE,STTL,ENG(AU),QZ1,BLANK,X,I,O           1    \n",
       "4                                                                              \n",
       "5                                                                              \n",
       "\n",
       "  Status               CSE  Pilihan  \n",
       "1                 M. Yani       NaN  \n",
       "2         Hendri Apridzal       NaN  \n",
       "3         Hendri Apridzal       NaN  \n",
       "4              ozi medina       NaN  \n",
       "5                 M. Yani       NaN  "
      ]
     },
     "execution_count": 6,
     "metadata": {},
     "output_type": "execute_result"
    }
   ],
   "source": [
    "df.head()"
   ]
  },
  {
   "cell_type": "markdown",
   "metadata": {},
   "source": [
    "Selanjutnya, saya akan me-rename nama kolom dan mengubah semua value string menjadi huruf kecil untuk alasan kesetaraan (kecuali `ATM ID`)."
   ]
  },
  {
   "cell_type": "code",
   "execution_count": 7,
   "metadata": {},
   "outputs": [],
   "source": [
    "col_dict = {'Tanggal':'tanggal',\n",
    "            'Nomor':'nomor',\n",
    "            'ATM ID':'atm_id',\n",
    "            'Lokasi':'lokasi',\n",
    "            'Jenis Layanan':'jenis_layanan',\n",
    "            'Laporan Kerusakan':'lap_kerusakan',\n",
    "            'Pekerjaan Dilakukan':'perlakuan',\n",
    "            'Nomor Tiket':'no_tiket',\n",
    "            'Penggantian Sparepart':'sparepart',\n",
    "            'Jumlah Part':'jml_part',\n",
    "            'Status':'status',\n",
    "            'CSE':'cse',\n",
    "            'Pilihan':'pilihan'}"
   ]
  },
  {
   "cell_type": "code",
   "execution_count": 8,
   "metadata": {},
   "outputs": [],
   "source": [
    "df.rename(columns=col_dict, inplace=True)"
   ]
  },
  {
   "cell_type": "code",
   "execution_count": 9,
   "metadata": {},
   "outputs": [],
   "source": [
    "df['lokasi'] = df['lokasi'].str.lower()\n",
    "df['jenis_layanan'] = df['jenis_layanan'].str.lower()\n",
    "df['lap_kerusakan'] = df['lap_kerusakan'].str.lower()\n",
    "df['perlakuan'] = df['perlakuan'].str.lower()\n",
    "df['sparepart'] = df['sparepart'].str.lower()\n",
    "df['cse'] = df['cse'].str.lower()"
   ]
  },
  {
   "cell_type": "code",
   "execution_count": 10,
   "metadata": {},
   "outputs": [
    {
     "data": {
      "text/plain": [
       "tanggal           491\n",
       "nomor             491\n",
       "atm_id            491\n",
       "lokasi            635\n",
       "jenis_layanan     491\n",
       "lap_kerusakan     491\n",
       "perlakuan         491\n",
       "no_tiket          491\n",
       "sparepart           0\n",
       "jml_part            0\n",
       "status              0\n",
       "cse                 0\n",
       "pilihan          3662\n",
       "dtype: int64"
      ]
     },
     "execution_count": 10,
     "metadata": {},
     "output_type": "execute_result"
    }
   ],
   "source": [
    "df.isna().sum()"
   ]
  },
  {
   "cell_type": "code",
   "execution_count": 11,
   "metadata": {},
   "outputs": [
    {
     "data": {
      "text/plain": [
       "     3662\n",
       "Name: status, dtype: int64"
      ]
     },
     "execution_count": 11,
     "metadata": {},
     "output_type": "execute_result"
    }
   ],
   "source": [
    "df['status'].value_counts()"
   ]
  },
  {
   "cell_type": "code",
   "execution_count": 12,
   "metadata": {},
   "outputs": [
    {
     "data": {
      "text/plain": [
       "(3662, 13)"
      ]
     },
     "execution_count": 12,
     "metadata": {},
     "output_type": "execute_result"
    }
   ],
   "source": [
    "df.shape"
   ]
  },
  {
   "cell_type": "markdown",
   "metadata": {},
   "source": [
    "Kolom `pilihan` memiliki missing value yang sama dengan length df. Kolom `status` jika dilihat langsung di dataset-nya, hampir semua merupakan space kosong, bukan NaN. Oleh karena itu, saya drop ketiga kolom ini."
   ]
  },
  {
   "cell_type": "code",
   "execution_count": 13,
   "metadata": {},
   "outputs": [],
   "source": [
    "df.drop('pilihan', axis=1, inplace=True)\n",
    "df.drop('status', axis=1, inplace=True)"
   ]
  },
  {
   "cell_type": "code",
   "execution_count": 14,
   "metadata": {},
   "outputs": [
    {
     "data": {
      "text/plain": [
       "              3002\n",
       "2009-1352        2\n",
       "2007-096         2\n",
       "2009-1355        2\n",
       "2004-042         2\n",
       "              ... \n",
       "2005-060         1\n",
       "2003-036         1\n",
       "2009-1364        1\n",
       "2007-094         1\n",
       "2001-002         1\n",
       "Name: no_tiket, Length: 166, dtype: int64"
      ]
     },
     "execution_count": 14,
     "metadata": {},
     "output_type": "execute_result"
    }
   ],
   "source": [
    "df['no_tiket'].value_counts()"
   ]
  },
  {
   "cell_type": "code",
   "execution_count": 15,
   "metadata": {},
   "outputs": [
    {
     "data": {
      "text/plain": [
       "                                                       2533\n",
       "feedshaft *opteva*                                      216\n",
       "whl t/a ovrmld ( take away snap on wheel ** new **      207\n",
       "stripper snaponwheel wide standard  *** new ***         181\n",
       "feed shaft                                              104\n",
       "                                                       ... \n",
       "dc opteva                                                 1\n",
       "cca dispenser opteva                                      1\n",
       "mainboard p.90                                            1\n",
       "cca power 24 volt                                         1\n",
       "presenter r/l                                             1\n",
       "Name: sparepart, Length: 82, dtype: int64"
      ]
     },
     "execution_count": 15,
     "metadata": {},
     "output_type": "execute_result"
    }
   ],
   "source": [
    "df['sparepart'].value_counts()"
   ]
  },
  {
   "cell_type": "code",
   "execution_count": 16,
   "metadata": {},
   "outputs": [
    {
     "data": {
      "text/plain": [
       "      2533\n",
       "1      692\n",
       "2      328\n",
       "3       64\n",
       "4       33\n",
       "0       10\n",
       "8        2\n",
       "Name: jml_part, dtype: int64"
      ]
     },
     "execution_count": 16,
     "metadata": {},
     "output_type": "execute_result"
    }
   ],
   "source": [
    "df['jml_part'].value_counts()"
   ]
  },
  {
   "cell_type": "markdown",
   "metadata": {},
   "source": [
    "Berbeda dengan kolom `pilihan` dan `status`, kolom `no_tiket`, `sparepart`,  dan `jml_part` cukup penting karena, asumsi saya, merupakan tujuan dari data set ini. Maka untuk data yang berupa space kosong, saya ganti `sparepart` dan `no_tiket` dengan '-' dan `jml_part` dengan '0'."
   ]
  },
  {
   "cell_type": "code",
   "execution_count": 17,
   "metadata": {},
   "outputs": [],
   "source": [
    "df['no_tiket'] = df['no_tiket'].replace(' ', '-')\n",
    "df['sparepart'] = df['sparepart'].replace(' ', '-')\n",
    "df['jml_part'] = df['jml_part'].replace(' ', '0')"
   ]
  },
  {
   "cell_type": "code",
   "execution_count": 18,
   "metadata": {},
   "outputs": [],
   "source": [
    "df['jml_part'] = df['jml_part'].astype(int)"
   ]
  },
  {
   "cell_type": "code",
   "execution_count": 19,
   "metadata": {},
   "outputs": [
    {
     "data": {
      "text/plain": [
       "tanggal          491\n",
       "nomor            491\n",
       "atm_id           491\n",
       "lokasi           635\n",
       "jenis_layanan    491\n",
       "lap_kerusakan    491\n",
       "perlakuan        491\n",
       "no_tiket         491\n",
       "sparepart          0\n",
       "jml_part           0\n",
       "cse                0\n",
       "dtype: int64"
      ]
     },
     "execution_count": 19,
     "metadata": {},
     "output_type": "execute_result"
    }
   ],
   "source": [
    "df.isna().sum()"
   ]
  },
  {
   "cell_type": "markdown",
   "metadata": {},
   "source": [
    "Sisa missing value yang ada akan saya drop barisnya."
   ]
  },
  {
   "cell_type": "code",
   "execution_count": 20,
   "metadata": {},
   "outputs": [],
   "source": [
    "df.dropna(inplace=True)"
   ]
  },
  {
   "cell_type": "code",
   "execution_count": 21,
   "metadata": {},
   "outputs": [
    {
     "data": {
      "text/plain": [
       "tanggal          0\n",
       "nomor            0\n",
       "atm_id           0\n",
       "lokasi           0\n",
       "jenis_layanan    0\n",
       "lap_kerusakan    0\n",
       "perlakuan        0\n",
       "no_tiket         0\n",
       "sparepart        0\n",
       "jml_part         0\n",
       "cse              0\n",
       "dtype: int64"
      ]
     },
     "execution_count": 21,
     "metadata": {},
     "output_type": "execute_result"
    }
   ],
   "source": [
    "df.isna().sum()"
   ]
  },
  {
   "cell_type": "markdown",
   "metadata": {},
   "source": [
    "Selanjutnya, saya akan me-rename nama kolom dan mengubah semua value string menjadi huruf kecil untuk alasan kesetaraan."
   ]
  },
  {
   "cell_type": "code",
   "execution_count": 22,
   "metadata": {},
   "outputs": [
    {
     "data": {
      "text/plain": [
       "(3027, 11)"
      ]
     },
     "execution_count": 22,
     "metadata": {},
     "output_type": "execute_result"
    }
   ],
   "source": [
    "df.shape"
   ]
  },
  {
   "cell_type": "code",
   "execution_count": 23,
   "metadata": {},
   "outputs": [
    {
     "data": {
      "text/html": [
       "<div>\n",
       "<style scoped>\n",
       "    .dataframe tbody tr th:only-of-type {\n",
       "        vertical-align: middle;\n",
       "    }\n",
       "\n",
       "    .dataframe tbody tr th {\n",
       "        vertical-align: top;\n",
       "    }\n",
       "\n",
       "    .dataframe thead th {\n",
       "        text-align: right;\n",
       "    }\n",
       "</style>\n",
       "<table border=\"1\" class=\"dataframe\">\n",
       "  <thead>\n",
       "    <tr style=\"text-align: right;\">\n",
       "      <th></th>\n",
       "      <th>tanggal</th>\n",
       "      <th>nomor</th>\n",
       "      <th>atm_id</th>\n",
       "      <th>lokasi</th>\n",
       "      <th>jenis_layanan</th>\n",
       "      <th>lap_kerusakan</th>\n",
       "      <th>perlakuan</th>\n",
       "      <th>no_tiket</th>\n",
       "      <th>sparepart</th>\n",
       "      <th>jml_part</th>\n",
       "      <th>cse</th>\n",
       "    </tr>\n",
       "  </thead>\n",
       "  <tbody>\n",
       "    <tr>\n",
       "      <th>1</th>\n",
       "      <td>16 Juli 2020</td>\n",
       "      <td>88826.0</td>\n",
       "      <td>ATM00001</td>\n",
       "      <td>ruang uat dpti</td>\n",
       "      <td>error</td>\n",
       "      <td>hardware</td>\n",
       "      <td>check &amp; clean all devices, replace ..............</td>\n",
       "      <td>2007-100</td>\n",
       "      <td>hard disk</td>\n",
       "      <td>1</td>\n",
       "      <td>m. yani</td>\n",
       "    </tr>\n",
       "    <tr>\n",
       "      <th>2</th>\n",
       "      <td>03 Maret 2020</td>\n",
       "      <td>86010.0</td>\n",
       "      <td>ATM120029008</td>\n",
       "      <td>pln ahmad yani</td>\n",
       "      <td>error</td>\n",
       "      <td>hardware</td>\n",
       "      <td>check &amp; clean all devices, replace epp5 &amp; cca ...</td>\n",
       "      <td>2003-028</td>\n",
       "      <td>cca dispenser (cca kit presenter ctrl.) 49-747...</td>\n",
       "      <td>1</td>\n",
       "      <td>hendri apridzal</td>\n",
       "    </tr>\n",
       "    <tr>\n",
       "      <th>4</th>\n",
       "      <td>02 September 2020</td>\n",
       "      <td>90681.0</td>\n",
       "      <td>ATM120044005</td>\n",
       "      <td>graha energy</td>\n",
       "      <td>pm 1</td>\n",
       "      <td>preventive maintenance</td>\n",
       "      <td>check &amp; clean all devices, no replace, test ok.</td>\n",
       "      <td>-</td>\n",
       "      <td>-</td>\n",
       "      <td>0</td>\n",
       "      <td>ozi medina</td>\n",
       "    </tr>\n",
       "    <tr>\n",
       "      <th>6</th>\n",
       "      <td>29 Maret 2020</td>\n",
       "      <td>87602.0</td>\n",
       "      <td>ATM20002001</td>\n",
       "      <td>bkp medan</td>\n",
       "      <td>pm pertama</td>\n",
       "      <td>preventive maintenance</td>\n",
       "      <td>check &amp; clean all devices, no replace, test ok.</td>\n",
       "      <td>-</td>\n",
       "      <td>-</td>\n",
       "      <td>0</td>\n",
       "      <td>rajamin nasution</td>\n",
       "    </tr>\n",
       "    <tr>\n",
       "      <th>7</th>\n",
       "      <td>27 April 2020</td>\n",
       "      <td>87445.0</td>\n",
       "      <td>ATM20002001</td>\n",
       "      <td>bkp medan</td>\n",
       "      <td>pm pertama</td>\n",
       "      <td>preventive maintenance</td>\n",
       "      <td>check &amp; clean all devices, no replace, test ok.</td>\n",
       "      <td>-</td>\n",
       "      <td>-</td>\n",
       "      <td>0</td>\n",
       "      <td>rajamin nasution</td>\n",
       "    </tr>\n",
       "    <tr>\n",
       "      <th>...</th>\n",
       "      <td>...</td>\n",
       "      <td>...</td>\n",
       "      <td>...</td>\n",
       "      <td>...</td>\n",
       "      <td>...</td>\n",
       "      <td>...</td>\n",
       "      <td>...</td>\n",
       "      <td>...</td>\n",
       "      <td>...</td>\n",
       "      <td>...</td>\n",
       "      <td>...</td>\n",
       "    </tr>\n",
       "    <tr>\n",
       "      <th>3656</th>\n",
       "      <td>10 Januari 2020</td>\n",
       "      <td>86892.0</td>\n",
       "      <td>ATM20099001</td>\n",
       "      <td>bsb cabang salemba</td>\n",
       "      <td>support</td>\n",
       "      <td>installation</td>\n",
       "      <td>check &amp; clean all devices, install ulang, no r...</td>\n",
       "      <td>-</td>\n",
       "      <td>-</td>\n",
       "      <td>0</td>\n",
       "      <td>ozi medina</td>\n",
       "    </tr>\n",
       "    <tr>\n",
       "      <th>3657</th>\n",
       "      <td>26 Mei 2020</td>\n",
       "      <td>88731.0</td>\n",
       "      <td>ATM20099004</td>\n",
       "      <td>bsb cabang bekasi</td>\n",
       "      <td>error &amp; pm</td>\n",
       "      <td>hardware</td>\n",
       "      <td>check &amp; clean all devices, replace ..............</td>\n",
       "      <td>2005-068</td>\n",
       "      <td>ca pwr, ac vga 15 inch</td>\n",
       "      <td>1</td>\n",
       "      <td>m. yani</td>\n",
       "    </tr>\n",
       "    <tr>\n",
       "      <th>3658</th>\n",
       "      <td>01 Juli 2020</td>\n",
       "      <td>88730.0</td>\n",
       "      <td>ATM20099005</td>\n",
       "      <td>bsb capem kramat jati</td>\n",
       "      <td>support</td>\n",
       "      <td>hardware</td>\n",
       "      <td>check &amp; clean all devices, replace ....crd.......</td>\n",
       "      <td>2007-094</td>\n",
       "      <td>card reader motorized</td>\n",
       "      <td>1</td>\n",
       "      <td>m. yani</td>\n",
       "    </tr>\n",
       "    <tr>\n",
       "      <th>3659</th>\n",
       "      <td>09 November 2020</td>\n",
       "      <td>90731.0</td>\n",
       "      <td>ATM20099007</td>\n",
       "      <td>capem bsd tangerang</td>\n",
       "      <td>support</td>\n",
       "      <td>hardware</td>\n",
       "      <td>check &amp; clean all devices, replace ..............</td>\n",
       "      <td>2011-1432</td>\n",
       "      <td>motherboard p 90 - kit</td>\n",
       "      <td>1</td>\n",
       "      <td>m. yani</td>\n",
       "    </tr>\n",
       "    <tr>\n",
       "      <th>3660</th>\n",
       "      <td>27 Mei 2020</td>\n",
       "      <td>88655.0</td>\n",
       "      <td>ATM20099009</td>\n",
       "      <td>bsb  rs jatisampurna</td>\n",
       "      <td>error &amp; pm</td>\n",
       "      <td>non hardware</td>\n",
       "      <td>check &amp; clean all devices, replace ..............</td>\n",
       "      <td>-</td>\n",
       "      <td>stripper wheel</td>\n",
       "      <td>1</td>\n",
       "      <td>m. yani</td>\n",
       "    </tr>\n",
       "  </tbody>\n",
       "</table>\n",
       "<p>3027 rows × 11 columns</p>\n",
       "</div>"
      ],
      "text/plain": [
       "                tanggal    nomor        atm_id                 lokasi  \\\n",
       "1          16 Juli 2020  88826.0      ATM00001         ruang uat dpti   \n",
       "2         03 Maret 2020  86010.0  ATM120029008         pln ahmad yani   \n",
       "4     02 September 2020  90681.0  ATM120044005           graha energy   \n",
       "6         29 Maret 2020  87602.0   ATM20002001              bkp medan   \n",
       "7         27 April 2020  87445.0   ATM20002001              bkp medan   \n",
       "...                 ...      ...           ...                    ...   \n",
       "3656    10 Januari 2020  86892.0   ATM20099001    bsb cabang salemba    \n",
       "3657        26 Mei 2020  88731.0   ATM20099004      bsb cabang bekasi   \n",
       "3658       01 Juli 2020  88730.0   ATM20099005  bsb capem kramat jati   \n",
       "3659   09 November 2020  90731.0   ATM20099007    capem bsd tangerang   \n",
       "3660        27 Mei 2020  88655.0   ATM20099009   bsb  rs jatisampurna   \n",
       "\n",
       "     jenis_layanan            lap_kerusakan  \\\n",
       "1           error                 hardware    \n",
       "2           error                 hardware    \n",
       "4            pm 1   preventive maintenance    \n",
       "6       pm pertama  preventive maintenance    \n",
       "7       pm pertama  preventive maintenance    \n",
       "...            ...                      ...   \n",
       "3656      support             installation    \n",
       "3657   error & pm                 hardware    \n",
       "3658      support                 hardware    \n",
       "3659      support                 hardware    \n",
       "3660   error & pm             non hardware    \n",
       "\n",
       "                                              perlakuan    no_tiket  \\\n",
       "1     check & clean all devices, replace ..............   2007-100    \n",
       "2     check & clean all devices, replace epp5 & cca ...   2003-028    \n",
       "4      check & clean all devices, no replace, test ok.            -   \n",
       "6      check & clean all devices, no replace, test ok.            -   \n",
       "7      check & clean all devices, no replace, test ok.            -   \n",
       "...                                                 ...         ...   \n",
       "3656  check & clean all devices, install ulang, no r...           -   \n",
       "3657  check & clean all devices, replace ..............   2005-068    \n",
       "3658  check & clean all devices, replace ....crd.......   2007-094    \n",
       "3659  check & clean all devices, replace ..............  2011-1432    \n",
       "3660  check & clean all devices, replace ..............           -   \n",
       "\n",
       "                                              sparepart  jml_part  \\\n",
       "1                                            hard disk          1   \n",
       "2     cca dispenser (cca kit presenter ctrl.) 49-747...         1   \n",
       "4                                                     -         0   \n",
       "6                                                     -         0   \n",
       "7                                                     -         0   \n",
       "...                                                 ...       ...   \n",
       "3656                                                  -         0   \n",
       "3657                            ca pwr, ac vga 15 inch          1   \n",
       "3658                             card reader motorized          1   \n",
       "3659                            motherboard p 90 - kit          1   \n",
       "3660                                    stripper wheel          1   \n",
       "\n",
       "                    cse  \n",
       "1              m. yani   \n",
       "2      hendri apridzal   \n",
       "4           ozi medina   \n",
       "6     rajamin nasution   \n",
       "7     rajamin nasution   \n",
       "...                 ...  \n",
       "3656        ozi medina   \n",
       "3657           m. yani   \n",
       "3658           m. yani   \n",
       "3659           m. yani   \n",
       "3660           m. yani   \n",
       "\n",
       "[3027 rows x 11 columns]"
      ]
     },
     "execution_count": 23,
     "metadata": {},
     "output_type": "execute_result"
    }
   ],
   "source": [
    "df"
   ]
  },
  {
   "cell_type": "markdown",
   "metadata": {},
   "source": [
    "Mengubah tipe data `nomor` menjadi string"
   ]
  },
  {
   "cell_type": "code",
   "execution_count": 24,
   "metadata": {},
   "outputs": [
    {
     "data": {
      "text/plain": [
       "1       88826.0\n",
       "2       86010.0\n",
       "4       90681.0\n",
       "6       87602.0\n",
       "7       87445.0\n",
       "         ...   \n",
       "3656    86892.0\n",
       "3657    88731.0\n",
       "3658    88730.0\n",
       "3659    90731.0\n",
       "3660    88655.0\n",
       "Name: nomor, Length: 3027, dtype: float64"
      ]
     },
     "execution_count": 24,
     "metadata": {},
     "output_type": "execute_result"
    }
   ],
   "source": [
    "df['nomor']"
   ]
  },
  {
   "cell_type": "code",
   "execution_count": 25,
   "metadata": {},
   "outputs": [],
   "source": [
    "df['nomor'] = df['nomor'].astype(str)\n",
    "df['nomor'] = df['nomor'].str[:5]"
   ]
  },
  {
   "cell_type": "code",
   "execution_count": 26,
   "metadata": {},
   "outputs": [
    {
     "data": {
      "text/plain": [
       "1       88826\n",
       "2       86010\n",
       "4       90681\n",
       "6       87602\n",
       "7       87445\n",
       "        ...  \n",
       "3656    86892\n",
       "3657    88731\n",
       "3658    88730\n",
       "3659    90731\n",
       "3660    88655\n",
       "Name: nomor, Length: 3027, dtype: object"
      ]
     },
     "execution_count": 26,
     "metadata": {},
     "output_type": "execute_result"
    }
   ],
   "source": [
    "df['nomor']"
   ]
  },
  {
   "cell_type": "markdown",
   "metadata": {},
   "source": [
    "Memisah kolom `tanggal` menjadi `tgl`, `bln`, `thn`; Mengubah `bln` menjadi numeric; Mengubah tipe data menjadi int"
   ]
  },
  {
   "cell_type": "code",
   "execution_count": 27,
   "metadata": {},
   "outputs": [],
   "source": [
    "df['tgl'] = df['tanggal'].str[:2]\n",
    "df['bln'] = df['tanggal'].str[3:-5]\n",
    "df['thn'] = df['tanggal'].str[-4:]"
   ]
  },
  {
   "cell_type": "code",
   "execution_count": 28,
   "metadata": {},
   "outputs": [],
   "source": [
    "df.drop('tanggal', axis=1, inplace=True)"
   ]
  },
  {
   "cell_type": "code",
   "execution_count": 29,
   "metadata": {},
   "outputs": [
    {
     "data": {
      "text/html": [
       "<div>\n",
       "<style scoped>\n",
       "    .dataframe tbody tr th:only-of-type {\n",
       "        vertical-align: middle;\n",
       "    }\n",
       "\n",
       "    .dataframe tbody tr th {\n",
       "        vertical-align: top;\n",
       "    }\n",
       "\n",
       "    .dataframe thead th {\n",
       "        text-align: right;\n",
       "    }\n",
       "</style>\n",
       "<table border=\"1\" class=\"dataframe\">\n",
       "  <thead>\n",
       "    <tr style=\"text-align: right;\">\n",
       "      <th></th>\n",
       "      <th>nomor</th>\n",
       "      <th>atm_id</th>\n",
       "      <th>lokasi</th>\n",
       "      <th>jenis_layanan</th>\n",
       "      <th>lap_kerusakan</th>\n",
       "      <th>perlakuan</th>\n",
       "      <th>no_tiket</th>\n",
       "      <th>sparepart</th>\n",
       "      <th>jml_part</th>\n",
       "      <th>cse</th>\n",
       "      <th>tgl</th>\n",
       "      <th>bln</th>\n",
       "      <th>thn</th>\n",
       "    </tr>\n",
       "  </thead>\n",
       "  <tbody>\n",
       "    <tr>\n",
       "      <th>15</th>\n",
       "      <td>87621</td>\n",
       "      <td>ATM20002001</td>\n",
       "      <td>bkp medan</td>\n",
       "      <td>pm pertama</td>\n",
       "      <td>preventive maintenance</td>\n",
       "      <td>check &amp; clean all devices, no replace, test ok.</td>\n",
       "      <td>-</td>\n",
       "      <td>-</td>\n",
       "      <td>0</td>\n",
       "      <td>rajamin nasution</td>\n",
       "      <td>27</td>\n",
       "      <td>Januari</td>\n",
       "      <td>2020</td>\n",
       "    </tr>\n",
       "    <tr>\n",
       "      <th>25</th>\n",
       "      <td>87623</td>\n",
       "      <td>ATM20002002</td>\n",
       "      <td>bkp ar hakim mdn</td>\n",
       "      <td>pm pertama</td>\n",
       "      <td>preventive maintenance</td>\n",
       "      <td>check &amp; clean all devices, no replace, test ok.</td>\n",
       "      <td>-</td>\n",
       "      <td>-</td>\n",
       "      <td>0</td>\n",
       "      <td>rajamin nasution</td>\n",
       "      <td>28</td>\n",
       "      <td>Januari</td>\n",
       "      <td>2020</td>\n",
       "    </tr>\n",
       "    <tr>\n",
       "      <th>35</th>\n",
       "      <td>87624</td>\n",
       "      <td>ATM20002003</td>\n",
       "      <td>kcp binjai</td>\n",
       "      <td>pm pertama</td>\n",
       "      <td>preventive maintenance</td>\n",
       "      <td>check &amp; clean all devices, no replace, test ok.</td>\n",
       "      <td>-</td>\n",
       "      <td>-</td>\n",
       "      <td>0</td>\n",
       "      <td>rajamin nasution</td>\n",
       "      <td>29</td>\n",
       "      <td>Januari</td>\n",
       "      <td>2020</td>\n",
       "    </tr>\n",
       "  </tbody>\n",
       "</table>\n",
       "</div>"
      ],
      "text/plain": [
       "    nomor       atm_id            lokasi jenis_layanan  \\\n",
       "15  87621  ATM20002001         bkp medan    pm pertama   \n",
       "25  87623  ATM20002002  bkp ar hakim mdn    pm pertama   \n",
       "35  87624  ATM20002003        kcp binjai    pm pertama   \n",
       "\n",
       "              lap_kerusakan                                         perlakuan  \\\n",
       "15  preventive maintenance   check & clean all devices, no replace, test ok.    \n",
       "25  preventive maintenance   check & clean all devices, no replace, test ok.    \n",
       "35  preventive maintenance   check & clean all devices, no replace, test ok.    \n",
       "\n",
       "   no_tiket sparepart  jml_part                cse tgl      bln   thn  \n",
       "15        -         -         0  rajamin nasution   27  Januari  2020  \n",
       "25        -         -         0  rajamin nasution   28  Januari  2020  \n",
       "35        -         -         0  rajamin nasution   29  Januari  2020  "
      ]
     },
     "execution_count": 29,
     "metadata": {},
     "output_type": "execute_result"
    }
   ],
   "source": [
    "df[df['bln'].str.contains('Januari')].head(3)"
   ]
  },
  {
   "cell_type": "code",
   "execution_count": 30,
   "metadata": {},
   "outputs": [
    {
     "data": {
      "text/plain": [
       "Januari      314\n",
       "Oktober      270\n",
       "Maret        267\n",
       "Desember     263\n",
       "September    257\n",
       "November     256\n",
       "Juli         255\n",
       "Agustus      252\n",
       "Februari     241\n",
       "Juni         230\n",
       "Mei          211\n",
       "April        211\n",
       "Name: bln, dtype: int64"
      ]
     },
     "execution_count": 30,
     "metadata": {},
     "output_type": "execute_result"
    }
   ],
   "source": [
    "df['bln'].value_counts()"
   ]
  },
  {
   "cell_type": "code",
   "execution_count": 31,
   "metadata": {},
   "outputs": [],
   "source": [
    "df['bln'] = df['bln'].replace('Januari', '01')\n",
    "df['bln'] = df['bln'].replace('Februari', '02')\n",
    "df['bln'] = df['bln'].replace('Maret', '03')\n",
    "df['bln'] = df['bln'].replace('April', '04')\n",
    "df['bln'] = df['bln'].replace('Mei', '05')\n",
    "df['bln'] = df['bln'].replace('Juni', '06')\n",
    "df['bln'] = df['bln'].replace('Juli', '07')\n",
    "df['bln'] = df['bln'].replace('Agustus', '08')\n",
    "df['bln'] = df['bln'].replace('September', '09')\n",
    "df['bln'] = df['bln'].replace('Oktober', '10')\n",
    "df['bln'] = df['bln'].replace('November', '11')\n",
    "df['bln'] = df['bln'].replace('Desember', '12')"
   ]
  },
  {
   "cell_type": "code",
   "execution_count": 32,
   "metadata": {},
   "outputs": [
    {
     "data": {
      "text/plain": [
       "01    314\n",
       "10    270\n",
       "03    267\n",
       "12    263\n",
       "09    257\n",
       "11    256\n",
       "07    255\n",
       "08    252\n",
       "02    241\n",
       "06    230\n",
       "04    211\n",
       "05    211\n",
       "Name: bln, dtype: int64"
      ]
     },
     "execution_count": 32,
     "metadata": {},
     "output_type": "execute_result"
    }
   ],
   "source": [
    "df['bln'].value_counts()"
   ]
  },
  {
   "cell_type": "code",
   "execution_count": 33,
   "metadata": {},
   "outputs": [],
   "source": [
    "df['tgl'] = df['tgl'].astype(int)\n",
    "df['bln'] = df['bln'].astype(int)\n",
    "df['thn'] = df['thn'].astype(int)"
   ]
  },
  {
   "cell_type": "markdown",
   "metadata": {},
   "source": [
    "Save ke excel"
   ]
  },
  {
   "cell_type": "code",
   "execution_count": 34,
   "metadata": {},
   "outputs": [],
   "source": [
    "book = load_workbook('data-cleaned.xlsx')\n",
    "writer = pd.ExcelWriter('data-cleaned.xlsx', engine = 'openpyxl')\n",
    "writer.book = book"
   ]
  },
  {
   "cell_type": "code",
   "execution_count": 35,
   "metadata": {},
   "outputs": [],
   "source": [
    "df.to_excel(writer, sheet_name='data_aktifitas')\n",
    "writer.save()\n",
    "writer.close()"
   ]
  },
  {
   "cell_type": "markdown",
   "metadata": {},
   "source": [
    "Load kembali"
   ]
  },
  {
   "cell_type": "code",
   "execution_count": 36,
   "metadata": {},
   "outputs": [
    {
     "data": {
      "text/html": [
       "<div>\n",
       "<style scoped>\n",
       "    .dataframe tbody tr th:only-of-type {\n",
       "        vertical-align: middle;\n",
       "    }\n",
       "\n",
       "    .dataframe tbody tr th {\n",
       "        vertical-align: top;\n",
       "    }\n",
       "\n",
       "    .dataframe thead th {\n",
       "        text-align: right;\n",
       "    }\n",
       "</style>\n",
       "<table border=\"1\" class=\"dataframe\">\n",
       "  <thead>\n",
       "    <tr style=\"text-align: right;\">\n",
       "      <th></th>\n",
       "      <th>nomor</th>\n",
       "      <th>atm_id</th>\n",
       "      <th>lokasi</th>\n",
       "      <th>jenis_layanan</th>\n",
       "      <th>lap_kerusakan</th>\n",
       "      <th>perlakuan</th>\n",
       "      <th>no_tiket</th>\n",
       "      <th>sparepart</th>\n",
       "      <th>jml_part</th>\n",
       "      <th>cse</th>\n",
       "      <th>tgl</th>\n",
       "      <th>bln</th>\n",
       "      <th>thn</th>\n",
       "    </tr>\n",
       "  </thead>\n",
       "  <tbody>\n",
       "    <tr>\n",
       "      <th>1</th>\n",
       "      <td>88826.0</td>\n",
       "      <td>ATM00001</td>\n",
       "      <td>ruang uat dpti</td>\n",
       "      <td>error</td>\n",
       "      <td>hardware</td>\n",
       "      <td>check &amp; clean all devices, replace ..............</td>\n",
       "      <td>2007-100</td>\n",
       "      <td>hard disk</td>\n",
       "      <td>1</td>\n",
       "      <td>m. yani</td>\n",
       "      <td>16</td>\n",
       "      <td>7</td>\n",
       "      <td>2020</td>\n",
       "    </tr>\n",
       "    <tr>\n",
       "      <th>2</th>\n",
       "      <td>86010.0</td>\n",
       "      <td>ATM120029008</td>\n",
       "      <td>pln ahmad yani</td>\n",
       "      <td>error</td>\n",
       "      <td>hardware</td>\n",
       "      <td>check &amp; clean all devices, replace epp5 &amp; cca ...</td>\n",
       "      <td>2003-028</td>\n",
       "      <td>cca dispenser (cca kit presenter ctrl.) 49-747...</td>\n",
       "      <td>1</td>\n",
       "      <td>hendri apridzal</td>\n",
       "      <td>3</td>\n",
       "      <td>3</td>\n",
       "      <td>2020</td>\n",
       "    </tr>\n",
       "    <tr>\n",
       "      <th>4</th>\n",
       "      <td>90681.0</td>\n",
       "      <td>ATM120044005</td>\n",
       "      <td>graha energy</td>\n",
       "      <td>pm 1</td>\n",
       "      <td>preventive maintenance</td>\n",
       "      <td>check &amp; clean all devices, no replace, test ok.</td>\n",
       "      <td>-</td>\n",
       "      <td>-</td>\n",
       "      <td>0</td>\n",
       "      <td>ozi medina</td>\n",
       "      <td>2</td>\n",
       "      <td>9</td>\n",
       "      <td>2020</td>\n",
       "    </tr>\n",
       "    <tr>\n",
       "      <th>6</th>\n",
       "      <td>87602.0</td>\n",
       "      <td>ATM20002001</td>\n",
       "      <td>bkp medan</td>\n",
       "      <td>pm pertama</td>\n",
       "      <td>preventive maintenance</td>\n",
       "      <td>check &amp; clean all devices, no replace, test ok.</td>\n",
       "      <td>-</td>\n",
       "      <td>-</td>\n",
       "      <td>0</td>\n",
       "      <td>rajamin nasution</td>\n",
       "      <td>29</td>\n",
       "      <td>3</td>\n",
       "      <td>2020</td>\n",
       "    </tr>\n",
       "    <tr>\n",
       "      <th>7</th>\n",
       "      <td>87445.0</td>\n",
       "      <td>ATM20002001</td>\n",
       "      <td>bkp medan</td>\n",
       "      <td>pm pertama</td>\n",
       "      <td>preventive maintenance</td>\n",
       "      <td>check &amp; clean all devices, no replace, test ok.</td>\n",
       "      <td>-</td>\n",
       "      <td>-</td>\n",
       "      <td>0</td>\n",
       "      <td>rajamin nasution</td>\n",
       "      <td>27</td>\n",
       "      <td>4</td>\n",
       "      <td>2020</td>\n",
       "    </tr>\n",
       "    <tr>\n",
       "      <th>...</th>\n",
       "      <td>...</td>\n",
       "      <td>...</td>\n",
       "      <td>...</td>\n",
       "      <td>...</td>\n",
       "      <td>...</td>\n",
       "      <td>...</td>\n",
       "      <td>...</td>\n",
       "      <td>...</td>\n",
       "      <td>...</td>\n",
       "      <td>...</td>\n",
       "      <td>...</td>\n",
       "      <td>...</td>\n",
       "      <td>...</td>\n",
       "    </tr>\n",
       "    <tr>\n",
       "      <th>3656</th>\n",
       "      <td>86892.0</td>\n",
       "      <td>ATM20099001</td>\n",
       "      <td>bsb cabang salemba</td>\n",
       "      <td>support</td>\n",
       "      <td>installation</td>\n",
       "      <td>check &amp; clean all devices, install ulang, no r...</td>\n",
       "      <td>-</td>\n",
       "      <td>-</td>\n",
       "      <td>0</td>\n",
       "      <td>ozi medina</td>\n",
       "      <td>10</td>\n",
       "      <td>1</td>\n",
       "      <td>2020</td>\n",
       "    </tr>\n",
       "    <tr>\n",
       "      <th>3657</th>\n",
       "      <td>88731.0</td>\n",
       "      <td>ATM20099004</td>\n",
       "      <td>bsb cabang bekasi</td>\n",
       "      <td>error &amp; pm</td>\n",
       "      <td>hardware</td>\n",
       "      <td>check &amp; clean all devices, replace ..............</td>\n",
       "      <td>2005-068</td>\n",
       "      <td>ca pwr, ac vga 15 inch</td>\n",
       "      <td>1</td>\n",
       "      <td>m. yani</td>\n",
       "      <td>26</td>\n",
       "      <td>5</td>\n",
       "      <td>2020</td>\n",
       "    </tr>\n",
       "    <tr>\n",
       "      <th>3658</th>\n",
       "      <td>88730.0</td>\n",
       "      <td>ATM20099005</td>\n",
       "      <td>bsb capem kramat jati</td>\n",
       "      <td>support</td>\n",
       "      <td>hardware</td>\n",
       "      <td>check &amp; clean all devices, replace ....crd.......</td>\n",
       "      <td>2007-094</td>\n",
       "      <td>card reader motorized</td>\n",
       "      <td>1</td>\n",
       "      <td>m. yani</td>\n",
       "      <td>1</td>\n",
       "      <td>7</td>\n",
       "      <td>2020</td>\n",
       "    </tr>\n",
       "    <tr>\n",
       "      <th>3659</th>\n",
       "      <td>90731.0</td>\n",
       "      <td>ATM20099007</td>\n",
       "      <td>capem bsd tangerang</td>\n",
       "      <td>support</td>\n",
       "      <td>hardware</td>\n",
       "      <td>check &amp; clean all devices, replace ..............</td>\n",
       "      <td>2011-1432</td>\n",
       "      <td>motherboard p 90 - kit</td>\n",
       "      <td>1</td>\n",
       "      <td>m. yani</td>\n",
       "      <td>9</td>\n",
       "      <td>11</td>\n",
       "      <td>2020</td>\n",
       "    </tr>\n",
       "    <tr>\n",
       "      <th>3660</th>\n",
       "      <td>88655.0</td>\n",
       "      <td>ATM20099009</td>\n",
       "      <td>bsb  rs jatisampurna</td>\n",
       "      <td>error &amp; pm</td>\n",
       "      <td>non hardware</td>\n",
       "      <td>check &amp; clean all devices, replace ..............</td>\n",
       "      <td>-</td>\n",
       "      <td>stripper wheel</td>\n",
       "      <td>1</td>\n",
       "      <td>m. yani</td>\n",
       "      <td>27</td>\n",
       "      <td>5</td>\n",
       "      <td>2020</td>\n",
       "    </tr>\n",
       "  </tbody>\n",
       "</table>\n",
       "<p>3027 rows × 13 columns</p>\n",
       "</div>"
      ],
      "text/plain": [
       "        nomor        atm_id                 lokasi jenis_layanan  \\\n",
       "1     88826.0      ATM00001         ruang uat dpti        error    \n",
       "2     86010.0  ATM120029008         pln ahmad yani        error    \n",
       "4     90681.0  ATM120044005           graha energy         pm 1    \n",
       "6     87602.0   ATM20002001              bkp medan    pm pertama   \n",
       "7     87445.0   ATM20002001              bkp medan    pm pertama   \n",
       "...       ...           ...                    ...           ...   \n",
       "3656  86892.0   ATM20099001    bsb cabang salemba       support    \n",
       "3657  88731.0   ATM20099004      bsb cabang bekasi   error & pm    \n",
       "3658  88730.0   ATM20099005  bsb capem kramat jati      support    \n",
       "3659  90731.0   ATM20099007    capem bsd tangerang      support    \n",
       "3660  88655.0   ATM20099009   bsb  rs jatisampurna   error & pm    \n",
       "\n",
       "                lap_kerusakan  \\\n",
       "1                   hardware    \n",
       "2                   hardware    \n",
       "4     preventive maintenance    \n",
       "6     preventive maintenance    \n",
       "7     preventive maintenance    \n",
       "...                       ...   \n",
       "3656            installation    \n",
       "3657                hardware    \n",
       "3658                hardware    \n",
       "3659                hardware    \n",
       "3660            non hardware    \n",
       "\n",
       "                                              perlakuan    no_tiket  \\\n",
       "1     check & clean all devices, replace ..............   2007-100    \n",
       "2     check & clean all devices, replace epp5 & cca ...   2003-028    \n",
       "4      check & clean all devices, no replace, test ok.            -   \n",
       "6      check & clean all devices, no replace, test ok.            -   \n",
       "7      check & clean all devices, no replace, test ok.            -   \n",
       "...                                                 ...         ...   \n",
       "3656  check & clean all devices, install ulang, no r...           -   \n",
       "3657  check & clean all devices, replace ..............   2005-068    \n",
       "3658  check & clean all devices, replace ....crd.......   2007-094    \n",
       "3659  check & clean all devices, replace ..............  2011-1432    \n",
       "3660  check & clean all devices, replace ..............           -   \n",
       "\n",
       "                                              sparepart  jml_part  \\\n",
       "1                                            hard disk          1   \n",
       "2     cca dispenser (cca kit presenter ctrl.) 49-747...         1   \n",
       "4                                                     -         0   \n",
       "6                                                     -         0   \n",
       "7                                                     -         0   \n",
       "...                                                 ...       ...   \n",
       "3656                                                  -         0   \n",
       "3657                            ca pwr, ac vga 15 inch          1   \n",
       "3658                             card reader motorized          1   \n",
       "3659                            motherboard p 90 - kit          1   \n",
       "3660                                    stripper wheel          1   \n",
       "\n",
       "                    cse  tgl  bln   thn  \n",
       "1              m. yani    16    7  2020  \n",
       "2      hendri apridzal     3    3  2020  \n",
       "4           ozi medina     2    9  2020  \n",
       "6     rajamin nasution    29    3  2020  \n",
       "7     rajamin nasution    27    4  2020  \n",
       "...                 ...  ...  ...   ...  \n",
       "3656        ozi medina    10    1  2020  \n",
       "3657           m. yani    26    5  2020  \n",
       "3658           m. yani     1    7  2020  \n",
       "3659           m. yani     9   11  2020  \n",
       "3660           m. yani    27    5  2020  \n",
       "\n",
       "[3027 rows x 13 columns]"
      ]
     },
     "execution_count": 36,
     "metadata": {},
     "output_type": "execute_result"
    }
   ],
   "source": [
    "load_data = pd.read_excel('data-cleaned.xlsx', sheet_name='data_aktifitas', index_col=0)\n",
    "load_data"
   ]
  },
  {
   "cell_type": "code",
   "execution_count": null,
   "metadata": {},
   "outputs": [],
   "source": []
  }
 ],
 "metadata": {
  "kernelspec": {
   "display_name": "Python 3",
   "language": "python",
   "name": "python3"
  },
  "language_info": {
   "codemirror_mode": {
    "name": "ipython",
    "version": 3
   },
   "file_extension": ".py",
   "mimetype": "text/x-python",
   "name": "python",
   "nbconvert_exporter": "python",
   "pygments_lexer": "ipython3",
   "version": "3.8.5"
  }
 },
 "nbformat": 4,
 "nbformat_minor": 4
}
