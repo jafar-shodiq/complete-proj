{
 "cells": [
  {
   "cell_type": "markdown",
   "metadata": {},
   "source": [
    "<h2>Data</h2>\n",
    "<br>\n",
    "File name format&nbsp;&nbsp;: \n",
    "Year + Quarter. e.g. 2010Q1 is first quarter in year 2010. The files are in CSV format.\n",
    "<br>\n",
    "Total dataset&nbsp;&nbsp;&nbsp;&nbsp;&nbsp;&nbsp;&nbsp;&nbsp;&nbsp;: \n",
    "46, from year 2010 - 2021 with an exception only Q1 and Q2 in year 2021.\n",
    "<br>\n",
    "Labels&nbsp;&nbsp;&nbsp;&nbsp;&nbsp;&nbsp;&nbsp;&nbsp;&nbsp;&nbsp;&nbsp;&nbsp;&nbsp;&nbsp;&nbsp;&nbsp;&nbsp;&nbsp;&nbsp;: \n",
    "Vary (1000 - 3000 rows).\n",
    "<br>\n",
    "Features&nbsp;&nbsp;&nbsp;&nbsp;&nbsp;&nbsp;&nbsp;&nbsp;&nbsp;&nbsp;&nbsp;&nbsp;&nbsp;&nbsp;&nbsp;:\n",
    "7"
   ]
  },
  {
   "cell_type": "markdown",
   "metadata": {},
   "source": [
    "<h2> Features Description </h2>\n",
    "<br>\n",
    "Date&nbsp;&nbsp;&nbsp;&nbsp;&nbsp;&nbsp;&nbsp;&nbsp;&nbsp;&nbsp;&nbsp;&nbsp;&nbsp;&nbsp;&nbsp;&nbsp;&nbsp;&nbsp;&nbsp;&nbsp;&nbsp;:\n",
    "The date of the sales (YY-mm-dd).\n",
    "<br>\n",
    "Category1&nbsp;&nbsp;&nbsp;&nbsp;&nbsp;&nbsp;&nbsp;&nbsp;&nbsp;&nbsp;&nbsp;&nbsp;:\n",
    "First word of the item category.\n",
    "<br>\n",
    "Category2&nbsp;&nbsp;&nbsp;&nbsp;&nbsp;&nbsp;&nbsp;&nbsp;&nbsp;&nbsp;&nbsp;&nbsp;:\n",
    "Second word of the item category.\n",
    "<br>\n",
    "Category3&nbsp;&nbsp;&nbsp;&nbsp;&nbsp;&nbsp;&nbsp;&nbsp;&nbsp;&nbsp;&nbsp;&nbsp;:\n",
    "Third word of the item category.\n",
    "<br>\n",
    "Maker&nbsp;&nbsp;&nbsp;&nbsp;&nbsp;&nbsp;&nbsp;&nbsp;&nbsp;&nbsp;&nbsp;&nbsp;&nbsp;&nbsp;&nbsp;&nbsp;&nbsp;&nbsp;&nbsp;:\n",
    "The name of the item maker\n",
    "<br>\n",
    "Sales&nbsp;&nbsp;&nbsp;&nbsp;&nbsp;&nbsp;&nbsp;&nbsp;&nbsp;&nbsp;&nbsp;&nbsp;&nbsp;&nbsp;&nbsp;&nbsp;&nbsp;&nbsp;&nbsp;&nbsp;:\n",
    "Number of sales\n",
    "<br>\n",
    "Identifier&nbsp;&nbsp;&nbsp;&nbsp;&nbsp;&nbsp;&nbsp;&nbsp;&nbsp;&nbsp;&nbsp;&nbsp;&nbsp;&nbsp;&nbsp;:\n",
    "Item ID"
   ]
  },
  {
   "cell_type": "markdown",
   "metadata": {},
   "source": [
    "<h2>Objective(s)</h2>\n",
    "<br>\n",
    "<li> Exploratory Data Analysis (EDA) </li>\n",
    "<li> Data cleaning </li>\n",
    "<li> Data modeling </li>"
   ]
  },
  {
   "cell_type": "markdown",
   "metadata": {},
   "source": [
    "<h2>----------------------------------------------------------------------------------"
   ]
  },
  {
   "cell_type": "markdown",
   "metadata": {},
   "source": [
    "**Import libraries and load the data**"
   ]
  },
  {
   "cell_type": "code",
   "execution_count": 1,
   "metadata": {},
   "outputs": [],
   "source": [
    "import numpy as np\n",
    "import pandas as pd\n",
    "import matplotlib.pyplot as plt\n",
    "import seaborn as sns\n",
    "import glob\n",
    "import re\n",
    "import warnings\n",
    "warnings.filterwarnings('ignore')"
   ]
  },
  {
   "cell_type": "code",
   "execution_count": 2,
   "metadata": {},
   "outputs": [],
   "source": [
    "all_files = glob.glob('dataset' + '/*.csv')"
   ]
  },
  {
   "cell_type": "code",
   "execution_count": 3,
   "metadata": {},
   "outputs": [],
   "source": [
    "lst = []\n",
    "for filename in all_files:\n",
    "    data = pd.read_csv(filename, index_col=None, header=0)\n",
    "    lst.append(data)"
   ]
  },
  {
   "cell_type": "code",
   "execution_count": 4,
   "metadata": {},
   "outputs": [],
   "source": [
    "df = pd.concat(lst, axis=0, ignore_index=True)"
   ]
  },
  {
   "cell_type": "code",
   "execution_count": 29,
   "metadata": {},
   "outputs": [
    {
     "name": "stdout",
     "output_type": "stream",
     "text": [
      "<class 'pandas.core.frame.DataFrame'>\n",
      "RangeIndex: 134964 entries, 0 to 134963\n",
      "Data columns (total 7 columns):\n",
      " #   Column      Non-Null Count   Dtype  \n",
      "---  ------      --------------   -----  \n",
      " 0   Date        134964 non-null  object \n",
      " 1   Category1   134964 non-null  object \n",
      " 2   Category2   93196 non-null   object \n",
      " 3   Category3   30603 non-null   object \n",
      " 4   Maker       134964 non-null  object \n",
      " 5   Sales       129588 non-null  float64\n",
      " 6   Identifier  134964 non-null  object \n",
      "dtypes: float64(1), object(6)\n",
      "memory usage: 7.2+ MB\n"
     ]
    }
   ],
   "source": [
    "df.info()"
   ]
  },
  {
   "cell_type": "code",
   "execution_count": 10,
   "metadata": {},
   "outputs": [
    {
     "data": {
      "text/html": [
       "<div>\n",
       "<style scoped>\n",
       "    .dataframe tbody tr th:only-of-type {\n",
       "        vertical-align: middle;\n",
       "    }\n",
       "\n",
       "    .dataframe tbody tr th {\n",
       "        vertical-align: top;\n",
       "    }\n",
       "\n",
       "    .dataframe thead th {\n",
       "        text-align: right;\n",
       "    }\n",
       "</style>\n",
       "<table border=\"1\" class=\"dataframe\">\n",
       "  <thead>\n",
       "    <tr style=\"text-align: right;\">\n",
       "      <th></th>\n",
       "      <th>Date</th>\n",
       "      <th>Category1</th>\n",
       "      <th>Category2</th>\n",
       "      <th>Category3</th>\n",
       "      <th>Maker</th>\n",
       "      <th>Sales</th>\n",
       "      <th>Identifier</th>\n",
       "    </tr>\n",
       "  </thead>\n",
       "  <tbody>\n",
       "    <tr>\n",
       "      <th>0</th>\n",
       "      <td>2010-02-15</td>\n",
       "      <td>Air</td>\n",
       "      <td>Conditioners</td>\n",
       "      <td>NaN</td>\n",
       "      <td>Toshino</td>\n",
       "      <td>2143.0</td>\n",
       "      <td>RVFWTWSMNU</td>\n",
       "    </tr>\n",
       "    <tr>\n",
       "      <th>1</th>\n",
       "      <td>2010-02-15</td>\n",
       "      <td>Water</td>\n",
       "      <td>Heaters</td>\n",
       "      <td>NaN</td>\n",
       "      <td>Furutani</td>\n",
       "      <td>567.0</td>\n",
       "      <td>PF4KB33DVZ</td>\n",
       "    </tr>\n",
       "    <tr>\n",
       "      <th>2</th>\n",
       "      <td>2010-02-15</td>\n",
       "      <td>Washers</td>\n",
       "      <td>&amp;</td>\n",
       "      <td>Dryers</td>\n",
       "      <td>Akaza</td>\n",
       "      <td>3515.0</td>\n",
       "      <td>VUQUQMHODG</td>\n",
       "    </tr>\n",
       "    <tr>\n",
       "      <th>3</th>\n",
       "      <td>2010-02-15</td>\n",
       "      <td>Refrigerators</td>\n",
       "      <td>NaN</td>\n",
       "      <td>NaN</td>\n",
       "      <td>Akaza</td>\n",
       "      <td>687.0</td>\n",
       "      <td>XVIOZZOUTN</td>\n",
       "    </tr>\n",
       "    <tr>\n",
       "      <th>4</th>\n",
       "      <td>2010-02-15</td>\n",
       "      <td>Washers</td>\n",
       "      <td>&amp;</td>\n",
       "      <td>Dryers</td>\n",
       "      <td>Shimada</td>\n",
       "      <td>435.0</td>\n",
       "      <td>RBRMDIXXGL</td>\n",
       "    </tr>\n",
       "  </tbody>\n",
       "</table>\n",
       "</div>"
      ],
      "text/plain": [
       "         Date      Category1     Category2 Category3     Maker   Sales  \\\n",
       "0  2010-02-15            Air  Conditioners       NaN   Toshino  2143.0   \n",
       "1  2010-02-15          Water       Heaters       NaN  Furutani   567.0   \n",
       "2  2010-02-15        Washers             &    Dryers     Akaza  3515.0   \n",
       "3  2010-02-15  Refrigerators           NaN       NaN     Akaza   687.0   \n",
       "4  2010-02-15        Washers             &    Dryers   Shimada   435.0   \n",
       "\n",
       "   Identifier  \n",
       "0  RVFWTWSMNU  \n",
       "1  PF4KB33DVZ  \n",
       "2  VUQUQMHODG  \n",
       "3  XVIOZZOUTN  \n",
       "4  RBRMDIXXGL  "
      ]
     },
     "execution_count": 10,
     "metadata": {},
     "output_type": "execute_result"
    }
   ],
   "source": [
    "df.head()"
   ]
  },
  {
   "cell_type": "code",
   "execution_count": 30,
   "metadata": {},
   "outputs": [
    {
     "data": {
      "text/plain": [
       "Date               0\n",
       "Category1          0\n",
       "Category2      41768\n",
       "Category3     104361\n",
       "Maker              0\n",
       "Sales           5376\n",
       "Identifier         0\n",
       "dtype: int64"
      ]
     },
     "execution_count": 30,
     "metadata": {},
     "output_type": "execute_result"
    }
   ],
   "source": [
    "df.isnull().sum()"
   ]
  },
  {
   "cell_type": "markdown",
   "metadata": {},
   "source": [
    "**Convert `Date` to datetime object**"
   ]
  },
  {
   "cell_type": "code",
   "execution_count": 31,
   "metadata": {},
   "outputs": [],
   "source": [
    "df['Date'] = pd.to_datetime(df['Date'])"
   ]
  },
  {
   "cell_type": "code",
   "execution_count": 32,
   "metadata": {},
   "outputs": [
    {
     "name": "stdout",
     "output_type": "stream",
     "text": [
      "<class 'pandas.core.frame.DataFrame'>\n",
      "RangeIndex: 134964 entries, 0 to 134963\n",
      "Data columns (total 7 columns):\n",
      " #   Column      Non-Null Count   Dtype         \n",
      "---  ------      --------------   -----         \n",
      " 0   Date        134964 non-null  datetime64[ns]\n",
      " 1   Category1   134964 non-null  object        \n",
      " 2   Category2   93196 non-null   object        \n",
      " 3   Category3   30603 non-null   object        \n",
      " 4   Maker       134964 non-null  object        \n",
      " 5   Sales       129588 non-null  float64       \n",
      " 6   Identifier  134964 non-null  object        \n",
      "dtypes: datetime64[ns](1), float64(1), object(5)\n",
      "memory usage: 7.2+ MB\n"
     ]
    }
   ],
   "source": [
    "df.info()"
   ]
  },
  {
   "cell_type": "markdown",
   "metadata": {},
   "source": [
    "**Combine the words in `Category1`, `Category2`, and `Category3` into one column `Category`**"
   ]
  },
  {
   "cell_type": "code",
   "execution_count": 33,
   "metadata": {},
   "outputs": [],
   "source": [
    "df['Category'] = np.nan"
   ]
  },
  {
   "cell_type": "code",
   "execution_count": 34,
   "metadata": {},
   "outputs": [],
   "source": [
    "bool_cat2isnull_cat3isnull = (df['Category2'].isnull()) & (df['Category3'].isnull())\n",
    "bool_cat2notnull_cat3isnull = (df['Category2'].notnull()) & (df['Category3'].isnull())\n",
    "bool_cat2notnull_cat3notnull = (df['Category2'].notnull()) & (df['Category3'].notnull())"
   ]
  },
  {
   "cell_type": "code",
   "execution_count": 35,
   "metadata": {},
   "outputs": [],
   "source": [
    "df['Category'] = df['Category'].mask(bool_cat2isnull_cat3isnull, df['Category1'])\n",
    "df['Category'] = df['Category'].mask(bool_cat2notnull_cat3isnull, df['Category1'] + ' ' + df['Category2'])\n",
    "df['Category'] = df['Category'].mask(bool_cat2notnull_cat3notnull, df['Category1'] + ' ' + df['Category2'] + ' ' + df['Category3'])"
   ]
  },
  {
   "cell_type": "code",
   "execution_count": 36,
   "metadata": {},
   "outputs": [
    {
     "data": {
      "text/html": [
       "<div>\n",
       "<style scoped>\n",
       "    .dataframe tbody tr th:only-of-type {\n",
       "        vertical-align: middle;\n",
       "    }\n",
       "\n",
       "    .dataframe tbody tr th {\n",
       "        vertical-align: top;\n",
       "    }\n",
       "\n",
       "    .dataframe thead th {\n",
       "        text-align: right;\n",
       "    }\n",
       "</style>\n",
       "<table border=\"1\" class=\"dataframe\">\n",
       "  <thead>\n",
       "    <tr style=\"text-align: right;\">\n",
       "      <th></th>\n",
       "      <th>Date</th>\n",
       "      <th>Category1</th>\n",
       "      <th>Category2</th>\n",
       "      <th>Category3</th>\n",
       "      <th>Maker</th>\n",
       "      <th>Sales</th>\n",
       "      <th>Identifier</th>\n",
       "      <th>Category</th>\n",
       "    </tr>\n",
       "  </thead>\n",
       "  <tbody>\n",
       "    <tr>\n",
       "      <th>0</th>\n",
       "      <td>2010-02-15</td>\n",
       "      <td>Air</td>\n",
       "      <td>Conditioners</td>\n",
       "      <td>NaN</td>\n",
       "      <td>Toshino</td>\n",
       "      <td>2143.0</td>\n",
       "      <td>RVFWTWSMNU</td>\n",
       "      <td>Air Conditioners</td>\n",
       "    </tr>\n",
       "    <tr>\n",
       "      <th>1</th>\n",
       "      <td>2010-02-15</td>\n",
       "      <td>Water</td>\n",
       "      <td>Heaters</td>\n",
       "      <td>NaN</td>\n",
       "      <td>Furutani</td>\n",
       "      <td>567.0</td>\n",
       "      <td>PF4KB33DVZ</td>\n",
       "      <td>Water Heaters</td>\n",
       "    </tr>\n",
       "    <tr>\n",
       "      <th>2</th>\n",
       "      <td>2010-02-15</td>\n",
       "      <td>Washers</td>\n",
       "      <td>&amp;</td>\n",
       "      <td>Dryers</td>\n",
       "      <td>Akaza</td>\n",
       "      <td>3515.0</td>\n",
       "      <td>VUQUQMHODG</td>\n",
       "      <td>Washers &amp; Dryers</td>\n",
       "    </tr>\n",
       "    <tr>\n",
       "      <th>3</th>\n",
       "      <td>2010-02-15</td>\n",
       "      <td>Refrigerators</td>\n",
       "      <td>NaN</td>\n",
       "      <td>NaN</td>\n",
       "      <td>Akaza</td>\n",
       "      <td>687.0</td>\n",
       "      <td>XVIOZZOUTN</td>\n",
       "      <td>Refrigerators</td>\n",
       "    </tr>\n",
       "    <tr>\n",
       "      <th>4</th>\n",
       "      <td>2010-02-15</td>\n",
       "      <td>Washers</td>\n",
       "      <td>&amp;</td>\n",
       "      <td>Dryers</td>\n",
       "      <td>Shimada</td>\n",
       "      <td>435.0</td>\n",
       "      <td>RBRMDIXXGL</td>\n",
       "      <td>Washers &amp; Dryers</td>\n",
       "    </tr>\n",
       "  </tbody>\n",
       "</table>\n",
       "</div>"
      ],
      "text/plain": [
       "        Date      Category1     Category2 Category3     Maker   Sales  \\\n",
       "0 2010-02-15            Air  Conditioners       NaN   Toshino  2143.0   \n",
       "1 2010-02-15          Water       Heaters       NaN  Furutani   567.0   \n",
       "2 2010-02-15        Washers             &    Dryers     Akaza  3515.0   \n",
       "3 2010-02-15  Refrigerators           NaN       NaN     Akaza   687.0   \n",
       "4 2010-02-15        Washers             &    Dryers   Shimada   435.0   \n",
       "\n",
       "   Identifier          Category  \n",
       "0  RVFWTWSMNU  Air Conditioners  \n",
       "1  PF4KB33DVZ     Water Heaters  \n",
       "2  VUQUQMHODG  Washers & Dryers  \n",
       "3  XVIOZZOUTN     Refrigerators  \n",
       "4  RBRMDIXXGL  Washers & Dryers  "
      ]
     },
     "execution_count": 36,
     "metadata": {},
     "output_type": "execute_result"
    }
   ],
   "source": [
    "df.head()"
   ]
  },
  {
   "cell_type": "code",
   "execution_count": 37,
   "metadata": {},
   "outputs": [
    {
     "data": {
      "text/plain": [
       "Refrigerators       19476\n",
       "Rice Cookers        16695\n",
       "Ovens & Cooktops    16693\n",
       "Vacuum Cleaners     13911\n",
       "Washers & Dryers    13910\n",
       "Dishwashers         11843\n",
       "Air Conditioners    11128\n",
       "Water Heaters       10567\n",
       "Televisions         10449\n",
       "Water Pumps         10292\n",
       "Name: Category, dtype: int64"
      ]
     },
     "execution_count": 37,
     "metadata": {},
     "output_type": "execute_result"
    }
   ],
   "source": [
    "df['Category'].value_counts()"
   ]
  },
  {
   "cell_type": "markdown",
   "metadata": {},
   "source": [
    "Drop `Category1`, `Category2`, and `Category3`"
   ]
  },
  {
   "cell_type": "code",
   "execution_count": 38,
   "metadata": {},
   "outputs": [],
   "source": [
    "df = df.drop(['Category1', 'Category2', 'Category3'], axis=1)"
   ]
  },
  {
   "cell_type": "code",
   "execution_count": 39,
   "metadata": {},
   "outputs": [
    {
     "data": {
      "text/html": [
       "<div>\n",
       "<style scoped>\n",
       "    .dataframe tbody tr th:only-of-type {\n",
       "        vertical-align: middle;\n",
       "    }\n",
       "\n",
       "    .dataframe tbody tr th {\n",
       "        vertical-align: top;\n",
       "    }\n",
       "\n",
       "    .dataframe thead th {\n",
       "        text-align: right;\n",
       "    }\n",
       "</style>\n",
       "<table border=\"1\" class=\"dataframe\">\n",
       "  <thead>\n",
       "    <tr style=\"text-align: right;\">\n",
       "      <th></th>\n",
       "      <th>Date</th>\n",
       "      <th>Maker</th>\n",
       "      <th>Sales</th>\n",
       "      <th>Identifier</th>\n",
       "      <th>Category</th>\n",
       "    </tr>\n",
       "  </thead>\n",
       "  <tbody>\n",
       "    <tr>\n",
       "      <th>0</th>\n",
       "      <td>2010-02-15</td>\n",
       "      <td>Toshino</td>\n",
       "      <td>2143.0</td>\n",
       "      <td>RVFWTWSMNU</td>\n",
       "      <td>Air Conditioners</td>\n",
       "    </tr>\n",
       "    <tr>\n",
       "      <th>1</th>\n",
       "      <td>2010-02-15</td>\n",
       "      <td>Furutani</td>\n",
       "      <td>567.0</td>\n",
       "      <td>PF4KB33DVZ</td>\n",
       "      <td>Water Heaters</td>\n",
       "    </tr>\n",
       "    <tr>\n",
       "      <th>2</th>\n",
       "      <td>2010-02-15</td>\n",
       "      <td>Akaza</td>\n",
       "      <td>3515.0</td>\n",
       "      <td>VUQUQMHODG</td>\n",
       "      <td>Washers &amp; Dryers</td>\n",
       "    </tr>\n",
       "    <tr>\n",
       "      <th>3</th>\n",
       "      <td>2010-02-15</td>\n",
       "      <td>Akaza</td>\n",
       "      <td>687.0</td>\n",
       "      <td>XVIOZZOUTN</td>\n",
       "      <td>Refrigerators</td>\n",
       "    </tr>\n",
       "    <tr>\n",
       "      <th>4</th>\n",
       "      <td>2010-02-15</td>\n",
       "      <td>Shimada</td>\n",
       "      <td>435.0</td>\n",
       "      <td>RBRMDIXXGL</td>\n",
       "      <td>Washers &amp; Dryers</td>\n",
       "    </tr>\n",
       "  </tbody>\n",
       "</table>\n",
       "</div>"
      ],
      "text/plain": [
       "        Date     Maker   Sales  Identifier          Category\n",
       "0 2010-02-15   Toshino  2143.0  RVFWTWSMNU  Air Conditioners\n",
       "1 2010-02-15  Furutani   567.0  PF4KB33DVZ     Water Heaters\n",
       "2 2010-02-15     Akaza  3515.0  VUQUQMHODG  Washers & Dryers\n",
       "3 2010-02-15     Akaza   687.0  XVIOZZOUTN     Refrigerators\n",
       "4 2010-02-15   Shimada   435.0  RBRMDIXXGL  Washers & Dryers"
      ]
     },
     "execution_count": 39,
     "metadata": {},
     "output_type": "execute_result"
    }
   ],
   "source": [
    "df.head()"
   ]
  },
  {
   "cell_type": "markdown",
   "metadata": {},
   "source": [
    "**Exclude `Identifier` that contains digits (0-9)**"
   ]
  },
  {
   "cell_type": "code",
   "execution_count": 40,
   "metadata": {},
   "outputs": [
    {
     "data": {
      "text/plain": [
       "(134964, 5)"
      ]
     },
     "execution_count": 40,
     "metadata": {},
     "output_type": "execute_result"
    }
   ],
   "source": [
    "df.shape"
   ]
  },
  {
   "cell_type": "code",
   "execution_count": 41,
   "metadata": {},
   "outputs": [],
   "source": [
    "df = df[~df['Identifier'].str.contains(r'[0-9]')]"
   ]
  },
  {
   "cell_type": "code",
   "execution_count": 42,
   "metadata": {},
   "outputs": [
    {
     "data": {
      "text/plain": [
       "(93171, 5)"
      ]
     },
     "execution_count": 42,
     "metadata": {},
     "output_type": "execute_result"
    }
   ],
   "source": [
    "df.shape"
   ]
  },
  {
   "cell_type": "markdown",
   "metadata": {},
   "source": [
    "**Fill missing `Sales` with mean**"
   ]
  },
  {
   "cell_type": "code",
   "execution_count": 43,
   "metadata": {},
   "outputs": [
    {
     "data": {
      "text/plain": [
       "Date             0\n",
       "Maker            0\n",
       "Sales         3673\n",
       "Identifier       0\n",
       "Category         0\n",
       "dtype: int64"
      ]
     },
     "execution_count": 43,
     "metadata": {},
     "output_type": "execute_result"
    }
   ],
   "source": [
    "df.isnull().sum()"
   ]
  },
  {
   "cell_type": "code",
   "execution_count": 46,
   "metadata": {},
   "outputs": [
    {
     "data": {
      "text/html": [
       "<div>\n",
       "<style scoped>\n",
       "    .dataframe tbody tr th:only-of-type {\n",
       "        vertical-align: middle;\n",
       "    }\n",
       "\n",
       "    .dataframe tbody tr th {\n",
       "        vertical-align: top;\n",
       "    }\n",
       "\n",
       "    .dataframe thead th {\n",
       "        text-align: right;\n",
       "    }\n",
       "</style>\n",
       "<table border=\"1\" class=\"dataframe\">\n",
       "  <thead>\n",
       "    <tr style=\"text-align: right;\">\n",
       "      <th></th>\n",
       "      <th>Date</th>\n",
       "      <th>Maker</th>\n",
       "      <th>Sales</th>\n",
       "      <th>Identifier</th>\n",
       "      <th>Category</th>\n",
       "    </tr>\n",
       "  </thead>\n",
       "  <tbody>\n",
       "    <tr>\n",
       "      <th>27</th>\n",
       "      <td>2010-02-15</td>\n",
       "      <td>Omuro</td>\n",
       "      <td>NaN</td>\n",
       "      <td>HWTFIGIXOL</td>\n",
       "      <td>Ovens &amp; Cooktops</td>\n",
       "    </tr>\n",
       "    <tr>\n",
       "      <th>54</th>\n",
       "      <td>2010-02-16</td>\n",
       "      <td>Sugiura</td>\n",
       "      <td>NaN</td>\n",
       "      <td>UPJKNMIDRB</td>\n",
       "      <td>Water Heaters</td>\n",
       "    </tr>\n",
       "    <tr>\n",
       "      <th>129</th>\n",
       "      <td>2010-02-17</td>\n",
       "      <td>Toshino</td>\n",
       "      <td>NaN</td>\n",
       "      <td>RVFWTWSMNU</td>\n",
       "      <td>Air Conditioners</td>\n",
       "    </tr>\n",
       "    <tr>\n",
       "      <th>189</th>\n",
       "      <td>2010-02-19</td>\n",
       "      <td>Akaza</td>\n",
       "      <td>NaN</td>\n",
       "      <td>ZBYVQNRPUP</td>\n",
       "      <td>Vacuum Cleaners</td>\n",
       "    </tr>\n",
       "    <tr>\n",
       "      <th>224</th>\n",
       "      <td>2010-02-22</td>\n",
       "      <td>Katayama</td>\n",
       "      <td>NaN</td>\n",
       "      <td>ZWNGQMERMH</td>\n",
       "      <td>Dishwashers</td>\n",
       "    </tr>\n",
       "  </tbody>\n",
       "</table>\n",
       "</div>"
      ],
      "text/plain": [
       "          Date     Maker  Sales  Identifier          Category\n",
       "27  2010-02-15     Omuro    NaN  HWTFIGIXOL  Ovens & Cooktops\n",
       "54  2010-02-16   Sugiura    NaN  UPJKNMIDRB     Water Heaters\n",
       "129 2010-02-17   Toshino    NaN  RVFWTWSMNU  Air Conditioners\n",
       "189 2010-02-19     Akaza    NaN  ZBYVQNRPUP   Vacuum Cleaners\n",
       "224 2010-02-22  Katayama    NaN  ZWNGQMERMH       Dishwashers"
      ]
     },
     "execution_count": 46,
     "metadata": {},
     "output_type": "execute_result"
    }
   ],
   "source": [
    "df[df['Sales'].isnull()].head()"
   ]
  },
  {
   "cell_type": "markdown",
   "metadata": {},
   "source": [
    "Groupby `Identifier`"
   ]
  },
  {
   "cell_type": "code",
   "execution_count": 49,
   "metadata": {},
   "outputs": [
    {
     "data": {
      "text/html": [
       "<div>\n",
       "<style scoped>\n",
       "    .dataframe tbody tr th:only-of-type {\n",
       "        vertical-align: middle;\n",
       "    }\n",
       "\n",
       "    .dataframe tbody tr th {\n",
       "        vertical-align: top;\n",
       "    }\n",
       "\n",
       "    .dataframe thead th {\n",
       "        text-align: right;\n",
       "    }\n",
       "</style>\n",
       "<table border=\"1\" class=\"dataframe\">\n",
       "  <thead>\n",
       "    <tr style=\"text-align: right;\">\n",
       "      <th></th>\n",
       "      <th>Sales</th>\n",
       "    </tr>\n",
       "    <tr>\n",
       "      <th>Identifier</th>\n",
       "      <th></th>\n",
       "    </tr>\n",
       "  </thead>\n",
       "  <tbody>\n",
       "    <tr>\n",
       "      <th>AHSRVKIOLJ</th>\n",
       "      <td>672.01</td>\n",
       "    </tr>\n",
       "    <tr>\n",
       "      <th>AVXSMNNRDX</th>\n",
       "      <td>3226.39</td>\n",
       "    </tr>\n",
       "    <tr>\n",
       "      <th>BIBIOOIHA</th>\n",
       "      <td>1045.58</td>\n",
       "    </tr>\n",
       "    <tr>\n",
       "      <th>DUVTZNWNAB</th>\n",
       "      <td>363.60</td>\n",
       "    </tr>\n",
       "    <tr>\n",
       "      <th>ECQPIOYXZO</th>\n",
       "      <td>6546.64</td>\n",
       "    </tr>\n",
       "    <tr>\n",
       "      <th>EFCRJFQTCD</th>\n",
       "      <td>324.19</td>\n",
       "    </tr>\n",
       "    <tr>\n",
       "      <th>FRBLLORNXN</th>\n",
       "      <td>411.40</td>\n",
       "    </tr>\n",
       "    <tr>\n",
       "      <th>FUWHINIXUA</th>\n",
       "      <td>16321.21</td>\n",
       "    </tr>\n",
       "    <tr>\n",
       "      <th>FVDHIZGQRC</th>\n",
       "      <td>11404.04</td>\n",
       "    </tr>\n",
       "    <tr>\n",
       "      <th>GCPKFKSEWG</th>\n",
       "      <td>431.47</td>\n",
       "    </tr>\n",
       "    <tr>\n",
       "      <th>GHOAPVUVYL</th>\n",
       "      <td>1488.50</td>\n",
       "    </tr>\n",
       "    <tr>\n",
       "      <th>GQUIAFQIRH</th>\n",
       "      <td>728.15</td>\n",
       "    </tr>\n",
       "    <tr>\n",
       "      <th>HANYALJGGA</th>\n",
       "      <td>1292.15</td>\n",
       "    </tr>\n",
       "    <tr>\n",
       "      <th>HWQKLKDVSB</th>\n",
       "      <td>2415.96</td>\n",
       "    </tr>\n",
       "    <tr>\n",
       "      <th>HWTFIGIXOL</th>\n",
       "      <td>24478.66</td>\n",
       "    </tr>\n",
       "    <tr>\n",
       "      <th>JYINACMKHE</th>\n",
       "      <td>1214.59</td>\n",
       "    </tr>\n",
       "    <tr>\n",
       "      <th>LBABGBBMJJ</th>\n",
       "      <td>3241.14</td>\n",
       "    </tr>\n",
       "    <tr>\n",
       "      <th>LFIEXBAPFQ</th>\n",
       "      <td>2795.55</td>\n",
       "    </tr>\n",
       "    <tr>\n",
       "      <th>NTMMOBBPEE</th>\n",
       "      <td>5026.15</td>\n",
       "    </tr>\n",
       "    <tr>\n",
       "      <th>POEZMGDXLN</th>\n",
       "      <td>1554.82</td>\n",
       "    </tr>\n",
       "    <tr>\n",
       "      <th>RBRMDIXXGL</th>\n",
       "      <td>3065.76</td>\n",
       "    </tr>\n",
       "    <tr>\n",
       "      <th>RVFWTWSMNU</th>\n",
       "      <td>5212.54</td>\n",
       "    </tr>\n",
       "    <tr>\n",
       "      <th>TJLYGOSEBQ</th>\n",
       "      <td>3779.72</td>\n",
       "    </tr>\n",
       "    <tr>\n",
       "      <th>UPHDCCFDRL</th>\n",
       "      <td>539.07</td>\n",
       "    </tr>\n",
       "    <tr>\n",
       "      <th>UPJKNMIDRB</th>\n",
       "      <td>1720.72</td>\n",
       "    </tr>\n",
       "    <tr>\n",
       "      <th>VEWPPXWTWS</th>\n",
       "      <td>1009.99</td>\n",
       "    </tr>\n",
       "    <tr>\n",
       "      <th>VNZSEQOSNP</th>\n",
       "      <td>1384.86</td>\n",
       "    </tr>\n",
       "    <tr>\n",
       "      <th>VUQUQMHODG</th>\n",
       "      <td>6814.94</td>\n",
       "    </tr>\n",
       "    <tr>\n",
       "      <th>VZAQLWEGXU</th>\n",
       "      <td>1436.03</td>\n",
       "    </tr>\n",
       "    <tr>\n",
       "      <th>WVJTPVZKAQ</th>\n",
       "      <td>1453.27</td>\n",
       "    </tr>\n",
       "    <tr>\n",
       "      <th>XVIOZZOUTN</th>\n",
       "      <td>1114.32</td>\n",
       "    </tr>\n",
       "    <tr>\n",
       "      <th>ZBYVQNRPUP</th>\n",
       "      <td>945.71</td>\n",
       "    </tr>\n",
       "    <tr>\n",
       "      <th>ZJPMAJIMIT</th>\n",
       "      <td>18445.47</td>\n",
       "    </tr>\n",
       "    <tr>\n",
       "      <th>ZJZZJNDFOZ</th>\n",
       "      <td>6836.80</td>\n",
       "    </tr>\n",
       "    <tr>\n",
       "      <th>ZTEIJGNYNC</th>\n",
       "      <td>350.15</td>\n",
       "    </tr>\n",
       "    <tr>\n",
       "      <th>ZWNGQMERMH</th>\n",
       "      <td>1079.23</td>\n",
       "    </tr>\n",
       "  </tbody>\n",
       "</table>\n",
       "</div>"
      ],
      "text/plain": [
       "               Sales\n",
       "Identifier          \n",
       "AHSRVKIOLJ    672.01\n",
       "AVXSMNNRDX   3226.39\n",
       "BIBIOOIHA    1045.58\n",
       "DUVTZNWNAB    363.60\n",
       "ECQPIOYXZO   6546.64\n",
       "EFCRJFQTCD    324.19\n",
       "FRBLLORNXN    411.40\n",
       "FUWHINIXUA  16321.21\n",
       "FVDHIZGQRC  11404.04\n",
       "GCPKFKSEWG    431.47\n",
       "GHOAPVUVYL   1488.50\n",
       "GQUIAFQIRH    728.15\n",
       "HANYALJGGA   1292.15\n",
       "HWQKLKDVSB   2415.96\n",
       "HWTFIGIXOL  24478.66\n",
       "JYINACMKHE   1214.59\n",
       "LBABGBBMJJ   3241.14\n",
       "LFIEXBAPFQ   2795.55\n",
       "NTMMOBBPEE   5026.15\n",
       "POEZMGDXLN   1554.82\n",
       "RBRMDIXXGL   3065.76\n",
       "RVFWTWSMNU   5212.54\n",
       "TJLYGOSEBQ   3779.72\n",
       "UPHDCCFDRL    539.07\n",
       "UPJKNMIDRB   1720.72\n",
       "VEWPPXWTWS   1009.99\n",
       "VNZSEQOSNP   1384.86\n",
       "VUQUQMHODG   6814.94\n",
       "VZAQLWEGXU   1436.03\n",
       "WVJTPVZKAQ   1453.27\n",
       "XVIOZZOUTN   1114.32\n",
       "ZBYVQNRPUP    945.71\n",
       "ZJPMAJIMIT  18445.47\n",
       "ZJZZJNDFOZ   6836.80\n",
       "ZTEIJGNYNC    350.15\n",
       "ZWNGQMERMH   1079.23"
      ]
     },
     "execution_count": 49,
     "metadata": {},
     "output_type": "execute_result"
    }
   ],
   "source": [
    "grpby_id = df.groupby(by='Identifier').mean().round(2)\n",
    "grpby_id"
   ]
  },
  {
   "cell_type": "code",
   "execution_count": 52,
   "metadata": {},
   "outputs": [],
   "source": [
    "for identifier, sales_mean in zip(grpby_id.index, grpby_id.values):\n",
    "    df['Sales'] = df['Sales'].mask((df['Sales'].isnull()) & (df['Identifier'] == identifier), sales_mean)"
   ]
  },
  {
   "cell_type": "code",
   "execution_count": 53,
   "metadata": {},
   "outputs": [
    {
     "data": {
      "text/plain": [
       "Date          0\n",
       "Maker         0\n",
       "Sales         0\n",
       "Identifier    0\n",
       "Category      0\n",
       "dtype: int64"
      ]
     },
     "execution_count": 53,
     "metadata": {},
     "output_type": "execute_result"
    }
   ],
   "source": [
    "df.isnull().sum()"
   ]
  },
  {
   "cell_type": "code",
   "execution_count": 54,
   "metadata": {},
   "outputs": [
    {
     "data": {
      "text/plain": [
       "Date          2010-02-15 00:00:00\n",
       "Maker                       Omuro\n",
       "Sales                    24478.66\n",
       "Identifier             HWTFIGIXOL\n",
       "Category         Ovens & Cooktops\n",
       "Name: 27, dtype: object"
      ]
     },
     "execution_count": 54,
     "metadata": {},
     "output_type": "execute_result"
    }
   ],
   "source": [
    "df.loc[27]"
   ]
  },
  {
   "cell_type": "markdown",
   "metadata": {},
   "source": [
    "**Check for Outliers**"
   ]
  },
  {
   "cell_type": "code",
   "execution_count": 55,
   "metadata": {},
   "outputs": [
    {
     "data": {
      "text/html": [
       "<div>\n",
       "<style scoped>\n",
       "    .dataframe tbody tr th:only-of-type {\n",
       "        vertical-align: middle;\n",
       "    }\n",
       "\n",
       "    .dataframe tbody tr th {\n",
       "        vertical-align: top;\n",
       "    }\n",
       "\n",
       "    .dataframe thead th {\n",
       "        text-align: right;\n",
       "    }\n",
       "</style>\n",
       "<table border=\"1\" class=\"dataframe\">\n",
       "  <thead>\n",
       "    <tr style=\"text-align: right;\">\n",
       "      <th></th>\n",
       "      <th>Sales</th>\n",
       "    </tr>\n",
       "  </thead>\n",
       "  <tbody>\n",
       "    <tr>\n",
       "      <th>count</th>\n",
       "      <td>93171.000000</td>\n",
       "    </tr>\n",
       "    <tr>\n",
       "      <th>mean</th>\n",
       "      <td>4146.444172</td>\n",
       "    </tr>\n",
       "    <tr>\n",
       "      <th>std</th>\n",
       "      <td>6254.450771</td>\n",
       "    </tr>\n",
       "    <tr>\n",
       "      <th>min</th>\n",
       "      <td>62.000000</td>\n",
       "    </tr>\n",
       "    <tr>\n",
       "      <th>25%</th>\n",
       "      <td>801.000000</td>\n",
       "    </tr>\n",
       "    <tr>\n",
       "      <th>50%</th>\n",
       "      <td>1691.000000</td>\n",
       "    </tr>\n",
       "    <tr>\n",
       "      <th>75%</th>\n",
       "      <td>4892.000000</td>\n",
       "    </tr>\n",
       "    <tr>\n",
       "      <th>max</th>\n",
       "      <td>56785.000000</td>\n",
       "    </tr>\n",
       "  </tbody>\n",
       "</table>\n",
       "</div>"
      ],
      "text/plain": [
       "              Sales\n",
       "count  93171.000000\n",
       "mean    4146.444172\n",
       "std     6254.450771\n",
       "min       62.000000\n",
       "25%      801.000000\n",
       "50%     1691.000000\n",
       "75%     4892.000000\n",
       "max    56785.000000"
      ]
     },
     "execution_count": 55,
     "metadata": {},
     "output_type": "execute_result"
    }
   ],
   "source": [
    "df.describe()"
   ]
  },
  {
   "cell_type": "code",
   "execution_count": 78,
   "metadata": {},
   "outputs": [
    {
     "data": {
      "image/png": "[encoded data removed]",
      "text/plain": [
       "<Figure size 1080x360 with 2 Axes>"
      ]
     },
     "metadata": {
      "needs_background": "light"
     },
     "output_type": "display_data"
    }
   ],
   "source": [
    "fig, ax = plt.subplots(nrows=1, ncols=2, figsize=(15, 5))\n",
    "sns.boxplot(ax=ax[0], data=df, x='Sales')\n",
    "sns.histplot(ax=ax[1], data=df, x='Sales')\n",
    "\n",
    "plt.show();"
   ]
  },
  {
   "cell_type": "code",
   "execution_count": null,
   "metadata": {},
   "outputs": [],
   "source": []
  }
 ],
 "metadata": {
  "kernelspec": {
   "display_name": "Python 3",
   "language": "python",
   "name": "python3"
  },
  "language_info": {
   "codemirror_mode": {
    "name": "ipython",
    "version": 3
   },
   "file_extension": ".py",
   "mimetype": "text/x-python",
   "name": "python",
   "nbconvert_exporter": "python",
   "pygments_lexer": "ipython3",
   "version": "3.8.5"
  }
 },
 "nbformat": 4,
 "nbformat_minor": 4
}
