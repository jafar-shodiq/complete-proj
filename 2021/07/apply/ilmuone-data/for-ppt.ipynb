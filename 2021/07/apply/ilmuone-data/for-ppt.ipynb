{
 "cells": [
  {
   "cell_type": "code",
   "execution_count": 1,
   "metadata": {},
   "outputs": [],
   "source": [
    "import numpy as np\n",
    "import pandas as pd\n",
    "import matplotlib.pyplot as plt\n",
    "import seaborn as sns\n",
    "import glob\n",
    "import re\n",
    "import warnings\n",
    "warnings.filterwarnings('ignore')"
   ]
  },
  {
   "cell_type": "code",
   "execution_count": 2,
   "metadata": {},
   "outputs": [],
   "source": [
    "all_files = glob.glob('dataset' + '/*.csv')"
   ]
  },
  {
   "cell_type": "code",
   "execution_count": 3,
   "metadata": {},
   "outputs": [],
   "source": [
    "lst = []\n",
    "for filename in all_files:\n",
    "    data = pd.read_csv(filename, index_col=None, header=0)\n",
    "    lst.append(data)"
   ]
  },
  {
   "cell_type": "code",
   "execution_count": 4,
   "metadata": {},
   "outputs": [],
   "source": [
    "df = pd.concat(lst, axis=0, ignore_index=True)"
   ]
  },
  {
   "cell_type": "code",
   "execution_count": 5,
   "metadata": {},
   "outputs": [],
   "source": [
    "df = df[~df['Identifier'].str.contains(r'[0-9]')]"
   ]
  },
  {
   "cell_type": "code",
   "execution_count": 7,
   "metadata": {},
   "outputs": [
    {
     "data": {
      "text/html": [
       "<div>\n",
       "<style scoped>\n",
       "    .dataframe tbody tr th:only-of-type {\n",
       "        vertical-align: middle;\n",
       "    }\n",
       "\n",
       "    .dataframe tbody tr th {\n",
       "        vertical-align: top;\n",
       "    }\n",
       "\n",
       "    .dataframe thead th {\n",
       "        text-align: right;\n",
       "    }\n",
       "</style>\n",
       "<table border=\"1\" class=\"dataframe\">\n",
       "  <thead>\n",
       "    <tr style=\"text-align: right;\">\n",
       "      <th></th>\n",
       "      <th>Date</th>\n",
       "      <th>Category1</th>\n",
       "      <th>Category2</th>\n",
       "      <th>Category3</th>\n",
       "      <th>Maker</th>\n",
       "      <th>Sales</th>\n",
       "      <th>Identifier</th>\n",
       "    </tr>\n",
       "  </thead>\n",
       "  <tbody>\n",
       "    <tr>\n",
       "      <th>0</th>\n",
       "      <td>2010-02-15</td>\n",
       "      <td>Air</td>\n",
       "      <td>Conditioners</td>\n",
       "      <td>NaN</td>\n",
       "      <td>Toshino</td>\n",
       "      <td>2143.0</td>\n",
       "      <td>RVFWTWSMNU</td>\n",
       "    </tr>\n",
       "    <tr>\n",
       "      <th>2</th>\n",
       "      <td>2010-02-15</td>\n",
       "      <td>Washers</td>\n",
       "      <td>&amp;</td>\n",
       "      <td>Dryers</td>\n",
       "      <td>Akaza</td>\n",
       "      <td>3515.0</td>\n",
       "      <td>VUQUQMHODG</td>\n",
       "    </tr>\n",
       "    <tr>\n",
       "      <th>3</th>\n",
       "      <td>2010-02-15</td>\n",
       "      <td>Refrigerators</td>\n",
       "      <td>NaN</td>\n",
       "      <td>NaN</td>\n",
       "      <td>Akaza</td>\n",
       "      <td>687.0</td>\n",
       "      <td>XVIOZZOUTN</td>\n",
       "    </tr>\n",
       "    <tr>\n",
       "      <th>4</th>\n",
       "      <td>2010-02-15</td>\n",
       "      <td>Washers</td>\n",
       "      <td>&amp;</td>\n",
       "      <td>Dryers</td>\n",
       "      <td>Shimada</td>\n",
       "      <td>435.0</td>\n",
       "      <td>RBRMDIXXGL</td>\n",
       "    </tr>\n",
       "    <tr>\n",
       "      <th>6</th>\n",
       "      <td>2010-02-15</td>\n",
       "      <td>Refrigerators</td>\n",
       "      <td>NaN</td>\n",
       "      <td>NaN</td>\n",
       "      <td>Funami</td>\n",
       "      <td>726.0</td>\n",
       "      <td>BIBIOOIHA</td>\n",
       "    </tr>\n",
       "  </tbody>\n",
       "</table>\n",
       "</div>"
      ],
      "text/plain": [
       "         Date      Category1     Category2 Category3    Maker   Sales  \\\n",
       "0  2010-02-15            Air  Conditioners       NaN  Toshino  2143.0   \n",
       "2  2010-02-15        Washers             &    Dryers    Akaza  3515.0   \n",
       "3  2010-02-15  Refrigerators           NaN       NaN    Akaza   687.0   \n",
       "4  2010-02-15        Washers             &    Dryers  Shimada   435.0   \n",
       "6  2010-02-15  Refrigerators           NaN       NaN   Funami   726.0   \n",
       "\n",
       "   Identifier  \n",
       "0  RVFWTWSMNU  \n",
       "2  VUQUQMHODG  \n",
       "3  XVIOZZOUTN  \n",
       "4  RBRMDIXXGL  \n",
       "6   BIBIOOIHA  "
      ]
     },
     "execution_count": 7,
     "metadata": {},
     "output_type": "execute_result"
    }
   ],
   "source": [
    "df.head()"
   ]
  },
  {
   "cell_type": "code",
   "execution_count": 8,
   "metadata": {},
   "outputs": [],
   "source": [
    "df['Category'] = np.nan\n",
    "\n",
    "bool_cat2isnull_cat3isnull = (df['Category2'].isnull()) & (df['Category3'].isnull())\n",
    "bool_cat2notnull_cat3isnull = (df['Category2'].notnull()) & (df['Category3'].isnull())\n",
    "bool_cat2notnull_cat3notnull = (df['Category2'].notnull()) & (df['Category3'].notnull())\n",
    "\n",
    "df['Category'] = df['Category'].mask(bool_cat2isnull_cat3isnull, df['Category1'])\n",
    "df['Category'] = df['Category'].mask(bool_cat2notnull_cat3isnull, df['Category1'] + ' ' + df['Category2'])\n",
    "df['Category'] = df['Category'].mask(bool_cat2notnull_cat3notnull, df['Category1'] + ' ' + df['Category2'] + ' ' + df['Category3'])\n",
    "\n",
    "df = df.drop(['Category1', 'Category2', 'Category3'], axis=1)"
   ]
  },
  {
   "cell_type": "code",
   "execution_count": 9,
   "metadata": {},
   "outputs": [
    {
     "data": {
      "text/html": [
       "<div>\n",
       "<style scoped>\n",
       "    .dataframe tbody tr th:only-of-type {\n",
       "        vertical-align: middle;\n",
       "    }\n",
       "\n",
       "    .dataframe tbody tr th {\n",
       "        vertical-align: top;\n",
       "    }\n",
       "\n",
       "    .dataframe thead th {\n",
       "        text-align: right;\n",
       "    }\n",
       "</style>\n",
       "<table border=\"1\" class=\"dataframe\">\n",
       "  <thead>\n",
       "    <tr style=\"text-align: right;\">\n",
       "      <th></th>\n",
       "      <th>Date</th>\n",
       "      <th>Maker</th>\n",
       "      <th>Sales</th>\n",
       "      <th>Identifier</th>\n",
       "      <th>Category</th>\n",
       "    </tr>\n",
       "  </thead>\n",
       "  <tbody>\n",
       "    <tr>\n",
       "      <th>0</th>\n",
       "      <td>2010-02-15</td>\n",
       "      <td>Toshino</td>\n",
       "      <td>2143.0</td>\n",
       "      <td>RVFWTWSMNU</td>\n",
       "      <td>Air Conditioners</td>\n",
       "    </tr>\n",
       "    <tr>\n",
       "      <th>2</th>\n",
       "      <td>2010-02-15</td>\n",
       "      <td>Akaza</td>\n",
       "      <td>3515.0</td>\n",
       "      <td>VUQUQMHODG</td>\n",
       "      <td>Washers &amp; Dryers</td>\n",
       "    </tr>\n",
       "    <tr>\n",
       "      <th>3</th>\n",
       "      <td>2010-02-15</td>\n",
       "      <td>Akaza</td>\n",
       "      <td>687.0</td>\n",
       "      <td>XVIOZZOUTN</td>\n",
       "      <td>Refrigerators</td>\n",
       "    </tr>\n",
       "    <tr>\n",
       "      <th>4</th>\n",
       "      <td>2010-02-15</td>\n",
       "      <td>Shimada</td>\n",
       "      <td>435.0</td>\n",
       "      <td>RBRMDIXXGL</td>\n",
       "      <td>Washers &amp; Dryers</td>\n",
       "    </tr>\n",
       "    <tr>\n",
       "      <th>6</th>\n",
       "      <td>2010-02-15</td>\n",
       "      <td>Funami</td>\n",
       "      <td>726.0</td>\n",
       "      <td>BIBIOOIHA</td>\n",
       "      <td>Refrigerators</td>\n",
       "    </tr>\n",
       "  </tbody>\n",
       "</table>\n",
       "</div>"
      ],
      "text/plain": [
       "         Date    Maker   Sales  Identifier          Category\n",
       "0  2010-02-15  Toshino  2143.0  RVFWTWSMNU  Air Conditioners\n",
       "2  2010-02-15    Akaza  3515.0  VUQUQMHODG  Washers & Dryers\n",
       "3  2010-02-15    Akaza   687.0  XVIOZZOUTN     Refrigerators\n",
       "4  2010-02-15  Shimada   435.0  RBRMDIXXGL  Washers & Dryers\n",
       "6  2010-02-15   Funami   726.0   BIBIOOIHA     Refrigerators"
      ]
     },
     "execution_count": 9,
     "metadata": {},
     "output_type": "execute_result"
    }
   ],
   "source": [
    "df.head()"
   ]
  },
  {
   "cell_type": "code",
   "execution_count": 10,
   "metadata": {},
   "outputs": [
    {
     "data": {
      "text/html": [
       "<div>\n",
       "<style scoped>\n",
       "    .dataframe tbody tr th:only-of-type {\n",
       "        vertical-align: middle;\n",
       "    }\n",
       "\n",
       "    .dataframe tbody tr th {\n",
       "        vertical-align: top;\n",
       "    }\n",
       "\n",
       "    .dataframe thead th {\n",
       "        text-align: right;\n",
       "    }\n",
       "</style>\n",
       "<table border=\"1\" class=\"dataframe\">\n",
       "  <thead>\n",
       "    <tr style=\"text-align: right;\">\n",
       "      <th></th>\n",
       "      <th>Date</th>\n",
       "      <th>Maker</th>\n",
       "      <th>Sales</th>\n",
       "      <th>Identifier</th>\n",
       "      <th>Category</th>\n",
       "    </tr>\n",
       "  </thead>\n",
       "  <tbody>\n",
       "    <tr>\n",
       "      <th>0</th>\n",
       "      <td>2010-02-15</td>\n",
       "      <td>Toshino</td>\n",
       "      <td>2143.0</td>\n",
       "      <td>RVFWTWSMNU</td>\n",
       "      <td>Air Conditioners</td>\n",
       "    </tr>\n",
       "    <tr>\n",
       "      <th>2</th>\n",
       "      <td>2010-02-15</td>\n",
       "      <td>Akaza</td>\n",
       "      <td>3515.0</td>\n",
       "      <td>VUQUQMHODG</td>\n",
       "      <td>Washers &amp; Dryers</td>\n",
       "    </tr>\n",
       "    <tr>\n",
       "      <th>3</th>\n",
       "      <td>2010-02-15</td>\n",
       "      <td>Akaza</td>\n",
       "      <td>687.0</td>\n",
       "      <td>XVIOZZOUTN</td>\n",
       "      <td>Refrigerators</td>\n",
       "    </tr>\n",
       "    <tr>\n",
       "      <th>4</th>\n",
       "      <td>2010-02-15</td>\n",
       "      <td>Shimada</td>\n",
       "      <td>435.0</td>\n",
       "      <td>RBRMDIXXGL</td>\n",
       "      <td>Washers &amp; Dryers</td>\n",
       "    </tr>\n",
       "    <tr>\n",
       "      <th>6</th>\n",
       "      <td>2010-02-15</td>\n",
       "      <td>Funami</td>\n",
       "      <td>726.0</td>\n",
       "      <td>BIBIOOIHA</td>\n",
       "      <td>Refrigerators</td>\n",
       "    </tr>\n",
       "    <tr>\n",
       "      <th>...</th>\n",
       "      <td>...</td>\n",
       "      <td>...</td>\n",
       "      <td>...</td>\n",
       "      <td>...</td>\n",
       "      <td>...</td>\n",
       "    </tr>\n",
       "    <tr>\n",
       "      <th>134956</th>\n",
       "      <td>2021-04-29</td>\n",
       "      <td>Shimada</td>\n",
       "      <td>1258.0</td>\n",
       "      <td>WVJTPVZKAQ</td>\n",
       "      <td>Ovens &amp; Cooktops</td>\n",
       "    </tr>\n",
       "    <tr>\n",
       "      <th>134960</th>\n",
       "      <td>2021-04-29</td>\n",
       "      <td>Akaza</td>\n",
       "      <td>5422.0</td>\n",
       "      <td>VUQUQMHODG</td>\n",
       "      <td>Washers &amp; Dryers</td>\n",
       "    </tr>\n",
       "    <tr>\n",
       "      <th>134961</th>\n",
       "      <td>2021-04-29</td>\n",
       "      <td>Hayashida</td>\n",
       "      <td>539.0</td>\n",
       "      <td>GCPKFKSEWG</td>\n",
       "      <td>Vacuum Cleaners</td>\n",
       "    </tr>\n",
       "    <tr>\n",
       "      <th>134962</th>\n",
       "      <td>2021-04-29</td>\n",
       "      <td>Furutani</td>\n",
       "      <td>10547.0</td>\n",
       "      <td>FVDHIZGQRC</td>\n",
       "      <td>Water Pumps</td>\n",
       "    </tr>\n",
       "    <tr>\n",
       "      <th>134963</th>\n",
       "      <td>2021-04-29</td>\n",
       "      <td>Kikuma</td>\n",
       "      <td>805.0</td>\n",
       "      <td>FRBLLORNXN</td>\n",
       "      <td>Televisions</td>\n",
       "    </tr>\n",
       "  </tbody>\n",
       "</table>\n",
       "<p>93171 rows × 5 columns</p>\n",
       "</div>"
      ],
      "text/plain": [
       "              Date      Maker    Sales  Identifier          Category\n",
       "0       2010-02-15    Toshino   2143.0  RVFWTWSMNU  Air Conditioners\n",
       "2       2010-02-15      Akaza   3515.0  VUQUQMHODG  Washers & Dryers\n",
       "3       2010-02-15      Akaza    687.0  XVIOZZOUTN     Refrigerators\n",
       "4       2010-02-15    Shimada    435.0  RBRMDIXXGL  Washers & Dryers\n",
       "6       2010-02-15     Funami    726.0   BIBIOOIHA     Refrigerators\n",
       "...            ...        ...      ...         ...               ...\n",
       "134956  2021-04-29    Shimada   1258.0  WVJTPVZKAQ  Ovens & Cooktops\n",
       "134960  2021-04-29      Akaza   5422.0  VUQUQMHODG  Washers & Dryers\n",
       "134961  2021-04-29  Hayashida    539.0  GCPKFKSEWG   Vacuum Cleaners\n",
       "134962  2021-04-29   Furutani  10547.0  FVDHIZGQRC       Water Pumps\n",
       "134963  2021-04-29     Kikuma    805.0  FRBLLORNXN       Televisions\n",
       "\n",
       "[93171 rows x 5 columns]"
      ]
     },
     "execution_count": 10,
     "metadata": {},
     "output_type": "execute_result"
    }
   ],
   "source": [
    "df"
   ]
  },
  {
   "cell_type": "code",
   "execution_count": null,
   "metadata": {},
   "outputs": [],
   "source": [
    "lst = []\n",
    "for filename in all_files:\n",
    "    # Read the data\n",
    "    data = pd.read_csv(filename, index_col=None, header=0)\n",
    "    \n",
    "    # Fill the missing Sales data\n",
    "    grpby_id = data.groupby(by='Identifier').mean().round(2)\n",
    "    for identifier, sales_mean in zip(grpby_id.index, grpby_id.values):\n",
    "        data['Sales'] = data['Sales'].mask((data['Sales'].isnull()) & (data['Identifier'] == identifier), sales_mean)\n",
    "    \n",
    "    # Convert Date to datetime\n",
    "    data['Date'] = pd.to_datetime(data['Date'])\n",
    "    \n",
    "    # Exclude certain Identifiers\n",
    "    data = data[~data['Identifier'].str.contains(r'[0-9]')]\n",
    "    \n",
    "    # Groupby Date and set the freq index to 'D' (day)\n",
    "    by_date = data.groupby(by='Date').sum()\n",
    "    \n",
    "    lst.append(by_date)"
   ]
  },
  {
   "cell_type": "code",
   "execution_count": 11,
   "metadata": {},
   "outputs": [],
   "source": [
    "by_date = df.groupby(by='Date').sum()"
   ]
  },
  {
   "cell_type": "code",
   "execution_count": 12,
   "metadata": {},
   "outputs": [
    {
     "data": {
      "text/html": [
       "<div>\n",
       "<style scoped>\n",
       "    .dataframe tbody tr th:only-of-type {\n",
       "        vertical-align: middle;\n",
       "    }\n",
       "\n",
       "    .dataframe tbody tr th {\n",
       "        vertical-align: top;\n",
       "    }\n",
       "\n",
       "    .dataframe thead th {\n",
       "        text-align: right;\n",
       "    }\n",
       "</style>\n",
       "<table border=\"1\" class=\"dataframe\">\n",
       "  <thead>\n",
       "    <tr style=\"text-align: right;\">\n",
       "      <th></th>\n",
       "      <th>Sales</th>\n",
       "    </tr>\n",
       "    <tr>\n",
       "      <th>Date</th>\n",
       "      <th></th>\n",
       "    </tr>\n",
       "  </thead>\n",
       "  <tbody>\n",
       "    <tr>\n",
       "      <th>2010-02-15</th>\n",
       "      <td>58706.0</td>\n",
       "    </tr>\n",
       "    <tr>\n",
       "      <th>2010-02-16</th>\n",
       "      <td>90843.0</td>\n",
       "    </tr>\n",
       "    <tr>\n",
       "      <th>2010-02-17</th>\n",
       "      <td>90227.0</td>\n",
       "    </tr>\n",
       "    <tr>\n",
       "      <th>2010-02-18</th>\n",
       "      <td>90822.0</td>\n",
       "    </tr>\n",
       "    <tr>\n",
       "      <th>2010-02-19</th>\n",
       "      <td>89663.0</td>\n",
       "    </tr>\n",
       "    <tr>\n",
       "      <th>...</th>\n",
       "      <td>...</td>\n",
       "    </tr>\n",
       "    <tr>\n",
       "      <th>2021-04-23</th>\n",
       "      <td>142664.0</td>\n",
       "    </tr>\n",
       "    <tr>\n",
       "      <th>2021-04-26</th>\n",
       "      <td>134923.0</td>\n",
       "    </tr>\n",
       "    <tr>\n",
       "      <th>2021-04-27</th>\n",
       "      <td>139043.0</td>\n",
       "    </tr>\n",
       "    <tr>\n",
       "      <th>2021-04-28</th>\n",
       "      <td>134817.0</td>\n",
       "    </tr>\n",
       "    <tr>\n",
       "      <th>2021-04-29</th>\n",
       "      <td>139351.0</td>\n",
       "    </tr>\n",
       "  </tbody>\n",
       "</table>\n",
       "<p>2784 rows × 1 columns</p>\n",
       "</div>"
      ],
      "text/plain": [
       "               Sales\n",
       "Date                \n",
       "2010-02-15   58706.0\n",
       "2010-02-16   90843.0\n",
       "2010-02-17   90227.0\n",
       "2010-02-18   90822.0\n",
       "2010-02-19   89663.0\n",
       "...              ...\n",
       "2021-04-23  142664.0\n",
       "2021-04-26  134923.0\n",
       "2021-04-27  139043.0\n",
       "2021-04-28  134817.0\n",
       "2021-04-29  139351.0\n",
       "\n",
       "[2784 rows x 1 columns]"
      ]
     },
     "execution_count": 12,
     "metadata": {},
     "output_type": "execute_result"
    }
   ],
   "source": [
    "by_date"
   ]
  },
  {
   "cell_type": "code",
   "execution_count": 13,
   "metadata": {},
   "outputs": [
    {
     "data": {
      "text/html": [
       "<div>\n",
       "<style scoped>\n",
       "    .dataframe tbody tr th:only-of-type {\n",
       "        vertical-align: middle;\n",
       "    }\n",
       "\n",
       "    .dataframe tbody tr th {\n",
       "        vertical-align: top;\n",
       "    }\n",
       "\n",
       "    .dataframe thead th {\n",
       "        text-align: right;\n",
       "    }\n",
       "</style>\n",
       "<table border=\"1\" class=\"dataframe\">\n",
       "  <thead>\n",
       "    <tr style=\"text-align: right;\">\n",
       "      <th></th>\n",
       "      <th>Sales</th>\n",
       "    </tr>\n",
       "    <tr>\n",
       "      <th>Date</th>\n",
       "      <th></th>\n",
       "    </tr>\n",
       "  </thead>\n",
       "  <tbody>\n",
       "    <tr>\n",
       "      <th>2021-01-04</th>\n",
       "      <td>156022.0</td>\n",
       "    </tr>\n",
       "    <tr>\n",
       "      <th>2021-01-05</th>\n",
       "      <td>161050.0</td>\n",
       "    </tr>\n",
       "    <tr>\n",
       "      <th>2021-01-06</th>\n",
       "      <td>159184.0</td>\n",
       "    </tr>\n",
       "    <tr>\n",
       "      <th>2021-01-07</th>\n",
       "      <td>152695.0</td>\n",
       "    </tr>\n",
       "    <tr>\n",
       "      <th>2021-01-08</th>\n",
       "      <td>163192.0</td>\n",
       "    </tr>\n",
       "    <tr>\n",
       "      <th>...</th>\n",
       "      <td>...</td>\n",
       "    </tr>\n",
       "    <tr>\n",
       "      <th>2021-04-23</th>\n",
       "      <td>142664.0</td>\n",
       "    </tr>\n",
       "    <tr>\n",
       "      <th>2021-04-26</th>\n",
       "      <td>134923.0</td>\n",
       "    </tr>\n",
       "    <tr>\n",
       "      <th>2021-04-27</th>\n",
       "      <td>139043.0</td>\n",
       "    </tr>\n",
       "    <tr>\n",
       "      <th>2021-04-28</th>\n",
       "      <td>134817.0</td>\n",
       "    </tr>\n",
       "    <tr>\n",
       "      <th>2021-04-29</th>\n",
       "      <td>139351.0</td>\n",
       "    </tr>\n",
       "  </tbody>\n",
       "</table>\n",
       "<p>81 rows × 1 columns</p>\n",
       "</div>"
      ],
      "text/plain": [
       "               Sales\n",
       "Date                \n",
       "2021-01-04  156022.0\n",
       "2021-01-05  161050.0\n",
       "2021-01-06  159184.0\n",
       "2021-01-07  152695.0\n",
       "2021-01-08  163192.0\n",
       "...              ...\n",
       "2021-04-23  142664.0\n",
       "2021-04-26  134923.0\n",
       "2021-04-27  139043.0\n",
       "2021-04-28  134817.0\n",
       "2021-04-29  139351.0\n",
       "\n",
       "[81 rows x 1 columns]"
      ]
     },
     "execution_count": 13,
     "metadata": {},
     "output_type": "execute_result"
    }
   ],
   "source": [
    "by_date.loc['2021-01-01':]"
   ]
  },
  {
   "cell_type": "code",
   "execution_count": 14,
   "metadata": {},
   "outputs": [
    {
     "data": {
      "text/plain": [
       "Sales    11849286.0\n",
       "dtype: float64"
      ]
     },
     "execution_count": 14,
     "metadata": {},
     "output_type": "execute_result"
    }
   ],
   "source": [
    "by_date.loc['2021-01-01':].sum()"
   ]
  },
  {
   "cell_type": "code",
   "execution_count": 15,
   "metadata": {},
   "outputs": [],
   "source": [
    "s2021 = 11849286\n",
    "fcast_mean = 142239.41"
   ]
  },
  {
   "cell_type": "code",
   "execution_count": 16,
   "metadata": {},
   "outputs": [
    {
     "data": {
      "text/plain": [
       "18150714"
      ]
     },
     "execution_count": 16,
     "metadata": {},
     "output_type": "execute_result"
    }
   ],
   "source": [
    "30000000 - 11849286"
   ]
  },
  {
   "cell_type": "code",
   "execution_count": 17,
   "metadata": {},
   "outputs": [
    {
     "data": {
      "text/plain": [
       "127.60678633298605"
      ]
     },
     "execution_count": 17,
     "metadata": {},
     "output_type": "execute_result"
    }
   ],
   "source": [
    "18150714 / fcast_mean"
   ]
  },
  {
   "cell_type": "code",
   "execution_count": 18,
   "metadata": {},
   "outputs": [],
   "source": [
    "total_days = 128"
   ]
  },
  {
   "cell_type": "code",
   "execution_count": null,
   "metadata": {},
   "outputs": [],
   "source": []
  },
  {
   "cell_type": "code",
   "execution_count": 23,
   "metadata": {},
   "outputs": [],
   "source": [
    "from datetime import datetime, timedelta\n",
    "s = '2021-04-29'\n",
    "date = datetime.strptime(s, '%Y-%m-%d')"
   ]
  },
  {
   "cell_type": "code",
   "execution_count": 24,
   "metadata": {},
   "outputs": [
    {
     "data": {
      "text/plain": [
       "datetime.datetime(2021, 4, 29, 0, 0)"
      ]
     },
     "execution_count": 24,
     "metadata": {},
     "output_type": "execute_result"
    }
   ],
   "source": [
    "date"
   ]
  },
  {
   "cell_type": "code",
   "execution_count": 25,
   "metadata": {},
   "outputs": [],
   "source": [
    "modified_date = date + timedelta(days=total_days)"
   ]
  },
  {
   "cell_type": "code",
   "execution_count": 26,
   "metadata": {},
   "outputs": [
    {
     "data": {
      "text/plain": [
       "datetime.datetime(2021, 9, 4, 0, 0)"
      ]
     },
     "execution_count": 26,
     "metadata": {},
     "output_type": "execute_result"
    }
   ],
   "source": [
    "modified_date"
   ]
  },
  {
   "cell_type": "code",
   "execution_count": 27,
   "metadata": {},
   "outputs": [
    {
     "data": {
      "text/plain": [
       "'2021-09-04'"
      ]
     },
     "execution_count": 27,
     "metadata": {},
     "output_type": "execute_result"
    }
   ],
   "source": [
    "datetime.strftime(modified_date, '%Y-%m-%d')"
   ]
  },
  {
   "cell_type": "code",
   "execution_count": null,
   "metadata": {},
   "outputs": [],
   "source": []
  }
 ],
 "metadata": {
  "kernelspec": {
   "display_name": "Python 3",
   "language": "python",
   "name": "python3"
  },
  "language_info": {
   "codemirror_mode": {
    "name": "ipython",
    "version": 3
   },
   "file_extension": ".py",
   "mimetype": "text/x-python",
   "name": "python",
   "nbconvert_exporter": "python",
   "pygments_lexer": "ipython3",
   "version": "3.8.5"
  }
 },
 "nbformat": 4,
 "nbformat_minor": 4
}
