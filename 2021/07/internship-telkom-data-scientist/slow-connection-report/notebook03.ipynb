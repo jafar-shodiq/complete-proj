{
 "cells": [
  {
   "cell_type": "markdown",
   "metadata": {},
   "source": [
    "## July 22 2021"
   ]
  },
  {
   "cell_type": "code",
   "execution_count": 1,
   "metadata": {},
   "outputs": [],
   "source": [
    "import numpy as np\n",
    "import pandas as pd\n",
    "import matplotlib.pyplot as plt\n",
    "import seaborn as sns\n",
    "import time\n",
    "import datetime as dt\n",
    "import warnings\n",
    "warnings.filterwarnings('ignore')"
   ]
  },
  {
   "cell_type": "code",
   "execution_count": 2,
   "metadata": {},
   "outputs": [
    {
     "ename": "AttributeError",
     "evalue": "module 'pandas' has no attribute 'read_feather'",
     "output_type": "error",
     "traceback": [
      "\u001b[1;31m---------------------------------------------------------------------------\u001b[0m",
      "\u001b[1;31mAttributeError\u001b[0m                            Traceback (most recent call last)",
      "\u001b[1;32m<ipython-input-2-284e49597538>\u001b[0m in \u001b[0;36m<module>\u001b[1;34m\u001b[0m\n\u001b[0;32m      1\u001b[0m \u001b[0mstart_time\u001b[0m \u001b[1;33m=\u001b[0m \u001b[0mtime\u001b[0m\u001b[1;33m.\u001b[0m\u001b[0mtime\u001b[0m\u001b[1;33m(\u001b[0m\u001b[1;33m)\u001b[0m\u001b[1;33m\u001b[0m\u001b[1;33m\u001b[0m\u001b[0m\n\u001b[1;32m----> 2\u001b[1;33m \u001b[0mdf\u001b[0m \u001b[1;33m=\u001b[0m \u001b[0mpd\u001b[0m\u001b[1;33m.\u001b[0m\u001b[0mread_feather\u001b[0m\u001b[1;33m(\u001b[0m\u001b[1;34m'D:/internship-telkom/data-science/slow-connection/CW02_dataset.ftr'\u001b[0m\u001b[1;33m)\u001b[0m\u001b[1;33m\u001b[0m\u001b[1;33m\u001b[0m\u001b[0m\n\u001b[0m\u001b[0;32m      3\u001b[0m \u001b[0mprint\u001b[0m\u001b[1;33m(\u001b[0m\u001b[1;34m'Time elapsed: {}'\u001b[0m\u001b[1;33m.\u001b[0m\u001b[0mformat\u001b[0m\u001b[1;33m(\u001b[0m\u001b[1;33m(\u001b[0m\u001b[0mtime\u001b[0m\u001b[1;33m.\u001b[0m\u001b[0mtime\u001b[0m\u001b[1;33m(\u001b[0m\u001b[1;33m)\u001b[0m \u001b[1;33m-\u001b[0m \u001b[0mstart_time\u001b[0m\u001b[1;33m)\u001b[0m\u001b[1;33m)\u001b[0m\u001b[1;33m)\u001b[0m\u001b[1;33m\u001b[0m\u001b[1;33m\u001b[0m\u001b[0m\n",
      "\u001b[1;31mAttributeError\u001b[0m: module 'pandas' has no attribute 'read_feather'"
     ]
    }
   ],
   "source": [
    "start_time = time.time()\n",
    "df = pd.read_feather('D:/internship-telkom/data-science/slow-connection/CW02_dataset.ftr')\n",
    "print('Time elapsed: {}'.format((time.time() - start_time)))"
   ]
  },
  {
   "cell_type": "code",
   "execution_count": 3,
   "metadata": {},
   "outputs": [
    {
     "name": "stdout",
     "output_type": "stream",
     "text": [
      "                 name  score1  score2  score3  score4  scoremin1  report\n",
      "0   int_latency_score   81.29    5.09    2.03    3.87       7.72       0\n",
      "1   int_latency_score   75.65    5.44    2.37    4.49      12.04       1\n",
      "2   ext_latency_score   89.06    2.33    0.29    0.29       8.03       0\n",
      "3   ext_latency_score   84.32    2.03    0.24    0.29      13.13       1\n",
      "4    fd_latency_score   43.60   26.69    9.37   14.73       5.61       0\n",
      "5    fd_latency_score   39.64   24.81    9.01   15.90      10.65       1\n",
      "6     int_ploss_score   71.06   25.72    1.47    1.56       0.18       0\n",
      "7     int_ploss_score   66.44   26.68    1.96    2.27       2.65       1\n",
      "8     ext_ploss_score   86.84   10.25    0.71    0.63       1.58       0\n",
      "9     ext_ploss_score   82.87   11.27    0.97    2.59       2.30       1\n",
      "10    ses_setup_score   89.18    8.07    1.65    0.90       0.20       0\n",
      "11    ses_setup_score   88.57    8.09    1.95    1.08       0.32       1\n",
      "12    ser_acces_score   19.61   50.23   21.33    8.60       0.22       0\n",
      "13    ser_acces_score   22.94   46.29   21.34    9.11       0.32       1\n"
     ]
    }
   ],
   "source": [
    "import numpy as np\n",
    "import pandas as pd\n",
    "import warnings\n",
    "warnings.filterwarnings('ignore')\n",
    "\n",
    "df = pd.read_feather('D:/internship-telkom/data-science/slow-connection/CW02_dataset.ftr')\n",
    "\n",
    "def make_df_bin(bin_1h, sample):\n",
    "    cols = ['user_id', 'date_time', 'reportdate', 'bin_1h', 'int_latency_score', 'ext_latency_score', 'fd_latency_score',\n",
    "            'int_ploss_score', 'ext_ploss_score', 'ses_setup_score', 'ser_acces_score']\n",
    "\n",
    "    report1 = df[cols][(df['bin_1h'] >= bin_1h) & (df['bin_1h'] < 0)].drop_duplicates().sample(sample)\n",
    "    report1.drop('user_id', axis=1, inplace=True)\n",
    "    report1['report_0_1'] = 1\n",
    "    \n",
    "    report0 = df[cols][(df['bin_1h'] < bin_1h) | (df['bin_1h'] > 0)].drop_duplicates().sample(sample)\n",
    "    report0.drop('user_id', axis=1, inplace=True)\n",
    "    report0['report_0_1'] = 0\n",
    "    \n",
    "    df_report = pd.concat([report1, report0])\n",
    "    return df_report\n",
    "\n",
    "        \n",
    "def make_df_score(score_name, bin_1h=-48, sample=100000):\n",
    "    try:\n",
    "        cols = ['name', 'score1', 'score2', 'score3', 'score4', 'scoremin1', 'report']\n",
    "        score_lst = [1, 2, 3, 4, -1]\n",
    "\n",
    "        df_report = make_df_bin(bin_1h, sample)\n",
    "        df_score = pd.DataFrame(columns=cols)\n",
    "        df_score['report'] = [0, 1]\n",
    "        for n1, score in zip(range(1, 6), score_lst):\n",
    "            for n2 in range(0, 2):\n",
    "                df_score[cols[n1]][df_score['report'] == n2] = df_report[(df_report['report_0_1'] == n2) &\n",
    "                                                                         (df_report[score_name] == score)].shape[0]                                                                  \n",
    "        df_score['name'] = score_name\n",
    "        return df_score\n",
    "    except:\n",
    "        print('Error! Please specify less smaller sample size.')\n",
    "\n",
    "\n",
    "cols = [col for col in df.columns if 'score' in col]\n",
    "\n",
    "df_conc = pd.concat([make_df_score(cols[0]), make_df_score(cols[1]), make_df_score(cols[2]), make_df_score(cols[3]),\n",
    "                     make_df_score(cols[4]), make_df_score(cols[5]), make_df_score(cols[6])])\n",
    "df_conc.reset_index(drop=True, inplace=True)\n",
    "df_conc[['score1', 'score2', 'score3', 'score4', 'scoremin1']] = round(df_conc[['score1', 'score2', 'score3', 'score4', 'scoremin1']].astype(int) / 1000, 2)\n",
    "print(df_conc)"
   ]
  },
  {
   "cell_type": "code",
   "execution_count": null,
   "metadata": {},
   "outputs": [],
   "source": [
    "df = pd.read_feather('D:/big-datasets/internship-telkom/Archive 3/')"
   ]
  }
 ],
 "metadata": {
  "kernelspec": {
   "display_name": "Python 3",
   "language": "python",
   "name": "python3"
  },
  "language_info": {
   "codemirror_mode": {
    "name": "ipython",
    "version": 3
   },
   "file_extension": ".py",
   "mimetype": "text/x-python",
   "name": "python",
   "nbconvert_exporter": "python",
   "pygments_lexer": "ipython3",
   "version": "3.8.5"
  }
 },
 "nbformat": 4,
 "nbformat_minor": 4
}
